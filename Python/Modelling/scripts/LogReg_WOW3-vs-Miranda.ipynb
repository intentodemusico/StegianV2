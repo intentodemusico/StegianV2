{
 "cells": [
  {
   "cell_type": "markdown",
   "metadata": {},
   "source": [
    "# LogReg WOW 0.3 vs Miranda Attributes"
   ]
  },
  {
   "cell_type": "code",
   "execution_count": 1,
   "metadata": {},
   "outputs": [],
   "source": [
    "from __future__ import absolute_import, division, print_function, unicode_literals\n",
    "import os, random, time, MirandaAttributes, cv2\n",
    "import tensorflow as tf\n",
    "import pandas as pd\n",
    "import numpy as np\n",
    "from sklearn import preprocessing\n",
    "import seaborn as sns\n",
    "import matplotlib.image as mpimg\n",
    "import matplotlib.pyplot as plt\n",
    "from sklearn.linear_model import LogisticRegression\n",
    "from sklearn.model_selection import train_test_split"
   ]
  },
  {
   "cell_type": "code",
   "execution_count": 2,
   "metadata": {},
   "outputs": [
    {
     "name": "stdout",
     "output_type": "stream",
     "text": [
      "TensorFlow version: 2.3.0\n",
      "Eager execution: True\n"
     ]
    }
   ],
   "source": [
    "print(\"TensorFlow version: {}\".format(tf.__version__))\n",
    "print(\"Eager execution: {}\".format(tf.executing_eagerly()))\n",
    "\n",
    "#Miranda dataset\n",
    "train_dataset_url = \"https://raw.githubusercontent.com/intentodemusico/StegianV2/master/DatasetMiranda/features_train_70000.csv\"\n",
    "test_dataset_url = \"https://raw.githubusercontent.com/intentodemusico/StegianV2/master/DatasetMiranda/features_test_70000.csv\""
   ]
  },
  {
   "cell_type": "code",
   "execution_count": 3,
   "metadata": {},
   "outputs": [],
   "source": [
    "#%% Importing the dataset\n",
    "MirandaLabels=['Kurtosis', 'Skewness', 'Std', 'Range', 'Median', 'Geometric_Mean', 'Mobility', 'Complexity']\n",
    "trainDataset = pd.read_csv(train_dataset_url)\n",
    "MirandaX_train = trainDataset.iloc[:, :-1].values\n",
    "MirandaY_train = trainDataset.iloc[:, -1].values\n",
    "\n",
    "testDataset = pd.read_csv(test_dataset_url)\n",
    "MirandaX_test = testDataset.iloc[:, :-1].values\n",
    "MirandaY_test = testDataset.iloc[:, -1].values"
   ]
  },
  {
   "cell_type": "code",
   "execution_count": 4,
   "metadata": {},
   "outputs": [
    {
     "data": {
      "text/plain": [
       "array([[1.502380e+01, 2.910000e+00, 2.747740e+02, ..., 1.604439e+02,\n",
       "        1.477400e-01, 8.579000e-01],\n",
       "       [2.801000e+00, 9.223200e-01, 2.357319e+02, ..., 1.453054e+02,\n",
       "        1.200900e-01, 1.298700e+00],\n",
       "       [3.988500e+00, 8.873200e-01, 1.745089e+02, ..., 1.826219e+02,\n",
       "        2.003400e-01, 1.596500e+00],\n",
       "       ...,\n",
       "       [7.551800e+00, 2.032900e+00, 2.796423e+02, ..., 1.376493e+02,\n",
       "        9.355000e-01, 1.760300e+00],\n",
       "       [3.402200e+01, 4.804000e+00, 4.167042e+02, ..., 1.391423e+02,\n",
       "        9.767900e-01, 1.521500e+00],\n",
       "       [2.003410e+01, 3.686400e+00, 4.570151e+02, ..., 8.242910e+01,\n",
       "        9.437100e-01, 1.696200e+00]])"
      ]
     },
     "execution_count": 4,
     "metadata": {},
     "output_type": "execute_result"
    }
   ],
   "source": [
    "MirandaX_train"
   ]
  },
  {
   "cell_type": "code",
   "execution_count": 5,
   "metadata": {
    "tags": []
   },
   "outputs": [],
   "source": [
    "#%% Feature Scaling\n",
    "from sklearn.preprocessing import StandardScaler"
   ]
  },
  {
   "cell_type": "code",
   "execution_count": 6,
   "metadata": {},
   "outputs": [
    {
     "data": {
      "text/plain": [
       "['Kurtosis',\n",
       " 'Skewness',\n",
       " 'Std',\n",
       " 'Range',\n",
       " 'Median',\n",
       " 'Geometric_Mean',\n",
       " 'Mobility',\n",
       " 'Complexity']"
      ]
     },
     "execution_count": 6,
     "metadata": {},
     "output_type": "execute_result"
    }
   ],
   "source": [
    "MirandaLabels"
   ]
  },
  {
   "cell_type": "markdown",
   "metadata": {},
   "source": [
    "## Getting x and y"
   ]
  },
  {
   "cell_type": "code",
   "execution_count": 7,
   "metadata": {},
   "outputs": [
    {
     "name": "stdout",
     "output_type": "stream",
     "text": [
      "40000\n"
     ]
    }
   ],
   "source": [
    "isStego=lambda x:1 if x[:6]==\"stego_\" else 0\n",
    "getYFromImageList=lambda x: [isStego(element) for element in x]\n",
    "folder=\"../../../Dataset/Mono/MonoSamples/WOW_5\" \n",
    "images=os.listdir(folder)\n",
    "random.shuffle(images)\n",
    "images=images\n",
    "print(len(images))"
   ]
  },
  {
   "cell_type": "code",
   "execution_count": 8,
   "metadata": {},
   "outputs": [
    {
     "name": "stdout",
     "output_type": "stream",
     "text": [
      "52.15270256996155\n"
     ]
    }
   ],
   "source": [
    "Garciay=getYFromImageList(images)\n",
    "windowSize=128\n",
    "GarciaLabels=['Kurtosis', 'Skewness', 'Std', 'Range', 'Median', 'Garcia_Gmean', 'Epsilon_Gmean', 'Mobility', 'Complexity']\n",
    "t = time.time()\n",
    "\n",
    "GarciaX=pd.DataFrame(([ MirandaAttributes.attributes( cv2.imread( os.path.abspath(os.path.join(folder, images[i]))\n",
    "                                        ) ,windowSize,True)  for i in range(len(images))] ),columns=GarciaLabels)\n",
    "elapsed = time.time() - t\n",
    "print(elapsed)\n",
    "GarciaX_train, GarciaX_test, GarciaY_train, GarciaY_test = train_test_split(GarciaX, Garciay, test_size=0.2, \n",
    "                                                                            random_state=0)"
   ]
  },
  {
   "cell_type": "markdown",
   "metadata": {},
   "source": [
    "### EDA"
   ]
  },
  {
   "cell_type": "code",
   "execution_count": 9,
   "metadata": {
    "tags": []
   },
   "outputs": [
    {
     "data": {
      "text/html": [
       "<div>\n",
       "<style scoped>\n",
       "    .dataframe tbody tr th:only-of-type {\n",
       "        vertical-align: middle;\n",
       "    }\n",
       "\n",
       "    .dataframe tbody tr th {\n",
       "        vertical-align: top;\n",
       "    }\n",
       "\n",
       "    .dataframe thead th {\n",
       "        text-align: right;\n",
       "    }\n",
       "</style>\n",
       "<table border=\"1\" class=\"dataframe\">\n",
       "  <thead>\n",
       "    <tr style=\"text-align: right;\">\n",
       "      <th></th>\n",
       "      <th>0</th>\n",
       "    </tr>\n",
       "  </thead>\n",
       "  <tbody>\n",
       "    <tr>\n",
       "      <th>count</th>\n",
       "      <td>32000.000000</td>\n",
       "    </tr>\n",
       "    <tr>\n",
       "      <th>mean</th>\n",
       "      <td>0.499844</td>\n",
       "    </tr>\n",
       "    <tr>\n",
       "      <th>std</th>\n",
       "      <td>0.500008</td>\n",
       "    </tr>\n",
       "    <tr>\n",
       "      <th>min</th>\n",
       "      <td>0.000000</td>\n",
       "    </tr>\n",
       "    <tr>\n",
       "      <th>25%</th>\n",
       "      <td>0.000000</td>\n",
       "    </tr>\n",
       "    <tr>\n",
       "      <th>50%</th>\n",
       "      <td>0.000000</td>\n",
       "    </tr>\n",
       "    <tr>\n",
       "      <th>75%</th>\n",
       "      <td>1.000000</td>\n",
       "    </tr>\n",
       "    <tr>\n",
       "      <th>max</th>\n",
       "      <td>1.000000</td>\n",
       "    </tr>\n",
       "  </tbody>\n",
       "</table>\n",
       "</div>"
      ],
      "text/plain": [
       "                  0\n",
       "count  32000.000000\n",
       "mean       0.499844\n",
       "std        0.500008\n",
       "min        0.000000\n",
       "25%        0.000000\n",
       "50%        0.000000\n",
       "75%        1.000000\n",
       "max        1.000000"
      ]
     },
     "execution_count": 9,
     "metadata": {},
     "output_type": "execute_result"
    }
   ],
   "source": [
    "pd.DataFrame(GarciaY_train).describe()"
   ]
  },
  {
   "cell_type": "code",
   "execution_count": 10,
   "metadata": {},
   "outputs": [
    {
     "data": {
      "text/plain": [
       "0    16005\n",
       "1    15995\n",
       "dtype: int64"
      ]
     },
     "execution_count": 10,
     "metadata": {},
     "output_type": "execute_result"
    }
   ],
   "source": [
    "pd.DataFrame(GarciaY_train).value_counts()"
   ]
  },
  {
   "cell_type": "code",
   "execution_count": 11,
   "metadata": {},
   "outputs": [
    {
     "data": {
      "text/html": [
       "<div>\n",
       "<style scoped>\n",
       "    .dataframe tbody tr th:only-of-type {\n",
       "        vertical-align: middle;\n",
       "    }\n",
       "\n",
       "    .dataframe tbody tr th {\n",
       "        vertical-align: top;\n",
       "    }\n",
       "\n",
       "    .dataframe thead th {\n",
       "        text-align: right;\n",
       "    }\n",
       "</style>\n",
       "<table border=\"1\" class=\"dataframe\">\n",
       "  <thead>\n",
       "    <tr style=\"text-align: right;\">\n",
       "      <th></th>\n",
       "      <th>Kurtosis</th>\n",
       "      <th>Skewness</th>\n",
       "      <th>Std</th>\n",
       "      <th>Range</th>\n",
       "      <th>Median</th>\n",
       "      <th>Garcia_Gmean</th>\n",
       "      <th>Epsilon_Gmean</th>\n",
       "      <th>Mobility</th>\n",
       "      <th>Complexity</th>\n",
       "    </tr>\n",
       "  </thead>\n",
       "  <tbody>\n",
       "    <tr>\n",
       "      <th>21370</th>\n",
       "      <td>12.332880</td>\n",
       "      <td>2.711079</td>\n",
       "      <td>94.824547</td>\n",
       "      <td>605.0</td>\n",
       "      <td>16.5</td>\n",
       "      <td>28.491772</td>\n",
       "      <td>25.943680</td>\n",
       "      <td>0.251105</td>\n",
       "      <td>4.351120</td>\n",
       "    </tr>\n",
       "    <tr>\n",
       "      <th>2470</th>\n",
       "      <td>15.553362</td>\n",
       "      <td>1.867483</td>\n",
       "      <td>51.841103</td>\n",
       "      <td>470.0</td>\n",
       "      <td>59.0</td>\n",
       "      <td>41.448215</td>\n",
       "      <td>38.847015</td>\n",
       "      <td>0.480690</td>\n",
       "      <td>2.399208</td>\n",
       "    </tr>\n",
       "    <tr>\n",
       "      <th>13767</th>\n",
       "      <td>1.550529</td>\n",
       "      <td>0.158143</td>\n",
       "      <td>49.470715</td>\n",
       "      <td>161.0</td>\n",
       "      <td>59.5</td>\n",
       "      <td>36.578472</td>\n",
       "      <td>35.711929</td>\n",
       "      <td>0.227990</td>\n",
       "      <td>7.565020</td>\n",
       "    </tr>\n",
       "    <tr>\n",
       "      <th>13316</th>\n",
       "      <td>40.711124</td>\n",
       "      <td>5.965194</td>\n",
       "      <td>243.238831</td>\n",
       "      <td>2000.0</td>\n",
       "      <td>0.0</td>\n",
       "      <td>30.951626</td>\n",
       "      <td>4.852769</td>\n",
       "      <td>0.307798</td>\n",
       "      <td>2.177935</td>\n",
       "    </tr>\n",
       "    <tr>\n",
       "      <th>26374</th>\n",
       "      <td>10.255503</td>\n",
       "      <td>2.684450</td>\n",
       "      <td>117.496376</td>\n",
       "      <td>577.0</td>\n",
       "      <td>4.0</td>\n",
       "      <td>50.930363</td>\n",
       "      <td>9.096652</td>\n",
       "      <td>0.162266</td>\n",
       "      <td>6.336588</td>\n",
       "    </tr>\n",
       "    <tr>\n",
       "      <th>...</th>\n",
       "      <td>...</td>\n",
       "      <td>...</td>\n",
       "      <td>...</td>\n",
       "      <td>...</td>\n",
       "      <td>...</td>\n",
       "      <td>...</td>\n",
       "      <td>...</td>\n",
       "      <td>...</td>\n",
       "      <td>...</td>\n",
       "    </tr>\n",
       "    <tr>\n",
       "      <th>20757</th>\n",
       "      <td>4.113600</td>\n",
       "      <td>1.179040</td>\n",
       "      <td>64.862350</td>\n",
       "      <td>317.0</td>\n",
       "      <td>62.5</td>\n",
       "      <td>58.150448</td>\n",
       "      <td>21.452852</td>\n",
       "      <td>0.293909</td>\n",
       "      <td>4.889634</td>\n",
       "    </tr>\n",
       "    <tr>\n",
       "      <th>32103</th>\n",
       "      <td>1.643840</td>\n",
       "      <td>0.041794</td>\n",
       "      <td>33.869118</td>\n",
       "      <td>132.0</td>\n",
       "      <td>66.0</td>\n",
       "      <td>53.249805</td>\n",
       "      <td>54.500492</td>\n",
       "      <td>0.333381</td>\n",
       "      <td>4.889300</td>\n",
       "    </tr>\n",
       "    <tr>\n",
       "      <th>30403</th>\n",
       "      <td>253.895050</td>\n",
       "      <td>15.900963</td>\n",
       "      <td>897.162415</td>\n",
       "      <td>14389.0</td>\n",
       "      <td>4.0</td>\n",
       "      <td>5.314681</td>\n",
       "      <td>5.142765</td>\n",
       "      <td>0.991233</td>\n",
       "      <td>1.003879</td>\n",
       "    </tr>\n",
       "    <tr>\n",
       "      <th>21243</th>\n",
       "      <td>6.502906</td>\n",
       "      <td>2.191926</td>\n",
       "      <td>137.122757</td>\n",
       "      <td>522.0</td>\n",
       "      <td>0.0</td>\n",
       "      <td>62.820034</td>\n",
       "      <td>4.494362</td>\n",
       "      <td>0.097151</td>\n",
       "      <td>14.183630</td>\n",
       "    </tr>\n",
       "    <tr>\n",
       "      <th>2732</th>\n",
       "      <td>8.868690</td>\n",
       "      <td>2.356916</td>\n",
       "      <td>120.424026</td>\n",
       "      <td>662.0</td>\n",
       "      <td>0.0</td>\n",
       "      <td>66.648422</td>\n",
       "      <td>6.429809</td>\n",
       "      <td>0.177473</td>\n",
       "      <td>6.754221</td>\n",
       "    </tr>\n",
       "  </tbody>\n",
       "</table>\n",
       "<p>32000 rows × 9 columns</p>\n",
       "</div>"
      ],
      "text/plain": [
       "         Kurtosis   Skewness         Std    Range  Median  Garcia_Gmean  \\\n",
       "21370   12.332880   2.711079   94.824547    605.0    16.5     28.491772   \n",
       "2470    15.553362   1.867483   51.841103    470.0    59.0     41.448215   \n",
       "13767    1.550529   0.158143   49.470715    161.0    59.5     36.578472   \n",
       "13316   40.711124   5.965194  243.238831   2000.0     0.0     30.951626   \n",
       "26374   10.255503   2.684450  117.496376    577.0     4.0     50.930363   \n",
       "...           ...        ...         ...      ...     ...           ...   \n",
       "20757    4.113600   1.179040   64.862350    317.0    62.5     58.150448   \n",
       "32103    1.643840   0.041794   33.869118    132.0    66.0     53.249805   \n",
       "30403  253.895050  15.900963  897.162415  14389.0     4.0      5.314681   \n",
       "21243    6.502906   2.191926  137.122757    522.0     0.0     62.820034   \n",
       "2732     8.868690   2.356916  120.424026    662.0     0.0     66.648422   \n",
       "\n",
       "       Epsilon_Gmean  Mobility  Complexity  \n",
       "21370      25.943680  0.251105    4.351120  \n",
       "2470       38.847015  0.480690    2.399208  \n",
       "13767      35.711929  0.227990    7.565020  \n",
       "13316       4.852769  0.307798    2.177935  \n",
       "26374       9.096652  0.162266    6.336588  \n",
       "...              ...       ...         ...  \n",
       "20757      21.452852  0.293909    4.889634  \n",
       "32103      54.500492  0.333381    4.889300  \n",
       "30403       5.142765  0.991233    1.003879  \n",
       "21243       4.494362  0.097151   14.183630  \n",
       "2732        6.429809  0.177473    6.754221  \n",
       "\n",
       "[32000 rows x 9 columns]"
      ]
     },
     "execution_count": 11,
     "metadata": {},
     "output_type": "execute_result"
    }
   ],
   "source": [
    "GarciaX_train"
   ]
  },
  {
   "cell_type": "code",
   "execution_count": 12,
   "metadata": {},
   "outputs": [
    {
     "data": {
      "text/html": [
       "<div>\n",
       "<style scoped>\n",
       "    .dataframe tbody tr th:only-of-type {\n",
       "        vertical-align: middle;\n",
       "    }\n",
       "\n",
       "    .dataframe tbody tr th {\n",
       "        vertical-align: top;\n",
       "    }\n",
       "\n",
       "    .dataframe thead th {\n",
       "        text-align: right;\n",
       "    }\n",
       "</style>\n",
       "<table border=\"1\" class=\"dataframe\">\n",
       "  <thead>\n",
       "    <tr style=\"text-align: right;\">\n",
       "      <th></th>\n",
       "      <th>Kurtosis</th>\n",
       "      <th>Skewness</th>\n",
       "      <th>Std</th>\n",
       "      <th>Range</th>\n",
       "      <th>Median</th>\n",
       "      <th>Garcia_Gmean</th>\n",
       "      <th>Epsilon_Gmean</th>\n",
       "      <th>Mobility</th>\n",
       "      <th>Complexity</th>\n",
       "    </tr>\n",
       "  </thead>\n",
       "  <tbody>\n",
       "    <tr>\n",
       "      <th>count</th>\n",
       "      <td>32000.000000</td>\n",
       "      <td>32000.000000</td>\n",
       "      <td>32000.000000</td>\n",
       "      <td>32000.000000</td>\n",
       "      <td>32000.000000</td>\n",
       "      <td>32000.000000</td>\n",
       "      <td>32000.000000</td>\n",
       "      <td>32000.000000</td>\n",
       "      <td>32000.000000</td>\n",
       "    </tr>\n",
       "    <tr>\n",
       "      <th>mean</th>\n",
       "      <td>23.676948</td>\n",
       "      <td>2.916499</td>\n",
       "      <td>108.357526</td>\n",
       "      <td>846.077688</td>\n",
       "      <td>32.503281</td>\n",
       "      <td>52.121425</td>\n",
       "      <td>26.510676</td>\n",
       "      <td>0.324530</td>\n",
       "      <td>5.880958</td>\n",
       "    </tr>\n",
       "    <tr>\n",
       "      <th>std</th>\n",
       "      <td>48.184856</td>\n",
       "      <td>3.219961</td>\n",
       "      <td>96.806939</td>\n",
       "      <td>1517.507151</td>\n",
       "      <td>20.975978</td>\n",
       "      <td>449.704549</td>\n",
       "      <td>14.625834</td>\n",
       "      <td>0.214717</td>\n",
       "      <td>3.015110</td>\n",
       "    </tr>\n",
       "    <tr>\n",
       "      <th>min</th>\n",
       "      <td>1.224067</td>\n",
       "      <td>-1.219257</td>\n",
       "      <td>15.969453</td>\n",
       "      <td>90.000000</td>\n",
       "      <td>0.000000</td>\n",
       "      <td>1.776100</td>\n",
       "      <td>1.038634</td>\n",
       "      <td>0.086105</td>\n",
       "      <td>0.907459</td>\n",
       "    </tr>\n",
       "    <tr>\n",
       "      <th>25%</th>\n",
       "      <td>3.186822</td>\n",
       "      <td>1.027042</td>\n",
       "      <td>58.545888</td>\n",
       "      <td>250.000000</td>\n",
       "      <td>14.000000</td>\n",
       "      <td>27.506303</td>\n",
       "      <td>14.511355</td>\n",
       "      <td>0.185912</td>\n",
       "      <td>3.518788</td>\n",
       "    </tr>\n",
       "    <tr>\n",
       "      <th>50%</th>\n",
       "      <td>6.370928</td>\n",
       "      <td>1.888912</td>\n",
       "      <td>81.304432</td>\n",
       "      <td>394.000000</td>\n",
       "      <td>33.000000</td>\n",
       "      <td>37.303061</td>\n",
       "      <td>25.274077</td>\n",
       "      <td>0.253831</td>\n",
       "      <td>5.590275</td>\n",
       "    </tr>\n",
       "    <tr>\n",
       "      <th>75%</th>\n",
       "      <td>16.796350</td>\n",
       "      <td>3.414109</td>\n",
       "      <td>120.133553</td>\n",
       "      <td>742.000000</td>\n",
       "      <td>49.500000</td>\n",
       "      <td>46.451291</td>\n",
       "      <td>37.502126</td>\n",
       "      <td>0.376772</td>\n",
       "      <td>7.940934</td>\n",
       "    </tr>\n",
       "    <tr>\n",
       "      <th>max</th>\n",
       "      <td>254.003906</td>\n",
       "      <td>15.906097</td>\n",
       "      <td>1021.998047</td>\n",
       "      <td>16384.000000</td>\n",
       "      <td>86.500000</td>\n",
       "      <td>16384.000000</td>\n",
       "      <td>63.271149</td>\n",
       "      <td>1.419760</td>\n",
       "      <td>16.286221</td>\n",
       "    </tr>\n",
       "  </tbody>\n",
       "</table>\n",
       "</div>"
      ],
      "text/plain": [
       "           Kurtosis      Skewness           Std         Range        Median  \\\n",
       "count  32000.000000  32000.000000  32000.000000  32000.000000  32000.000000   \n",
       "mean      23.676948      2.916499    108.357526    846.077688     32.503281   \n",
       "std       48.184856      3.219961     96.806939   1517.507151     20.975978   \n",
       "min        1.224067     -1.219257     15.969453     90.000000      0.000000   \n",
       "25%        3.186822      1.027042     58.545888    250.000000     14.000000   \n",
       "50%        6.370928      1.888912     81.304432    394.000000     33.000000   \n",
       "75%       16.796350      3.414109    120.133553    742.000000     49.500000   \n",
       "max      254.003906     15.906097   1021.998047  16384.000000     86.500000   \n",
       "\n",
       "       Garcia_Gmean  Epsilon_Gmean      Mobility    Complexity  \n",
       "count  32000.000000   32000.000000  32000.000000  32000.000000  \n",
       "mean      52.121425      26.510676      0.324530      5.880958  \n",
       "std      449.704549      14.625834      0.214717      3.015110  \n",
       "min        1.776100       1.038634      0.086105      0.907459  \n",
       "25%       27.506303      14.511355      0.185912      3.518788  \n",
       "50%       37.303061      25.274077      0.253831      5.590275  \n",
       "75%       46.451291      37.502126      0.376772      7.940934  \n",
       "max    16384.000000      63.271149      1.419760     16.286221  "
      ]
     },
     "execution_count": 12,
     "metadata": {},
     "output_type": "execute_result"
    }
   ],
   "source": [
    "GarciaX_train.describe()"
   ]
  },
  {
   "cell_type": "markdown",
   "metadata": {},
   "source": [
    "##### Dataset looks homogeneous"
   ]
  },
  {
   "cell_type": "code",
   "execution_count": 13,
   "metadata": {},
   "outputs": [
    {
     "data": {
      "text/html": [
       "<div>\n",
       "<style scoped>\n",
       "    .dataframe tbody tr th:only-of-type {\n",
       "        vertical-align: middle;\n",
       "    }\n",
       "\n",
       "    .dataframe tbody tr th {\n",
       "        vertical-align: top;\n",
       "    }\n",
       "\n",
       "    .dataframe thead th {\n",
       "        text-align: right;\n",
       "    }\n",
       "</style>\n",
       "<table border=\"1\" class=\"dataframe\">\n",
       "  <thead>\n",
       "    <tr style=\"text-align: right;\">\n",
       "      <th></th>\n",
       "      <th>Kurtosis</th>\n",
       "      <th>Skewness</th>\n",
       "      <th>Std</th>\n",
       "      <th>Range</th>\n",
       "      <th>Median</th>\n",
       "      <th>Geometric_Mean</th>\n",
       "      <th>Mobility</th>\n",
       "    </tr>\n",
       "  </thead>\n",
       "  <tbody>\n",
       "    <tr>\n",
       "      <th>0</th>\n",
       "      <td>15.0238</td>\n",
       "      <td>2.91000</td>\n",
       "      <td>274.7740</td>\n",
       "      <td>1789</td>\n",
       "      <td>228.0</td>\n",
       "      <td>160.4439</td>\n",
       "      <td>0.147740</td>\n",
       "    </tr>\n",
       "    <tr>\n",
       "      <th>1</th>\n",
       "      <td>2.8010</td>\n",
       "      <td>0.92232</td>\n",
       "      <td>235.7319</td>\n",
       "      <td>917</td>\n",
       "      <td>179.0</td>\n",
       "      <td>145.3054</td>\n",
       "      <td>0.120090</td>\n",
       "    </tr>\n",
       "    <tr>\n",
       "      <th>2</th>\n",
       "      <td>3.9885</td>\n",
       "      <td>0.88732</td>\n",
       "      <td>174.5089</td>\n",
       "      <td>817</td>\n",
       "      <td>260.0</td>\n",
       "      <td>182.6219</td>\n",
       "      <td>0.200340</td>\n",
       "    </tr>\n",
       "    <tr>\n",
       "      <th>3</th>\n",
       "      <td>5.4531</td>\n",
       "      <td>1.83640</td>\n",
       "      <td>343.9752</td>\n",
       "      <td>1336</td>\n",
       "      <td>69.5</td>\n",
       "      <td>120.5608</td>\n",
       "      <td>0.083738</td>\n",
       "    </tr>\n",
       "    <tr>\n",
       "      <th>4</th>\n",
       "      <td>15.8010</td>\n",
       "      <td>3.38050</td>\n",
       "      <td>443.4495</td>\n",
       "      <td>2785</td>\n",
       "      <td>118.0</td>\n",
       "      <td>113.9388</td>\n",
       "      <td>0.231590</td>\n",
       "    </tr>\n",
       "    <tr>\n",
       "      <th>...</th>\n",
       "      <td>...</td>\n",
       "      <td>...</td>\n",
       "      <td>...</td>\n",
       "      <td>...</td>\n",
       "      <td>...</td>\n",
       "      <td>...</td>\n",
       "      <td>...</td>\n",
       "    </tr>\n",
       "    <tr>\n",
       "      <th>55994</th>\n",
       "      <td>5.0543</td>\n",
       "      <td>1.22740</td>\n",
       "      <td>172.0252</td>\n",
       "      <td>981</td>\n",
       "      <td>238.0</td>\n",
       "      <td>205.0903</td>\n",
       "      <td>0.945960</td>\n",
       "    </tr>\n",
       "    <tr>\n",
       "      <th>55995</th>\n",
       "      <td>89.9023</td>\n",
       "      <td>8.30370</td>\n",
       "      <td>614.5032</td>\n",
       "      <td>7673</td>\n",
       "      <td>122.5</td>\n",
       "      <td>100.0387</td>\n",
       "      <td>0.988840</td>\n",
       "    </tr>\n",
       "    <tr>\n",
       "      <th>55996</th>\n",
       "      <td>7.5518</td>\n",
       "      <td>2.03290</td>\n",
       "      <td>279.6423</td>\n",
       "      <td>1520</td>\n",
       "      <td>156.0</td>\n",
       "      <td>137.6493</td>\n",
       "      <td>0.935500</td>\n",
       "    </tr>\n",
       "    <tr>\n",
       "      <th>55997</th>\n",
       "      <td>34.0220</td>\n",
       "      <td>4.80400</td>\n",
       "      <td>416.7042</td>\n",
       "      <td>3971</td>\n",
       "      <td>116.5</td>\n",
       "      <td>139.1423</td>\n",
       "      <td>0.976790</td>\n",
       "    </tr>\n",
       "    <tr>\n",
       "      <th>55998</th>\n",
       "      <td>20.0341</td>\n",
       "      <td>3.68640</td>\n",
       "      <td>457.0151</td>\n",
       "      <td>3333</td>\n",
       "      <td>86.5</td>\n",
       "      <td>82.4291</td>\n",
       "      <td>0.943710</td>\n",
       "    </tr>\n",
       "  </tbody>\n",
       "</table>\n",
       "<p>55999 rows × 7 columns</p>\n",
       "</div>"
      ],
      "text/plain": [
       "       Kurtosis   Skewness       Std   Range   Median   Geometric_Mean  \\\n",
       "0       15.0238    2.91000  274.7740    1789    228.0         160.4439   \n",
       "1        2.8010    0.92232  235.7319     917    179.0         145.3054   \n",
       "2        3.9885    0.88732  174.5089     817    260.0         182.6219   \n",
       "3        5.4531    1.83640  343.9752    1336     69.5         120.5608   \n",
       "4       15.8010    3.38050  443.4495    2785    118.0         113.9388   \n",
       "...         ...        ...       ...     ...      ...              ...   \n",
       "55994    5.0543    1.22740  172.0252     981    238.0         205.0903   \n",
       "55995   89.9023    8.30370  614.5032    7673    122.5         100.0387   \n",
       "55996    7.5518    2.03290  279.6423    1520    156.0         137.6493   \n",
       "55997   34.0220    4.80400  416.7042    3971    116.5         139.1423   \n",
       "55998   20.0341    3.68640  457.0151    3333     86.5          82.4291   \n",
       "\n",
       "        Mobility  \n",
       "0       0.147740  \n",
       "1       0.120090  \n",
       "2       0.200340  \n",
       "3       0.083738  \n",
       "4       0.231590  \n",
       "...          ...  \n",
       "55994   0.945960  \n",
       "55995   0.988840  \n",
       "55996   0.935500  \n",
       "55997   0.976790  \n",
       "55998   0.943710  \n",
       "\n",
       "[55999 rows x 7 columns]"
      ]
     },
     "execution_count": 13,
     "metadata": {},
     "output_type": "execute_result"
    }
   ],
   "source": [
    "trainDataset.iloc[:,:-2]"
   ]
  },
  {
   "cell_type": "code",
   "execution_count": 14,
   "metadata": {},
   "outputs": [
    {
     "data": {
      "text/html": [
       "<div>\n",
       "<style scoped>\n",
       "    .dataframe tbody tr th:only-of-type {\n",
       "        vertical-align: middle;\n",
       "    }\n",
       "\n",
       "    .dataframe tbody tr th {\n",
       "        vertical-align: top;\n",
       "    }\n",
       "\n",
       "    .dataframe thead th {\n",
       "        text-align: right;\n",
       "    }\n",
       "</style>\n",
       "<table border=\"1\" class=\"dataframe\">\n",
       "  <thead>\n",
       "    <tr style=\"text-align: right;\">\n",
       "      <th></th>\n",
       "      <th>Kurtosis</th>\n",
       "      <th>Skewness</th>\n",
       "      <th>Std</th>\n",
       "      <th>Range</th>\n",
       "      <th>Median</th>\n",
       "      <th>Geometric_Mean</th>\n",
       "      <th>Mobility</th>\n",
       "    </tr>\n",
       "  </thead>\n",
       "  <tbody>\n",
       "    <tr>\n",
       "      <th>count</th>\n",
       "      <td>55999.000000</td>\n",
       "      <td>55999.000000</td>\n",
       "      <td>55999.000000</td>\n",
       "      <td>55999.000000</td>\n",
       "      <td>55999.000000</td>\n",
       "      <td>55999.000000</td>\n",
       "      <td>55999.000000</td>\n",
       "    </tr>\n",
       "    <tr>\n",
       "      <th>mean</th>\n",
       "      <td>23.861412</td>\n",
       "      <td>3.041558</td>\n",
       "      <td>367.443301</td>\n",
       "      <td>2756.949963</td>\n",
       "      <td>148.467740</td>\n",
       "      <td>137.751112</td>\n",
       "      <td>0.448144</td>\n",
       "    </tr>\n",
       "    <tr>\n",
       "      <th>std</th>\n",
       "      <td>43.134687</td>\n",
       "      <td>2.957414</td>\n",
       "      <td>249.044479</td>\n",
       "      <td>3567.278219</td>\n",
       "      <td>72.227963</td>\n",
       "      <td>69.236967</td>\n",
       "      <td>0.301130</td>\n",
       "    </tr>\n",
       "    <tr>\n",
       "      <th>min</th>\n",
       "      <td>1.137900</td>\n",
       "      <td>-1.540400</td>\n",
       "      <td>59.884100</td>\n",
       "      <td>338.000000</td>\n",
       "      <td>0.000000</td>\n",
       "      <td>4.826700</td>\n",
       "      <td>0.048408</td>\n",
       "    </tr>\n",
       "    <tr>\n",
       "      <th>25%</th>\n",
       "      <td>4.010750</td>\n",
       "      <td>1.235150</td>\n",
       "      <td>221.245700</td>\n",
       "      <td>1055.000000</td>\n",
       "      <td>96.000000</td>\n",
       "      <td>99.458600</td>\n",
       "      <td>0.183990</td>\n",
       "    </tr>\n",
       "    <tr>\n",
       "      <th>50%</th>\n",
       "      <td>7.952900</td>\n",
       "      <td>2.123400</td>\n",
       "      <td>299.071500</td>\n",
       "      <td>1646.000000</td>\n",
       "      <td>156.000000</td>\n",
       "      <td>138.097000</td>\n",
       "      <td>0.384070</td>\n",
       "    </tr>\n",
       "    <tr>\n",
       "      <th>75%</th>\n",
       "      <td>19.820800</td>\n",
       "      <td>3.644250</td>\n",
       "      <td>427.831850</td>\n",
       "      <td>2924.000000</td>\n",
       "      <td>203.000000</td>\n",
       "      <td>174.089600</td>\n",
       "      <td>0.723175</td>\n",
       "    </tr>\n",
       "    <tr>\n",
       "      <th>max</th>\n",
       "      <td>253.942400</td>\n",
       "      <td>15.903200</td>\n",
       "      <td>3624.730400</td>\n",
       "      <td>58017.000000</td>\n",
       "      <td>358.000000</td>\n",
       "      <td>3488.397300</td>\n",
       "      <td>1.408100</td>\n",
       "    </tr>\n",
       "  </tbody>\n",
       "</table>\n",
       "</div>"
      ],
      "text/plain": [
       "           Kurtosis      Skewness           Std         Range        Median  \\\n",
       "count  55999.000000  55999.000000  55999.000000  55999.000000  55999.000000   \n",
       "mean      23.861412      3.041558    367.443301   2756.949963    148.467740   \n",
       "std       43.134687      2.957414    249.044479   3567.278219     72.227963   \n",
       "min        1.137900     -1.540400     59.884100    338.000000      0.000000   \n",
       "25%        4.010750      1.235150    221.245700   1055.000000     96.000000   \n",
       "50%        7.952900      2.123400    299.071500   1646.000000    156.000000   \n",
       "75%       19.820800      3.644250    427.831850   2924.000000    203.000000   \n",
       "max      253.942400     15.903200   3624.730400  58017.000000    358.000000   \n",
       "\n",
       "        Geometric_Mean      Mobility  \n",
       "count     55999.000000  55999.000000  \n",
       "mean        137.751112      0.448144  \n",
       "std          69.236967      0.301130  \n",
       "min           4.826700      0.048408  \n",
       "25%          99.458600      0.183990  \n",
       "50%         138.097000      0.384070  \n",
       "75%         174.089600      0.723175  \n",
       "max        3488.397300      1.408100  "
      ]
     },
     "execution_count": 14,
     "metadata": {},
     "output_type": "execute_result"
    }
   ],
   "source": [
    "trainDataset.iloc[:,:-2].describe()"
   ]
  },
  {
   "cell_type": "markdown",
   "metadata": {},
   "source": [
    "#### Standard scalling"
   ]
  },
  {
   "cell_type": "code",
   "execution_count": 15,
   "metadata": {},
   "outputs": [],
   "source": [
    "scG=StandardScaler()\n",
    "sc_GarciaX_train=pd.DataFrame(scG.fit_transform(GarciaX_train),columns=GarciaLabels)\n",
    "sc_GarciaX_test=pd.DataFrame(scG.transform(GarciaX_test),columns=GarciaLabels)\n",
    "\n",
    "scM=StandardScaler()\n",
    "sc_MirandaX_train=pd.DataFrame(scM.fit_transform(MirandaX_train),columns=MirandaLabels)\n",
    "sc_MirandaX_test=pd.DataFrame(scM.transform(MirandaX_test),columns=MirandaLabels)"
   ]
  },
  {
   "cell_type": "markdown",
   "metadata": {
    "tags": []
   },
   "source": [
    "#### Recursive Feature Elimination"
   ]
  },
  {
   "cell_type": "code",
   "execution_count": 16,
   "metadata": {},
   "outputs": [
    {
     "name": "stdout",
     "output_type": "stream",
     "text": [
      "[3 9 2 1 6 5 8 4 7]\n",
      "García's Dataset\n",
      "Ordered from most to less desired variables:\n"
     ]
    },
    {
     "data": {
      "text/plain": [
       "['Range',\n",
       " 'Std',\n",
       " 'Kurtosis',\n",
       " 'Mobility',\n",
       " 'Garcia_Gmean',\n",
       " 'Median',\n",
       " 'Complexity',\n",
       " 'Epsilon_Gmean',\n",
       " 'Skewness']"
      ]
     },
     "execution_count": 16,
     "metadata": {},
     "output_type": "execute_result"
    }
   ],
   "source": [
    "from sklearn.feature_selection import RFE\n",
    "from sklearn.linear_model import LogisticRegression\n",
    "logregRFEG = LogisticRegression()\n",
    "rfe = RFE(logregRFEG, n_features_to_select=1)\n",
    "rfe = rfe.fit(sc_GarciaX_train,GarciaY_train)\n",
    "print(rfe.ranking_)\n",
    "print(\"García's Dataset\")\n",
    "print(\"Ordered from most to less desired variables:\")\n",
    "desiredVariables=GarciaLabels\n",
    "sortOrder=rfe.ranking_\n",
    "sorted(desiredVariables,key=lambda pos: sortOrder[desiredVariables.index(pos)])"
   ]
  },
  {
   "cell_type": "code",
   "execution_count": 17,
   "metadata": {},
   "outputs": [
    {
     "name": "stdout",
     "output_type": "stream",
     "text": [
      "[4 3 5 6 7 8 2 1]\n",
      "Miranda's Dataset\n",
      "Ordered from most to less desired variables:\n"
     ]
    },
    {
     "data": {
      "text/plain": [
       "['Complexity',\n",
       " 'Mobility',\n",
       " 'Skewness',\n",
       " 'Kurtosis',\n",
       " 'Std',\n",
       " 'Range',\n",
       " 'Median',\n",
       " 'Geometric_Mean']"
      ]
     },
     "execution_count": 17,
     "metadata": {},
     "output_type": "execute_result"
    }
   ],
   "source": [
    "from sklearn.feature_selection import RFE\n",
    "from sklearn.linear_model import LogisticRegression\n",
    "logregRFEM = LogisticRegression()\n",
    "rfe = RFE(logregRFEM, n_features_to_select=1)\n",
    "rfe = rfe.fit(sc_MirandaX_train,MirandaY_train)\n",
    "print(rfe.ranking_)\n",
    "print(\"Miranda's Dataset\")\n",
    "print(\"Ordered from most to less desired variables:\")\n",
    "desiredVariables=MirandaLabels\n",
    "sortOrder=rfe.ranking_\n",
    "sorted(desiredVariables,key=lambda pos: sortOrder[desiredVariables.index(pos)])"
   ]
  },
  {
   "cell_type": "markdown",
   "metadata": {},
   "source": [
    "RFE Shows prefferences for the variables to be predictors, meaning it to be ordered depending on de predictor-likability of a variable. Proving the anterior analysis, "
   ]
  },
  {
   "cell_type": "markdown",
   "metadata": {
    "tags": []
   },
   "source": [
    "### Modelling"
   ]
  },
  {
   "cell_type": "code",
   "execution_count": 18,
   "metadata": {},
   "outputs": [
    {
     "name": "stdout",
     "output_type": "stream",
     "text": [
      "Optimization terminated successfully.\n",
      "         Current function value: 0.264509\n",
      "         Iterations 8\n",
      "                         Results: Logit\n",
      "=================================================================\n",
      "Model:              Logit            Pseudo R-squared: 0.618     \n",
      "Dependent Variable: y                AIC:              29640.4288\n",
      "Date:               2021-09-02 09:21 BIC:              29711.8935\n",
      "No. Observations:   55999            Log-Likelihood:   -14812.   \n",
      "Df Model:           7                LL-Null:          -38816.   \n",
      "Df Residuals:       55991            LLR p-value:      0.0000    \n",
      "Converged:          1.0000           Scale:            1.0000    \n",
      "No. Iterations:     8.0000                                       \n",
      "-----------------------------------------------------------------\n",
      "                  Coef.  Std.Err.    z     P>|z|   [0.025  0.975]\n",
      "-----------------------------------------------------------------\n",
      "Kurtosis         -0.7686   0.0737 -10.4343 0.0000 -0.9129 -0.6242\n",
      "Skewness          1.0767   0.0673  15.9897 0.0000  0.9447  1.2087\n",
      "Std               0.8639   0.0776  11.1363 0.0000  0.7119  1.0159\n",
      "Range            -0.8228   0.0818 -10.0534 0.0000 -0.9832 -0.6624\n",
      "Median            0.0659   0.0273   2.4118 0.0159  0.0123  0.1194\n",
      "Geometric_Mean   -0.0247   0.0146  -1.6901 0.0910 -0.0534  0.0039\n",
      "Mobility          1.7661   0.0294  60.0734 0.0000  1.7085  1.8237\n",
      "Complexity        2.5121   0.0291  86.4431 0.0000  2.4551  2.5690\n",
      "=================================================================\n",
      "\n"
     ]
    }
   ],
   "source": [
    "import statsmodels.api as sm\n",
    "logit_model=sm.Logit(MirandaY_train,sc_MirandaX_train)\n",
    "result=logit_model.fit()\n",
    "print(result.summary2())"
   ]
  },
  {
   "cell_type": "code",
   "execution_count": 19,
   "metadata": {},
   "outputs": [
    {
     "data": {
      "text/html": [
       "<div>\n",
       "<style scoped>\n",
       "    .dataframe tbody tr th:only-of-type {\n",
       "        vertical-align: middle;\n",
       "    }\n",
       "\n",
       "    .dataframe tbody tr th {\n",
       "        vertical-align: top;\n",
       "    }\n",
       "\n",
       "    .dataframe thead th {\n",
       "        text-align: right;\n",
       "    }\n",
       "</style>\n",
       "<table border=\"1\" class=\"dataframe\">\n",
       "  <thead>\n",
       "    <tr style=\"text-align: right;\">\n",
       "      <th></th>\n",
       "      <th>Kurtosis</th>\n",
       "      <th>Skewness</th>\n",
       "      <th>Std</th>\n",
       "      <th>Range</th>\n",
       "      <th>Median</th>\n",
       "      <th>Garcia_Gmean</th>\n",
       "      <th>Epsilon_Gmean</th>\n",
       "      <th>Mobility</th>\n",
       "      <th>Complexity</th>\n",
       "    </tr>\n",
       "  </thead>\n",
       "  <tbody>\n",
       "    <tr>\n",
       "      <th>0</th>\n",
       "      <td>-0.235432</td>\n",
       "      <td>-0.063797</td>\n",
       "      <td>-0.139796</td>\n",
       "      <td>-0.158867</td>\n",
       "      <td>-0.762946</td>\n",
       "      <td>-0.052546</td>\n",
       "      <td>-0.038767</td>\n",
       "      <td>-0.341966</td>\n",
       "      <td>-0.507399</td>\n",
       "    </tr>\n",
       "    <tr>\n",
       "      <th>1</th>\n",
       "      <td>-0.168595</td>\n",
       "      <td>-0.325790</td>\n",
       "      <td>-0.583815</td>\n",
       "      <td>-0.247830</td>\n",
       "      <td>1.263213</td>\n",
       "      <td>-0.023734</td>\n",
       "      <td>0.843475</td>\n",
       "      <td>0.727295</td>\n",
       "      <td>-1.154785</td>\n",
       "    </tr>\n",
       "    <tr>\n",
       "      <th>2</th>\n",
       "      <td>-0.459206</td>\n",
       "      <td>-0.856656</td>\n",
       "      <td>-0.608301</td>\n",
       "      <td>-0.451456</td>\n",
       "      <td>1.287050</td>\n",
       "      <td>-0.034563</td>\n",
       "      <td>0.629119</td>\n",
       "      <td>-0.449624</td>\n",
       "      <td>0.558549</td>\n",
       "    </tr>\n",
       "    <tr>\n",
       "      <th>3</th>\n",
       "      <td>0.353523</td>\n",
       "      <td>0.946826</td>\n",
       "      <td>1.393324</td>\n",
       "      <td>0.760418</td>\n",
       "      <td>-1.549572</td>\n",
       "      <td>-0.047076</td>\n",
       "      <td>-1.480821</td>\n",
       "      <td>-0.077929</td>\n",
       "      <td>-1.228174</td>\n",
       "    </tr>\n",
       "    <tr>\n",
       "      <th>4</th>\n",
       "      <td>-0.278545</td>\n",
       "      <td>-0.072067</td>\n",
       "      <td>0.094404</td>\n",
       "      <td>-0.177318</td>\n",
       "      <td>-1.358875</td>\n",
       "      <td>-0.002649</td>\n",
       "      <td>-1.190653</td>\n",
       "      <td>-0.755724</td>\n",
       "      <td>0.151118</td>\n",
       "    </tr>\n",
       "    <tr>\n",
       "      <th>...</th>\n",
       "      <td>...</td>\n",
       "      <td>...</td>\n",
       "      <td>...</td>\n",
       "      <td>...</td>\n",
       "      <td>...</td>\n",
       "      <td>...</td>\n",
       "      <td>...</td>\n",
       "      <td>...</td>\n",
       "      <td>...</td>\n",
       "    </tr>\n",
       "    <tr>\n",
       "      <th>31995</th>\n",
       "      <td>-0.406013</td>\n",
       "      <td>-0.539599</td>\n",
       "      <td>-0.449305</td>\n",
       "      <td>-0.348655</td>\n",
       "      <td>1.430073</td>\n",
       "      <td>0.013407</td>\n",
       "      <td>-0.345820</td>\n",
       "      <td>-0.142612</td>\n",
       "      <td>-0.328791</td>\n",
       "    </tr>\n",
       "    <tr>\n",
       "      <th>31996</th>\n",
       "      <td>-0.457269</td>\n",
       "      <td>-0.892790</td>\n",
       "      <td>-0.769465</td>\n",
       "      <td>-0.470567</td>\n",
       "      <td>1.596933</td>\n",
       "      <td>0.002509</td>\n",
       "      <td>1.913754</td>\n",
       "      <td>0.041223</td>\n",
       "      <td>-0.328901</td>\n",
       "    </tr>\n",
       "    <tr>\n",
       "      <th>31997</th>\n",
       "      <td>4.777885</td>\n",
       "      <td>4.032554</td>\n",
       "      <td>8.148354</td>\n",
       "      <td>8.924593</td>\n",
       "      <td>-1.358875</td>\n",
       "      <td>-0.104085</td>\n",
       "      <td>-1.460993</td>\n",
       "      <td>3.105081</td>\n",
       "      <td>-1.617571</td>\n",
       "    </tr>\n",
       "    <tr>\n",
       "      <th>31998</th>\n",
       "      <td>-0.356425</td>\n",
       "      <td>-0.225029</td>\n",
       "      <td>0.297145</td>\n",
       "      <td>-0.213563</td>\n",
       "      <td>-1.549572</td>\n",
       "      <td>0.023791</td>\n",
       "      <td>-1.505327</td>\n",
       "      <td>-1.058987</td>\n",
       "      <td>2.753731</td>\n",
       "    </tr>\n",
       "    <tr>\n",
       "      <th>31999</th>\n",
       "      <td>-0.307327</td>\n",
       "      <td>-0.173788</td>\n",
       "      <td>0.124647</td>\n",
       "      <td>-0.121305</td>\n",
       "      <td>-1.549572</td>\n",
       "      <td>0.032304</td>\n",
       "      <td>-1.372994</td>\n",
       "      <td>-0.684901</td>\n",
       "      <td>0.289633</td>\n",
       "    </tr>\n",
       "  </tbody>\n",
       "</table>\n",
       "<p>32000 rows × 9 columns</p>\n",
       "</div>"
      ],
      "text/plain": [
       "       Kurtosis  Skewness       Std     Range    Median  Garcia_Gmean  \\\n",
       "0     -0.235432 -0.063797 -0.139796 -0.158867 -0.762946     -0.052546   \n",
       "1     -0.168595 -0.325790 -0.583815 -0.247830  1.263213     -0.023734   \n",
       "2     -0.459206 -0.856656 -0.608301 -0.451456  1.287050     -0.034563   \n",
       "3      0.353523  0.946826  1.393324  0.760418 -1.549572     -0.047076   \n",
       "4     -0.278545 -0.072067  0.094404 -0.177318 -1.358875     -0.002649   \n",
       "...         ...       ...       ...       ...       ...           ...   \n",
       "31995 -0.406013 -0.539599 -0.449305 -0.348655  1.430073      0.013407   \n",
       "31996 -0.457269 -0.892790 -0.769465 -0.470567  1.596933      0.002509   \n",
       "31997  4.777885  4.032554  8.148354  8.924593 -1.358875     -0.104085   \n",
       "31998 -0.356425 -0.225029  0.297145 -0.213563 -1.549572      0.023791   \n",
       "31999 -0.307327 -0.173788  0.124647 -0.121305 -1.549572      0.032304   \n",
       "\n",
       "       Epsilon_Gmean  Mobility  Complexity  \n",
       "0          -0.038767 -0.341966   -0.507399  \n",
       "1           0.843475  0.727295   -1.154785  \n",
       "2           0.629119 -0.449624    0.558549  \n",
       "3          -1.480821 -0.077929   -1.228174  \n",
       "4          -1.190653 -0.755724    0.151118  \n",
       "...              ...       ...         ...  \n",
       "31995      -0.345820 -0.142612   -0.328791  \n",
       "31996       1.913754  0.041223   -0.328901  \n",
       "31997      -1.460993  3.105081   -1.617571  \n",
       "31998      -1.505327 -1.058987    2.753731  \n",
       "31999      -1.372994 -0.684901    0.289633  \n",
       "\n",
       "[32000 rows x 9 columns]"
      ]
     },
     "execution_count": 19,
     "metadata": {},
     "output_type": "execute_result"
    }
   ],
   "source": [
    "sc_GarciaX_train"
   ]
  },
  {
   "cell_type": "code",
   "execution_count": 20,
   "metadata": {
    "tags": []
   },
   "outputs": [
    {
     "name": "stdout",
     "output_type": "stream",
     "text": [
      "Optimization terminated successfully.\n",
      "         Current function value: 0.692855\n",
      "         Iterations 4\n",
      "                         Results: Logit\n",
      "=================================================================\n",
      "Model:              Logit            Pseudo R-squared: 0.000     \n",
      "Dependent Variable: y                AIC:              44360.7146\n",
      "Date:               2021-09-02 09:21 BIC:              44436.0761\n",
      "No. Observations:   32000            Log-Likelihood:   -22171.   \n",
      "Df Model:           8                LL-Null:          -22181.   \n",
      "Df Residuals:       31991            LLR p-value:      0.016538  \n",
      "Converged:          1.0000           Scale:            1.0000    \n",
      "No. Iterations:     4.0000                                       \n",
      "------------------------------------------------------------------\n",
      "                Coef.   Std.Err.     z     P>|z|    [0.025  0.975]\n",
      "------------------------------------------------------------------\n",
      "Kurtosis        0.0494    0.0745   0.6638  0.5068  -0.0965  0.1954\n",
      "Skewness       -0.0070    0.0669  -0.1041  0.9171  -0.1381  0.1242\n",
      "Std             0.0727    0.0900   0.8077  0.4193  -0.1038  0.2492\n",
      "Range          -0.1646    0.0964  -1.7075  0.0877  -0.3535  0.0243\n",
      "Median         -0.0169    0.0241  -0.7018  0.4828  -0.0640  0.0303\n",
      "Garcia_Gmean    0.0228    0.0122   1.8692  0.0616  -0.0011  0.0467\n",
      "Epsilon_Gmean  -0.0058    0.0235  -0.2459  0.8058  -0.0518  0.0403\n",
      "Mobility        0.0188    0.0287   0.6528  0.5139  -0.0376  0.0751\n",
      "Complexity     -0.0188    0.0216  -0.8713  0.3836  -0.0611  0.0235\n",
      "=================================================================\n",
      "\n"
     ]
    }
   ],
   "source": [
    "import statsmodels.api as sm\n",
    "logit_modelG=sm.Logit(GarciaY_train,sc_GarciaX_train)\n",
    "result=logit_modelG.fit()\n",
    "print(result.summary2())"
   ]
  },
  {
   "cell_type": "code",
   "execution_count": 21,
   "metadata": {
    "tags": []
   },
   "outputs": [
    {
     "name": "stdout",
     "output_type": "stream",
     "text": [
      "Accuracy of logistic regression classifier on test set: 0.90\n"
     ]
    }
   ],
   "source": [
    "from sklearn.linear_model import LogisticRegression\n",
    "from sklearn import metrics\n",
    "#X_train, X_test, y_train, y_test = train_test_split(sc.fit_transform(newX), y, test_size=0.2, random_state=0)\n",
    "logregMiranda = LogisticRegression()\n",
    "logregMiranda.fit(sc_MirandaX_train, MirandaY_train)\n",
    "y_predMiranda = logregMiranda.predict(sc_MirandaX_test)\n",
    "print('Accuracy of logistic regression classifier on test set: {:.2f}'.format(logregMiranda.score(sc_MirandaX_test, MirandaY_test)))"
   ]
  },
  {
   "cell_type": "code",
   "execution_count": 22,
   "metadata": {
    "tags": []
   },
   "outputs": [
    {
     "name": "stdout",
     "output_type": "stream",
     "text": [
      "Accuracy of logistic regression classifier on test set: 0.50\n"
     ]
    }
   ],
   "source": [
    "logregGarcia = LogisticRegression()\n",
    "logregGarcia.fit(sc_GarciaX_train, GarciaY_train)\n",
    "y_predGarcia = logregGarcia.predict(sc_GarciaX_test)\n",
    "print('Accuracy of logistic regression classifier on test set: {:.2f}'.format(logregGarcia.score(sc_GarciaX_test, GarciaY_test)))"
   ]
  },
  {
   "cell_type": "code",
   "execution_count": 23,
   "metadata": {},
   "outputs": [],
   "source": [
    "from itertools import chain, combinations\n",
    "from sklearn.model_selection import cross_val_score\n",
    "import copy\n",
    "def best_subset_cv(estimator, X, Y, labels,cv=3):\n",
    "    n_features = X.shape[1]\n",
    "    subsets = chain.from_iterable([combinations(labels, k + 1) for k in range(n_features)])\n",
    "    best_score = -np.inf\n",
    "    best_subset = None\n",
    "    for subset in subsets:\n",
    "        estimatorCopy=copy.copy(estimator)\n",
    "        score = cross_val_score(estimatorCopy, X.loc[:, list(subset)], Y, cv=cv).mean()\n",
    "        if score > best_score:\n",
    "            best_score, best_subset = score, subset\n",
    "\n",
    "    return best_subset, best_score"
   ]
  },
  {
   "cell_type": "code",
   "execution_count": 24,
   "metadata": {},
   "outputs": [
    {
     "name": "stdout",
     "output_type": "stream",
     "text": [
      "Miranda\n"
     ]
    }
   ],
   "source": [
    "logregBSM = LogisticRegression()\n",
    "subM, scoM=best_subset_cv(logregBSM,sc_MirandaX_train,MirandaY_train,MirandaLabels)\n",
    "print(\"Miranda\")"
   ]
  },
  {
   "cell_type": "code",
   "execution_count": 25,
   "metadata": {},
   "outputs": [
    {
     "data": {
      "text/plain": [
       "(('Skewness', 'Geometric_Mean', 'Complexity'), 0.8934098557840381)"
      ]
     },
     "execution_count": 25,
     "metadata": {},
     "output_type": "execute_result"
    }
   ],
   "source": [
    "subM, scoM"
   ]
  },
  {
   "cell_type": "code",
   "execution_count": 26,
   "metadata": {},
   "outputs": [
    {
     "name": "stdout",
     "output_type": "stream",
     "text": [
      "García\n"
     ]
    }
   ],
   "source": [
    "logregBSG = LogisticRegression()\n",
    "subG, scoG=best_subset_cv(logregBSG,sc_GarciaX_train,GarciaY_train,GarciaLabels)\n",
    "print(\"García\")"
   ]
  },
  {
   "cell_type": "code",
   "execution_count": 27,
   "metadata": {},
   "outputs": [
    {
     "data": {
      "text/plain": [
       "(('Range', 'Median', 'Epsilon_Gmean', 'Mobility'), 0.5089685576286925)"
      ]
     },
     "execution_count": 27,
     "metadata": {},
     "output_type": "execute_result"
    }
   ],
   "source": [
    "subG, scoG"
   ]
  },
  {
   "cell_type": "code",
   "execution_count": 28,
   "metadata": {},
   "outputs": [
    {
     "data": {
      "image/png": "[encoded data removed]",
      "text/plain": [
       "<Figure size 1100x900 with 2 Axes>"
      ]
     },
     "metadata": {},
     "output_type": "display_data"
    }
   ],
   "source": [
    "import seaborn as sns\n",
    "sns.set_theme(style=\"dark\")\n",
    "corr = sc_MirandaX_train.corr()\n",
    "f, ax = plt.subplots(figsize=(11, 9))\n",
    "cmap = sns.diverging_palette(230, 20, as_cmap=True)\n",
    "ax.tick_params(axis='x', rotation=90)\n",
    "# Draw the heatmap with the mask and correct aspect ratio\n",
    "sns.heatmap(corr, cmap=cmap, vmax=.3, center=0,\n",
    "            square=True, linewidths=.5, cbar_kws={\"shrink\": .5}).set_title(\"Miranda's correlation matrix\")\n",
    "plt.show()"
   ]
  },
  {
   "cell_type": "code",
   "execution_count": 29,
   "metadata": {},
   "outputs": [
    {
     "data": {
      "image/png": "[encoded data removed]",
      "text/plain": [
       "<Figure size 1100x900 with 2 Axes>"
      ]
     },
     "metadata": {},
     "output_type": "display_data"
    }
   ],
   "source": [
    "sns.set_theme(style=\"dark\")\n",
    "corr = sc_GarciaX_train.corr()\n",
    "f, ax = plt.subplots(figsize=(11, 9))\n",
    "cmap = sns.diverging_palette(230, 20, as_cmap=True)\n",
    "ax.tick_params(axis='x', rotation=90)\n",
    "# Draw the heatmap with the mask and correct aspect ratio\n",
    "sns.heatmap(corr, cmap=cmap, vmax=.3, center=0,\n",
    "            square=True, linewidths=.5, cbar_kws={\"shrink\": .5}).set_title(\"Garcías's correlation matrix\")\n",
    "plt.show()"
   ]
  }
 ],
 "metadata": {
  "kernelspec": {
   "display_name": "Python 3",
   "language": "python",
   "name": "python3"
  },
  "language_info": {
   "codemirror_mode": {
    "name": "ipython",
    "version": 3
   },
   "file_extension": ".py",
   "mimetype": "text/x-python",
   "name": "python",
   "nbconvert_exporter": "python",
   "pygments_lexer": "ipython3",
   "version": "3.8.11"
  }
 },
 "nbformat": 4,
 "nbformat_minor": 4
}
