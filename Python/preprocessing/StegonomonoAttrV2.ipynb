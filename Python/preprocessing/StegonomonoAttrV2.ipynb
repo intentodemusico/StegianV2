{
 "cells": [
  {
   "cell_type": "markdown",
   "id": "25455f66-1717-4e3a-bffd-3202596a71a5",
   "metadata": {
    "tags": []
   },
   "source": [
    "# Brief attributes generation using miranda imageset. Retrieved from Stegonomono. V2"
   ]
  },
  {
   "cell_type": "code",
   "execution_count": 1,
   "id": "f8a98fd4-f415-43e7-909a-8f84e13f5649",
   "metadata": {},
   "outputs": [],
   "source": [
    "# -*- coding: utf-8 -*-\n",
    "\"\"\"\n",
    "Created on Wed Apr  1 19:48:09 2020\n",
    "\n",
    "@author: INTENTODEMUSICO\n",
    "\"\"\"\n",
    "\n",
    "import cv2\n",
    "import os.path\n",
    "import numpy as np\n",
    "import MirandaAttributes_MirandaImages as Miranda\n",
    "#from math import exp as e\n",
    "\n",
    "#%%\n",
    "\n",
    "def e(x):\n",
    "    return x\n"
   ]
  },
  {
   "cell_type": "code",
   "execution_count": 2,
   "id": "ace490d0-1bb6-49b2-b53d-2033f07a0674",
   "metadata": {},
   "outputs": [],
   "source": [
    "\n",
    "#%%\n",
    "x=np.zeros(10)\n",
    "test=np.zeros(10,dtype='<U256')#.astype(object)#,headers=['Kurtosis', 'Skewness', 'Std', 'Range', 'Median', 'Geometric_Mean', 'Mobility', 'Complexity','IsStego','Location'])\n",
    "train=np.zeros(10,dtype='<U256')#.astype(object)#,headers=['Kurtosis', 'Skewness', 'Std', 'Range', 'Median', 'Geometric_Mean', 'Mobility', 'Complexity','IsStego','Location'])\n",
    "#print(np.shape(test))\n",
    "steg=\"train_steg_0.\"\n",
    "carr=\"train_carr\"\n",
    "\n",
    "stegTe=\"test_steg_0.\"\n",
    "carrTe=\"test_carr\"\n",
    "\n",
    "pATestS='.\\Testing\\Stego'\n",
    "pATrainS='.\\Training\\Stego'\n",
    "pATestC='.\\Testing\\Carriers'\n",
    "pATrainC='.\\Training\\Carriers'"
   ]
  },
  {
   "cell_type": "code",
   "execution_count": 3,
   "id": "21733cab-b496-4380-bd7d-55de5f7a3c1d",
   "metadata": {},
   "outputs": [
    {
     "name": "stderr",
     "output_type": "stream",
     "text": [
      "C:\\Users\\Administrador\\anaconda3\\envs\\proyecto\\lib\\site-packages\\numpy\\core\\_asarray.py:171: VisibleDeprecationWarning: Creating an ndarray from ragged nested sequences (which is a list-or-tuple of lists-or-tuples-or ndarrays with different lengths or shapes) is deprecated. If you meant to do this, you must specify 'dtype=object' when creating the ndarray.\n",
      "  return array(a, dtype, copy=False, order=order, subok=True)\n"
     ]
    }
   ],
   "source": [
    "\n",
    "#Training\n",
    "for i in range(1,2001):\n",
    "    if (i<401):\n",
    "        pay=1    \n",
    "    elif (i<801):\n",
    "        pay=2 \n",
    "    elif (i<1201):\n",
    "        pay=3 \n",
    "    elif (i<1601):\n",
    "        pay=4 \n",
    "    elif (i<2001):\n",
    "        pay=5 #+1#(i//400)%5\n",
    "    num=i\n",
    "    strC=carr+str(i)+\".bmp\"\n",
    "    imgLocationC=os.path.join(pATrainC,strC)\n",
    "    strS=steg+str(pay)+\"_\"+str(num)+\".bmp\"\n",
    "    imgLocationS=os.path.join(pATrainS,strS)\n",
    "    aTrain=Miranda.calCustom(imgLocationC,0)\n",
    "    train=np.vstack((train,aTrain))\n",
    "    aTrain=Miranda.calCustom(imgLocationS,1)\n",
    "    train=np.vstack((train,aTrain))\n",
    "\n",
    "#Testing\n",
    "for i in range(1,501):\n",
    "    if (i<101):\n",
    "        pay=1    \n",
    "    elif (i<201):\n",
    "        pay=2 \n",
    "    elif (i<301):\n",
    "        pay=3 \n",
    "    elif (i<401):\n",
    "        pay=4 \n",
    "    elif (i<501):\n",
    "        pay=5 #+1#(i//400)%5\n",
    "    num=i\n",
    "    strC=carrTe+str(i)+\".bmp\"\n",
    "    imgLocationC=os.path.join(pATestC,strC)\n",
    "    strS=stegTe+str(pay)+\"_\"+str(num)+\".bmp\"\n",
    "    imgLocationS=os.path.join(pATestS,strS)\n",
    "    aTest=Miranda.calCustom(imgLocationC,0)\n",
    "    test=np.vstack((test,aTest))  \n",
    "    aTest=Miranda.calCustom(imgLocationS,1)\n",
    "    test=np.vstack((test,aTest))\n",
    "\n",
    "#%%    \n",
    "test=np.delete(test,0,0)\n",
    "train=np.delete(train,0,0)\n",
    "path='./FinalV2'\n",
    "pTrain=os.path.join(path,\"train_5000.csv\")\n",
    "pTest=os.path.join(path,\"test_5000.csv\")\n",
    "np.savetxt(pTrain,train, delimiter=\",\", fmt=\"%s\")\n",
    "np.savetxt(pTest,test, delimiter=\",\", fmt=\"%s\")"
   ]
  }
 ],
 "metadata": {
  "kernelspec": {
   "display_name": "Python 3",
   "language": "python",
   "name": "python3"
  },
  "language_info": {
   "codemirror_mode": {
    "name": "ipython",
    "version": 3
   },
   "file_extension": ".py",
   "mimetype": "text/x-python",
   "name": "python",
   "nbconvert_exporter": "python",
   "pygments_lexer": "ipython3",
   "version": "3.8.11"
  }
 },
 "nbformat": 4,
 "nbformat_minor": 5
}
