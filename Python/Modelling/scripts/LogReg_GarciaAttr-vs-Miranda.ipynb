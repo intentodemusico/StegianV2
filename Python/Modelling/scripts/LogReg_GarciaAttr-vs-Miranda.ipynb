{
 "cells": [
  {
   "cell_type": "markdown",
   "metadata": {},
   "source": [
    "# Garcia attributes using Miranda images vs Miranda Attributes"
   ]
  },
  {
   "cell_type": "code",
   "execution_count": 1,
   "metadata": {},
   "outputs": [],
   "source": [
    "from __future__ import absolute_import, division, print_function, unicode_literals\n",
    "import os, random, time, MirandaAttributes, cv2\n",
    "import tensorflow as tf\n",
    "import pandas as pd\n",
    "import numpy as np\n",
    "from sklearn import preprocessing\n",
    "import seaborn as sns\n",
    "import matplotlib.image as mpimg\n",
    "import matplotlib.pyplot as plt\n",
    "from sklearn.linear_model import LogisticRegression\n",
    "from sklearn.model_selection import train_test_split"
   ]
  },
  {
   "cell_type": "code",
   "execution_count": 2,
   "metadata": {},
   "outputs": [
    {
     "name": "stdout",
     "output_type": "stream",
     "text": [
      "TensorFlow version: 2.3.0\n",
      "Eager execution: True\n"
     ]
    }
   ],
   "source": [
    "print(\"TensorFlow version: {}\".format(tf.__version__))\n",
    "print(\"Eager execution: {}\".format(tf.executing_eagerly()))\n",
    "\n",
    "#Miranda dataset\n",
    "train_dataset_url = \"https://raw.githubusercontent.com/intentodemusico/StegianV2/master/DatasetMiranda/features_train_70000.csv\"\n",
    "test_dataset_url = \"https://raw.githubusercontent.com/intentodemusico/StegianV2/master/DatasetMiranda/features_test_70000.csv\"\n",
    "\n",
    "#Miranda images, García attributes V1\n",
    "train_dataset_urlG1 = \"https://raw.githubusercontent.com/intentodemusico/StegianV2/master/DatasetStegonomonoV1/train_5000.csv\"\n",
    "test_dataset_urlG1 = \"https://raw.githubusercontent.com/intentodemusico/StegianV2/master/DatasetStegonomonoV1/test_5000.csv\"\n",
    "\n",
    "#Miranda images, García attributes V2\n",
    "train_dataset_urlG2 = \"https://raw.githubusercontent.com/intentodemusico/StegianV2/master/DatasetStegonomonoV2/train_5000.csv\"\n",
    "test_dataset_urlG2 = \"https://raw.githubusercontent.com/intentodemusico/StegianV2/master/DatasetStegonomonoV2/test_5000.csv\""
   ]
  },
  {
   "cell_type": "code",
   "execution_count": 3,
   "metadata": {},
   "outputs": [],
   "source": [
    "#%% Importing the dataset\n",
    "MirandaLabels=['Kurtosis', 'Skewness', 'Std', 'Range', 'Median', 'Geometric_Mean', 'Mobility', 'Complexity']\n",
    "trainDataset = pd.read_csv(train_dataset_url)\n",
    "MirandaX_train = trainDataset.iloc[:, :-1].values\n",
    "MirandaY_train = trainDataset.iloc[:, -1].values\n",
    "\n",
    "testDataset = pd.read_csv(test_dataset_url)\n",
    "MirandaX_test = testDataset.iloc[:, :-1].values\n",
    "MirandaY_test = testDataset.iloc[:, -1].values\n",
    "\n",
    "#%% Importing the dataset stegonomono V1\n",
    "G1Labels=['Kurtosis', 'Skewness', 'Std', 'Range', 'Median', 'Geometric_Mean', 'Mobility', 'Complexity']\n",
    "trainDataset = pd.read_csv(train_dataset_urlG1,header=None)\n",
    "G1X_train = pd.DataFrame(trainDataset.iloc[:, :-2].values,columns=G1Labels)\n",
    "G1Y_train = trainDataset.iloc[:, -2].values\n",
    "\n",
    "testDataset = pd.read_csv(test_dataset_urlG1,header=None)\n",
    "G1X_test = pd.DataFrame(testDataset.iloc[:, :-2].values,columns=G1Labels)\n",
    "G1Y_test = testDataset.iloc[:, -2].values\n",
    "\n",
    "#%% Importing the dataset stegonomono V2\n",
    "G2Labels=['Kurtosis', 'Skewness', 'Std', 'Range', 'Median', 'Garcia_Geomean', 'Epsilon_Geomean','Mobility', 'Complexity']\n",
    "trainDataset = pd.read_csv(train_dataset_urlG2,header=None)\n",
    "G2X_train = pd.DataFrame(trainDataset.iloc[:, :-1].values,columns=G2Labels)\n",
    "G2X_train[\"Kurtosis\"]=[float(x[1:-1]) for x in G2X_train[\"Kurtosis\"]]\n",
    "G2Y_train = trainDataset.iloc[:, -1].values\n",
    "\n",
    "\n",
    "testDataset = pd.read_csv(test_dataset_urlG2,header=None)\n",
    "G2X_test = pd.DataFrame(testDataset.iloc[:, :-1].values,columns=G2Labels)\n",
    "G2X_test[\"Kurtosis\"]=[float(x[1:-1]) for x in G2X_test[\"Kurtosis\"]]\n",
    "G2Y_test = testDataset.iloc[:, -1].values"
   ]
  },
  {
   "cell_type": "code",
   "execution_count": null,
   "metadata": {},
   "outputs": [],
   "source": []
  },
  {
   "cell_type": "code",
   "execution_count": 4,
   "metadata": {
    "tags": []
   },
   "outputs": [],
   "source": [
    "#%% Feature Scaling\n",
    "from sklearn.preprocessing import StandardScaler"
   ]
  },
  {
   "cell_type": "markdown",
   "metadata": {},
   "source": [
    "### EDA"
   ]
  },
  {
   "cell_type": "code",
   "execution_count": 5,
   "metadata": {},
   "outputs": [
    {
     "data": {
      "text/html": [
       "<div>\n",
       "<style scoped>\n",
       "    .dataframe tbody tr th:only-of-type {\n",
       "        vertical-align: middle;\n",
       "    }\n",
       "\n",
       "    .dataframe tbody tr th {\n",
       "        vertical-align: top;\n",
       "    }\n",
       "\n",
       "    .dataframe thead th {\n",
       "        text-align: right;\n",
       "    }\n",
       "</style>\n",
       "<table border=\"1\" class=\"dataframe\">\n",
       "  <thead>\n",
       "    <tr style=\"text-align: right;\">\n",
       "      <th></th>\n",
       "      <th>0</th>\n",
       "    </tr>\n",
       "  </thead>\n",
       "  <tbody>\n",
       "    <tr>\n",
       "      <th>count</th>\n",
       "      <td>4000.000000</td>\n",
       "    </tr>\n",
       "    <tr>\n",
       "      <th>mean</th>\n",
       "      <td>0.500000</td>\n",
       "    </tr>\n",
       "    <tr>\n",
       "      <th>std</th>\n",
       "      <td>0.500063</td>\n",
       "    </tr>\n",
       "    <tr>\n",
       "      <th>min</th>\n",
       "      <td>0.000000</td>\n",
       "    </tr>\n",
       "    <tr>\n",
       "      <th>25%</th>\n",
       "      <td>0.000000</td>\n",
       "    </tr>\n",
       "    <tr>\n",
       "      <th>50%</th>\n",
       "      <td>0.500000</td>\n",
       "    </tr>\n",
       "    <tr>\n",
       "      <th>75%</th>\n",
       "      <td>1.000000</td>\n",
       "    </tr>\n",
       "    <tr>\n",
       "      <th>max</th>\n",
       "      <td>1.000000</td>\n",
       "    </tr>\n",
       "  </tbody>\n",
       "</table>\n",
       "</div>"
      ],
      "text/plain": [
       "                 0\n",
       "count  4000.000000\n",
       "mean      0.500000\n",
       "std       0.500063\n",
       "min       0.000000\n",
       "25%       0.000000\n",
       "50%       0.500000\n",
       "75%       1.000000\n",
       "max       1.000000"
      ]
     },
     "execution_count": 5,
     "metadata": {},
     "output_type": "execute_result"
    }
   ],
   "source": [
    "pd.DataFrame(G1Y_train).describe()"
   ]
  },
  {
   "cell_type": "code",
   "execution_count": 6,
   "metadata": {
    "tags": []
   },
   "outputs": [
    {
     "data": {
      "text/html": [
       "<div>\n",
       "<style scoped>\n",
       "    .dataframe tbody tr th:only-of-type {\n",
       "        vertical-align: middle;\n",
       "    }\n",
       "\n",
       "    .dataframe tbody tr th {\n",
       "        vertical-align: top;\n",
       "    }\n",
       "\n",
       "    .dataframe thead th {\n",
       "        text-align: right;\n",
       "    }\n",
       "</style>\n",
       "<table border=\"1\" class=\"dataframe\">\n",
       "  <thead>\n",
       "    <tr style=\"text-align: right;\">\n",
       "      <th></th>\n",
       "      <th>0</th>\n",
       "    </tr>\n",
       "  </thead>\n",
       "  <tbody>\n",
       "    <tr>\n",
       "      <th>count</th>\n",
       "      <td>4000.000000</td>\n",
       "    </tr>\n",
       "    <tr>\n",
       "      <th>mean</th>\n",
       "      <td>0.500000</td>\n",
       "    </tr>\n",
       "    <tr>\n",
       "      <th>std</th>\n",
       "      <td>0.500063</td>\n",
       "    </tr>\n",
       "    <tr>\n",
       "      <th>min</th>\n",
       "      <td>0.000000</td>\n",
       "    </tr>\n",
       "    <tr>\n",
       "      <th>25%</th>\n",
       "      <td>0.000000</td>\n",
       "    </tr>\n",
       "    <tr>\n",
       "      <th>50%</th>\n",
       "      <td>0.500000</td>\n",
       "    </tr>\n",
       "    <tr>\n",
       "      <th>75%</th>\n",
       "      <td>1.000000</td>\n",
       "    </tr>\n",
       "    <tr>\n",
       "      <th>max</th>\n",
       "      <td>1.000000</td>\n",
       "    </tr>\n",
       "  </tbody>\n",
       "</table>\n",
       "</div>"
      ],
      "text/plain": [
       "                 0\n",
       "count  4000.000000\n",
       "mean      0.500000\n",
       "std       0.500063\n",
       "min       0.000000\n",
       "25%       0.000000\n",
       "50%       0.500000\n",
       "75%       1.000000\n",
       "max       1.000000"
      ]
     },
     "execution_count": 6,
     "metadata": {},
     "output_type": "execute_result"
    }
   ],
   "source": [
    "pd.DataFrame(G2Y_train).describe()"
   ]
  },
  {
   "cell_type": "code",
   "execution_count": 7,
   "metadata": {},
   "outputs": [
    {
     "data": {
      "text/html": [
       "<div>\n",
       "<style scoped>\n",
       "    .dataframe tbody tr th:only-of-type {\n",
       "        vertical-align: middle;\n",
       "    }\n",
       "\n",
       "    .dataframe tbody tr th {\n",
       "        vertical-align: top;\n",
       "    }\n",
       "\n",
       "    .dataframe thead th {\n",
       "        text-align: right;\n",
       "    }\n",
       "</style>\n",
       "<table border=\"1\" class=\"dataframe\">\n",
       "  <thead>\n",
       "    <tr style=\"text-align: right;\">\n",
       "      <th></th>\n",
       "      <th>Kurtosis</th>\n",
       "      <th>Skewness</th>\n",
       "      <th>Std</th>\n",
       "      <th>Range</th>\n",
       "      <th>Median</th>\n",
       "      <th>Geometric_Mean</th>\n",
       "      <th>Mobility</th>\n",
       "      <th>Complexity</th>\n",
       "    </tr>\n",
       "  </thead>\n",
       "  <tbody>\n",
       "    <tr>\n",
       "      <th>0</th>\n",
       "      <td>13.528070</td>\n",
       "      <td>3.428313</td>\n",
       "      <td>346.67215</td>\n",
       "      <td>2474.0</td>\n",
       "      <td>155.0</td>\n",
       "      <td>151.34135</td>\n",
       "      <td>0.389961</td>\n",
       "      <td>3.768976</td>\n",
       "    </tr>\n",
       "    <tr>\n",
       "      <th>1</th>\n",
       "      <td>14.178134</td>\n",
       "      <td>3.462216</td>\n",
       "      <td>348.01108</td>\n",
       "      <td>2676.0</td>\n",
       "      <td>155.5</td>\n",
       "      <td>150.71008</td>\n",
       "      <td>0.438731</td>\n",
       "      <td>3.690892</td>\n",
       "    </tr>\n",
       "    <tr>\n",
       "      <th>2</th>\n",
       "      <td>2.679554</td>\n",
       "      <td>1.893911</td>\n",
       "      <td>299.19614</td>\n",
       "      <td>1384.0</td>\n",
       "      <td>138.5</td>\n",
       "      <td>153.92929</td>\n",
       "      <td>0.151144</td>\n",
       "      <td>8.017585</td>\n",
       "    </tr>\n",
       "    <tr>\n",
       "      <th>3</th>\n",
       "      <td>2.924293</td>\n",
       "      <td>1.936686</td>\n",
       "      <td>301.38376</td>\n",
       "      <td>1475.0</td>\n",
       "      <td>129.5</td>\n",
       "      <td>153.30716</td>\n",
       "      <td>0.298413</td>\n",
       "      <td>5.996827</td>\n",
       "    </tr>\n",
       "    <tr>\n",
       "      <th>4</th>\n",
       "      <td>4.072080</td>\n",
       "      <td>2.250892</td>\n",
       "      <td>461.31750</td>\n",
       "      <td>1938.0</td>\n",
       "      <td>49.0</td>\n",
       "      <td>0.00000</td>\n",
       "      <td>0.083103</td>\n",
       "      <td>11.464432</td>\n",
       "    </tr>\n",
       "    <tr>\n",
       "      <th>...</th>\n",
       "      <td>...</td>\n",
       "      <td>...</td>\n",
       "      <td>...</td>\n",
       "      <td>...</td>\n",
       "      <td>...</td>\n",
       "      <td>...</td>\n",
       "      <td>...</td>\n",
       "      <td>...</td>\n",
       "    </tr>\n",
       "    <tr>\n",
       "      <th>3995</th>\n",
       "      <td>24.946789</td>\n",
       "      <td>4.806365</td>\n",
       "      <td>529.44110</td>\n",
       "      <td>3886.0</td>\n",
       "      <td>126.5</td>\n",
       "      <td>0.00000</td>\n",
       "      <td>1.065143</td>\n",
       "      <td>1.852970</td>\n",
       "    </tr>\n",
       "    <tr>\n",
       "      <th>3996</th>\n",
       "      <td>16.434111</td>\n",
       "      <td>2.890011</td>\n",
       "      <td>216.15149</td>\n",
       "      <td>2006.0</td>\n",
       "      <td>185.5</td>\n",
       "      <td>190.20232</td>\n",
       "      <td>0.337350</td>\n",
       "      <td>2.995154</td>\n",
       "    </tr>\n",
       "    <tr>\n",
       "      <th>3997</th>\n",
       "      <td>11.568215</td>\n",
       "      <td>2.730022</td>\n",
       "      <td>267.74970</td>\n",
       "      <td>2194.0</td>\n",
       "      <td>195.5</td>\n",
       "      <td>163.11760</td>\n",
       "      <td>1.292554</td>\n",
       "      <td>1.506328</td>\n",
       "    </tr>\n",
       "    <tr>\n",
       "      <th>3998</th>\n",
       "      <td>10.807127</td>\n",
       "      <td>2.911698</td>\n",
       "      <td>165.19333</td>\n",
       "      <td>1083.0</td>\n",
       "      <td>236.5</td>\n",
       "      <td>219.85823</td>\n",
       "      <td>0.276002</td>\n",
       "      <td>4.050163</td>\n",
       "    </tr>\n",
       "    <tr>\n",
       "      <th>3999</th>\n",
       "      <td>12.638103</td>\n",
       "      <td>2.895494</td>\n",
       "      <td>231.45259</td>\n",
       "      <td>1631.0</td>\n",
       "      <td>170.5</td>\n",
       "      <td>185.52211</td>\n",
       "      <td>1.417705</td>\n",
       "      <td>1.401769</td>\n",
       "    </tr>\n",
       "  </tbody>\n",
       "</table>\n",
       "<p>4000 rows × 8 columns</p>\n",
       "</div>"
      ],
      "text/plain": [
       "       Kurtosis  Skewness        Std   Range  Median  Geometric_Mean  \\\n",
       "0     13.528070  3.428313  346.67215  2474.0   155.0       151.34135   \n",
       "1     14.178134  3.462216  348.01108  2676.0   155.5       150.71008   \n",
       "2      2.679554  1.893911  299.19614  1384.0   138.5       153.92929   \n",
       "3      2.924293  1.936686  301.38376  1475.0   129.5       153.30716   \n",
       "4      4.072080  2.250892  461.31750  1938.0    49.0         0.00000   \n",
       "...         ...       ...        ...     ...     ...             ...   \n",
       "3995  24.946789  4.806365  529.44110  3886.0   126.5         0.00000   \n",
       "3996  16.434111  2.890011  216.15149  2006.0   185.5       190.20232   \n",
       "3997  11.568215  2.730022  267.74970  2194.0   195.5       163.11760   \n",
       "3998  10.807127  2.911698  165.19333  1083.0   236.5       219.85823   \n",
       "3999  12.638103  2.895494  231.45259  1631.0   170.5       185.52211   \n",
       "\n",
       "      Mobility  Complexity  \n",
       "0     0.389961    3.768976  \n",
       "1     0.438731    3.690892  \n",
       "2     0.151144    8.017585  \n",
       "3     0.298413    5.996827  \n",
       "4     0.083103   11.464432  \n",
       "...        ...         ...  \n",
       "3995  1.065143    1.852970  \n",
       "3996  0.337350    2.995154  \n",
       "3997  1.292554    1.506328  \n",
       "3998  0.276002    4.050163  \n",
       "3999  1.417705    1.401769  \n",
       "\n",
       "[4000 rows x 8 columns]"
      ]
     },
     "execution_count": 7,
     "metadata": {},
     "output_type": "execute_result"
    }
   ],
   "source": [
    "G1X_train"
   ]
  },
  {
   "cell_type": "code",
   "execution_count": 8,
   "metadata": {},
   "outputs": [
    {
     "data": {
      "text/html": [
       "<div>\n",
       "<style scoped>\n",
       "    .dataframe tbody tr th:only-of-type {\n",
       "        vertical-align: middle;\n",
       "    }\n",
       "\n",
       "    .dataframe tbody tr th {\n",
       "        vertical-align: top;\n",
       "    }\n",
       "\n",
       "    .dataframe thead th {\n",
       "        text-align: right;\n",
       "    }\n",
       "</style>\n",
       "<table border=\"1\" class=\"dataframe\">\n",
       "  <thead>\n",
       "    <tr style=\"text-align: right;\">\n",
       "      <th></th>\n",
       "      <th>Kurtosis</th>\n",
       "      <th>Skewness</th>\n",
       "      <th>Std</th>\n",
       "      <th>Range</th>\n",
       "      <th>Median</th>\n",
       "      <th>Garcia_Geomean</th>\n",
       "      <th>Epsilon_Geomean</th>\n",
       "      <th>Mobility</th>\n",
       "      <th>Complexity</th>\n",
       "    </tr>\n",
       "  </thead>\n",
       "  <tbody>\n",
       "    <tr>\n",
       "      <th>0</th>\n",
       "      <td>16.528069</td>\n",
       "      <td>3.428313</td>\n",
       "      <td>346.67215</td>\n",
       "      <td>2474.0</td>\n",
       "      <td>155.0</td>\n",
       "      <td>151.34135</td>\n",
       "      <td>153.80962</td>\n",
       "      <td>0.389961</td>\n",
       "      <td>3.768976</td>\n",
       "    </tr>\n",
       "    <tr>\n",
       "      <th>1</th>\n",
       "      <td>17.178135</td>\n",
       "      <td>3.462216</td>\n",
       "      <td>348.01108</td>\n",
       "      <td>2676.0</td>\n",
       "      <td>155.5</td>\n",
       "      <td>150.71008</td>\n",
       "      <td>153.17198</td>\n",
       "      <td>0.438731</td>\n",
       "      <td>3.690892</td>\n",
       "    </tr>\n",
       "    <tr>\n",
       "      <th>2</th>\n",
       "      <td>5.679555</td>\n",
       "      <td>1.893911</td>\n",
       "      <td>299.19614</td>\n",
       "      <td>1384.0</td>\n",
       "      <td>138.5</td>\n",
       "      <td>153.92929</td>\n",
       "      <td>155.4249</td>\n",
       "      <td>0.151144</td>\n",
       "      <td>8.017585</td>\n",
       "    </tr>\n",
       "    <tr>\n",
       "      <th>3</th>\n",
       "      <td>5.924293</td>\n",
       "      <td>1.936686</td>\n",
       "      <td>301.38376</td>\n",
       "      <td>1475.0</td>\n",
       "      <td>129.5</td>\n",
       "      <td>153.30716</td>\n",
       "      <td>154.80574</td>\n",
       "      <td>0.298413</td>\n",
       "      <td>5.996827</td>\n",
       "    </tr>\n",
       "    <tr>\n",
       "      <th>4</th>\n",
       "      <td>7.072080</td>\n",
       "      <td>2.250892</td>\n",
       "      <td>461.3175</td>\n",
       "      <td>1938.0</td>\n",
       "      <td>49.0</td>\n",
       "      <td>58.43951</td>\n",
       "      <td>46.029896</td>\n",
       "      <td>0.083103</td>\n",
       "      <td>11.464432</td>\n",
       "    </tr>\n",
       "    <tr>\n",
       "      <th>...</th>\n",
       "      <td>...</td>\n",
       "      <td>...</td>\n",
       "      <td>...</td>\n",
       "      <td>...</td>\n",
       "      <td>...</td>\n",
       "      <td>...</td>\n",
       "      <td>...</td>\n",
       "      <td>...</td>\n",
       "      <td>...</td>\n",
       "    </tr>\n",
       "    <tr>\n",
       "      <th>3995</th>\n",
       "      <td>27.946789</td>\n",
       "      <td>4.806365</td>\n",
       "      <td>529.4411</td>\n",
       "      <td>3886.0</td>\n",
       "      <td>126.5</td>\n",
       "      <td>106.928474</td>\n",
       "      <td>89.651695</td>\n",
       "      <td>1.065143</td>\n",
       "      <td>1.85297</td>\n",
       "    </tr>\n",
       "    <tr>\n",
       "      <th>3996</th>\n",
       "      <td>19.434110</td>\n",
       "      <td>2.890011</td>\n",
       "      <td>216.15149</td>\n",
       "      <td>2006.0</td>\n",
       "      <td>185.5</td>\n",
       "      <td>190.20232</td>\n",
       "      <td>191.66467</td>\n",
       "      <td>0.33735</td>\n",
       "      <td>2.995154</td>\n",
       "    </tr>\n",
       "    <tr>\n",
       "      <th>3997</th>\n",
       "      <td>14.568214</td>\n",
       "      <td>2.730022</td>\n",
       "      <td>267.7497</td>\n",
       "      <td>2194.0</td>\n",
       "      <td>195.5</td>\n",
       "      <td>163.1176</td>\n",
       "      <td>164.90988</td>\n",
       "      <td>1.292554</td>\n",
       "      <td>1.506328</td>\n",
       "    </tr>\n",
       "    <tr>\n",
       "      <th>3998</th>\n",
       "      <td>13.807127</td>\n",
       "      <td>2.911698</td>\n",
       "      <td>165.19333</td>\n",
       "      <td>1083.0</td>\n",
       "      <td>236.5</td>\n",
       "      <td>219.85823</td>\n",
       "      <td>221.03502</td>\n",
       "      <td>0.276002</td>\n",
       "      <td>4.050163</td>\n",
       "    </tr>\n",
       "    <tr>\n",
       "      <th>3999</th>\n",
       "      <td>15.638103</td>\n",
       "      <td>2.895494</td>\n",
       "      <td>231.45259</td>\n",
       "      <td>1631.0</td>\n",
       "      <td>170.5</td>\n",
       "      <td>185.52211</td>\n",
       "      <td>186.9123</td>\n",
       "      <td>1.417705</td>\n",
       "      <td>1.401769</td>\n",
       "    </tr>\n",
       "  </tbody>\n",
       "</table>\n",
       "<p>4000 rows × 9 columns</p>\n",
       "</div>"
      ],
      "text/plain": [
       "       Kurtosis  Skewness        Std   Range Median Garcia_Geomean  \\\n",
       "0     16.528069  3.428313  346.67215  2474.0  155.0      151.34135   \n",
       "1     17.178135  3.462216  348.01108  2676.0  155.5      150.71008   \n",
       "2      5.679555  1.893911  299.19614  1384.0  138.5      153.92929   \n",
       "3      5.924293  1.936686  301.38376  1475.0  129.5      153.30716   \n",
       "4      7.072080  2.250892   461.3175  1938.0   49.0       58.43951   \n",
       "...         ...       ...        ...     ...    ...            ...   \n",
       "3995  27.946789  4.806365   529.4411  3886.0  126.5     106.928474   \n",
       "3996  19.434110  2.890011  216.15149  2006.0  185.5      190.20232   \n",
       "3997  14.568214  2.730022   267.7497  2194.0  195.5       163.1176   \n",
       "3998  13.807127  2.911698  165.19333  1083.0  236.5      219.85823   \n",
       "3999  15.638103  2.895494  231.45259  1631.0  170.5      185.52211   \n",
       "\n",
       "     Epsilon_Geomean  Mobility Complexity  \n",
       "0          153.80962  0.389961   3.768976  \n",
       "1          153.17198  0.438731   3.690892  \n",
       "2           155.4249  0.151144   8.017585  \n",
       "3          154.80574  0.298413   5.996827  \n",
       "4          46.029896  0.083103  11.464432  \n",
       "...              ...       ...        ...  \n",
       "3995       89.651695  1.065143    1.85297  \n",
       "3996       191.66467   0.33735   2.995154  \n",
       "3997       164.90988  1.292554   1.506328  \n",
       "3998       221.03502  0.276002   4.050163  \n",
       "3999        186.9123  1.417705   1.401769  \n",
       "\n",
       "[4000 rows x 9 columns]"
      ]
     },
     "execution_count": 8,
     "metadata": {},
     "output_type": "execute_result"
    }
   ],
   "source": [
    "G2X_train"
   ]
  },
  {
   "cell_type": "code",
   "execution_count": 9,
   "metadata": {},
   "outputs": [
    {
     "data": {
      "text/html": [
       "<div>\n",
       "<style scoped>\n",
       "    .dataframe tbody tr th:only-of-type {\n",
       "        vertical-align: middle;\n",
       "    }\n",
       "\n",
       "    .dataframe tbody tr th {\n",
       "        vertical-align: top;\n",
       "    }\n",
       "\n",
       "    .dataframe thead th {\n",
       "        text-align: right;\n",
       "    }\n",
       "</style>\n",
       "<table border=\"1\" class=\"dataframe\">\n",
       "  <thead>\n",
       "    <tr style=\"text-align: right;\">\n",
       "      <th></th>\n",
       "      <th>Kurtosis</th>\n",
       "      <th>Skewness</th>\n",
       "      <th>Std</th>\n",
       "      <th>Range</th>\n",
       "      <th>Median</th>\n",
       "      <th>Geometric_Mean</th>\n",
       "      <th>Mobility</th>\n",
       "      <th>Complexity</th>\n",
       "    </tr>\n",
       "  </thead>\n",
       "  <tbody>\n",
       "    <tr>\n",
       "      <th>count</th>\n",
       "      <td>4000.000000</td>\n",
       "      <td>4000.000000</td>\n",
       "      <td>4000.000000</td>\n",
       "      <td>4000.000000</td>\n",
       "      <td>4000.00000</td>\n",
       "      <td>4000.000000</td>\n",
       "      <td>4000.000000</td>\n",
       "      <td>4000.000000</td>\n",
       "    </tr>\n",
       "    <tr>\n",
       "      <th>mean</th>\n",
       "      <td>21.823689</td>\n",
       "      <td>3.123951</td>\n",
       "      <td>380.995970</td>\n",
       "      <td>2977.834250</td>\n",
       "      <td>147.57975</td>\n",
       "      <td>85.545011</td>\n",
       "      <td>0.574587</td>\n",
       "      <td>4.168849</td>\n",
       "    </tr>\n",
       "    <tr>\n",
       "      <th>std</th>\n",
       "      <td>44.873113</td>\n",
       "      <td>3.051797</td>\n",
       "      <td>284.810485</td>\n",
       "      <td>4178.229483</td>\n",
       "      <td>72.19171</td>\n",
       "      <td>84.347220</td>\n",
       "      <td>0.375456</td>\n",
       "      <td>3.080335</td>\n",
       "    </tr>\n",
       "    <tr>\n",
       "      <th>min</th>\n",
       "      <td>-1.643958</td>\n",
       "      <td>-0.924079</td>\n",
       "      <td>72.596810</td>\n",
       "      <td>356.000000</td>\n",
       "      <td>0.00000</td>\n",
       "      <td>0.000000</td>\n",
       "      <td>0.065049</td>\n",
       "      <td>0.907541</td>\n",
       "    </tr>\n",
       "    <tr>\n",
       "      <th>25%</th>\n",
       "      <td>1.143461</td>\n",
       "      <td>1.268119</td>\n",
       "      <td>218.918723</td>\n",
       "      <td>1048.000000</td>\n",
       "      <td>93.50000</td>\n",
       "      <td>0.000000</td>\n",
       "      <td>0.251230</td>\n",
       "      <td>1.961258</td>\n",
       "    </tr>\n",
       "    <tr>\n",
       "      <th>50%</th>\n",
       "      <td>5.159363</td>\n",
       "      <td>2.156878</td>\n",
       "      <td>299.593935</td>\n",
       "      <td>1701.000000</td>\n",
       "      <td>155.50000</td>\n",
       "      <td>91.250255</td>\n",
       "      <td>0.472978</td>\n",
       "      <td>3.166246</td>\n",
       "    </tr>\n",
       "    <tr>\n",
       "      <th>75%</th>\n",
       "      <td>17.597058</td>\n",
       "      <td>3.684183</td>\n",
       "      <td>437.186158</td>\n",
       "      <td>2928.500000</td>\n",
       "      <td>203.00000</td>\n",
       "      <td>166.451557</td>\n",
       "      <td>0.877861</td>\n",
       "      <td>5.375659</td>\n",
       "    </tr>\n",
       "    <tr>\n",
       "      <th>max</th>\n",
       "      <td>250.701118</td>\n",
       "      <td>15.891788</td>\n",
       "      <td>2931.856400</td>\n",
       "      <td>47059.000000</td>\n",
       "      <td>341.50000</td>\n",
       "      <td>245.687470</td>\n",
       "      <td>1.701823</td>\n",
       "      <td>19.831951</td>\n",
       "    </tr>\n",
       "  </tbody>\n",
       "</table>\n",
       "</div>"
      ],
      "text/plain": [
       "          Kurtosis     Skewness          Std         Range      Median  \\\n",
       "count  4000.000000  4000.000000  4000.000000   4000.000000  4000.00000   \n",
       "mean     21.823689     3.123951   380.995970   2977.834250   147.57975   \n",
       "std      44.873113     3.051797   284.810485   4178.229483    72.19171   \n",
       "min      -1.643958    -0.924079    72.596810    356.000000     0.00000   \n",
       "25%       1.143461     1.268119   218.918723   1048.000000    93.50000   \n",
       "50%       5.159363     2.156878   299.593935   1701.000000   155.50000   \n",
       "75%      17.597058     3.684183   437.186158   2928.500000   203.00000   \n",
       "max     250.701118    15.891788  2931.856400  47059.000000   341.50000   \n",
       "\n",
       "       Geometric_Mean     Mobility   Complexity  \n",
       "count     4000.000000  4000.000000  4000.000000  \n",
       "mean        85.545011     0.574587     4.168849  \n",
       "std         84.347220     0.375456     3.080335  \n",
       "min          0.000000     0.065049     0.907541  \n",
       "25%          0.000000     0.251230     1.961258  \n",
       "50%         91.250255     0.472978     3.166246  \n",
       "75%        166.451557     0.877861     5.375659  \n",
       "max        245.687470     1.701823    19.831951  "
      ]
     },
     "execution_count": 9,
     "metadata": {},
     "output_type": "execute_result"
    }
   ],
   "source": [
    "G1X_train.describe()"
   ]
  },
  {
   "cell_type": "code",
   "execution_count": 10,
   "metadata": {},
   "outputs": [
    {
     "data": {
      "text/html": [
       "<div>\n",
       "<style scoped>\n",
       "    .dataframe tbody tr th:only-of-type {\n",
       "        vertical-align: middle;\n",
       "    }\n",
       "\n",
       "    .dataframe tbody tr th {\n",
       "        vertical-align: top;\n",
       "    }\n",
       "\n",
       "    .dataframe thead th {\n",
       "        text-align: right;\n",
       "    }\n",
       "</style>\n",
       "<table border=\"1\" class=\"dataframe\">\n",
       "  <thead>\n",
       "    <tr style=\"text-align: right;\">\n",
       "      <th></th>\n",
       "      <th>Kurtosis</th>\n",
       "    </tr>\n",
       "  </thead>\n",
       "  <tbody>\n",
       "    <tr>\n",
       "      <th>count</th>\n",
       "      <td>4000.000000</td>\n",
       "    </tr>\n",
       "    <tr>\n",
       "      <th>mean</th>\n",
       "      <td>24.823689</td>\n",
       "    </tr>\n",
       "    <tr>\n",
       "      <th>std</th>\n",
       "      <td>44.873113</td>\n",
       "    </tr>\n",
       "    <tr>\n",
       "      <th>min</th>\n",
       "      <td>1.356042</td>\n",
       "    </tr>\n",
       "    <tr>\n",
       "      <th>25%</th>\n",
       "      <td>4.143461</td>\n",
       "    </tr>\n",
       "    <tr>\n",
       "      <th>50%</th>\n",
       "      <td>8.159363</td>\n",
       "    </tr>\n",
       "    <tr>\n",
       "      <th>75%</th>\n",
       "      <td>20.597057</td>\n",
       "    </tr>\n",
       "    <tr>\n",
       "      <th>max</th>\n",
       "      <td>253.701130</td>\n",
       "    </tr>\n",
       "  </tbody>\n",
       "</table>\n",
       "</div>"
      ],
      "text/plain": [
       "          Kurtosis\n",
       "count  4000.000000\n",
       "mean     24.823689\n",
       "std      44.873113\n",
       "min       1.356042\n",
       "25%       4.143461\n",
       "50%       8.159363\n",
       "75%      20.597057\n",
       "max     253.701130"
      ]
     },
     "execution_count": 10,
     "metadata": {},
     "output_type": "execute_result"
    }
   ],
   "source": [
    "G2X_train.describe()"
   ]
  },
  {
   "cell_type": "markdown",
   "metadata": {},
   "source": [
    "##### Dataset looks homogeneous"
   ]
  },
  {
   "cell_type": "markdown",
   "metadata": {},
   "source": [
    "#### Standard scalling"
   ]
  },
  {
   "cell_type": "code",
   "execution_count": 11,
   "metadata": {},
   "outputs": [],
   "source": [
    "scG1=StandardScaler()\n",
    "sc_Garcia1X_train=pd.DataFrame(scG1.fit_transform(G1X_train),columns=G1Labels)\n",
    "sc_Garcia1X_test=pd.DataFrame(scG1.transform(G1X_test),columns=G1Labels)\n",
    "\n",
    "scG2=StandardScaler()\n",
    "sc_Garcia2X_train=pd.DataFrame(scG2.fit_transform(G2X_train),columns=G2Labels)\n",
    "sc_Garcia2X_test=pd.DataFrame(scG2.transform(G2X_test),columns=G2Labels)\n",
    "\n",
    "scM=StandardScaler()\n",
    "sc_MirandaX_train=pd.DataFrame(scM.fit_transform(MirandaX_train),columns=MirandaLabels)\n",
    "sc_MirandaX_test=pd.DataFrame(scM.transform(MirandaX_test),columns=MirandaLabels)"
   ]
  },
  {
   "cell_type": "markdown",
   "metadata": {
    "tags": []
   },
   "source": [
    "#### Recursive Feature Elimination"
   ]
  },
  {
   "cell_type": "code",
   "execution_count": 12,
   "metadata": {},
   "outputs": [
    {
     "name": "stdout",
     "output_type": "stream",
     "text": [
      "[7 4 3 2 5 8 1 6]\n",
      "García's Dataset V1\n",
      "Ordered from most to less desired variables:\n"
     ]
    },
    {
     "data": {
      "text/plain": [
       "['Mobility',\n",
       " 'Range',\n",
       " 'Std',\n",
       " 'Skewness',\n",
       " 'Median',\n",
       " 'Complexity',\n",
       " 'Kurtosis',\n",
       " 'Geometric_Mean']"
      ]
     },
     "execution_count": 12,
     "metadata": {},
     "output_type": "execute_result"
    }
   ],
   "source": [
    "from sklearn.feature_selection import RFE\n",
    "from sklearn.linear_model import LogisticRegression\n",
    "logregRFEG1 = LogisticRegression()\n",
    "rfe = RFE(logregRFEG1, n_features_to_select=1)\n",
    "rfe = rfe.fit(sc_Garcia1X_train,G1Y_train)\n",
    "print(rfe.ranking_)\n",
    "print(\"García's Dataset V1\")\n",
    "print(\"Ordered from most to less desired variables:\")\n",
    "desiredVariables=G1Labels\n",
    "sortOrder=rfe.ranking_\n",
    "sorted(desiredVariables,key=lambda pos: sortOrder[desiredVariables.index(pos)])"
   ]
  },
  {
   "cell_type": "code",
   "execution_count": 13,
   "metadata": {},
   "outputs": [
    {
     "name": "stdout",
     "output_type": "stream",
     "text": [
      "[6 4 3 2 8 9 5 1 7]\n",
      "García's Dataset V2\n",
      "Ordered from most to less desired variables:\n"
     ]
    },
    {
     "data": {
      "text/plain": [
       "['Mobility',\n",
       " 'Range',\n",
       " 'Std',\n",
       " 'Skewness',\n",
       " 'Epsilon_Geomean',\n",
       " 'Kurtosis',\n",
       " 'Complexity',\n",
       " 'Median',\n",
       " 'Garcia_Geomean']"
      ]
     },
     "execution_count": 13,
     "metadata": {},
     "output_type": "execute_result"
    }
   ],
   "source": [
    "from sklearn.feature_selection import RFE\n",
    "from sklearn.linear_model import LogisticRegression\n",
    "logregRFEG2 = LogisticRegression()\n",
    "rfe = RFE(logregRFEG2, n_features_to_select=1)\n",
    "rfe = rfe.fit(sc_Garcia2X_train,G2Y_train)\n",
    "print(rfe.ranking_)\n",
    "print(\"García's Dataset V2\")\n",
    "print(\"Ordered from most to less desired variables:\")\n",
    "desiredVariables=G2Labels\n",
    "sortOrder=rfe.ranking_\n",
    "sorted(desiredVariables,key=lambda pos: sortOrder[desiredVariables.index(pos)])"
   ]
  },
  {
   "cell_type": "code",
   "execution_count": 14,
   "metadata": {},
   "outputs": [
    {
     "name": "stdout",
     "output_type": "stream",
     "text": [
      "[4 3 5 6 7 8 2 1]\n",
      "Miranda's Dataset\n",
      "Ordered from most to less desired variables:\n"
     ]
    },
    {
     "data": {
      "text/plain": [
       "['Complexity',\n",
       " 'Mobility',\n",
       " 'Skewness',\n",
       " 'Kurtosis',\n",
       " 'Std',\n",
       " 'Range',\n",
       " 'Median',\n",
       " 'Geometric_Mean']"
      ]
     },
     "execution_count": 14,
     "metadata": {},
     "output_type": "execute_result"
    }
   ],
   "source": [
    "from sklearn.feature_selection import RFE\n",
    "from sklearn.linear_model import LogisticRegression\n",
    "logregRFEM = LogisticRegression()\n",
    "rfe = RFE(logregRFEM, n_features_to_select=1)\n",
    "rfe = rfe.fit(sc_MirandaX_train,MirandaY_train)\n",
    "print(rfe.ranking_)\n",
    "print(\"Miranda's Dataset\")\n",
    "print(\"Ordered from most to less desired variables:\")\n",
    "desiredVariables=MirandaLabels\n",
    "sortOrder=rfe.ranking_\n",
    "sorted(desiredVariables,key=lambda pos: sortOrder[desiredVariables.index(pos)])"
   ]
  },
  {
   "cell_type": "markdown",
   "metadata": {},
   "source": [
    "RFE Shows prefferences for the variables to be predictors, meaning it to be ordered depending on de predictor-likability of a variable. Proving the anterior analysis, "
   ]
  },
  {
   "cell_type": "markdown",
   "metadata": {
    "tags": []
   },
   "source": [
    "### Modelling"
   ]
  },
  {
   "cell_type": "code",
   "execution_count": 15,
   "metadata": {},
   "outputs": [
    {
     "name": "stdout",
     "output_type": "stream",
     "text": [
      "Optimization terminated successfully.\n",
      "         Current function value: 0.264509\n",
      "         Iterations 8\n",
      "                         Results: Logit\n",
      "=================================================================\n",
      "Model:              Logit            Pseudo R-squared: 0.618     \n",
      "Dependent Variable: y                AIC:              29640.4288\n",
      "Date:               2021-09-07 10:38 BIC:              29711.8935\n",
      "No. Observations:   55999            Log-Likelihood:   -14812.   \n",
      "Df Model:           7                LL-Null:          -38816.   \n",
      "Df Residuals:       55991            LLR p-value:      0.0000    \n",
      "Converged:          1.0000           Scale:            1.0000    \n",
      "No. Iterations:     8.0000                                       \n",
      "-----------------------------------------------------------------\n",
      "                  Coef.  Std.Err.    z     P>|z|   [0.025  0.975]\n",
      "-----------------------------------------------------------------\n",
      "Kurtosis         -0.7686   0.0737 -10.4343 0.0000 -0.9129 -0.6242\n",
      "Skewness          1.0767   0.0673  15.9897 0.0000  0.9447  1.2087\n",
      "Std               0.8639   0.0776  11.1363 0.0000  0.7119  1.0159\n",
      "Range            -0.8228   0.0818 -10.0534 0.0000 -0.9832 -0.6624\n",
      "Median            0.0659   0.0273   2.4118 0.0159  0.0123  0.1194\n",
      "Geometric_Mean   -0.0247   0.0146  -1.6901 0.0910 -0.0534  0.0039\n",
      "Mobility          1.7661   0.0294  60.0734 0.0000  1.7085  1.8237\n",
      "Complexity        2.5121   0.0291  86.4431 0.0000  2.4551  2.5690\n",
      "=================================================================\n",
      "\n"
     ]
    }
   ],
   "source": [
    "import statsmodels.api as sm\n",
    "logit_model=sm.Logit(MirandaY_train,sc_MirandaX_train)\n",
    "result=logit_model.fit()\n",
    "print(result.summary2())"
   ]
  },
  {
   "cell_type": "code",
   "execution_count": 16,
   "metadata": {
    "tags": []
   },
   "outputs": [
    {
     "name": "stdout",
     "output_type": "stream",
     "text": [
      "Optimization terminated successfully.\n",
      "         Current function value: 0.340509\n",
      "         Iterations 7\n",
      "                         Results: Logit\n",
      "================================================================\n",
      "Model:              Logit            Pseudo R-squared: 0.509    \n",
      "Dependent Variable: y                AIC:              2740.0695\n",
      "Date:               2021-09-07 10:38 BIC:              2790.4219\n",
      "No. Observations:   4000             Log-Likelihood:   -1362.0  \n",
      "Df Model:           7                LL-Null:          -2772.6  \n",
      "Df Residuals:       3992             LLR p-value:      0.0000   \n",
      "Converged:          1.0000           Scale:            1.0000   \n",
      "No. Iterations:     7.0000                                      \n",
      "----------------------------------------------------------------\n",
      "                  Coef.  Std.Err.    z    P>|z|   [0.025  0.975]\n",
      "----------------------------------------------------------------\n",
      "Kurtosis          0.0271   0.2484  0.1090 0.9132 -0.4597  0.5138\n",
      "Skewness         -0.9426   0.2328 -4.0493 0.0001 -1.3988 -0.4863\n",
      "Std               0.8944   0.2739  3.2650 0.0011  0.3575  1.4313\n",
      "Range            -1.0033   0.2883 -3.4804 0.0005 -1.5684 -0.4383\n",
      "Median           -0.3276   0.0891 -3.6752 0.0002 -0.5022 -0.1529\n",
      "Geometric_Mean   -0.1533   0.0598 -2.5621 0.0104 -0.2706 -0.0360\n",
      "Mobility          2.8139   0.1024 27.4678 0.0000  2.6131  3.0147\n",
      "Complexity       -0.4581   0.1134 -4.0381 0.0001 -0.6804 -0.2357\n",
      "================================================================\n",
      "\n"
     ]
    }
   ],
   "source": [
    "import statsmodels.api as sm\n",
    "logit_modelG1=sm.Logit(G1Y_train,sc_Garcia1X_train)\n",
    "result=logit_modelG1.fit()\n",
    "print(result.summary2())"
   ]
  },
  {
   "cell_type": "code",
   "execution_count": 17,
   "metadata": {},
   "outputs": [
    {
     "name": "stdout",
     "output_type": "stream",
     "text": [
      "Optimization terminated successfully.\n",
      "         Current function value: 0.338752\n",
      "         Iterations 7\n",
      "                         Results: Logit\n",
      "================================================================\n",
      "Model:              Logit            Pseudo R-squared: 0.511    \n",
      "Dependent Variable: y                AIC:              2728.0122\n",
      "Date:               2021-09-07 10:38 BIC:              2784.6586\n",
      "No. Observations:   4000             Log-Likelihood:   -1355.0  \n",
      "Df Model:           8                LL-Null:          -2772.6  \n",
      "Df Residuals:       3991             LLR p-value:      0.0000   \n",
      "Converged:          1.0000           Scale:            1.0000   \n",
      "No. Iterations:     7.0000                                      \n",
      "----------------------------------------------------------------\n",
      "                  Coef.  Std.Err.    z    P>|z|   [0.025  0.975]\n",
      "----------------------------------------------------------------\n",
      "Kurtosis         -0.0594   0.2533 -0.2345 0.8146 -0.5558  0.4370\n",
      "Skewness         -0.8707   0.2367 -3.6783 0.0002 -1.3347 -0.4068\n",
      "Std               0.6389   0.2932  2.1786 0.0294  0.0641  1.2136\n",
      "Range            -0.7989   0.3018 -2.6471 0.0081 -1.3904 -0.2074\n",
      "Median           -0.1917   0.0963 -1.9905 0.0465 -0.3805 -0.0029\n",
      "Garcia_Geomean   -0.1136   0.0485 -2.3397 0.0193 -0.2087 -0.0184\n",
      "Epsilon_Geomean  -0.2975   0.0922 -3.2275 0.0012 -0.4782 -0.1168\n",
      "Mobility          2.8233   0.1029 27.4354 0.0000  2.6216  3.0250\n",
      "Complexity       -0.4705   0.1138 -4.1331 0.0000 -0.6936 -0.2474\n",
      "================================================================\n",
      "\n"
     ]
    }
   ],
   "source": [
    "import statsmodels.api as sm\n",
    "logit_modelG2=sm.Logit(G2Y_train,sc_Garcia2X_train)\n",
    "result=logit_modelG2.fit()\n",
    "print(result.summary2())"
   ]
  },
  {
   "cell_type": "code",
   "execution_count": 18,
   "metadata": {
    "tags": []
   },
   "outputs": [
    {
     "name": "stdout",
     "output_type": "stream",
     "text": [
      "Accuracy of logistic regression classifier on test set: 0.90\n"
     ]
    }
   ],
   "source": [
    "from sklearn.linear_model import LogisticRegression\n",
    "from sklearn import metrics\n",
    "#X_train, X_test, y_train, y_test = train_test_split(sc.fit_transform(newX), y, test_size=0.2, random_state=0)\n",
    "logregMiranda = LogisticRegression()\n",
    "logregMiranda.fit(sc_MirandaX_train, MirandaY_train)\n",
    "y_predMiranda = logregMiranda.predict(sc_MirandaX_test)\n",
    "print('Accuracy of logistic regression classifier on test set: {:.2f}'.format(logregMiranda.score(sc_MirandaX_test, MirandaY_test)))"
   ]
  },
  {
   "cell_type": "code",
   "execution_count": 19,
   "metadata": {
    "tags": []
   },
   "outputs": [
    {
     "name": "stdout",
     "output_type": "stream",
     "text": [
      "Accuracy of logistic regression classifier on test set: 0.86\n",
      "0.8571428571428571\n"
     ]
    }
   ],
   "source": [
    "logregGarcia1 = LogisticRegression()\n",
    "logregGarcia1.fit(sc_Garcia1X_train, G1Y_train)\n",
    "y_predGarcia1 = logregGarcia1.predict(sc_Garcia1X_test)\n",
    "print('Accuracy of logistic regression classifier on test set: {:.2f}'.format(logregGarcia1.score(sc_Garcia1X_test, G1Y_test)))\n",
    "print(metrics.f1_score(G1Y_test,y_predGarcia1))"
   ]
  },
  {
   "cell_type": "code",
   "execution_count": 20,
   "metadata": {},
   "outputs": [
    {
     "name": "stdout",
     "output_type": "stream",
     "text": [
      "Accuracy of logistic regression classifier on test set: 0.86\n",
      "0.8553590010405827\n"
     ]
    }
   ],
   "source": [
    "logregGarcia2 = LogisticRegression()\n",
    "logregGarcia2.fit(sc_Garcia2X_train, G2Y_train)\n",
    "y_predGarcia2 = logregGarcia2.predict(sc_Garcia2X_test)\n",
    "print('Accuracy of logistic regression classifier on test set: {:.2f}'.format(logregGarcia2.score(sc_Garcia2X_test, G2Y_test)))\n",
    "print(metrics.f1_score(G2Y_test,y_predGarcia2))"
   ]
  },
  {
   "cell_type": "code",
   "execution_count": 21,
   "metadata": {},
   "outputs": [],
   "source": [
    "from itertools import chain, combinations\n",
    "from sklearn.model_selection import cross_val_score\n",
    "import copy\n",
    "def best_subset_cv(estimator, X, Y, labels,cv=3):\n",
    "    n_features = X.shape[1]\n",
    "    subsets = chain.from_iterable([combinations(labels, k + 1) for k in range(n_features)])\n",
    "    best_score = -np.inf\n",
    "    best_subset = None\n",
    "    for subset in subsets:\n",
    "        estimatorCopy=copy.copy(estimator)\n",
    "        score = cross_val_score(estimatorCopy, X.loc[:, list(subset)], Y, cv=cv).mean()\n",
    "        if score > best_score:\n",
    "            best_score, best_subset = score, subset\n",
    "\n",
    "    return best_subset, best_score"
   ]
  },
  {
   "cell_type": "code",
   "execution_count": 22,
   "metadata": {},
   "outputs": [
    {
     "name": "stdout",
     "output_type": "stream",
     "text": [
      "Miranda\n"
     ]
    }
   ],
   "source": [
    "logregBSM = LogisticRegression()\n",
    "subM, scoM=best_subset_cv(logregBSM,sc_MirandaX_train,MirandaY_train,MirandaLabels)\n",
    "print(\"Miranda\")"
   ]
  },
  {
   "cell_type": "code",
   "execution_count": 23,
   "metadata": {},
   "outputs": [
    {
     "data": {
      "text/plain": [
       "(('Skewness', 'Geometric_Mean', 'Complexity'), 0.8934098557840381)"
      ]
     },
     "execution_count": 23,
     "metadata": {},
     "output_type": "execute_result"
    }
   ],
   "source": [
    "subM, scoM"
   ]
  },
  {
   "cell_type": "code",
   "execution_count": 24,
   "metadata": {},
   "outputs": [
    {
     "name": "stdout",
     "output_type": "stream",
     "text": [
      "García V1\n"
     ]
    }
   ],
   "source": [
    "logregBSG1 = LogisticRegression()\n",
    "subG1, scoG1=best_subset_cv(logregBSG1,sc_Garcia1X_train,G1Y_train,G1Labels)\n",
    "print(\"García V1\")"
   ]
  },
  {
   "cell_type": "code",
   "execution_count": 25,
   "metadata": {},
   "outputs": [
    {
     "data": {
      "text/plain": [
       "(('Skewness',\n",
       "  'Std',\n",
       "  'Range',\n",
       "  'Median',\n",
       "  'Geometric_Mean',\n",
       "  'Mobility',\n",
       "  'Complexity'),\n",
       " 0.830550216264711)"
      ]
     },
     "execution_count": 25,
     "metadata": {},
     "output_type": "execute_result"
    }
   ],
   "source": [
    "subG1, scoG1"
   ]
  },
  {
   "cell_type": "code",
   "execution_count": 26,
   "metadata": {},
   "outputs": [
    {
     "name": "stdout",
     "output_type": "stream",
     "text": [
      "García V2\n"
     ]
    }
   ],
   "source": [
    "logregBSG2 = LogisticRegression()\n",
    "subG2, scoG2=best_subset_cv(logregBSG2,sc_Garcia2X_train,G2Y_train,G2Labels)\n",
    "print(\"García V2\")"
   ]
  },
  {
   "cell_type": "code",
   "execution_count": 27,
   "metadata": {},
   "outputs": [
    {
     "data": {
      "text/plain": [
       "(('Skewness',\n",
       "  'Std',\n",
       "  'Range',\n",
       "  'Median',\n",
       "  'Garcia_Geomean',\n",
       "  'Epsilon_Geomean',\n",
       "  'Mobility',\n",
       "  'Complexity'),\n",
       " 0.8333003415771484)"
      ]
     },
     "execution_count": 27,
     "metadata": {},
     "output_type": "execute_result"
    }
   ],
   "source": [
    "subG2, scoG2"
   ]
  },
  {
   "cell_type": "code",
   "execution_count": 28,
   "metadata": {},
   "outputs": [
    {
     "data": {
      "image/png": "[encoded data removed]",
      "text/plain": [
       "<Figure size 1100x900 with 2 Axes>"
      ]
     },
     "metadata": {},
     "output_type": "display_data"
    }
   ],
   "source": [
    "import seaborn as sns\n",
    "sns.set_theme(style=\"dark\")\n",
    "corr = sc_MirandaX_train.corr()\n",
    "f, ax = plt.subplots(figsize=(11, 9))\n",
    "cmap = sns.diverging_palette(230, 20, as_cmap=True)\n",
    "ax.tick_params(axis='x', rotation=90)\n",
    "# Draw the heatmap with the mask and correct aspect ratio\n",
    "sns.heatmap(corr, cmap=cmap, vmax=.3, center=0,\n",
    "            square=True, linewidths=.5, cbar_kws={\"shrink\": .5}).set_title(\"Miranda's correlation matrix\")\n",
    "plt.show()"
   ]
  },
  {
   "cell_type": "code",
   "execution_count": 29,
   "metadata": {},
   "outputs": [
    {
     "data": {
      "image/png": "[encoded data removed]",
      "text/plain": [
       "<Figure size 1100x900 with 2 Axes>"
      ]
     },
     "metadata": {},
     "output_type": "display_data"
    }
   ],
   "source": [
    "sns.set_theme(style=\"dark\")\n",
    "corr = sc_Garcia1X_train.corr()\n",
    "f, ax = plt.subplots(figsize=(11, 9))\n",
    "cmap = sns.diverging_palette(230, 20, as_cmap=True)\n",
    "ax.tick_params(axis='x', rotation=90)\n",
    "# Draw the heatmap with the mask and correct aspect ratio\n",
    "sns.heatmap(corr, cmap=cmap, vmax=.3, center=0,\n",
    "            square=True, linewidths=.5, cbar_kws={\"shrink\": .5}).set_title(\"Garcías's V1 correlation matrix\")\n",
    "plt.show()"
   ]
  },
  {
   "cell_type": "code",
   "execution_count": 30,
   "metadata": {},
   "outputs": [
    {
     "data": {
      "image/png": "[encoded data removed]",
      "text/plain": [
       "<Figure size 1100x900 with 2 Axes>"
      ]
     },
     "metadata": {},
     "output_type": "display_data"
    }
   ],
   "source": [
    "sns.set_theme(style=\"dark\")\n",
    "corr = sc_Garcia2X_train.corr()\n",
    "f, ax = plt.subplots(figsize=(11, 9))\n",
    "cmap = sns.diverging_palette(230, 20, as_cmap=True)\n",
    "ax.tick_params(axis='x', rotation=90)\n",
    "# Draw the heatmap with the mask and correct aspect ratio\n",
    "sns.heatmap(corr, cmap=cmap, vmax=.3, center=0,\n",
    "            square=True, linewidths=.5, cbar_kws={\"shrink\": .5}).set_title(\"Garcías's V2 correlation matrix\")\n",
    "plt.show()"
   ]
  },
  {
   "cell_type": "code",
   "execution_count": 66,
   "metadata": {},
   "outputs": [],
   "source": [
    "columns=x.columns.values"
   ]
  },
  {
   "cell_type": "code",
   "execution_count": 41,
   "metadata": {},
   "outputs": [],
   "source": [
    "MiranData={MirandaLabels[i]:logregMiranda.coef_[0][i] for i in range(len(MirandaLabels))}"
   ]
  },
  {
   "cell_type": "code",
   "execution_count": 46,
   "metadata": {},
   "outputs": [
    {
     "data": {
      "text/plain": [
       "dict_values([-0.8207279951288443, 1.2210303130389784, 0.7769149082077331, -0.7159139235890969, 0.06174322051910646, -0.024454079362701976, 1.644385178923032, 2.612464126278875])"
      ]
     },
     "execution_count": 46,
     "metadata": {},
     "output_type": "execute_result"
    }
   ],
   "source": [
    "MiranData.values()"
   ]
  },
  {
   "cell_type": "code",
   "execution_count": 61,
   "metadata": {},
   "outputs": [
    {
     "data": {
      "image/png": "[encoded data removed]",
      "text/plain": [
       "<Figure size 600x600 with 1 Axes>"
      ]
     },
     "metadata": {},
     "output_type": "display_data"
    }
   ],
   "source": [
    "f, ax = plt.subplots(figsize=(6, 6))\n",
    "sns.barplot(y=MirandaLabels,x=logregMiranda.coef_[0])\n",
    "ax.set( xlabel=\"Weight\",\n",
    "      ylabel =\"Attributes\", title=\"Weights for Miranda Attributes in Miranda Dataset\")\n",
    "sns.despine(left=True, bottom=True)\n",
    "plt.show()"
   ]
  },
  {
   "cell_type": "code",
   "execution_count": 62,
   "metadata": {},
   "outputs": [
    {
     "data": {
      "image/png": "[encoded data removed]",
      "text/plain": [
       "<Figure size 600x600 with 1 Axes>"
      ]
     },
     "metadata": {},
     "output_type": "display_data"
    }
   ],
   "source": [
    "f, ax = plt.subplots(figsize=(6, 6))\n",
    "sns.barplot(y=G1Labels,x=logregGarcia1.coef_[0])\n",
    "ax.set( xlabel=\"Weight\",\n",
    "      ylabel =\"Attributes\", title=\"Weights for Miranda Attributes in Miranda Subset\")\n",
    "sns.despine(left=True, bottom=True)\n",
    "plt.show()"
   ]
  },
  {
   "cell_type": "code",
   "execution_count": 63,
   "metadata": {},
   "outputs": [
    {
     "data": {
      "image/png": "[encoded data removed]",
      "text/plain": [
       "<Figure size 600x600 with 1 Axes>"
      ]
     },
     "metadata": {},
     "output_type": "display_data"
    }
   ],
   "source": [
    "f, ax = plt.subplots(figsize=(6, 6))\n",
    "sns.barplot(y=G2Labels,x=logregGarcia2.coef_[0])\n",
    "ax.set( xlabel=\"Weight\",\n",
    "      ylabel =\"Attributes\", title=\"Weights for García Attributes in Miranda subset\")\n",
    "sns.despine(left=True, bottom=True)\n",
    "plt.show()"
   ]
  },
  {
   "cell_type": "code",
   "execution_count": 64,
   "metadata": {},
   "outputs": [
    {
     "data": {
      "text/plain": [
       "{'C': 1.0,\n",
       " 'class_weight': None,\n",
       " 'dual': False,\n",
       " 'fit_intercept': True,\n",
       " 'intercept_scaling': 1,\n",
       " 'l1_ratio': None,\n",
       " 'max_iter': 100,\n",
       " 'multi_class': 'auto',\n",
       " 'n_jobs': None,\n",
       " 'penalty': 'l2',\n",
       " 'random_state': None,\n",
       " 'solver': 'lbfgs',\n",
       " 'tol': 0.0001,\n",
       " 'verbose': 0,\n",
       " 'warm_start': False}"
      ]
     },
     "execution_count": 64,
     "metadata": {},
     "output_type": "execute_result"
    }
   ],
   "source": [
    "logregGarcia2.get_params()"
   ]
  },
  {
   "cell_type": "code",
   "execution_count": 65,
   "metadata": {},
   "outputs": [
    {
     "data": {
      "text/plain": [
       "{'C': 1.0,\n",
       " 'class_weight': None,\n",
       " 'dual': False,\n",
       " 'fit_intercept': True,\n",
       " 'intercept_scaling': 1,\n",
       " 'l1_ratio': None,\n",
       " 'max_iter': 100,\n",
       " 'multi_class': 'auto',\n",
       " 'n_jobs': None,\n",
       " 'penalty': 'l2',\n",
       " 'random_state': None,\n",
       " 'solver': 'lbfgs',\n",
       " 'tol': 0.0001,\n",
       " 'verbose': 0,\n",
       " 'warm_start': False}"
      ]
     },
     "execution_count": 65,
     "metadata": {},
     "output_type": "execute_result"
    }
   ],
   "source": [
    "logregMiranda.get_params()"
   ]
  }
 ],
 "metadata": {
  "kernelspec": {
   "display_name": "Python 3",
   "language": "python",
   "name": "python3"
  },
  "language_info": {
   "codemirror_mode": {
    "name": "ipython",
    "version": 3
   },
   "file_extension": ".py",
   "mimetype": "text/x-python",
   "name": "python",
   "nbconvert_exporter": "python",
   "pygments_lexer": "ipython3",
   "version": "3.8.11"
  }
 },
 "nbformat": 4,
 "nbformat_minor": 4
}
