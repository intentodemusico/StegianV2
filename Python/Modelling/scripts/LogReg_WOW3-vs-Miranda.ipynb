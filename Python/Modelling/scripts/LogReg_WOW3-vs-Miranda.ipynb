{
 "cells": [
  {
   "cell_type": "markdown",
   "metadata": {},
   "source": [
    "# LogReg WOW 0.3 vs Miranda Attributes"
   ]
  },
  {
   "cell_type": "code",
   "execution_count": 1,
   "metadata": {},
   "outputs": [],
   "source": [
    "from __future__ import absolute_import, division, print_function, unicode_literals\n",
    "import os, random, time, MirandaAttributes, cv2\n",
    "import tensorflow as tf\n",
    "import pandas as pd\n",
    "import numpy as np\n",
    "from sklearn import preprocessing\n",
    "import seaborn as sns\n",
    "import matplotlib.image as mpimg\n",
    "import matplotlib.pyplot as plt\n",
    "from sklearn.linear_model import LogisticRegression\n",
    "from sklearn.model_selection import train_test_split"
   ]
  },
  {
   "cell_type": "code",
   "execution_count": 2,
   "metadata": {},
   "outputs": [
    {
     "name": "stdout",
     "output_type": "stream",
     "text": [
      "TensorFlow version: 2.3.0\n",
      "Eager execution: True\n"
     ]
    }
   ],
   "source": [
    "print(\"TensorFlow version: {}\".format(tf.__version__))\n",
    "print(\"Eager execution: {}\".format(tf.executing_eagerly()))\n",
    "\n",
    "#Miranda dataset\n",
    "train_dataset_url = \"https://raw.githubusercontent.com/intentodemusico/StegianV2/master/DatasetMiranda/features_train_70000.csv\"\n",
    "test_dataset_url = \"https://raw.githubusercontent.com/intentodemusico/StegianV2/master/DatasetMiranda/features_test_70000.csv\""
   ]
  },
  {
   "cell_type": "code",
   "execution_count": 3,
   "metadata": {},
   "outputs": [],
   "source": [
    "#%% Importing the dataset\n",
    "MirandaLabels=['Kurtosis', 'Skewness', 'Std', 'Range', 'Median', 'Geometric_Mean', 'Mobility', 'Complexity']\n",
    "trainDataset = pd.read_csv(train_dataset_url)\n",
    "MirandaX_train = trainDataset.iloc[:, :-1].values\n",
    "MirandaY_train = trainDataset.iloc[:, -1].values\n",
    "\n",
    "testDataset = pd.read_csv(test_dataset_url)\n",
    "MirandaX_test = testDataset.iloc[:, :-1].values\n",
    "MirandaY_test = testDataset.iloc[:, -1].values"
   ]
  },
  {
   "cell_type": "code",
   "execution_count": 4,
   "metadata": {},
   "outputs": [
    {
     "data": {
      "text/plain": [
       "array([[1.502380e+01, 2.910000e+00, 2.747740e+02, ..., 1.604439e+02,\n",
       "        1.477400e-01, 8.579000e-01],\n",
       "       [2.801000e+00, 9.223200e-01, 2.357319e+02, ..., 1.453054e+02,\n",
       "        1.200900e-01, 1.298700e+00],\n",
       "       [3.988500e+00, 8.873200e-01, 1.745089e+02, ..., 1.826219e+02,\n",
       "        2.003400e-01, 1.596500e+00],\n",
       "       ...,\n",
       "       [7.551800e+00, 2.032900e+00, 2.796423e+02, ..., 1.376493e+02,\n",
       "        9.355000e-01, 1.760300e+00],\n",
       "       [3.402200e+01, 4.804000e+00, 4.167042e+02, ..., 1.391423e+02,\n",
       "        9.767900e-01, 1.521500e+00],\n",
       "       [2.003410e+01, 3.686400e+00, 4.570151e+02, ..., 8.242910e+01,\n",
       "        9.437100e-01, 1.696200e+00]])"
      ]
     },
     "execution_count": 4,
     "metadata": {},
     "output_type": "execute_result"
    }
   ],
   "source": [
    "MirandaX_train"
   ]
  },
  {
   "cell_type": "code",
   "execution_count": 5,
   "metadata": {
    "tags": []
   },
   "outputs": [],
   "source": [
    "#%% Feature Scaling\n",
    "from sklearn.preprocessing import StandardScaler"
   ]
  },
  {
   "cell_type": "code",
   "execution_count": 6,
   "metadata": {},
   "outputs": [
    {
     "data": {
      "text/plain": [
       "['Kurtosis',\n",
       " 'Skewness',\n",
       " 'Std',\n",
       " 'Range',\n",
       " 'Median',\n",
       " 'Geometric_Mean',\n",
       " 'Mobility',\n",
       " 'Complexity']"
      ]
     },
     "execution_count": 6,
     "metadata": {},
     "output_type": "execute_result"
    }
   ],
   "source": [
    "MirandaLabels"
   ]
  },
  {
   "cell_type": "markdown",
   "metadata": {},
   "source": [
    "## Getting x and y"
   ]
  },
  {
   "cell_type": "code",
   "execution_count": 7,
   "metadata": {},
   "outputs": [
    {
     "name": "stdout",
     "output_type": "stream",
     "text": [
      "40000\n"
     ]
    }
   ],
   "source": [
    "isStego=lambda x:1 if x[:6]==\"stego_\" else 0\n",
    "getYFromImageList=lambda x: [isStego(element) for element in x]\n",
    "folder=\"../../../Dataset/Mono/MonoSamples/WOW_5\" \n",
    "images=os.listdir(folder)\n",
    "random.shuffle(images)\n",
    "images=images\n",
    "print(len(images))"
   ]
  },
  {
   "cell_type": "code",
   "execution_count": 8,
   "metadata": {},
   "outputs": [
    {
     "name": "stdout",
     "output_type": "stream",
     "text": [
      "449.9521563053131\n"
     ]
    }
   ],
   "source": [
    "Garciay=getYFromImageList(images)\n",
    "windowSize=128\n",
    "GarciaLabels=['Kurtosis', 'Skewness', 'Std', 'Range', 'Median', 'Garcia_Gmean', 'Epsilon_Gmean', 'Mobility', 'Complexity']\n",
    "t = time.time()\n",
    "\n",
    "GarciaX=pd.DataFrame(([ MirandaAttributes.attributes( cv2.imread( os.path.abspath(os.path.join(folder, images[i]))\n",
    "                                        ) ,windowSize,True)  for i in range(len(images))] ),columns=GarciaLabels)\n",
    "elapsed = time.time() - t\n",
    "print(elapsed)\n",
    "GarciaX_train, GarciaX_test, GarciaY_train, GarciaY_test = train_test_split(GarciaX, Garciay, test_size=0.2, \n",
    "                                                                            random_state=0)"
   ]
  },
  {
   "cell_type": "markdown",
   "metadata": {},
   "source": [
    "### EDA"
   ]
  },
  {
   "cell_type": "code",
   "execution_count": 9,
   "metadata": {
    "tags": []
   },
   "outputs": [
    {
     "data": {
      "text/html": [
       "<div>\n",
       "<style scoped>\n",
       "    .dataframe tbody tr th:only-of-type {\n",
       "        vertical-align: middle;\n",
       "    }\n",
       "\n",
       "    .dataframe tbody tr th {\n",
       "        vertical-align: top;\n",
       "    }\n",
       "\n",
       "    .dataframe thead th {\n",
       "        text-align: right;\n",
       "    }\n",
       "</style>\n",
       "<table border=\"1\" class=\"dataframe\">\n",
       "  <thead>\n",
       "    <tr style=\"text-align: right;\">\n",
       "      <th></th>\n",
       "      <th>0</th>\n",
       "    </tr>\n",
       "  </thead>\n",
       "  <tbody>\n",
       "    <tr>\n",
       "      <th>count</th>\n",
       "      <td>32000.000000</td>\n",
       "    </tr>\n",
       "    <tr>\n",
       "      <th>mean</th>\n",
       "      <td>0.499625</td>\n",
       "    </tr>\n",
       "    <tr>\n",
       "      <th>std</th>\n",
       "      <td>0.500008</td>\n",
       "    </tr>\n",
       "    <tr>\n",
       "      <th>min</th>\n",
       "      <td>0.000000</td>\n",
       "    </tr>\n",
       "    <tr>\n",
       "      <th>25%</th>\n",
       "      <td>0.000000</td>\n",
       "    </tr>\n",
       "    <tr>\n",
       "      <th>50%</th>\n",
       "      <td>0.000000</td>\n",
       "    </tr>\n",
       "    <tr>\n",
       "      <th>75%</th>\n",
       "      <td>1.000000</td>\n",
       "    </tr>\n",
       "    <tr>\n",
       "      <th>max</th>\n",
       "      <td>1.000000</td>\n",
       "    </tr>\n",
       "  </tbody>\n",
       "</table>\n",
       "</div>"
      ],
      "text/plain": [
       "                  0\n",
       "count  32000.000000\n",
       "mean       0.499625\n",
       "std        0.500008\n",
       "min        0.000000\n",
       "25%        0.000000\n",
       "50%        0.000000\n",
       "75%        1.000000\n",
       "max        1.000000"
      ]
     },
     "execution_count": 9,
     "metadata": {},
     "output_type": "execute_result"
    }
   ],
   "source": [
    "pd.DataFrame(GarciaY_train).describe()"
   ]
  },
  {
   "cell_type": "code",
   "execution_count": 10,
   "metadata": {},
   "outputs": [
    {
     "data": {
      "text/plain": [
       "0    16012\n",
       "1    15988\n",
       "dtype: int64"
      ]
     },
     "execution_count": 10,
     "metadata": {},
     "output_type": "execute_result"
    }
   ],
   "source": [
    "pd.DataFrame(GarciaY_train).value_counts()"
   ]
  },
  {
   "cell_type": "code",
   "execution_count": 11,
   "metadata": {},
   "outputs": [
    {
     "data": {
      "text/html": [
       "<div>\n",
       "<style scoped>\n",
       "    .dataframe tbody tr th:only-of-type {\n",
       "        vertical-align: middle;\n",
       "    }\n",
       "\n",
       "    .dataframe tbody tr th {\n",
       "        vertical-align: top;\n",
       "    }\n",
       "\n",
       "    .dataframe thead th {\n",
       "        text-align: right;\n",
       "    }\n",
       "</style>\n",
       "<table border=\"1\" class=\"dataframe\">\n",
       "  <thead>\n",
       "    <tr style=\"text-align: right;\">\n",
       "      <th></th>\n",
       "      <th>Kurtosis</th>\n",
       "      <th>Skewness</th>\n",
       "      <th>Std</th>\n",
       "      <th>Range</th>\n",
       "      <th>Median</th>\n",
       "      <th>Garcia_Gmean</th>\n",
       "      <th>Epsilon_Gmean</th>\n",
       "      <th>Mobility</th>\n",
       "      <th>Complexity</th>\n",
       "    </tr>\n",
       "  </thead>\n",
       "  <tbody>\n",
       "    <tr>\n",
       "      <th>21370</th>\n",
       "      <td>8.660435</td>\n",
       "      <td>2.428054</td>\n",
       "      <td>110.314148</td>\n",
       "      <td>540.0</td>\n",
       "      <td>15.0</td>\n",
       "      <td>21.641233</td>\n",
       "      <td>15.765815</td>\n",
       "      <td>0.164364</td>\n",
       "      <td>6.635593</td>\n",
       "    </tr>\n",
       "    <tr>\n",
       "      <th>2470</th>\n",
       "      <td>5.554271</td>\n",
       "      <td>1.095531</td>\n",
       "      <td>44.411343</td>\n",
       "      <td>295.0</td>\n",
       "      <td>56.0</td>\n",
       "      <td>49.198143</td>\n",
       "      <td>45.818806</td>\n",
       "      <td>0.431329</td>\n",
       "      <td>3.446954</td>\n",
       "    </tr>\n",
       "    <tr>\n",
       "      <th>13767</th>\n",
       "      <td>15.161747</td>\n",
       "      <td>3.588700</td>\n",
       "      <td>197.268097</td>\n",
       "      <td>1069.0</td>\n",
       "      <td>1.0</td>\n",
       "      <td>15.793184</td>\n",
       "      <td>4.370829</td>\n",
       "      <td>0.138768</td>\n",
       "      <td>6.650173</td>\n",
       "    </tr>\n",
       "    <tr>\n",
       "      <th>13316</th>\n",
       "      <td>8.521211</td>\n",
       "      <td>2.209840</td>\n",
       "      <td>74.593170</td>\n",
       "      <td>404.0</td>\n",
       "      <td>34.0</td>\n",
       "      <td>36.003777</td>\n",
       "      <td>37.660858</td>\n",
       "      <td>0.263300</td>\n",
       "      <td>5.050054</td>\n",
       "    </tr>\n",
       "    <tr>\n",
       "      <th>26374</th>\n",
       "      <td>17.068085</td>\n",
       "      <td>3.505853</td>\n",
       "      <td>144.599442</td>\n",
       "      <td>1067.0</td>\n",
       "      <td>11.0</td>\n",
       "      <td>17.440077</td>\n",
       "      <td>16.052221</td>\n",
       "      <td>0.399644</td>\n",
       "      <td>3.198723</td>\n",
       "    </tr>\n",
       "    <tr>\n",
       "      <th>...</th>\n",
       "      <td>...</td>\n",
       "      <td>...</td>\n",
       "      <td>...</td>\n",
       "      <td>...</td>\n",
       "      <td>...</td>\n",
       "      <td>...</td>\n",
       "      <td>...</td>\n",
       "      <td>...</td>\n",
       "      <td>...</td>\n",
       "    </tr>\n",
       "    <tr>\n",
       "      <th>20757</th>\n",
       "      <td>2.399866</td>\n",
       "      <td>0.921777</td>\n",
       "      <td>69.669586</td>\n",
       "      <td>226.0</td>\n",
       "      <td>30.0</td>\n",
       "      <td>26.048437</td>\n",
       "      <td>26.966549</td>\n",
       "      <td>0.164183</td>\n",
       "      <td>10.568712</td>\n",
       "    </tr>\n",
       "    <tr>\n",
       "      <th>32103</th>\n",
       "      <td>7.515098</td>\n",
       "      <td>1.973421</td>\n",
       "      <td>78.779358</td>\n",
       "      <td>415.0</td>\n",
       "      <td>44.0</td>\n",
       "      <td>42.893974</td>\n",
       "      <td>19.962814</td>\n",
       "      <td>0.191056</td>\n",
       "      <td>7.517696</td>\n",
       "    </tr>\n",
       "    <tr>\n",
       "      <th>30403</th>\n",
       "      <td>9.536298</td>\n",
       "      <td>1.578124</td>\n",
       "      <td>29.179401</td>\n",
       "      <td>245.0</td>\n",
       "      <td>63.0</td>\n",
       "      <td>57.483582</td>\n",
       "      <td>58.643623</td>\n",
       "      <td>0.603232</td>\n",
       "      <td>2.209912</td>\n",
       "    </tr>\n",
       "    <tr>\n",
       "      <th>21243</th>\n",
       "      <td>4.708791</td>\n",
       "      <td>1.714569</td>\n",
       "      <td>92.030060</td>\n",
       "      <td>360.0</td>\n",
       "      <td>14.0</td>\n",
       "      <td>24.291643</td>\n",
       "      <td>26.158918</td>\n",
       "      <td>0.139142</td>\n",
       "      <td>10.770643</td>\n",
       "    </tr>\n",
       "    <tr>\n",
       "      <th>2732</th>\n",
       "      <td>2.300987</td>\n",
       "      <td>0.762914</td>\n",
       "      <td>50.238571</td>\n",
       "      <td>190.0</td>\n",
       "      <td>45.0</td>\n",
       "      <td>43.280518</td>\n",
       "      <td>44.948425</td>\n",
       "      <td>0.258884</td>\n",
       "      <td>6.051559</td>\n",
       "    </tr>\n",
       "  </tbody>\n",
       "</table>\n",
       "<p>32000 rows × 9 columns</p>\n",
       "</div>"
      ],
      "text/plain": [
       "        Kurtosis  Skewness         Std   Range  Median  Garcia_Gmean  \\\n",
       "21370   8.660435  2.428054  110.314148   540.0    15.0     21.641233   \n",
       "2470    5.554271  1.095531   44.411343   295.0    56.0     49.198143   \n",
       "13767  15.161747  3.588700  197.268097  1069.0     1.0     15.793184   \n",
       "13316   8.521211  2.209840   74.593170   404.0    34.0     36.003777   \n",
       "26374  17.068085  3.505853  144.599442  1067.0    11.0     17.440077   \n",
       "...          ...       ...         ...     ...     ...           ...   \n",
       "20757   2.399866  0.921777   69.669586   226.0    30.0     26.048437   \n",
       "32103   7.515098  1.973421   78.779358   415.0    44.0     42.893974   \n",
       "30403   9.536298  1.578124   29.179401   245.0    63.0     57.483582   \n",
       "21243   4.708791  1.714569   92.030060   360.0    14.0     24.291643   \n",
       "2732    2.300987  0.762914   50.238571   190.0    45.0     43.280518   \n",
       "\n",
       "       Epsilon_Gmean  Mobility  Complexity  \n",
       "21370      15.765815  0.164364    6.635593  \n",
       "2470       45.818806  0.431329    3.446954  \n",
       "13767       4.370829  0.138768    6.650173  \n",
       "13316      37.660858  0.263300    5.050054  \n",
       "26374      16.052221  0.399644    3.198723  \n",
       "...              ...       ...         ...  \n",
       "20757      26.966549  0.164183   10.568712  \n",
       "32103      19.962814  0.191056    7.517696  \n",
       "30403      58.643623  0.603232    2.209912  \n",
       "21243      26.158918  0.139142   10.770643  \n",
       "2732       44.948425  0.258884    6.051559  \n",
       "\n",
       "[32000 rows x 9 columns]"
      ]
     },
     "execution_count": 11,
     "metadata": {},
     "output_type": "execute_result"
    }
   ],
   "source": [
    "GarciaX_train"
   ]
  },
  {
   "cell_type": "code",
   "execution_count": 12,
   "metadata": {},
   "outputs": [
    {
     "data": {
      "text/html": [
       "<div>\n",
       "<style scoped>\n",
       "    .dataframe tbody tr th:only-of-type {\n",
       "        vertical-align: middle;\n",
       "    }\n",
       "\n",
       "    .dataframe tbody tr th {\n",
       "        vertical-align: top;\n",
       "    }\n",
       "\n",
       "    .dataframe thead th {\n",
       "        text-align: right;\n",
       "    }\n",
       "</style>\n",
       "<table border=\"1\" class=\"dataframe\">\n",
       "  <thead>\n",
       "    <tr style=\"text-align: right;\">\n",
       "      <th></th>\n",
       "      <th>Kurtosis</th>\n",
       "      <th>Skewness</th>\n",
       "      <th>Std</th>\n",
       "      <th>Range</th>\n",
       "      <th>Median</th>\n",
       "      <th>Garcia_Gmean</th>\n",
       "      <th>Epsilon_Gmean</th>\n",
       "      <th>Mobility</th>\n",
       "      <th>Complexity</th>\n",
       "    </tr>\n",
       "  </thead>\n",
       "  <tbody>\n",
       "    <tr>\n",
       "      <th>count</th>\n",
       "      <td>32000.000000</td>\n",
       "      <td>32000.000000</td>\n",
       "      <td>32000.000000</td>\n",
       "      <td>32000.000000</td>\n",
       "      <td>32000.000000</td>\n",
       "      <td>32000.000000</td>\n",
       "      <td>32000.000000</td>\n",
       "      <td>32000.000000</td>\n",
       "      <td>32000.000000</td>\n",
       "    </tr>\n",
       "    <tr>\n",
       "      <th>mean</th>\n",
       "      <td>23.665719</td>\n",
       "      <td>2.913224</td>\n",
       "      <td>108.080639</td>\n",
       "      <td>844.012906</td>\n",
       "      <td>32.574125</td>\n",
       "      <td>50.558269</td>\n",
       "      <td>26.560809</td>\n",
       "      <td>0.324711</td>\n",
       "      <td>5.873096</td>\n",
       "    </tr>\n",
       "    <tr>\n",
       "      <th>std</th>\n",
       "      <td>48.144521</td>\n",
       "      <td>3.219092</td>\n",
       "      <td>96.417443</td>\n",
       "      <td>1512.692619</td>\n",
       "      <td>20.979417</td>\n",
       "      <td>420.436697</td>\n",
       "      <td>14.611626</td>\n",
       "      <td>0.214031</td>\n",
       "      <td>3.006976</td>\n",
       "    </tr>\n",
       "    <tr>\n",
       "      <th>min</th>\n",
       "      <td>1.224067</td>\n",
       "      <td>-1.210521</td>\n",
       "      <td>15.969453</td>\n",
       "      <td>90.000000</td>\n",
       "      <td>0.000000</td>\n",
       "      <td>1.776100</td>\n",
       "      <td>1.038634</td>\n",
       "      <td>0.086105</td>\n",
       "      <td>0.907459</td>\n",
       "    </tr>\n",
       "    <tr>\n",
       "      <th>25%</th>\n",
       "      <td>3.168117</td>\n",
       "      <td>1.024056</td>\n",
       "      <td>58.436547</td>\n",
       "      <td>249.000000</td>\n",
       "      <td>14.000000</td>\n",
       "      <td>27.563592</td>\n",
       "      <td>14.585896</td>\n",
       "      <td>0.186597</td>\n",
       "      <td>3.523977</td>\n",
       "    </tr>\n",
       "    <tr>\n",
       "      <th>50%</th>\n",
       "      <td>6.369795</td>\n",
       "      <td>1.884031</td>\n",
       "      <td>80.955280</td>\n",
       "      <td>393.000000</td>\n",
       "      <td>33.000000</td>\n",
       "      <td>37.369518</td>\n",
       "      <td>25.407233</td>\n",
       "      <td>0.255054</td>\n",
       "      <td>5.586677</td>\n",
       "    </tr>\n",
       "    <tr>\n",
       "      <th>75%</th>\n",
       "      <td>16.749244</td>\n",
       "      <td>3.414590</td>\n",
       "      <td>119.921171</td>\n",
       "      <td>741.000000</td>\n",
       "      <td>50.000000</td>\n",
       "      <td>46.433761</td>\n",
       "      <td>37.614728</td>\n",
       "      <td>0.377048</td>\n",
       "      <td>7.919216</td>\n",
       "    </tr>\n",
       "    <tr>\n",
       "      <th>max</th>\n",
       "      <td>254.003906</td>\n",
       "      <td>15.906097</td>\n",
       "      <td>1021.998047</td>\n",
       "      <td>16384.000000</td>\n",
       "      <td>86.500000</td>\n",
       "      <td>16384.000000</td>\n",
       "      <td>63.100498</td>\n",
       "      <td>1.419760</td>\n",
       "      <td>16.286221</td>\n",
       "    </tr>\n",
       "  </tbody>\n",
       "</table>\n",
       "</div>"
      ],
      "text/plain": [
       "           Kurtosis      Skewness           Std         Range        Median  \\\n",
       "count  32000.000000  32000.000000  32000.000000  32000.000000  32000.000000   \n",
       "mean      23.665719      2.913224    108.080639    844.012906     32.574125   \n",
       "std       48.144521      3.219092     96.417443   1512.692619     20.979417   \n",
       "min        1.224067     -1.210521     15.969453     90.000000      0.000000   \n",
       "25%        3.168117      1.024056     58.436547    249.000000     14.000000   \n",
       "50%        6.369795      1.884031     80.955280    393.000000     33.000000   \n",
       "75%       16.749244      3.414590    119.921171    741.000000     50.000000   \n",
       "max      254.003906     15.906097   1021.998047  16384.000000     86.500000   \n",
       "\n",
       "       Garcia_Gmean  Epsilon_Gmean      Mobility    Complexity  \n",
       "count  32000.000000   32000.000000  32000.000000  32000.000000  \n",
       "mean      50.558269      26.560809      0.324711      5.873096  \n",
       "std      420.436697      14.611626      0.214031      3.006976  \n",
       "min        1.776100       1.038634      0.086105      0.907459  \n",
       "25%       27.563592      14.585896      0.186597      3.523977  \n",
       "50%       37.369518      25.407233      0.255054      5.586677  \n",
       "75%       46.433761      37.614728      0.377048      7.919216  \n",
       "max    16384.000000      63.100498      1.419760     16.286221  "
      ]
     },
     "execution_count": 12,
     "metadata": {},
     "output_type": "execute_result"
    }
   ],
   "source": [
    "GarciaX_train.describe()"
   ]
  },
  {
   "cell_type": "markdown",
   "metadata": {},
   "source": [
    "##### Dataset looks homogeneous"
   ]
  },
  {
   "cell_type": "code",
   "execution_count": 13,
   "metadata": {},
   "outputs": [
    {
     "data": {
      "text/html": [
       "<div>\n",
       "<style scoped>\n",
       "    .dataframe tbody tr th:only-of-type {\n",
       "        vertical-align: middle;\n",
       "    }\n",
       "\n",
       "    .dataframe tbody tr th {\n",
       "        vertical-align: top;\n",
       "    }\n",
       "\n",
       "    .dataframe thead th {\n",
       "        text-align: right;\n",
       "    }\n",
       "</style>\n",
       "<table border=\"1\" class=\"dataframe\">\n",
       "  <thead>\n",
       "    <tr style=\"text-align: right;\">\n",
       "      <th></th>\n",
       "      <th>Kurtosis</th>\n",
       "      <th>Skewness</th>\n",
       "      <th>Std</th>\n",
       "      <th>Range</th>\n",
       "      <th>Median</th>\n",
       "      <th>Geometric_Mean</th>\n",
       "      <th>Mobility</th>\n",
       "    </tr>\n",
       "  </thead>\n",
       "  <tbody>\n",
       "    <tr>\n",
       "      <th>0</th>\n",
       "      <td>15.0238</td>\n",
       "      <td>2.91000</td>\n",
       "      <td>274.7740</td>\n",
       "      <td>1789</td>\n",
       "      <td>228.0</td>\n",
       "      <td>160.4439</td>\n",
       "      <td>0.147740</td>\n",
       "    </tr>\n",
       "    <tr>\n",
       "      <th>1</th>\n",
       "      <td>2.8010</td>\n",
       "      <td>0.92232</td>\n",
       "      <td>235.7319</td>\n",
       "      <td>917</td>\n",
       "      <td>179.0</td>\n",
       "      <td>145.3054</td>\n",
       "      <td>0.120090</td>\n",
       "    </tr>\n",
       "    <tr>\n",
       "      <th>2</th>\n",
       "      <td>3.9885</td>\n",
       "      <td>0.88732</td>\n",
       "      <td>174.5089</td>\n",
       "      <td>817</td>\n",
       "      <td>260.0</td>\n",
       "      <td>182.6219</td>\n",
       "      <td>0.200340</td>\n",
       "    </tr>\n",
       "    <tr>\n",
       "      <th>3</th>\n",
       "      <td>5.4531</td>\n",
       "      <td>1.83640</td>\n",
       "      <td>343.9752</td>\n",
       "      <td>1336</td>\n",
       "      <td>69.5</td>\n",
       "      <td>120.5608</td>\n",
       "      <td>0.083738</td>\n",
       "    </tr>\n",
       "    <tr>\n",
       "      <th>4</th>\n",
       "      <td>15.8010</td>\n",
       "      <td>3.38050</td>\n",
       "      <td>443.4495</td>\n",
       "      <td>2785</td>\n",
       "      <td>118.0</td>\n",
       "      <td>113.9388</td>\n",
       "      <td>0.231590</td>\n",
       "    </tr>\n",
       "    <tr>\n",
       "      <th>...</th>\n",
       "      <td>...</td>\n",
       "      <td>...</td>\n",
       "      <td>...</td>\n",
       "      <td>...</td>\n",
       "      <td>...</td>\n",
       "      <td>...</td>\n",
       "      <td>...</td>\n",
       "    </tr>\n",
       "    <tr>\n",
       "      <th>55994</th>\n",
       "      <td>5.0543</td>\n",
       "      <td>1.22740</td>\n",
       "      <td>172.0252</td>\n",
       "      <td>981</td>\n",
       "      <td>238.0</td>\n",
       "      <td>205.0903</td>\n",
       "      <td>0.945960</td>\n",
       "    </tr>\n",
       "    <tr>\n",
       "      <th>55995</th>\n",
       "      <td>89.9023</td>\n",
       "      <td>8.30370</td>\n",
       "      <td>614.5032</td>\n",
       "      <td>7673</td>\n",
       "      <td>122.5</td>\n",
       "      <td>100.0387</td>\n",
       "      <td>0.988840</td>\n",
       "    </tr>\n",
       "    <tr>\n",
       "      <th>55996</th>\n",
       "      <td>7.5518</td>\n",
       "      <td>2.03290</td>\n",
       "      <td>279.6423</td>\n",
       "      <td>1520</td>\n",
       "      <td>156.0</td>\n",
       "      <td>137.6493</td>\n",
       "      <td>0.935500</td>\n",
       "    </tr>\n",
       "    <tr>\n",
       "      <th>55997</th>\n",
       "      <td>34.0220</td>\n",
       "      <td>4.80400</td>\n",
       "      <td>416.7042</td>\n",
       "      <td>3971</td>\n",
       "      <td>116.5</td>\n",
       "      <td>139.1423</td>\n",
       "      <td>0.976790</td>\n",
       "    </tr>\n",
       "    <tr>\n",
       "      <th>55998</th>\n",
       "      <td>20.0341</td>\n",
       "      <td>3.68640</td>\n",
       "      <td>457.0151</td>\n",
       "      <td>3333</td>\n",
       "      <td>86.5</td>\n",
       "      <td>82.4291</td>\n",
       "      <td>0.943710</td>\n",
       "    </tr>\n",
       "  </tbody>\n",
       "</table>\n",
       "<p>55999 rows × 7 columns</p>\n",
       "</div>"
      ],
      "text/plain": [
       "       Kurtosis   Skewness       Std   Range   Median   Geometric_Mean  \\\n",
       "0       15.0238    2.91000  274.7740    1789    228.0         160.4439   \n",
       "1        2.8010    0.92232  235.7319     917    179.0         145.3054   \n",
       "2        3.9885    0.88732  174.5089     817    260.0         182.6219   \n",
       "3        5.4531    1.83640  343.9752    1336     69.5         120.5608   \n",
       "4       15.8010    3.38050  443.4495    2785    118.0         113.9388   \n",
       "...         ...        ...       ...     ...      ...              ...   \n",
       "55994    5.0543    1.22740  172.0252     981    238.0         205.0903   \n",
       "55995   89.9023    8.30370  614.5032    7673    122.5         100.0387   \n",
       "55996    7.5518    2.03290  279.6423    1520    156.0         137.6493   \n",
       "55997   34.0220    4.80400  416.7042    3971    116.5         139.1423   \n",
       "55998   20.0341    3.68640  457.0151    3333     86.5          82.4291   \n",
       "\n",
       "        Mobility  \n",
       "0       0.147740  \n",
       "1       0.120090  \n",
       "2       0.200340  \n",
       "3       0.083738  \n",
       "4       0.231590  \n",
       "...          ...  \n",
       "55994   0.945960  \n",
       "55995   0.988840  \n",
       "55996   0.935500  \n",
       "55997   0.976790  \n",
       "55998   0.943710  \n",
       "\n",
       "[55999 rows x 7 columns]"
      ]
     },
     "execution_count": 13,
     "metadata": {},
     "output_type": "execute_result"
    }
   ],
   "source": [
    "trainDataset.iloc[:,:-2]"
   ]
  },
  {
   "cell_type": "code",
   "execution_count": 14,
   "metadata": {},
   "outputs": [
    {
     "data": {
      "text/html": [
       "<div>\n",
       "<style scoped>\n",
       "    .dataframe tbody tr th:only-of-type {\n",
       "        vertical-align: middle;\n",
       "    }\n",
       "\n",
       "    .dataframe tbody tr th {\n",
       "        vertical-align: top;\n",
       "    }\n",
       "\n",
       "    .dataframe thead th {\n",
       "        text-align: right;\n",
       "    }\n",
       "</style>\n",
       "<table border=\"1\" class=\"dataframe\">\n",
       "  <thead>\n",
       "    <tr style=\"text-align: right;\">\n",
       "      <th></th>\n",
       "      <th>Kurtosis</th>\n",
       "      <th>Skewness</th>\n",
       "      <th>Std</th>\n",
       "      <th>Range</th>\n",
       "      <th>Median</th>\n",
       "      <th>Geometric_Mean</th>\n",
       "      <th>Mobility</th>\n",
       "    </tr>\n",
       "  </thead>\n",
       "  <tbody>\n",
       "    <tr>\n",
       "      <th>count</th>\n",
       "      <td>55999.000000</td>\n",
       "      <td>55999.000000</td>\n",
       "      <td>55999.000000</td>\n",
       "      <td>55999.000000</td>\n",
       "      <td>55999.000000</td>\n",
       "      <td>55999.000000</td>\n",
       "      <td>55999.000000</td>\n",
       "    </tr>\n",
       "    <tr>\n",
       "      <th>mean</th>\n",
       "      <td>23.861412</td>\n",
       "      <td>3.041558</td>\n",
       "      <td>367.443301</td>\n",
       "      <td>2756.949963</td>\n",
       "      <td>148.467740</td>\n",
       "      <td>137.751112</td>\n",
       "      <td>0.448144</td>\n",
       "    </tr>\n",
       "    <tr>\n",
       "      <th>std</th>\n",
       "      <td>43.134687</td>\n",
       "      <td>2.957414</td>\n",
       "      <td>249.044479</td>\n",
       "      <td>3567.278219</td>\n",
       "      <td>72.227963</td>\n",
       "      <td>69.236967</td>\n",
       "      <td>0.301130</td>\n",
       "    </tr>\n",
       "    <tr>\n",
       "      <th>min</th>\n",
       "      <td>1.137900</td>\n",
       "      <td>-1.540400</td>\n",
       "      <td>59.884100</td>\n",
       "      <td>338.000000</td>\n",
       "      <td>0.000000</td>\n",
       "      <td>4.826700</td>\n",
       "      <td>0.048408</td>\n",
       "    </tr>\n",
       "    <tr>\n",
       "      <th>25%</th>\n",
       "      <td>4.010750</td>\n",
       "      <td>1.235150</td>\n",
       "      <td>221.245700</td>\n",
       "      <td>1055.000000</td>\n",
       "      <td>96.000000</td>\n",
       "      <td>99.458600</td>\n",
       "      <td>0.183990</td>\n",
       "    </tr>\n",
       "    <tr>\n",
       "      <th>50%</th>\n",
       "      <td>7.952900</td>\n",
       "      <td>2.123400</td>\n",
       "      <td>299.071500</td>\n",
       "      <td>1646.000000</td>\n",
       "      <td>156.000000</td>\n",
       "      <td>138.097000</td>\n",
       "      <td>0.384070</td>\n",
       "    </tr>\n",
       "    <tr>\n",
       "      <th>75%</th>\n",
       "      <td>19.820800</td>\n",
       "      <td>3.644250</td>\n",
       "      <td>427.831850</td>\n",
       "      <td>2924.000000</td>\n",
       "      <td>203.000000</td>\n",
       "      <td>174.089600</td>\n",
       "      <td>0.723175</td>\n",
       "    </tr>\n",
       "    <tr>\n",
       "      <th>max</th>\n",
       "      <td>253.942400</td>\n",
       "      <td>15.903200</td>\n",
       "      <td>3624.730400</td>\n",
       "      <td>58017.000000</td>\n",
       "      <td>358.000000</td>\n",
       "      <td>3488.397300</td>\n",
       "      <td>1.408100</td>\n",
       "    </tr>\n",
       "  </tbody>\n",
       "</table>\n",
       "</div>"
      ],
      "text/plain": [
       "           Kurtosis      Skewness           Std         Range        Median  \\\n",
       "count  55999.000000  55999.000000  55999.000000  55999.000000  55999.000000   \n",
       "mean      23.861412      3.041558    367.443301   2756.949963    148.467740   \n",
       "std       43.134687      2.957414    249.044479   3567.278219     72.227963   \n",
       "min        1.137900     -1.540400     59.884100    338.000000      0.000000   \n",
       "25%        4.010750      1.235150    221.245700   1055.000000     96.000000   \n",
       "50%        7.952900      2.123400    299.071500   1646.000000    156.000000   \n",
       "75%       19.820800      3.644250    427.831850   2924.000000    203.000000   \n",
       "max      253.942400     15.903200   3624.730400  58017.000000    358.000000   \n",
       "\n",
       "        Geometric_Mean      Mobility  \n",
       "count     55999.000000  55999.000000  \n",
       "mean        137.751112      0.448144  \n",
       "std          69.236967      0.301130  \n",
       "min           4.826700      0.048408  \n",
       "25%          99.458600      0.183990  \n",
       "50%         138.097000      0.384070  \n",
       "75%         174.089600      0.723175  \n",
       "max        3488.397300      1.408100  "
      ]
     },
     "execution_count": 14,
     "metadata": {},
     "output_type": "execute_result"
    }
   ],
   "source": [
    "trainDataset.iloc[:,:-2].describe()"
   ]
  },
  {
   "cell_type": "markdown",
   "metadata": {},
   "source": [
    "#### Standard scalling"
   ]
  },
  {
   "cell_type": "code",
   "execution_count": 15,
   "metadata": {},
   "outputs": [],
   "source": [
    "scG=StandardScaler()\n",
    "sc_GarciaX_train=pd.DataFrame(scG.fit_transform(GarciaX_train),columns=GarciaLabels)\n",
    "sc_GarciaX_test=pd.DataFrame(scG.transform(GarciaX_test),columns=GarciaLabels)\n",
    "\n",
    "scM=StandardScaler()\n",
    "sc_MirandaX_train=pd.DataFrame(scM.fit_transform(MirandaX_train),columns=MirandaLabels)\n",
    "sc_MirandaX_test=pd.DataFrame(scM.transform(MirandaX_test),columns=MirandaLabels)"
   ]
  },
  {
   "cell_type": "markdown",
   "metadata": {
    "tags": []
   },
   "source": [
    "#### Recursive Feature Elimination"
   ]
  },
  {
   "cell_type": "code",
   "execution_count": 16,
   "metadata": {},
   "outputs": [
    {
     "name": "stdout",
     "output_type": "stream",
     "text": [
      "[4 5 2 1 8 7 9 3 6]\n",
      "García's Dataset\n",
      "Ordered from most to less desired variables:\n"
     ]
    },
    {
     "data": {
      "text/plain": [
       "['Range',\n",
       " 'Std',\n",
       " 'Mobility',\n",
       " 'Kurtosis',\n",
       " 'Skewness',\n",
       " 'Complexity',\n",
       " 'Garcia_Gmean',\n",
       " 'Median',\n",
       " 'Epsilon_Gmean']"
      ]
     },
     "execution_count": 16,
     "metadata": {},
     "output_type": "execute_result"
    }
   ],
   "source": [
    "from sklearn.feature_selection import RFE\n",
    "from sklearn.linear_model import LogisticRegression\n",
    "logregRFEG = LogisticRegression()\n",
    "rfe = RFE(logregRFEG, n_features_to_select=1)\n",
    "rfe = rfe.fit(sc_GarciaX_train,GarciaY_train)\n",
    "print(rfe.ranking_)\n",
    "print(\"García's Dataset\")\n",
    "print(\"Ordered from most to less desired variables:\")\n",
    "desiredVariables=GarciaLabels\n",
    "sortOrder=rfe.ranking_\n",
    "sorted(desiredVariables,key=lambda pos: sortOrder[desiredVariables.index(pos)])"
   ]
  },
  {
   "cell_type": "code",
   "execution_count": 17,
   "metadata": {},
   "outputs": [
    {
     "name": "stdout",
     "output_type": "stream",
     "text": [
      "[4 3 5 6 7 8 2 1]\n",
      "Miranda's Dataset\n",
      "Ordered from most to less desired variables:\n"
     ]
    },
    {
     "data": {
      "text/plain": [
       "['Complexity',\n",
       " 'Mobility',\n",
       " 'Skewness',\n",
       " 'Kurtosis',\n",
       " 'Std',\n",
       " 'Range',\n",
       " 'Median',\n",
       " 'Geometric_Mean']"
      ]
     },
     "execution_count": 17,
     "metadata": {},
     "output_type": "execute_result"
    }
   ],
   "source": [
    "from sklearn.feature_selection import RFE\n",
    "from sklearn.linear_model import LogisticRegression\n",
    "logregRFEM = LogisticRegression()\n",
    "rfe = RFE(logregRFEM, n_features_to_select=1)\n",
    "rfe = rfe.fit(sc_MirandaX_train,MirandaY_train)\n",
    "print(rfe.ranking_)\n",
    "print(\"Miranda's Dataset\")\n",
    "print(\"Ordered from most to less desired variables:\")\n",
    "desiredVariables=MirandaLabels\n",
    "sortOrder=rfe.ranking_\n",
    "sorted(desiredVariables,key=lambda pos: sortOrder[desiredVariables.index(pos)])"
   ]
  },
  {
   "cell_type": "markdown",
   "metadata": {},
   "source": [
    "RFE Shows prefferences for the variables to be predictors, meaning it to be ordered depending on de predictor-likability of a variable. Proving the anterior analysis, "
   ]
  },
  {
   "cell_type": "markdown",
   "metadata": {
    "tags": []
   },
   "source": [
    "### Modelling"
   ]
  },
  {
   "cell_type": "code",
   "execution_count": 18,
   "metadata": {},
   "outputs": [
    {
     "name": "stdout",
     "output_type": "stream",
     "text": [
      "Optimization terminated successfully.\n",
      "         Current function value: 0.264509\n",
      "         Iterations 8\n",
      "                         Results: Logit\n",
      "=================================================================\n",
      "Model:              Logit            Pseudo R-squared: 0.618     \n",
      "Dependent Variable: y                AIC:              29640.4288\n",
      "Date:               2021-09-08 16:15 BIC:              29711.8935\n",
      "No. Observations:   55999            Log-Likelihood:   -14812.   \n",
      "Df Model:           7                LL-Null:          -38816.   \n",
      "Df Residuals:       55991            LLR p-value:      0.0000    \n",
      "Converged:          1.0000           Scale:            1.0000    \n",
      "No. Iterations:     8.0000                                       \n",
      "-----------------------------------------------------------------\n",
      "                  Coef.  Std.Err.    z     P>|z|   [0.025  0.975]\n",
      "-----------------------------------------------------------------\n",
      "Kurtosis         -0.7686   0.0737 -10.4343 0.0000 -0.9129 -0.6242\n",
      "Skewness          1.0767   0.0673  15.9897 0.0000  0.9447  1.2087\n",
      "Std               0.8639   0.0776  11.1363 0.0000  0.7119  1.0159\n",
      "Range            -0.8228   0.0818 -10.0534 0.0000 -0.9832 -0.6624\n",
      "Median            0.0659   0.0273   2.4118 0.0159  0.0123  0.1194\n",
      "Geometric_Mean   -0.0247   0.0146  -1.6901 0.0910 -0.0534  0.0039\n",
      "Mobility          1.7661   0.0294  60.0734 0.0000  1.7085  1.8237\n",
      "Complexity        2.5121   0.0291  86.4431 0.0000  2.4551  2.5690\n",
      "=================================================================\n",
      "\n"
     ]
    }
   ],
   "source": [
    "import statsmodels.api as sm\n",
    "logit_model=sm.Logit(MirandaY_train,sc_MirandaX_train)\n",
    "result=logit_model.fit()\n",
    "print(result.summary2())"
   ]
  },
  {
   "cell_type": "code",
   "execution_count": 19,
   "metadata": {},
   "outputs": [
    {
     "data": {
      "text/html": [
       "<div>\n",
       "<style scoped>\n",
       "    .dataframe tbody tr th:only-of-type {\n",
       "        vertical-align: middle;\n",
       "    }\n",
       "\n",
       "    .dataframe tbody tr th {\n",
       "        vertical-align: top;\n",
       "    }\n",
       "\n",
       "    .dataframe thead th {\n",
       "        text-align: right;\n",
       "    }\n",
       "</style>\n",
       "<table border=\"1\" class=\"dataframe\">\n",
       "  <thead>\n",
       "    <tr style=\"text-align: right;\">\n",
       "      <th></th>\n",
       "      <th>Kurtosis</th>\n",
       "      <th>Skewness</th>\n",
       "      <th>Std</th>\n",
       "      <th>Range</th>\n",
       "      <th>Median</th>\n",
       "      <th>Garcia_Gmean</th>\n",
       "      <th>Epsilon_Gmean</th>\n",
       "      <th>Mobility</th>\n",
       "      <th>Complexity</th>\n",
       "    </tr>\n",
       "  </thead>\n",
       "  <tbody>\n",
       "    <tr>\n",
       "      <th>0</th>\n",
       "      <td>-0.311677</td>\n",
       "      <td>-0.150719</td>\n",
       "      <td>0.023165</td>\n",
       "      <td>-0.200978</td>\n",
       "      <td>-0.837697</td>\n",
       "      <td>-0.068780</td>\n",
       "      <td>-0.738806</td>\n",
       "      <td>-0.749189</td>\n",
       "      <td>0.253580</td>\n",
       "    </tr>\n",
       "    <tr>\n",
       "      <th>1</th>\n",
       "      <td>-0.376195</td>\n",
       "      <td>-0.564669</td>\n",
       "      <td>-0.660361</td>\n",
       "      <td>-0.362943</td>\n",
       "      <td>1.116630</td>\n",
       "      <td>-0.003235</td>\n",
       "      <td>1.318012</td>\n",
       "      <td>0.498151</td>\n",
       "      <td>-0.806850</td>\n",
       "    </tr>\n",
       "    <tr>\n",
       "      <th>2</th>\n",
       "      <td>-0.176637</td>\n",
       "      <td>0.209838</td>\n",
       "      <td>0.925028</td>\n",
       "      <td>0.148735</td>\n",
       "      <td>-1.505028</td>\n",
       "      <td>-0.082689</td>\n",
       "      <td>-1.518676</td>\n",
       "      <td>-0.868779</td>\n",
       "      <td>0.258429</td>\n",
       "    </tr>\n",
       "    <tr>\n",
       "      <th>3</th>\n",
       "      <td>-0.314568</td>\n",
       "      <td>-0.218507</td>\n",
       "      <td>-0.347323</td>\n",
       "      <td>-0.290885</td>\n",
       "      <td>0.067966</td>\n",
       "      <td>-0.034618</td>\n",
       "      <td>0.759684</td>\n",
       "      <td>-0.286929</td>\n",
       "      <td>-0.273715</td>\n",
       "    </tr>\n",
       "    <tr>\n",
       "      <th>4</th>\n",
       "      <td>-0.137040</td>\n",
       "      <td>0.184101</td>\n",
       "      <td>0.378763</td>\n",
       "      <td>0.147413</td>\n",
       "      <td>-1.028363</td>\n",
       "      <td>-0.078772</td>\n",
       "      <td>-0.719205</td>\n",
       "      <td>0.350109</td>\n",
       "      <td>-0.889404</td>\n",
       "    </tr>\n",
       "    <tr>\n",
       "      <th>...</th>\n",
       "      <td>...</td>\n",
       "      <td>...</td>\n",
       "      <td>...</td>\n",
       "      <td>...</td>\n",
       "      <td>...</td>\n",
       "      <td>...</td>\n",
       "      <td>...</td>\n",
       "      <td>...</td>\n",
       "      <td>...</td>\n",
       "    </tr>\n",
       "    <tr>\n",
       "      <th>31995</th>\n",
       "      <td>-0.441716</td>\n",
       "      <td>-0.618646</td>\n",
       "      <td>-0.398389</td>\n",
       "      <td>-0.408558</td>\n",
       "      <td>-0.122700</td>\n",
       "      <td>-0.058297</td>\n",
       "      <td>0.027769</td>\n",
       "      <td>-0.750032</td>\n",
       "      <td>1.561598</td>\n",
       "    </tr>\n",
       "    <tr>\n",
       "      <th>31996</th>\n",
       "      <td>-0.335467</td>\n",
       "      <td>-0.291951</td>\n",
       "      <td>-0.303905</td>\n",
       "      <td>-0.283613</td>\n",
       "      <td>0.544632</td>\n",
       "      <td>-0.018230</td>\n",
       "      <td>-0.451565</td>\n",
       "      <td>-0.624474</td>\n",
       "      <td>0.546937</td>\n",
       "    </tr>\n",
       "    <tr>\n",
       "      <th>31997</th>\n",
       "      <td>-0.293484</td>\n",
       "      <td>-0.414751</td>\n",
       "      <td>-0.818342</td>\n",
       "      <td>-0.395997</td>\n",
       "      <td>1.450295</td>\n",
       "      <td>0.016472</td>\n",
       "      <td>2.195739</td>\n",
       "      <td>1.301335</td>\n",
       "      <td>-1.218247</td>\n",
       "    </tr>\n",
       "    <tr>\n",
       "      <th>31998</th>\n",
       "      <td>-0.393757</td>\n",
       "      <td>-0.372364</td>\n",
       "      <td>-0.166472</td>\n",
       "      <td>-0.319973</td>\n",
       "      <td>-0.885364</td>\n",
       "      <td>-0.062476</td>\n",
       "      <td>-0.027505</td>\n",
       "      <td>-0.867031</td>\n",
       "      <td>1.628754</td>\n",
       "    </tr>\n",
       "    <tr>\n",
       "      <th>31999</th>\n",
       "      <td>-0.443769</td>\n",
       "      <td>-0.667997</td>\n",
       "      <td>-0.599922</td>\n",
       "      <td>-0.432357</td>\n",
       "      <td>0.592298</td>\n",
       "      <td>-0.017310</td>\n",
       "      <td>1.258443</td>\n",
       "      <td>-0.307562</td>\n",
       "      <td>0.059351</td>\n",
       "    </tr>\n",
       "  </tbody>\n",
       "</table>\n",
       "<p>32000 rows × 9 columns</p>\n",
       "</div>"
      ],
      "text/plain": [
       "       Kurtosis  Skewness       Std     Range    Median  Garcia_Gmean  \\\n",
       "0     -0.311677 -0.150719  0.023165 -0.200978 -0.837697     -0.068780   \n",
       "1     -0.376195 -0.564669 -0.660361 -0.362943  1.116630     -0.003235   \n",
       "2     -0.176637  0.209838  0.925028  0.148735 -1.505028     -0.082689   \n",
       "3     -0.314568 -0.218507 -0.347323 -0.290885  0.067966     -0.034618   \n",
       "4     -0.137040  0.184101  0.378763  0.147413 -1.028363     -0.078772   \n",
       "...         ...       ...       ...       ...       ...           ...   \n",
       "31995 -0.441716 -0.618646 -0.398389 -0.408558 -0.122700     -0.058297   \n",
       "31996 -0.335467 -0.291951 -0.303905 -0.283613  0.544632     -0.018230   \n",
       "31997 -0.293484 -0.414751 -0.818342 -0.395997  1.450295      0.016472   \n",
       "31998 -0.393757 -0.372364 -0.166472 -0.319973 -0.885364     -0.062476   \n",
       "31999 -0.443769 -0.667997 -0.599922 -0.432357  0.592298     -0.017310   \n",
       "\n",
       "       Epsilon_Gmean  Mobility  Complexity  \n",
       "0          -0.738806 -0.749189    0.253580  \n",
       "1           1.318012  0.498151   -0.806850  \n",
       "2          -1.518676 -0.868779    0.258429  \n",
       "3           0.759684 -0.286929   -0.273715  \n",
       "4          -0.719205  0.350109   -0.889404  \n",
       "...              ...       ...         ...  \n",
       "31995       0.027769 -0.750032    1.561598  \n",
       "31996      -0.451565 -0.624474    0.546937  \n",
       "31997       2.195739  1.301335   -1.218247  \n",
       "31998      -0.027505 -0.867031    1.628754  \n",
       "31999       1.258443 -0.307562    0.059351  \n",
       "\n",
       "[32000 rows x 9 columns]"
      ]
     },
     "execution_count": 19,
     "metadata": {},
     "output_type": "execute_result"
    }
   ],
   "source": [
    "sc_GarciaX_train"
   ]
  },
  {
   "cell_type": "code",
   "execution_count": 20,
   "metadata": {
    "tags": []
   },
   "outputs": [
    {
     "name": "stdout",
     "output_type": "stream",
     "text": [
      "Optimization terminated successfully.\n",
      "         Current function value: 0.692908\n",
      "         Iterations 4\n",
      "                         Results: Logit\n",
      "=================================================================\n",
      "Model:              Logit            Pseudo R-squared: 0.000     \n",
      "Dependent Variable: y                AIC:              44364.1301\n",
      "Date:               2021-09-08 16:15 BIC:              44439.4915\n",
      "No. Observations:   32000            Log-Likelihood:   -22173.   \n",
      "Df Model:           8                LL-Null:          -22181.   \n",
      "Df Residuals:       31991            LLR p-value:      0.054078  \n",
      "Converged:          1.0000           Scale:            1.0000    \n",
      "No. Iterations:     4.0000                                       \n",
      "-----------------------------------------------------------------\n",
      "                   Coef.  Std.Err.    z    P>|z|   [0.025  0.975]\n",
      "-----------------------------------------------------------------\n",
      "Kurtosis           0.0880   0.0746  1.1805 0.2378 -0.0581  0.2342\n",
      "Skewness          -0.0595   0.0668 -0.8905 0.3732 -0.1905  0.0715\n",
      "Std                0.1572   0.0905  1.7368 0.0824 -0.0202  0.3346\n",
      "Range             -0.2318   0.0969 -2.3922 0.0167 -0.4217 -0.0419\n",
      "Median            -0.0059   0.0241 -0.2442 0.8071 -0.0531  0.0413\n",
      "Garcia_Gmean       0.0169   0.0120  1.4037 0.1604 -0.0067  0.0405\n",
      "Epsilon_Gmean      0.0052   0.0235  0.2195 0.8263 -0.0409  0.0512\n",
      "Mobility           0.0302   0.0289  1.0441 0.2964 -0.0265  0.0869\n",
      "Complexity        -0.0188   0.0216 -0.8698 0.3844 -0.0612  0.0236\n",
      "=================================================================\n",
      "\n"
     ]
    }
   ],
   "source": [
    "import statsmodels.api as sm\n",
    "logit_modelG=sm.Logit(GarciaY_train,sc_GarciaX_train)\n",
    "result=logit_modelG.fit()\n",
    "print(result.summary2())"
   ]
  },
  {
   "cell_type": "code",
   "execution_count": 21,
   "metadata": {
    "tags": []
   },
   "outputs": [
    {
     "name": "stdout",
     "output_type": "stream",
     "text": [
      "Accuracy of logistic regression classifier on test set: 0.90\n"
     ]
    }
   ],
   "source": [
    "from sklearn.linear_model import LogisticRegression\n",
    "from sklearn import metrics\n",
    "#X_train, X_test, y_train, y_test = train_test_split(sc.fit_transform(newX), y, test_size=0.2, random_state=0)\n",
    "logregMiranda = LogisticRegression()\n",
    "logregMiranda.fit(sc_MirandaX_train, MirandaY_train)\n",
    "y_predMiranda = logregMiranda.predict(sc_MirandaX_test)\n",
    "print('Accuracy of logistic regression classifier on test set: {:.2f}'.format(logregMiranda.score(sc_MirandaX_test, MirandaY_test)))"
   ]
  },
  {
   "cell_type": "code",
   "execution_count": 22,
   "metadata": {
    "tags": []
   },
   "outputs": [
    {
     "name": "stdout",
     "output_type": "stream",
     "text": [
      "Accuracy of logistic regression classifier on test set: 0.51\n",
      "0.48590533630523136\n"
     ]
    }
   ],
   "source": [
    "logregGarcia = LogisticRegression()\n",
    "logregGarcia.fit(sc_GarciaX_train, GarciaY_train)\n",
    "y_predGarcia = logregGarcia.predict(sc_GarciaX_test)\n",
    "print('Accuracy of logistic regression classifier on test set: {:.2f}'.format(logregGarcia.score(sc_GarciaX_test, GarciaY_test)))\n",
    "print(metrics.f1_score(GarciaY_test,y_predGarcia))"
   ]
  },
  {
   "cell_type": "code",
   "execution_count": 23,
   "metadata": {},
   "outputs": [],
   "source": [
    "from itertools import chain, combinations\n",
    "from sklearn.model_selection import cross_val_score\n",
    "import copy\n",
    "def best_subset_cv(estimator, X, Y, labels,cv=3):\n",
    "    n_features = X.shape[1]\n",
    "    subsets = chain.from_iterable([combinations(labels, k + 1) for k in range(n_features)])\n",
    "    best_score = -np.inf\n",
    "    best_subset = None\n",
    "    for subset in subsets:\n",
    "        estimatorCopy=copy.copy(estimator)\n",
    "        score = cross_val_score(estimatorCopy, X.loc[:, list(subset)], Y, cv=cv).mean()\n",
    "        if score > best_score:\n",
    "            best_score, best_subset = score, subset\n",
    "\n",
    "    return best_subset, best_score"
   ]
  },
  {
   "cell_type": "code",
   "execution_count": 24,
   "metadata": {},
   "outputs": [
    {
     "name": "stdout",
     "output_type": "stream",
     "text": [
      "Miranda\n"
     ]
    }
   ],
   "source": [
    "logregBSM = LogisticRegression()\n",
    "subM, scoM=best_subset_cv(logregBSM,sc_MirandaX_train,MirandaY_train,MirandaLabels)\n",
    "print(\"Miranda\")"
   ]
  },
  {
   "cell_type": "code",
   "execution_count": 25,
   "metadata": {},
   "outputs": [
    {
     "data": {
      "text/plain": [
       "(('Skewness', 'Geometric_Mean', 'Complexity'), 0.8934098557840381)"
      ]
     },
     "execution_count": 25,
     "metadata": {},
     "output_type": "execute_result"
    }
   ],
   "source": [
    "subM, scoM"
   ]
  },
  {
   "cell_type": "code",
   "execution_count": 26,
   "metadata": {},
   "outputs": [
    {
     "name": "stdout",
     "output_type": "stream",
     "text": [
      "García\n"
     ]
    }
   ],
   "source": [
    "logregBSG = LogisticRegression()\n",
    "subG, scoG=best_subset_cv(logregBSG,sc_GarciaX_train,GarciaY_train,GarciaLabels)\n",
    "print(\"García\")"
   ]
  },
  {
   "cell_type": "code",
   "execution_count": 27,
   "metadata": {},
   "outputs": [
    {
     "data": {
      "text/plain": [
       "(('Std', 'Range', 'Garcia_Gmean', 'Epsilon_Gmean', 'Mobility'),\n",
       " 0.5057814062661752)"
      ]
     },
     "execution_count": 27,
     "metadata": {},
     "output_type": "execute_result"
    }
   ],
   "source": [
    "subG, scoG"
   ]
  },
  {
   "cell_type": "code",
   "execution_count": 28,
   "metadata": {},
   "outputs": [
    {
     "data": {
      "image/png": "[encoded data removed]",
      "text/plain": [
       "<Figure size 1100x900 with 2 Axes>"
      ]
     },
     "metadata": {},
     "output_type": "display_data"
    }
   ],
   "source": [
    "import seaborn as sns\n",
    "sns.set_theme(style=\"dark\")\n",
    "corr = sc_MirandaX_train.corr()\n",
    "f, ax = plt.subplots(figsize=(11, 9))\n",
    "cmap = sns.diverging_palette(230, 20, as_cmap=True)\n",
    "ax.tick_params(axis='x', rotation=90)\n",
    "# Draw the heatmap with the mask and correct aspect ratio\n",
    "sns.heatmap(corr, cmap=cmap, vmax=.3, center=0,\n",
    "            square=True, linewidths=.5, cbar_kws={\"shrink\": .5}).set_title(\"Miranda's correlation matrix\")\n",
    "plt.show()"
   ]
  },
  {
   "cell_type": "code",
   "execution_count": 29,
   "metadata": {},
   "outputs": [
    {
     "data": {
      "image/png": "[encoded data removed]",
      "text/plain": [
       "<Figure size 1100x900 with 2 Axes>"
      ]
     },
     "metadata": {},
     "output_type": "display_data"
    }
   ],
   "source": [
    "sns.set_theme(style=\"dark\")\n",
    "corr = sc_GarciaX_train.corr()\n",
    "f, ax = plt.subplots(figsize=(11, 9))\n",
    "cmap = sns.diverging_palette(230, 20, as_cmap=True)\n",
    "ax.tick_params(axis='x', rotation=90)\n",
    "# Draw the heatmap with the mask and correct aspect ratio\n",
    "sns.heatmap(corr, cmap=cmap, vmax=.3, center=0,\n",
    "            square=True, linewidths=.5, cbar_kws={\"shrink\": .5}).set_title(\"Garcías's correlation matrix\")\n",
    "plt.show()"
   ]
  }
 ],
 "metadata": {
  "kernelspec": {
   "display_name": "Python 3",
   "language": "python",
   "name": "python3"
  },
  "language_info": {
   "codemirror_mode": {
    "name": "ipython",
    "version": 3
   },
   "file_extension": ".py",
   "mimetype": "text/x-python",
   "name": "python",
   "nbconvert_exporter": "python",
   "pygments_lexer": "ipython3",
   "version": "3.8.11"
  }
 },
 "nbformat": 4,
 "nbformat_minor": 4
}
