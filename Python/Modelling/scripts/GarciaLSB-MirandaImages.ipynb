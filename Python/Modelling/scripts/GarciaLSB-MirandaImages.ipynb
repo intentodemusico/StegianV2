{
 "cells": [
  {
   "cell_type": "markdown",
   "id": "8c22436f-3669-40e1-9b6b-63320ca7ff47",
   "metadata": {
    "tags": []
   },
   "source": [
    "# García LSB Dataset generation"
   ]
  },
  {
   "cell_type": "code",
   "execution_count": null,
   "id": "a459fc97-f0e2-49e2-801f-74a26ee24067",
   "metadata": {},
   "outputs": [],
   "source": [
    "import GarciaLSB"
   ]
  },
  {
   "cell_type": "code",
   "execution_count": null,
   "id": "eafa7683-865c-4150-be11-ff2fe1743fe8",
   "metadata": {},
   "outputs": [],
   "source": [
    "folder=\"../../../samples/VirginSample\" \n",
    "images=os.listdir(folder)\n",
    "random.shuffle(images)"
   ]
  },
  {
   "cell_type": "code",
   "execution_count": null,
   "id": "6dc46e2d-f437-4f21-b783-966819e0bb62",
   "metadata": {},
   "outputs": [],
   "source": [
    "y=getYFromImageList(images)\n",
    "windowSize=128\n",
    "t = time.time()\n",
    "\n",
    "x=pd.DataFrame(([ MirandaAttributes.attributes( cv2.imread( os.path.abspath(os.path.join(folder, images[i])) ) ,windowSize,True)  for i in range(len(images))] ),columns=['Kurtosis', 'Skewness', 'Std', 'Range', 'Median', 'Geometric_Mean', 'Mobility', 'Complexity'])\n",
    "elapsed = time.time() - t\n",
    "print(elapsed)"
   ]
  }
 ],
 "metadata": {
  "kernelspec": {
   "display_name": "Python 3",
   "language": "python",
   "name": "python3"
  },
  "language_info": {
   "codemirror_mode": {
    "name": "ipython",
    "version": 3
   },
   "file_extension": ".py",
   "mimetype": "text/x-python",
   "name": "python",
   "nbconvert_exporter": "python",
   "pygments_lexer": "ipython3",
   "version": "3.8.11"
  }
 },
 "nbformat": 4,
 "nbformat_minor": 5
}
