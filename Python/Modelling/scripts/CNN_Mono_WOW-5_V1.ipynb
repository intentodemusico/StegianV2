{
 "cells": [
  {
   "cell_type": "code",
   "execution_count": 40,
   "metadata": {
    "id": "w1GUNNsgoOIX"
   },
   "outputs": [],
   "source": [
    "import pickle\n",
    "import numpy as np\n",
    "import pandas as pd\n",
    "import tensorflow as tf\n",
    "import shutil, os, random,cv2\n",
    "import matplotlib.image as mpimg\n",
    "import matplotlib.pyplot as plt\n",
    "from tensorflow.keras import backend as K\n",
    "from tensorflow.keras import layers, models, callbacks\n",
    "from sklearn.model_selection import train_test_split, KFold"
   ]
  },
  {
   "cell_type": "code",
   "execution_count": 4,
   "metadata": {},
   "outputs": [],
   "source": [
    "def recall_m(y_true, y_pred):\n",
    "    true_positives = K.sum(K.round(K.clip(y_true * y_pred, 0, 1)))\n",
    "    possible_positives = K.sum(K.round(K.clip(y_true, 0, 1)))\n",
    "    recall = true_positives / (possible_positives + K.epsilon())\n",
    "    return recall\n",
    "\n",
    "def precision_m(y_true, y_pred):\n",
    "    true_positives = K.sum(K.round(K.clip(y_true * y_pred, 0, 1)))\n",
    "    predicted_positives = K.sum(K.round(K.clip(y_pred, 0, 1)))\n",
    "    precision = true_positives / (predicted_positives + K.epsilon())\n",
    "    return precision\n",
    "\n",
    "def f1_m(y_true, y_pred):\n",
    "    precision = precision_m(y_true, y_pred)\n",
    "    recall = recall_m(y_true, y_pred)\n",
    "    return 2*((precision*recall)/(precision+recall+K.epsilon()))"
   ]
  },
  {
   "cell_type": "markdown",
   "metadata": {
    "id": "iVPSCrSXpnzn"
   },
   "source": [
    "# **1. Descargar y preparar conjunto de datos**"
   ]
  },
  {
   "cell_type": "markdown",
   "metadata": {},
   "source": [
    "### Funciones anónimas para obtener las categorías de cada imágen"
   ]
  },
  {
   "cell_type": "code",
   "execution_count": 5,
   "metadata": {},
   "outputs": [],
   "source": [
    "isStego=lambda x:1 if x[:6]==\"stego_\" else 0\n",
    "getYFromImageList=lambda x: [isStego(element) for element in x]"
   ]
  },
  {
   "cell_type": "code",
   "execution_count": 6,
   "metadata": {},
   "outputs": [],
   "source": [
    "folder=\"./MonoSamples/WOW_5/\""
   ]
  },
  {
   "cell_type": "code",
   "execution_count": 7,
   "metadata": {},
   "outputs": [],
   "source": [
    "images= os.listdir(folder) #[x[0] for x in os.walk(\"./readySamples/WOW_5\")]\n",
    "random.shuffle(images)"
   ]
  },
  {
   "cell_type": "code",
   "execution_count": 8,
   "metadata": {},
   "outputs": [
    {
     "data": {
      "text/plain": [
       "40000"
      ]
     },
     "execution_count": 8,
     "metadata": {},
     "output_type": "execute_result"
    }
   ],
   "source": [
    "len(images)"
   ]
  },
  {
   "cell_type": "markdown",
   "metadata": {},
   "source": [
    "### Orden aleatorio del dataset"
   ]
  },
  {
   "cell_type": "markdown",
   "metadata": {},
   "source": [
    "### Obteniendo las categorías"
   ]
  },
  {
   "cell_type": "code",
   "execution_count": 9,
   "metadata": {},
   "outputs": [],
   "source": [
    "y=np.array(getYFromImageList(images),dtype='float32')"
   ]
  },
  {
   "cell_type": "code",
   "execution_count": 10,
   "metadata": {},
   "outputs": [
    {
     "data": {
      "text/plain": [
       "(40000,)"
      ]
     },
     "execution_count": 10,
     "metadata": {},
     "output_type": "execute_result"
    }
   ],
   "source": [
    "y.shape"
   ]
  },
  {
   "cell_type": "code",
   "execution_count": 11,
   "metadata": {
    "scrolled": false
   },
   "outputs": [
    {
     "data": {
      "text/plain": [
       "array([1., 1., 0., ..., 1., 0., 0.], dtype=float32)"
      ]
     },
     "execution_count": 11,
     "metadata": {},
     "output_type": "execute_result"
    }
   ],
   "source": [
    "y"
   ]
  },
  {
   "cell_type": "code",
   "execution_count": 12,
   "metadata": {
    "scrolled": true
   },
   "outputs": [
    {
     "data": {
      "text/plain": [
       "<matplotlib.image.AxesImage at 0x1d266d93520>"
      ]
     },
     "execution_count": 12,
     "metadata": {},
     "output_type": "execute_result"
    }
   ],
   "source": [
    "plt.imshow(mpimg.imread(folder+images[15]))\n",
    "plt.show()"
   ]
  },
  {
   "cell_type": "markdown",
   "metadata": {},
   "source": [
    "### Obteniendo data de x"
   ]
  },
  {
   "cell_type": "code",
   "execution_count": 13,
   "metadata": {},
   "outputs": [],
   "source": [
    "import time"
   ]
  },
  {
   "cell_type": "markdown",
   "metadata": {},
   "source": [
    "# Acá se usan 30GB de memoria (?) algo raro está pasando, de pronto hay que convertirlo a np array en otra línea. List comprehension usa mucha memoria..."
   ]
  },
  {
   "cell_type": "code",
   "execution_count": 20,
   "metadata": {
    "scrolled": true
   },
   "outputs": [],
   "source": [
    "#.reshape(49152)\n",
    "#/255,dtype='int8'\n",
    "#Editar tamaño de muestra\n",
    "#Editar canal\n",
    "x=np.array([mpimg.imread(folder+images[i]) for i in range(len(images))],dtype=tf.float32)"
   ]
  },
  {
   "cell_type": "code",
   "execution_count": 16,
   "metadata": {},
   "outputs": [
    {
     "data": {
      "text/plain": [
       "[]"
      ]
     },
     "execution_count": 16,
     "metadata": {},
     "output_type": "execute_result"
    }
   ],
   "source": [
    "import gc\n",
    "gc.enable()\n",
    "gc.collect()\n",
    "gc.garbage"
   ]
  },
  {
   "cell_type": "code",
   "execution_count": 21,
   "metadata": {},
   "outputs": [
    {
     "name": "stdout",
     "output_type": "stream",
     "text": [
      "(40000, 128, 128)\n"
     ]
    }
   ],
   "source": [
    "print(x.shape)"
   ]
  },
  {
   "cell_type": "markdown",
   "metadata": {},
   "source": [
    "#Aqeuí realizar el cálculo del tiempo con los diferentes métodos (.append, con diccionario, con list comprehension, con reshape directamente, sin reshape)"
   ]
  },
  {
   "cell_type": "markdown",
   "metadata": {},
   "source": [
    "from sklearn.preprocessing import StandardScaler\n",
    "X_scaled = StandardScaler().fit_transform(x)\n",
    "X_scaled[:5]"
   ]
  },
  {
   "cell_type": "markdown",
   "metadata": {},
   "source": [
    "features = X_scaled.T\n",
    "cov_matrix = np.cov(features)\n",
    "cov_matrix[:5]"
   ]
  },
  {
   "cell_type": "markdown",
   "metadata": {},
   "source": [
    "values, vectors = np.linalg.eig(cov_matrix)\n",
    "values[:5]"
   ]
  },
  {
   "cell_type": "markdown",
   "metadata": {},
   "source": [
    "vectors[:5]"
   ]
  },
  {
   "cell_type": "markdown",
   "metadata": {},
   "source": [
    "### Dividiendo entrenamiento y prueba"
   ]
  },
  {
   "cell_type": "markdown",
   "metadata": {},
   "source": [
    "X_train, X_test, y_train, y_test = train_test_split(data, y, test_size=0.2)\n",
    "print (X_train.shape, y_train.shape)\n",
    "print (X_test.shape, y_test.shape)"
   ]
  },
  {
   "cell_type": "markdown",
   "metadata": {},
   "source": [
    "#reshape data to fit model\n",
    "X_train = X_train.reshape(71647,128,128,3)\n",
    "X_test = X_test.reshape(17912,128,128,3)"
   ]
  },
  {
   "cell_type": "markdown",
   "metadata": {
    "id": "eCzkFIWft9T-"
   },
   "source": [
    "# **3. Base Convolucional**"
   ]
  },
  {
   "cell_type": "code",
   "execution_count": 22,
   "metadata": {},
   "outputs": [],
   "source": [
    "# Custom filter\n",
    "def high_pass(shape, dtype=None):\n",
    "    f = np.zeros(shape, dtype='float32')\n",
    "    f[:,:,0,0] = np.array([\n",
    "            [ -1,  2 ,  -2,  2 ,  -1],\n",
    "            [ 2 , -6 ,  8 , -6 ,  2 ],\n",
    "            [ -2,  8 , -12,  8 ,  -2 ],\n",
    "            [ 2 , -6 ,  8 , -6 ,  2 ],\n",
    "            [ -1,  2 ,  -2,  2 ,  -1]\n",
    "        ],dtype = 'float')\n",
    "    f/=12    \n",
    "    return K.variable(f, dtype='float32')"
   ]
  },
  {
   "cell_type": "code",
   "execution_count": 23,
   "metadata": {},
   "outputs": [],
   "source": [
    "kf = KFold(n_splits=5, shuffle=False)\n",
    "acc_per_fold = []\n",
    "loss_per_fold = []"
   ]
  },
  {
   "cell_type": "code",
   "execution_count": 34,
   "metadata": {
    "scrolled": true
   },
   "outputs": [
    {
     "data": {
      "text/plain": [
       "[[1.0, 'stego_521_n02640242_6739.JPEG'],\n",
       " [0.0, '741_n02167151_8565.JPEG'],\n",
       " [1.0, 'stego_426_n03447447_935.JPEG'],\n",
       " [1.0, 'stego_781_n02012849_10612.JPEG'],\n",
       " [1.0, 'stego_348_n02119789_4272.JPEG'],\n",
       " [1.0, 'stego_228_n04090263_1133.JPEG'],\n",
       " [1.0, 'stego_785_n07718747_7324.JPEG'],\n",
       " [0.0, '770_n04604644_11638.JPEG'],\n",
       " [0.0, '722_n07717410_2350.JPEG'],\n",
       " [1.0, 'stego_577_n04479046_14951.JPEG'],\n",
       " [0.0, '913_n02389026_24702.JPEG'],\n",
       " [0.0, '478_n03769881_1160.JPEG'],\n",
       " [1.0, 'stego_426_n03447447_13302.JPEG'],\n",
       " [1.0, 'stego_360_n02106030_8406.JPEG'],\n",
       " [1.0, 'stego_791_n03814639_6975.JPEG'],\n",
       " [1.0, 'stego_724_n03956157_17275.JPEG'],\n",
       " [1.0, 'stego_392_n02085782_16204.JPEG'],\n",
       " [1.0, 'stego_846_n01784675_3401.JPEG'],\n",
       " [1.0, 'stego_456_n03017168_43234.JPEG']]"
      ]
     },
     "execution_count": 34,
     "metadata": {},
     "output_type": "execute_result"
    }
   ],
   "source": [
    "[[y[i],images[i]] for i in range(1,20)]"
   ]
  },
  {
   "cell_type": "code",
   "execution_count": 30,
   "metadata": {},
   "outputs": [],
   "source": [
    "x=x.reshape(len(x),128,128,1)"
   ]
  },
  {
   "cell_type": "code",
   "execution_count": 25,
   "metadata": {
    "scrolled": false
   },
   "outputs": [
    {
     "data": {
      "text/plain": [
       "8"
      ]
     },
     "execution_count": 25,
     "metadata": {},
     "output_type": "execute_result"
    }
   ],
   "source": [
    "gc.collect()"
   ]
  },
  {
   "cell_type": "code",
   "execution_count": 26,
   "metadata": {
    "scrolled": true
   },
   "outputs": [
    {
     "name": "stdout",
     "output_type": "stream",
     "text": [
      "32000 8000\n",
      "32000 8000\n",
      "32000 8000\n",
      "32000 8000\n",
      "32000 8000\n"
     ]
    }
   ],
   "source": [
    "for asd, das in kf.split(x,y):\n",
    "    print(len(x[asd]),len(x[das]))"
   ]
  },
  {
   "cell_type": "code",
   "execution_count": 29,
   "metadata": {},
   "outputs": [
    {
     "data": {
      "text/plain": [
       "(40000, 128, 128)"
      ]
     },
     "execution_count": 29,
     "metadata": {},
     "output_type": "execute_result"
    }
   ],
   "source": [
    "x.shape"
   ]
  },
  {
   "cell_type": "code",
   "execution_count": 35,
   "metadata": {},
   "outputs": [
    {
     "data": {
      "text/plain": [
       "5739"
      ]
     },
     "execution_count": 35,
     "metadata": {},
     "output_type": "execute_result"
    }
   ],
   "source": [
    "gc.collect()"
   ]
  },
  {
   "cell_type": "code",
   "execution_count": 46,
   "metadata": {},
   "outputs": [
    {
     "data": {
      "text/plain": [
       "(128, 128, 1)"
      ]
     },
     "execution_count": 46,
     "metadata": {},
     "output_type": "execute_result"
    }
   ],
   "source": [
    "x[0].shape"
   ]
  },
  {
   "cell_type": "code",
   "execution_count": 78,
   "metadata": {
    "scrolled": false
   },
   "outputs": [
    {
     "name": "stdout",
     "output_type": "stream",
     "text": [
      "as [  0   1   2   3 252 253 254 255]\n"
     ]
    },
    {
     "data": {
      "image/png": "[encoded data removed]",
      "text/plain": [
       "<Figure size 640x480 with 1 Axes>"
      ]
     },
     "metadata": {},
     "output_type": "display_data"
    }
   ],
   "source": [
    "cover=mpimg.imread(\"cover1.JPEG\")#[:,::-1]\n",
    "stego=mpimg.imread(\"stego1.JPEG\")#[:,::-1]\n",
    "print(\"as\",np.unique(cover-stego))\n",
    "plt.imshow((cover-stego)*63,cmap='gray' )#(cover-stego)*255)#-stego)*255)\n",
    "plt.show()"
   ]
  },
  {
   "cell_type": "code",
   "execution_count": 100,
   "metadata": {},
   "outputs": [
    {
     "data": {
      "image/png": "[encoded data removed]",
      "text/plain": [
       "<Figure size 640x480 with 1 Axes>"
      ]
     },
     "metadata": {},
     "output_type": "display_data"
    }
   ],
   "source": [
    "from scipy import ndimage\n",
    "kernal=   np.array([\n",
    "            [ -1,  2 ,  -2,  2 ,  -1],\n",
    "            [ 2 , -6 ,  8 , -6 ,  2 ],\n",
    "            [ -2,  8 , -12,  8 ,  -2 ],\n",
    "            [ 2 , -6 ,  8 , -6 ,  2 ],\n",
    "            [ -1,  2 ,  -2,  2 ,  -1]\n",
    "        ],dtype = 'float')/12  \n",
    "    \n",
    "plt.imshow(ndimage.convolve(cover, kernal)-ndimage.convolve(stego, kernal),cmap='gray')#-ndimage.convolve(stego, kernal)\n",
    "plt.show()"
   ]
  },
  {
   "cell_type": "code",
   "execution_count": 141,
   "metadata": {
    "scrolled": true
   },
   "outputs": [
    {
     "data": {
      "text/plain": [
       "29655"
      ]
     },
     "execution_count": 141,
     "metadata": {},
     "output_type": "execute_result"
    }
   ],
   "source": [
    "gc.collect()"
   ]
  },
  {
   "cell_type": "markdown",
   "metadata": {},
   "source": [
    "# Acá también se usa mucha memoria"
   ]
  },
  {
   "cell_type": "code",
   "execution_count": 145,
   "metadata": {
    "id": "cTktm9uDsdPp",
    "scrolled": true
   },
   "outputs": [
    {
     "name": "stdout",
     "output_type": "stream",
     "text": [
      "------------------------------------------------------------------------\n",
      "Training for fold 1 ...\n",
      "Epoch 1/200\n",
      "500/500 [==============================] - 4294s 9s/step - loss: 7.6431 - accuracy: 0.5002 - f1_m: 0.6644 - precision_m: 0.5002 - recall_m: 1.0000 - val_loss: 7.6685 - val_accuracy: 0.4995 - val_f1_m: 0.6641 - val_precision_m: 0.4995 - val_recall_m: 1.0000\n",
      "Epoch 2/200\n",
      "500/500 [==============================] - 4437s 9s/step - loss: 7.6686 - accuracy: 0.5002 - f1_m: 0.6646 - precision_m: 0.5002 - recall_m: 1.0000 - val_loss: 7.6685 - val_accuracy: 0.4995 - val_f1_m: 0.6641 - val_precision_m: 0.4995 - val_recall_m: 1.0000\n",
      "Epoch 3/200\n",
      "500/500 [==============================] - 4426s 9s/step - loss: 7.6686 - accuracy: 0.5002 - f1_m: 0.6643 - precision_m: 0.5002 - recall_m: 1.0000 - val_loss: 7.6685 - val_accuracy: 0.4995 - val_f1_m: 0.6641 - val_precision_m: 0.4995 - val_recall_m: 1.0000\n",
      "Epoch 4/200\n",
      "500/500 [==============================] - 4406s 9s/step - loss: 7.6686 - accuracy: 0.5002 - f1_m: 0.6644 - precision_m: 0.5002 - recall_m: 1.0000 - val_loss: 7.6685 - val_accuracy: 0.4995 - val_f1_m: 0.6641 - val_precision_m: 0.4995 - val_recall_m: 1.0000\n",
      "Epoch 5/200\n",
      "500/500 [==============================] - 4399s 9s/step - loss: 7.6686 - accuracy: 0.5002 - f1_m: 0.6645 - precision_m: 0.5002 - recall_m: 1.0000 - val_loss: 7.6685 - val_accuracy: 0.4995 - val_f1_m: 0.6641 - val_precision_m: 0.4995 - val_recall_m: 1.0000\n",
      "Epoch 6/200\n",
      "500/500 [==============================] - 4401s 9s/step - loss: 7.6686 - accuracy: 0.5002 - f1_m: 0.6644 - precision_m: 0.5002 - recall_m: 1.0000 - val_loss: 7.6685 - val_accuracy: 0.4995 - val_f1_m: 0.6641 - val_precision_m: 0.4995 - val_recall_m: 1.0000\n",
      "Epoch 7/200\n",
      "500/500 [==============================] - 4384s 9s/step - loss: 7.6686 - accuracy: 0.5002 - f1_m: 0.6642 - precision_m: 0.5002 - recall_m: 1.0000 - val_loss: 7.6685 - val_accuracy: 0.4995 - val_f1_m: 0.6641 - val_precision_m: 0.4995 - val_recall_m: 1.0000\n",
      "Epoch 8/200\n",
      "500/500 [==============================] - 4369s 9s/step - loss: 7.6686 - accuracy: 0.5002 - f1_m: 0.6644 - precision_m: 0.5002 - recall_m: 1.0000 - val_loss: 7.6685 - val_accuracy: 0.4995 - val_f1_m: 0.6641 - val_precision_m: 0.4995 - val_recall_m: 1.0000\n",
      "Epoch 9/200\n",
      "500/500 [==============================] - 4397s 9s/step - loss: 7.6686 - accuracy: 0.5002 - f1_m: 0.6645 - precision_m: 0.5002 - recall_m: 1.0000 - val_loss: 7.6685 - val_accuracy: 0.4995 - val_f1_m: 0.6641 - val_precision_m: 0.4995 - val_recall_m: 1.0000\n",
      "Epoch 10/200\n",
      "500/500 [==============================] - 4395s 9s/step - loss: 7.6686 - accuracy: 0.5002 - f1_m: 0.6643 - precision_m: 0.5002 - recall_m: 1.0000 - val_loss: 7.6685 - val_accuracy: 0.4995 - val_f1_m: 0.6641 - val_precision_m: 0.4995 - val_recall_m: 1.0000\n",
      "Epoch 11/200\n",
      "500/500 [==============================] - 4374s 9s/step - loss: 7.6686 - accuracy: 0.5002 - f1_m: 0.6644 - precision_m: 0.5002 - recall_m: 1.0000 - val_loss: 7.6685 - val_accuracy: 0.4995 - val_f1_m: 0.6641 - val_precision_m: 0.4995 - val_recall_m: 1.0000\n",
      "Epoch 12/200\n",
      "500/500 [==============================] - 4375s 9s/step - loss: 7.6686 - accuracy: 0.5002 - f1_m: 0.6647 - precision_m: 0.5002 - recall_m: 1.0000 - val_loss: 7.6685 - val_accuracy: 0.4995 - val_f1_m: 0.6641 - val_precision_m: 0.4995 - val_recall_m: 1.0000\n",
      "Epoch 13/200\n",
      "500/500 [==============================] - 4377s 9s/step - loss: 7.6686 - accuracy: 0.5002 - f1_m: 0.6643 - precision_m: 0.5002 - recall_m: 1.0000 - val_loss: 7.6685 - val_accuracy: 0.4995 - val_f1_m: 0.6641 - val_precision_m: 0.4995 - val_recall_m: 1.0000\n",
      "Epoch 14/200\n",
      "500/500 [==============================] - 4385s 9s/step - loss: 7.6686 - accuracy: 0.5002 - f1_m: 0.6644 - precision_m: 0.5002 - recall_m: 1.0000 - val_loss: 7.6685 - val_accuracy: 0.4995 - val_f1_m: 0.6641 - val_precision_m: 0.4995 - val_recall_m: 1.0000\n",
      "Epoch 15/200\n",
      "500/500 [==============================] - 4374s 9s/step - loss: 7.6686 - accuracy: 0.5002 - f1_m: 0.6645 - precision_m: 0.5002 - recall_m: 1.0000 - val_loss: 7.6685 - val_accuracy: 0.4995 - val_f1_m: 0.6641 - val_precision_m: 0.4995 - val_recall_m: 1.0000\n",
      "Epoch 16/200\n",
      "500/500 [==============================] - 4387s 9s/step - loss: 7.6686 - accuracy: 0.5002 - f1_m: 0.6644 - precision_m: 0.5002 - recall_m: 1.0000 - val_loss: 7.6685 - val_accuracy: 0.4995 - val_f1_m: 0.6641 - val_precision_m: 0.4995 - val_recall_m: 1.0000\n",
      "Epoch 17/200\n",
      "500/500 [==============================] - 4399s 9s/step - loss: 7.6686 - accuracy: 0.5002 - f1_m: 0.6642 - precision_m: 0.5002 - recall_m: 1.0000 - val_loss: 7.6685 - val_accuracy: 0.4995 - val_f1_m: 0.6641 - val_precision_m: 0.4995 - val_recall_m: 1.0000\n",
      "Epoch 18/200\n",
      "500/500 [==============================] - 4399s 9s/step - loss: 7.6686 - accuracy: 0.5002 - f1_m: 0.6645 - precision_m: 0.5002 - recall_m: 1.0000 - val_loss: 7.6685 - val_accuracy: 0.4995 - val_f1_m: 0.6641 - val_precision_m: 0.4995 - val_recall_m: 1.0000\n",
      "Epoch 19/200\n",
      "500/500 [==============================] - 4380s 9s/step - loss: 7.6686 - accuracy: 0.5002 - f1_m: 0.6645 - precision_m: 0.5002 - recall_m: 1.0000 - val_loss: 7.6685 - val_accuracy: 0.4995 - val_f1_m: 0.6641 - val_precision_m: 0.4995 - val_recall_m: 1.0000\n",
      "Epoch 20/200\n",
      "500/500 [==============================] - 4382s 9s/step - loss: 7.6686 - accuracy: 0.5002 - f1_m: 0.6647 - precision_m: 0.5002 - recall_m: 1.0000 - val_loss: 7.6685 - val_accuracy: 0.4995 - val_f1_m: 0.6641 - val_precision_m: 0.4995 - val_recall_m: 1.0000\n",
      "Epoch 21/200\n",
      "500/500 [==============================] - 4386s 9s/step - loss: 7.6686 - accuracy: 0.5002 - f1_m: 0.6645 - precision_m: 0.5002 - recall_m: 1.0000 - val_loss: 7.6685 - val_accuracy: 0.4995 - val_f1_m: 0.6641 - val_precision_m: 0.4995 - val_recall_m: 1.0000\n",
      "\n",
      "\n",
      "\n",
      "\n",
      "\n",
      "Fitted\n",
      "250/250 - 239s - loss: 7.6685 - accuracy: 0.4995 - f1_m: 0.6618 - precision_m: 0.4995 - recall_m: 1.0000\n",
      "Loss: 7.6685004234313965 \n",
      "Accuracy: 0.49950000643730164 \n",
      "F1 score: 0.6617919206619263 \n",
      "Precision: 0.49950000643730164 \n",
      "Recall 1.0\n"
     ]
    },
    {
     "data": {
      "image/png": "[encoded data removed]",
      "text/plain": [
       "<Figure size 640x480 with 1 Axes>"
      ]
     },
     "metadata": {},
     "output_type": "display_data"
    },
    {
     "name": "stdout",
     "output_type": "stream",
     "text": [
      "Next fold\n",
      "Score for fold 1: loss of 7.6685004234313965; accuracy of 49.950000643730164%\n",
      "------------------------------------------------------------------------\n",
      "Training for fold 2 ...\n",
      "Epoch 1/200\n",
      "500/500 [==============================] - 4368s 9s/step - loss: 0.6932 - accuracy: 0.4998 - f1_m: 0.6634 - precision_m: 0.4991 - recall_m: 0.9996 - val_loss: 0.6931 - val_accuracy: 0.4959 - val_f1_m: 0.6669 - val_precision_m: 0.5031 - val_recall_m: 0.9984\n",
      "Epoch 2/200\n",
      "500/500 [==============================] - 4335s 9s/step - loss: 0.6931 - accuracy: 0.4973 - f1_m: 0.6618 - precision_m: 0.4993 - recall_m: 0.9918 - val_loss: 0.6931 - val_accuracy: 0.4949 - val_f1_m: 0.6598 - val_precision_m: 0.5033 - val_recall_m: 0.9672\n",
      "Epoch 3/200\n",
      "500/500 [==============================] - 4328s 9s/step - loss: 0.6931 - accuracy: 0.4973 - f1_m: 0.6452 - precision_m: 0.5003 - recall_m: 0.9350 - val_loss: 0.6931 - val_accuracy: 0.5059 - val_f1_m: 0.6616 - val_precision_m: 0.5042 - val_recall_m: 0.9715\n",
      "Epoch 4/200\n",
      "500/500 [==============================] - 4337s 9s/step - loss: 0.6931 - accuracy: 0.5054 - f1_m: 0.6270 - precision_m: 0.4991 - recall_m: 0.8589 - val_loss: 0.6931 - val_accuracy: 0.5000 - val_f1_m: 0.5885 - val_precision_m: 0.5018 - val_recall_m: 0.7217\n",
      "Epoch 5/200\n",
      "500/500 [==============================] - 4371s 9s/step - loss: 0.6931 - accuracy: 0.5032 - f1_m: 0.5870 - precision_m: 0.5025 - recall_m: 0.7261 - val_loss: 0.6931 - val_accuracy: 0.5019 - val_f1_m: 0.5838 - val_precision_m: 0.5033 - val_recall_m: 0.7050\n",
      "Epoch 6/200\n",
      "500/500 [==============================] - 4340s 9s/step - loss: 0.6931 - accuracy: 0.5036 - f1_m: 0.6246 - precision_m: 0.4986 - recall_m: 0.8506 - val_loss: 0.6931 - val_accuracy: 0.5024 - val_f1_m: 0.6005 - val_precision_m: 0.5036 - val_recall_m: 0.7540\n",
      "Epoch 7/200\n",
      "500/500 [==============================] - 4326s 9s/step - loss: 0.6931 - accuracy: 0.5031 - f1_m: 0.6293 - precision_m: 0.5001 - recall_m: 0.8589 - val_loss: 0.6931 - val_accuracy: 0.5045 - val_f1_m: 0.6185 - val_precision_m: 0.5049 - val_recall_m: 0.8080\n",
      "Epoch 8/200\n",
      "500/500 [==============================] - 4296s 9s/step - loss: 0.6931 - accuracy: 0.5037 - f1_m: 0.6478 - precision_m: 0.4997 - recall_m: 0.9350 - val_loss: 0.6931 - val_accuracy: 0.5076 - val_f1_m: 0.6531 - val_precision_m: 0.5044 - val_recall_m: 0.9358\n",
      "Epoch 9/200\n",
      "500/500 [==============================] - 4300s 9s/step - loss: 0.6931 - accuracy: 0.5012 - f1_m: 0.6260 - precision_m: 0.4987 - recall_m: 0.8550 - val_loss: 0.6931 - val_accuracy: 0.5027 - val_f1_m: 0.6622 - val_precision_m: 0.5045 - val_recall_m: 0.9733\n",
      "Epoch 10/200\n",
      "500/500 [==============================] - 4309s 9s/step - loss: 0.6931 - accuracy: 0.5061 - f1_m: 0.6330 - precision_m: 0.5000 - recall_m: 0.8753 - val_loss: 0.6931 - val_accuracy: 0.4995 - val_f1_m: 0.5663 - val_precision_m: 0.4980 - val_recall_m: 0.6663\n",
      "Epoch 11/200\n",
      "500/500 [==============================] - 4317s 9s/step - loss: 0.6931 - accuracy: 0.5036 - f1_m: 0.5264 - precision_m: 0.4956 - recall_m: 0.5865 - val_loss: 0.6931 - val_accuracy: 0.5041 - val_f1_m: 0.6418 - val_precision_m: 0.5021 - val_recall_m: 0.8982\n",
      "Epoch 12/200\n",
      "500/500 [==============================] - 4295s 9s/step - loss: 0.6931 - accuracy: 0.5039 - f1_m: 0.5836 - precision_m: 0.4979 - recall_m: 0.7235 - val_loss: 0.6931 - val_accuracy: 0.5016 - val_f1_m: 0.4921 - val_precision_m: 0.5007 - val_recall_m: 0.4919\n",
      "Epoch 13/200\n",
      "500/500 [==============================] - 4306s 9s/step - loss: 0.6931 - accuracy: 0.5051 - f1_m: 0.5127 - precision_m: 0.4997 - recall_m: 0.5435 - val_loss: 0.6931 - val_accuracy: 0.4991 - val_f1_m: 0.5348 - val_precision_m: 0.4986 - val_recall_m: 0.5854\n",
      "Epoch 14/200\n",
      "500/500 [==============================] - 4294s 9s/step - loss: 0.6931 - accuracy: 0.5021 - f1_m: 0.6177 - precision_m: 0.4988 - recall_m: 0.8399 - val_loss: 0.6931 - val_accuracy: 0.5038 - val_f1_m: 0.6199 - val_precision_m: 0.5037 - val_recall_m: 0.8154\n",
      "Epoch 15/200\n",
      "500/500 [==============================] - 4324s 9s/step - loss: 0.6931 - accuracy: 0.5008 - f1_m: 0.6131 - precision_m: 0.4999 - recall_m: 0.8126 - val_loss: 0.6931 - val_accuracy: 0.5054 - val_f1_m: 0.6453 - val_precision_m: 0.5054 - val_recall_m: 0.9018\n",
      "Epoch 16/200\n",
      "500/500 [==============================] - 4595s 9s/step - loss: 0.6931 - accuracy: 0.5035 - f1_m: 0.5927 - precision_m: 0.5008 - recall_m: 0.7429 - val_loss: 0.6931 - val_accuracy: 0.5036 - val_f1_m: 0.5294 - val_precision_m: 0.4996 - val_recall_m: 0.5720\n",
      "Epoch 17/200\n",
      "236/500 [=============>................] - ETA: 38:32 - loss: 0.6931 - accuracy: 0.5050 - f1_m: 0.5103 - precision_m: 0.4965 - recall_m: 0.5340"
     ]
    },
    {
     "ename": "KeyboardInterrupt",
     "evalue": "",
     "output_type": "error",
     "traceback": [
      "\u001b[1;31m---------------------------------------------------------------------------\u001b[0m",
      "\u001b[1;31mKeyboardInterrupt\u001b[0m                         Traceback (most recent call last)",
      "\u001b[1;32m<ipython-input-145-84fa7b438231>\u001b[0m in \u001b[0;36m<module>\u001b[1;34m\u001b[0m\n\u001b[0;32m     36\u001b[0m     \u001b[0mprint\u001b[0m\u001b[1;33m(\u001b[0m\u001b[1;34mf'Training for fold {fold_no} ...'\u001b[0m\u001b[1;33m)\u001b[0m\u001b[1;33m\u001b[0m\u001b[1;33m\u001b[0m\u001b[0m\n\u001b[0;32m     37\u001b[0m     \u001b[1;31m#Fitting\u001b[0m\u001b[1;33m\u001b[0m\u001b[1;33m\u001b[0m\u001b[1;33m\u001b[0m\u001b[0m\n\u001b[1;32m---> 38\u001b[1;33m     \u001b[0mhistory\u001b[0m \u001b[1;33m=\u001b[0m \u001b[0mmodel\u001b[0m\u001b[1;33m.\u001b[0m\u001b[0mfit\u001b[0m\u001b[1;33m(\u001b[0m\u001b[0mx\u001b[0m\u001b[1;33m[\u001b[0m\u001b[0mtrain\u001b[0m\u001b[1;33m]\u001b[0m\u001b[1;33m,\u001b[0m \u001b[0my\u001b[0m\u001b[1;33m[\u001b[0m\u001b[0mtrain\u001b[0m\u001b[1;33m]\u001b[0m\u001b[1;33m,\u001b[0m\u001b[0mvalidation_data\u001b[0m\u001b[1;33m=\u001b[0m\u001b[1;33m(\u001b[0m\u001b[0mx\u001b[0m\u001b[1;33m[\u001b[0m\u001b[0mtest\u001b[0m\u001b[1;33m]\u001b[0m\u001b[1;33m,\u001b[0m \u001b[0my\u001b[0m\u001b[1;33m[\u001b[0m\u001b[0mtest\u001b[0m\u001b[1;33m]\u001b[0m\u001b[1;33m)\u001b[0m\u001b[1;33m,\u001b[0m \u001b[0mepochs\u001b[0m\u001b[1;33m=\u001b[0m\u001b[1;36m200\u001b[0m\u001b[1;33m,\u001b[0m \u001b[0mcallbacks\u001b[0m\u001b[1;33m=\u001b[0m\u001b[1;33m[\u001b[0m\u001b[0mearlystopping\u001b[0m\u001b[1;33m]\u001b[0m\u001b[1;33m,\u001b[0m\u001b[0mbatch_size\u001b[0m\u001b[1;33m=\u001b[0m\u001b[1;36m64\u001b[0m\u001b[1;33m)\u001b[0m\u001b[1;33m\u001b[0m\u001b[1;33m\u001b[0m\u001b[0m\n\u001b[0m\u001b[0;32m     39\u001b[0m     \u001b[0mgc\u001b[0m\u001b[1;33m.\u001b[0m\u001b[0mcollect\u001b[0m\u001b[1;33m(\u001b[0m\u001b[1;33m)\u001b[0m\u001b[1;33m\u001b[0m\u001b[1;33m\u001b[0m\u001b[0m\n\u001b[0;32m     40\u001b[0m     \u001b[0mprint\u001b[0m\u001b[1;33m(\u001b[0m\u001b[1;34m\"\\n\\n\\n\\n\\nFitted\"\u001b[0m\u001b[1;33m)\u001b[0m\u001b[1;33m\u001b[0m\u001b[1;33m\u001b[0m\u001b[0m\n",
      "\u001b[1;32m~\\anaconda3\\envs\\proyecto\\lib\\site-packages\\tensorflow\\python\\keras\\engine\\training.py\u001b[0m in \u001b[0;36m_method_wrapper\u001b[1;34m(self, *args, **kwargs)\u001b[0m\n\u001b[0;32m    106\u001b[0m   \u001b[1;32mdef\u001b[0m \u001b[0m_method_wrapper\u001b[0m\u001b[1;33m(\u001b[0m\u001b[0mself\u001b[0m\u001b[1;33m,\u001b[0m \u001b[1;33m*\u001b[0m\u001b[0margs\u001b[0m\u001b[1;33m,\u001b[0m \u001b[1;33m**\u001b[0m\u001b[0mkwargs\u001b[0m\u001b[1;33m)\u001b[0m\u001b[1;33m:\u001b[0m\u001b[1;33m\u001b[0m\u001b[1;33m\u001b[0m\u001b[0m\n\u001b[0;32m    107\u001b[0m     \u001b[1;32mif\u001b[0m \u001b[1;32mnot\u001b[0m \u001b[0mself\u001b[0m\u001b[1;33m.\u001b[0m\u001b[0m_in_multi_worker_mode\u001b[0m\u001b[1;33m(\u001b[0m\u001b[1;33m)\u001b[0m\u001b[1;33m:\u001b[0m  \u001b[1;31m# pylint: disable=protected-access\u001b[0m\u001b[1;33m\u001b[0m\u001b[1;33m\u001b[0m\u001b[0m\n\u001b[1;32m--> 108\u001b[1;33m       \u001b[1;32mreturn\u001b[0m \u001b[0mmethod\u001b[0m\u001b[1;33m(\u001b[0m\u001b[0mself\u001b[0m\u001b[1;33m,\u001b[0m \u001b[1;33m*\u001b[0m\u001b[0margs\u001b[0m\u001b[1;33m,\u001b[0m \u001b[1;33m**\u001b[0m\u001b[0mkwargs\u001b[0m\u001b[1;33m)\u001b[0m\u001b[1;33m\u001b[0m\u001b[1;33m\u001b[0m\u001b[0m\n\u001b[0m\u001b[0;32m    109\u001b[0m \u001b[1;33m\u001b[0m\u001b[0m\n\u001b[0;32m    110\u001b[0m     \u001b[1;31m# Running inside `run_distribute_coordinator` already.\u001b[0m\u001b[1;33m\u001b[0m\u001b[1;33m\u001b[0m\u001b[1;33m\u001b[0m\u001b[0m\n",
      "\u001b[1;32m~\\anaconda3\\envs\\proyecto\\lib\\site-packages\\tensorflow\\python\\keras\\engine\\training.py\u001b[0m in \u001b[0;36mfit\u001b[1;34m(self, x, y, batch_size, epochs, verbose, callbacks, validation_split, validation_data, shuffle, class_weight, sample_weight, initial_epoch, steps_per_epoch, validation_steps, validation_batch_size, validation_freq, max_queue_size, workers, use_multiprocessing)\u001b[0m\n\u001b[0;32m   1096\u001b[0m                 batch_size=batch_size):\n\u001b[0;32m   1097\u001b[0m               \u001b[0mcallbacks\u001b[0m\u001b[1;33m.\u001b[0m\u001b[0mon_train_batch_begin\u001b[0m\u001b[1;33m(\u001b[0m\u001b[0mstep\u001b[0m\u001b[1;33m)\u001b[0m\u001b[1;33m\u001b[0m\u001b[1;33m\u001b[0m\u001b[0m\n\u001b[1;32m-> 1098\u001b[1;33m               \u001b[0mtmp_logs\u001b[0m \u001b[1;33m=\u001b[0m \u001b[0mtrain_function\u001b[0m\u001b[1;33m(\u001b[0m\u001b[0miterator\u001b[0m\u001b[1;33m)\u001b[0m\u001b[1;33m\u001b[0m\u001b[1;33m\u001b[0m\u001b[0m\n\u001b[0m\u001b[0;32m   1099\u001b[0m               \u001b[1;32mif\u001b[0m \u001b[0mdata_handler\u001b[0m\u001b[1;33m.\u001b[0m\u001b[0mshould_sync\u001b[0m\u001b[1;33m:\u001b[0m\u001b[1;33m\u001b[0m\u001b[1;33m\u001b[0m\u001b[0m\n\u001b[0;32m   1100\u001b[0m                 \u001b[0mcontext\u001b[0m\u001b[1;33m.\u001b[0m\u001b[0masync_wait\u001b[0m\u001b[1;33m(\u001b[0m\u001b[1;33m)\u001b[0m\u001b[1;33m\u001b[0m\u001b[1;33m\u001b[0m\u001b[0m\n",
      "\u001b[1;32m~\\anaconda3\\envs\\proyecto\\lib\\site-packages\\tensorflow\\python\\eager\\def_function.py\u001b[0m in \u001b[0;36m__call__\u001b[1;34m(self, *args, **kwds)\u001b[0m\n\u001b[0;32m    778\u001b[0m       \u001b[1;32melse\u001b[0m\u001b[1;33m:\u001b[0m\u001b[1;33m\u001b[0m\u001b[1;33m\u001b[0m\u001b[0m\n\u001b[0;32m    779\u001b[0m         \u001b[0mcompiler\u001b[0m \u001b[1;33m=\u001b[0m \u001b[1;34m\"nonXla\"\u001b[0m\u001b[1;33m\u001b[0m\u001b[1;33m\u001b[0m\u001b[0m\n\u001b[1;32m--> 780\u001b[1;33m         \u001b[0mresult\u001b[0m \u001b[1;33m=\u001b[0m \u001b[0mself\u001b[0m\u001b[1;33m.\u001b[0m\u001b[0m_call\u001b[0m\u001b[1;33m(\u001b[0m\u001b[1;33m*\u001b[0m\u001b[0margs\u001b[0m\u001b[1;33m,\u001b[0m \u001b[1;33m**\u001b[0m\u001b[0mkwds\u001b[0m\u001b[1;33m)\u001b[0m\u001b[1;33m\u001b[0m\u001b[1;33m\u001b[0m\u001b[0m\n\u001b[0m\u001b[0;32m    781\u001b[0m \u001b[1;33m\u001b[0m\u001b[0m\n\u001b[0;32m    782\u001b[0m       \u001b[0mnew_tracing_count\u001b[0m \u001b[1;33m=\u001b[0m \u001b[0mself\u001b[0m\u001b[1;33m.\u001b[0m\u001b[0m_get_tracing_count\u001b[0m\u001b[1;33m(\u001b[0m\u001b[1;33m)\u001b[0m\u001b[1;33m\u001b[0m\u001b[1;33m\u001b[0m\u001b[0m\n",
      "\u001b[1;32m~\\anaconda3\\envs\\proyecto\\lib\\site-packages\\tensorflow\\python\\eager\\def_function.py\u001b[0m in \u001b[0;36m_call\u001b[1;34m(self, *args, **kwds)\u001b[0m\n\u001b[0;32m    805\u001b[0m       \u001b[1;31m# In this case we have created variables on the first call, so we run the\u001b[0m\u001b[1;33m\u001b[0m\u001b[1;33m\u001b[0m\u001b[1;33m\u001b[0m\u001b[0m\n\u001b[0;32m    806\u001b[0m       \u001b[1;31m# defunned version which is guaranteed to never create variables.\u001b[0m\u001b[1;33m\u001b[0m\u001b[1;33m\u001b[0m\u001b[1;33m\u001b[0m\u001b[0m\n\u001b[1;32m--> 807\u001b[1;33m       \u001b[1;32mreturn\u001b[0m \u001b[0mself\u001b[0m\u001b[1;33m.\u001b[0m\u001b[0m_stateless_fn\u001b[0m\u001b[1;33m(\u001b[0m\u001b[1;33m*\u001b[0m\u001b[0margs\u001b[0m\u001b[1;33m,\u001b[0m \u001b[1;33m**\u001b[0m\u001b[0mkwds\u001b[0m\u001b[1;33m)\u001b[0m  \u001b[1;31m# pylint: disable=not-callable\u001b[0m\u001b[1;33m\u001b[0m\u001b[1;33m\u001b[0m\u001b[0m\n\u001b[0m\u001b[0;32m    808\u001b[0m     \u001b[1;32melif\u001b[0m \u001b[0mself\u001b[0m\u001b[1;33m.\u001b[0m\u001b[0m_stateful_fn\u001b[0m \u001b[1;32mis\u001b[0m \u001b[1;32mnot\u001b[0m \u001b[1;32mNone\u001b[0m\u001b[1;33m:\u001b[0m\u001b[1;33m\u001b[0m\u001b[1;33m\u001b[0m\u001b[0m\n\u001b[0;32m    809\u001b[0m       \u001b[1;31m# Release the lock early so that multiple threads can perform the call\u001b[0m\u001b[1;33m\u001b[0m\u001b[1;33m\u001b[0m\u001b[1;33m\u001b[0m\u001b[0m\n",
      "\u001b[1;32m~\\anaconda3\\envs\\proyecto\\lib\\site-packages\\tensorflow\\python\\eager\\function.py\u001b[0m in \u001b[0;36m__call__\u001b[1;34m(self, *args, **kwargs)\u001b[0m\n\u001b[0;32m   2827\u001b[0m     \u001b[1;32mwith\u001b[0m \u001b[0mself\u001b[0m\u001b[1;33m.\u001b[0m\u001b[0m_lock\u001b[0m\u001b[1;33m:\u001b[0m\u001b[1;33m\u001b[0m\u001b[1;33m\u001b[0m\u001b[0m\n\u001b[0;32m   2828\u001b[0m       \u001b[0mgraph_function\u001b[0m\u001b[1;33m,\u001b[0m \u001b[0margs\u001b[0m\u001b[1;33m,\u001b[0m \u001b[0mkwargs\u001b[0m \u001b[1;33m=\u001b[0m \u001b[0mself\u001b[0m\u001b[1;33m.\u001b[0m\u001b[0m_maybe_define_function\u001b[0m\u001b[1;33m(\u001b[0m\u001b[0margs\u001b[0m\u001b[1;33m,\u001b[0m \u001b[0mkwargs\u001b[0m\u001b[1;33m)\u001b[0m\u001b[1;33m\u001b[0m\u001b[1;33m\u001b[0m\u001b[0m\n\u001b[1;32m-> 2829\u001b[1;33m     \u001b[1;32mreturn\u001b[0m \u001b[0mgraph_function\u001b[0m\u001b[1;33m.\u001b[0m\u001b[0m_filtered_call\u001b[0m\u001b[1;33m(\u001b[0m\u001b[0margs\u001b[0m\u001b[1;33m,\u001b[0m \u001b[0mkwargs\u001b[0m\u001b[1;33m)\u001b[0m  \u001b[1;31m# pylint: disable=protected-access\u001b[0m\u001b[1;33m\u001b[0m\u001b[1;33m\u001b[0m\u001b[0m\n\u001b[0m\u001b[0;32m   2830\u001b[0m \u001b[1;33m\u001b[0m\u001b[0m\n\u001b[0;32m   2831\u001b[0m   \u001b[1;33m@\u001b[0m\u001b[0mproperty\u001b[0m\u001b[1;33m\u001b[0m\u001b[1;33m\u001b[0m\u001b[0m\n",
      "\u001b[1;32m~\\anaconda3\\envs\\proyecto\\lib\\site-packages\\tensorflow\\python\\eager\\function.py\u001b[0m in \u001b[0;36m_filtered_call\u001b[1;34m(self, args, kwargs, cancellation_manager)\u001b[0m\n\u001b[0;32m   1841\u001b[0m       \u001b[0;31m`\u001b[0m\u001b[0margs\u001b[0m\u001b[0;31m`\u001b[0m \u001b[1;32mand\u001b[0m\u001b[0;31m \u001b[0m\u001b[0;31m`\u001b[0m\u001b[0mkwargs\u001b[0m\u001b[0;31m`\u001b[0m\u001b[1;33m.\u001b[0m\u001b[1;33m\u001b[0m\u001b[1;33m\u001b[0m\u001b[0m\n\u001b[0;32m   1842\u001b[0m     \"\"\"\n\u001b[1;32m-> 1843\u001b[1;33m     return self._call_flat(\n\u001b[0m\u001b[0;32m   1844\u001b[0m         [t for t in nest.flatten((args, kwargs), expand_composites=True)\n\u001b[0;32m   1845\u001b[0m          if isinstance(t, (ops.Tensor,\n",
      "\u001b[1;32m~\\anaconda3\\envs\\proyecto\\lib\\site-packages\\tensorflow\\python\\eager\\function.py\u001b[0m in \u001b[0;36m_call_flat\u001b[1;34m(self, args, captured_inputs, cancellation_manager)\u001b[0m\n\u001b[0;32m   1921\u001b[0m         and executing_eagerly):\n\u001b[0;32m   1922\u001b[0m       \u001b[1;31m# No tape is watching; skip to running the function.\u001b[0m\u001b[1;33m\u001b[0m\u001b[1;33m\u001b[0m\u001b[1;33m\u001b[0m\u001b[0m\n\u001b[1;32m-> 1923\u001b[1;33m       return self._build_call_outputs(self._inference_function.call(\n\u001b[0m\u001b[0;32m   1924\u001b[0m           ctx, args, cancellation_manager=cancellation_manager))\n\u001b[0;32m   1925\u001b[0m     forward_backward = self._select_forward_and_backward_functions(\n",
      "\u001b[1;32m~\\anaconda3\\envs\\proyecto\\lib\\site-packages\\tensorflow\\python\\eager\\function.py\u001b[0m in \u001b[0;36mcall\u001b[1;34m(self, ctx, args, cancellation_manager)\u001b[0m\n\u001b[0;32m    543\u001b[0m       \u001b[1;32mwith\u001b[0m \u001b[0m_InterpolateFunctionError\u001b[0m\u001b[1;33m(\u001b[0m\u001b[0mself\u001b[0m\u001b[1;33m)\u001b[0m\u001b[1;33m:\u001b[0m\u001b[1;33m\u001b[0m\u001b[1;33m\u001b[0m\u001b[0m\n\u001b[0;32m    544\u001b[0m         \u001b[1;32mif\u001b[0m \u001b[0mcancellation_manager\u001b[0m \u001b[1;32mis\u001b[0m \u001b[1;32mNone\u001b[0m\u001b[1;33m:\u001b[0m\u001b[1;33m\u001b[0m\u001b[1;33m\u001b[0m\u001b[0m\n\u001b[1;32m--> 545\u001b[1;33m           outputs = execute.execute(\n\u001b[0m\u001b[0;32m    546\u001b[0m               \u001b[0mstr\u001b[0m\u001b[1;33m(\u001b[0m\u001b[0mself\u001b[0m\u001b[1;33m.\u001b[0m\u001b[0msignature\u001b[0m\u001b[1;33m.\u001b[0m\u001b[0mname\u001b[0m\u001b[1;33m)\u001b[0m\u001b[1;33m,\u001b[0m\u001b[1;33m\u001b[0m\u001b[1;33m\u001b[0m\u001b[0m\n\u001b[0;32m    547\u001b[0m               \u001b[0mnum_outputs\u001b[0m\u001b[1;33m=\u001b[0m\u001b[0mself\u001b[0m\u001b[1;33m.\u001b[0m\u001b[0m_num_outputs\u001b[0m\u001b[1;33m,\u001b[0m\u001b[1;33m\u001b[0m\u001b[1;33m\u001b[0m\u001b[0m\n",
      "\u001b[1;32m~\\anaconda3\\envs\\proyecto\\lib\\site-packages\\tensorflow\\python\\eager\\execute.py\u001b[0m in \u001b[0;36mquick_execute\u001b[1;34m(op_name, num_outputs, inputs, attrs, ctx, name)\u001b[0m\n\u001b[0;32m     57\u001b[0m   \u001b[1;32mtry\u001b[0m\u001b[1;33m:\u001b[0m\u001b[1;33m\u001b[0m\u001b[1;33m\u001b[0m\u001b[0m\n\u001b[0;32m     58\u001b[0m     \u001b[0mctx\u001b[0m\u001b[1;33m.\u001b[0m\u001b[0mensure_initialized\u001b[0m\u001b[1;33m(\u001b[0m\u001b[1;33m)\u001b[0m\u001b[1;33m\u001b[0m\u001b[1;33m\u001b[0m\u001b[0m\n\u001b[1;32m---> 59\u001b[1;33m     tensors = pywrap_tfe.TFE_Py_Execute(ctx._handle, device_name, op_name,\n\u001b[0m\u001b[0;32m     60\u001b[0m                                         inputs, attrs, num_outputs)\n\u001b[0;32m     61\u001b[0m   \u001b[1;32mexcept\u001b[0m \u001b[0mcore\u001b[0m\u001b[1;33m.\u001b[0m\u001b[0m_NotOkStatusException\u001b[0m \u001b[1;32mas\u001b[0m \u001b[0me\u001b[0m\u001b[1;33m:\u001b[0m\u001b[1;33m\u001b[0m\u001b[1;33m\u001b[0m\u001b[0m\n",
      "\u001b[1;31mKeyboardInterrupt\u001b[0m: "
     ]
    }
   ],
   "source": [
    "#Setting early stopping\n",
    "earlystopping=callbacks.EarlyStopping(monitor=\"val_loss\", mode=\"min\",patience=20,restore_best_weights=True)\n",
    "#Conv\n",
    "fold_no = 1\n",
    "for train, test in kf.split(x, y):\n",
    "    model = models.Sequential()\n",
    "    model.add(layers.Conv2D(128,(5,5), padding='valid',strides=[1, 1],\n",
    "                          input_shape=(128, 128,1)))\n",
    "    model.add(layers.MaxPooling2D((2, 2)))\n",
    "    model.add(layers.Conv2D(256, (3, 3), activation='relu'))\n",
    "    model.add(layers.MaxPooling2D((2, 2)))\n",
    "    model.add(layers.Conv2D(512, (3, 3), activation='relu'))\n",
    "    model.add(layers.MaxPooling2D((2, 2)))\n",
    "    model.add(layers.Conv2D(1024, (3, 3), activation='relu'))\n",
    "    #Dense\n",
    "    model.add(layers.Flatten())#, activation='relu'\n",
    "    model.add(layers.Dropout(0.2))\n",
    "    model.add(layers.Dense(1024, activation='relu'))\n",
    "    model.add(layers.Dense(512, activation='relu'))\n",
    "    model.add(layers.Dense(256, activation='relu'))\n",
    "    model.add(layers.Dense(128, activation='relu'))\n",
    "    model.add(layers.Dense(64, activation='relu'))\n",
    "    model.add(layers.Dense(32, activation='relu'))\n",
    "    model.add(layers.Dense(16, activation='relu'))\n",
    "    model.add(layers.Dense(8, activation='relu'))\n",
    "    model.add(layers.Dense(4, activation='relu'))\n",
    "    model.add(layers.Dense(2, activation='softmax'))\n",
    "    #Comp\n",
    "    customSGD=tf.optimizers.SGD(learning_rate=0.1)\n",
    "    #customAdam=tf.optimizers.Adam(learning_rate=0.05)\n",
    "    model.compile(optimizer=customSGD,\n",
    "                  loss=tf.keras.losses.binary_crossentropy, #Debería ser binario?\n",
    "                  metrics=['accuracy',f1_m,precision_m, recall_m])\n",
    "        # Generate a print\n",
    "    print('------------------------------------------------------------------------')\n",
    "    print(f'Training for fold {fold_no} ...')\n",
    "    #Fitting\n",
    "    history = model.fit(x[train], y[train],validation_data=(x[test], y[test]), epochs=200, callbacks=[earlystopping],batch_size=64)\n",
    "    gc.collect()\n",
    "    print(\"\\n\\n\\n\\n\\nFitted\")\n",
    "    plt.plot(history.history['accuracy'], label='accuracy')\n",
    "    plt.plot(history.history['val_accuracy'], label = 'val_accuracy')\n",
    "    plt.xlabel('Epoch')\n",
    "    plt.ylabel('Accuracy')\n",
    "    plt.ylim([0.5, 1])\n",
    "    plt.legend(loc='lower right')\n",
    "    test_loss, test_acc,f1_score, precision, recall = model.evaluate(x[test], y[test], verbose=2)\n",
    "    print(\"Loss:\",test_loss, \"\\nAccuracy:\",test_acc,\"\\nF1 score:\",f1_score, \"\\nPrecision:\",precision, \"\\nRecall\",recall)\n",
    "        \n",
    "    plt.plot(history.history['precision_m'], label='precision')\n",
    "    plt.plot(history.history['recall_m'], label = 'recall')\n",
    "    plt.plot(history.history['f1_m'], label = 'F1')\n",
    "    plt.xlabel('Epoch')\n",
    "    plt.ylabel('Metrics')\n",
    "    plt.legend(loc='lower right')\n",
    "    plt.show()\n",
    "    print(\"Next fold\")\n",
    "    #dataMqtt={\"Fold\":str(fold_no),\"timestamp\":str(datetime.now()),\"Loss\":str(test_loss), \"Acc\":str(test_acc),\"F1\":str(f1_score),\"Precision\":str( precision),\"Recall\": str(recal)}\n",
    "    #dataMqtt_out=json.dumps(data)\n",
    "    #retMqtt= client1.publish(\"stegian/data\",dataMqtt_out)\n",
    "    \n",
    "    # Generate generalization metrics\n",
    "    scores = model.evaluate(x[test], y[test], verbose=0)\n",
    "    print(f'Score for fold {fold_no}: {model.metrics_names[0]} of {scores[0]}; {model.metrics_names[1]} of {scores[1]*100}%')\n",
    "    acc_per_fold.append(scores[1] * 100)\n",
    "    loss_per_fold.append(scores[0])\n",
    "    \n",
    "    # Increase fold number\n",
    "    fold_no += 1\n",
    "    gc.collect()"
   ]
  },
  {
   "cell_type": "code",
   "execution_count": 138,
   "metadata": {},
   "outputs": [
    {
     "data": {
      "text/plain": [
       "(40000, 128, 128, 1)"
      ]
     },
     "execution_count": 138,
     "metadata": {},
     "output_type": "execute_result"
    }
   ],
   "source": [
    "x.shape"
   ]
  },
  {
   "cell_type": "code",
   "execution_count": null,
   "metadata": {},
   "outputs": [],
   "source": [
    "# == Provide average scores ==\n",
    "print('------------------------------------------------------------------------')\n",
    "print('Score per fold')\n",
    "for i in range(0, len(acc_per_fold)):\n",
    "  print('------------------------------------------------------------------------')\n",
    "  print(f'> Fold {i+1} - Loss: {loss_per_fold[i]} - Accuracy: {acc_per_fold[i]}%')\n",
    "print('------------------------------------------------------------------------')\n",
    "print('Average scores for all folds:')\n",
    "print(f'> Accuracy: {np.mean(acc_per_fold)} (+- {np.std(acc_per_fold)})')\n",
    "print(f'> Loss: {np.mean(loss_per_fold)}')\n",
    "print('------------------------------------------------------------------------')"
   ]
  },
  {
   "cell_type": "markdown",
   "metadata": {
    "colab": {
     "base_uri": "https://localhost:8080/"
    },
    "id": "QuV0bsFpt7e0",
    "outputId": "5f2a8d80-e91c-4749-bf9c-427c1a7e8613",
    "scrolled": true
   },
   "source": [
    "#model.build((None,128,128,3))\n",
    "model.summary()"
   ]
  },
  {
   "cell_type": "markdown",
   "metadata": {
    "id": "EgG5b0M_uQFq"
   },
   "source": [
    "# **4. Agregar capas densas en la parte superior**"
   ]
  },
  {
   "cell_type": "code",
   "execution_count": null,
   "metadata": {
    "colab": {
     "base_uri": "https://localhost:8080/"
    },
    "id": "2cgzi43GufKq",
    "outputId": "15fce74d-fbca-4096-bae0-308a71d97c89"
   },
   "outputs": [],
   "source": [
    "model.summary()"
   ]
  },
  {
   "cell_type": "markdown",
   "metadata": {
    "id": "Q8lcGUMxujCm"
   },
   "source": [
    "# **5. Compilar y entrenar el modelo**\n",
    "\n"
   ]
  },
  {
   "cell_type": "code",
   "execution_count": null,
   "metadata": {},
   "outputs": [],
   "source": [
    "model.save(\"CNNv2_Mono_WOW5.h5\")"
   ]
  },
  {
   "cell_type": "markdown",
   "metadata": {
    "id": "2xgoHXyNB7So"
   },
   "source": [
    "# **6. Evaluar el modelo**"
   ]
  }
 ],
 "metadata": {
  "colab": {
   "collapsed_sections": [],
   "name": "CNN Beto.ipynb",
   "provenance": []
  },
  "kernelspec": {
   "display_name": "Python 3",
   "language": "python",
   "name": "python3"
  },
  "language_info": {
   "codemirror_mode": {
    "name": "ipython",
    "version": 3
   },
   "file_extension": ".py",
   "mimetype": "text/x-python",
   "name": "python",
   "nbconvert_exporter": "python",
   "pygments_lexer": "ipython3",
   "version": "3.8.11"
  }
 },
 "nbformat": 4,
 "nbformat_minor": 1
}
