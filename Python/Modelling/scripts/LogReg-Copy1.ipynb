{
 "cells": [
  {
   "cell_type": "markdown",
   "metadata": {},
   "source": [
    "# LogReg WOW 0.3 vs Miranda Attributes"
   ]
  },
  {
   "cell_type": "code",
   "execution_count": 1,
   "metadata": {},
   "outputs": [],
   "source": [
    "from __future__ import absolute_import, division, print_function, unicode_literals\n",
    "import os, random, time, MirandaAttributes, cv2\n",
    "import tensorflow as tf\n",
    "import pandas as pd\n",
    "import numpy as np\n",
    "from sklearn import preprocessing\n",
    "import seaborn as sns\n",
    "import matplotlib.image as mpimg\n",
    "import matplotlib.pyplot as plt\n",
    "from sklearn.linear_model import LogisticRegression\n",
    "from sklearn.model_selection import train_test_split"
   ]
  },
  {
   "cell_type": "code",
   "execution_count": 2,
   "metadata": {},
   "outputs": [
    {
     "name": "stdout",
     "output_type": "stream",
     "text": [
      "TensorFlow version: 2.3.0\n",
      "Eager execution: True\n"
     ]
    }
   ],
   "source": [
    "print(\"TensorFlow version: {}\".format(tf.__version__))\n",
    "print(\"Eager execution: {}\".format(tf.executing_eagerly()))\n",
    "#Miranda old dataset\n",
    "#train_dataset_url = \"https://raw.githubusercontent.com/intentodemusico/Stegonomono/master/ANN/Dataset/train_70000.csv\"\n",
    "#test_dataset_url = \"https://raw.githubusercontent.com/intentodemusico/Stegonomono/master/ANN/Dataset/test_70000.csv\"\n",
    "\n",
    "#Miranda dataset\n",
    "train_dataset_url = \"https://raw.githubusercontent.com/intentodemusico/Stegonomono/master/ANN/NewDataset/Final/train_5000.csv\"\n",
    "test_dataset_url = \"https://raw.githubusercontent.com/intentodemusico/Stegonomono/master/ANN/NewDataset/Final/test_5000.csv\""
   ]
  },
  {
   "cell_type": "code",
   "execution_count": 3,
   "metadata": {},
   "outputs": [],
   "source": [
    "#%% Importing the dataset\n",
    "MirandaLabels=['Kurtosis', 'Skewness', 'Std', 'Range', 'Median', 'Geometric_Mean', 'Mobility', 'Complexity','IsStego','Location']\n",
    "trainDataset = pd.read_csv(train_dataset_url,header=None,names=MirandaLabels)\n",
    "MirandaX_train = trainDataset.iloc[:, :-2].values\n",
    "MirandaY_train = trainDataset.iloc[:, -2].values\n",
    "\n",
    "testDataset = pd.read_csv(test_dataset_url,header=None,names=MirandaLabels)\n",
    "MirandaX_test = testDataset.iloc[:, :-2].values\n",
    "MirandaY_test = testDataset.iloc[:, -2].values\n",
    "MirandaLabels=MirandaLabels[:-2]"
   ]
  },
  {
   "cell_type": "markdown",
   "metadata": {
    "tags": []
   },
   "source": [
    "import pandas as pd\n",
    "\n",
    "#%% Importing the dataset\n",
    "labels=['Kurtosis', 'Skewness', 'Std', 'Range', 'Median', 'Geometric_Mean', 'Mobility', 'Complexity','IsStego','Location']\n",
    "trainDataset = pd.read_csv(train_dataset_url,header=None,names=labels)\n",
    "X_Train = trainDataset.iloc[:, :-2].values\n",
    "Y_Train = trainDataset.iloc[:, -2].values\n",
    "\n",
    "testDataset = pd.read_csv(test_dataset_url,header=None,names=labels)\n",
    "X_Test = testDataset.iloc[:, :-2].values\n",
    "Y_Test = testDataset.iloc[:, -2].values"
   ]
  },
  {
   "cell_type": "code",
   "execution_count": 4,
   "metadata": {
    "tags": []
   },
   "outputs": [],
   "source": [
    "#%% Feature Scaling\n",
    "from sklearn.preprocessing import StandardScaler"
   ]
  },
  {
   "cell_type": "markdown",
   "metadata": {},
   "source": [
    "## Getting x and y"
   ]
  },
  {
   "cell_type": "code",
   "execution_count": 5,
   "metadata": {},
   "outputs": [
    {
     "name": "stdout",
     "output_type": "stream",
     "text": [
      "40000\n"
     ]
    }
   ],
   "source": [
    "isStego=lambda x:1 if x[:6]==\"stego_\" else 0\n",
    "getYFromImageList=lambda x: [isStego(element) for element in x]\n",
    "folder=\"../../../Dataset/Mono/MonoSamples/WOW_5\" \n",
    "images=os.listdir(folder)\n",
    "random.shuffle(images)\n",
    "images=images\n",
    "print(len(images))"
   ]
  },
  {
   "cell_type": "code",
   "execution_count": 6,
   "metadata": {},
   "outputs": [
    {
     "name": "stdout",
     "output_type": "stream",
     "text": [
      "51.78690433502197\n"
     ]
    }
   ],
   "source": [
    "Garciay=getYFromImageList(images)\n",
    "windowSize=128\n",
    "GarciaLabels=['Kurtosis', 'Skewness', 'Std', 'Range', 'Median', 'Garcia_Gmean', 'Epsilon_Gmean', 'Mobility', 'Complexity']\n",
    "t = time.time()\n",
    "\n",
    "GarciaX=pd.DataFrame(([ MirandaAttributes.attributes( cv2.imread( os.path.abspath(os.path.join(folder, images[i])) \n",
    "                                        ) ,windowSize,True)  for i in range(len(images))] ),columns=GarciaLabels)\n",
    "elapsed = time.time() - t\n",
    "print(elapsed)\n",
    "GarciaX_train, GarciaX_test, GarciaY_train, GarciaY_test = train_test_split(GarciaX, Garciay, test_size=0.2, \n",
    "                                                                            random_state=0)"
   ]
  },
  {
   "cell_type": "markdown",
   "metadata": {},
   "source": [
    "### EDA"
   ]
  },
  {
   "cell_type": "code",
   "execution_count": 7,
   "metadata": {
    "tags": []
   },
   "outputs": [
    {
     "data": {
      "text/html": [
       "<div>\n",
       "<style scoped>\n",
       "    .dataframe tbody tr th:only-of-type {\n",
       "        vertical-align: middle;\n",
       "    }\n",
       "\n",
       "    .dataframe tbody tr th {\n",
       "        vertical-align: top;\n",
       "    }\n",
       "\n",
       "    .dataframe thead th {\n",
       "        text-align: right;\n",
       "    }\n",
       "</style>\n",
       "<table border=\"1\" class=\"dataframe\">\n",
       "  <thead>\n",
       "    <tr style=\"text-align: right;\">\n",
       "      <th></th>\n",
       "      <th>0</th>\n",
       "    </tr>\n",
       "  </thead>\n",
       "  <tbody>\n",
       "    <tr>\n",
       "      <th>count</th>\n",
       "      <td>32000.000000</td>\n",
       "    </tr>\n",
       "    <tr>\n",
       "      <th>mean</th>\n",
       "      <td>0.500656</td>\n",
       "    </tr>\n",
       "    <tr>\n",
       "      <th>std</th>\n",
       "      <td>0.500007</td>\n",
       "    </tr>\n",
       "    <tr>\n",
       "      <th>min</th>\n",
       "      <td>0.000000</td>\n",
       "    </tr>\n",
       "    <tr>\n",
       "      <th>25%</th>\n",
       "      <td>0.000000</td>\n",
       "    </tr>\n",
       "    <tr>\n",
       "      <th>50%</th>\n",
       "      <td>1.000000</td>\n",
       "    </tr>\n",
       "    <tr>\n",
       "      <th>75%</th>\n",
       "      <td>1.000000</td>\n",
       "    </tr>\n",
       "    <tr>\n",
       "      <th>max</th>\n",
       "      <td>1.000000</td>\n",
       "    </tr>\n",
       "  </tbody>\n",
       "</table>\n",
       "</div>"
      ],
      "text/plain": [
       "                  0\n",
       "count  32000.000000\n",
       "mean       0.500656\n",
       "std        0.500007\n",
       "min        0.000000\n",
       "25%        0.000000\n",
       "50%        1.000000\n",
       "75%        1.000000\n",
       "max        1.000000"
      ]
     },
     "execution_count": 7,
     "metadata": {},
     "output_type": "execute_result"
    }
   ],
   "source": [
    "pd.DataFrame(GarciaY_train).describe()"
   ]
  },
  {
   "cell_type": "code",
   "execution_count": 8,
   "metadata": {},
   "outputs": [
    {
     "data": {
      "text/plain": [
       "1    16021\n",
       "0    15979\n",
       "dtype: int64"
      ]
     },
     "execution_count": 8,
     "metadata": {},
     "output_type": "execute_result"
    }
   ],
   "source": [
    "pd.DataFrame(GarciaY_train).value_counts()"
   ]
  },
  {
   "cell_type": "code",
   "execution_count": 9,
   "metadata": {},
   "outputs": [
    {
     "data": {
      "text/html": [
       "<div>\n",
       "<style scoped>\n",
       "    .dataframe tbody tr th:only-of-type {\n",
       "        vertical-align: middle;\n",
       "    }\n",
       "\n",
       "    .dataframe tbody tr th {\n",
       "        vertical-align: top;\n",
       "    }\n",
       "\n",
       "    .dataframe thead th {\n",
       "        text-align: right;\n",
       "    }\n",
       "</style>\n",
       "<table border=\"1\" class=\"dataframe\">\n",
       "  <thead>\n",
       "    <tr style=\"text-align: right;\">\n",
       "      <th></th>\n",
       "      <th>Kurtosis</th>\n",
       "      <th>Skewness</th>\n",
       "      <th>Std</th>\n",
       "      <th>Range</th>\n",
       "      <th>Median</th>\n",
       "      <th>Garcia_Gmean</th>\n",
       "      <th>Epsilon_Gmean</th>\n",
       "      <th>Mobility</th>\n",
       "      <th>Complexity</th>\n",
       "    </tr>\n",
       "  </thead>\n",
       "  <tbody>\n",
       "    <tr>\n",
       "      <th>21370</th>\n",
       "      <td>2.369422</td>\n",
       "      <td>0.273567</td>\n",
       "      <td>43.271130</td>\n",
       "      <td>203.0</td>\n",
       "      <td>64.0</td>\n",
       "      <td>43.700058</td>\n",
       "      <td>40.081173</td>\n",
       "      <td>0.295669</td>\n",
       "      <td>5.581399</td>\n",
       "    </tr>\n",
       "    <tr>\n",
       "      <th>2470</th>\n",
       "      <td>1.896968</td>\n",
       "      <td>0.327995</td>\n",
       "      <td>36.600674</td>\n",
       "      <td>151.0</td>\n",
       "      <td>57.5</td>\n",
       "      <td>51.553642</td>\n",
       "      <td>52.966080</td>\n",
       "      <td>0.370922</td>\n",
       "      <td>4.547978</td>\n",
       "    </tr>\n",
       "    <tr>\n",
       "      <th>13767</th>\n",
       "      <td>33.678978</td>\n",
       "      <td>5.042560</td>\n",
       "      <td>164.613281</td>\n",
       "      <td>1474.0</td>\n",
       "      <td>12.5</td>\n",
       "      <td>27.409678</td>\n",
       "      <td>10.070005</td>\n",
       "      <td>0.410245</td>\n",
       "      <td>3.494751</td>\n",
       "    </tr>\n",
       "    <tr>\n",
       "      <th>13316</th>\n",
       "      <td>13.748859</td>\n",
       "      <td>3.174319</td>\n",
       "      <td>144.465118</td>\n",
       "      <td>923.0</td>\n",
       "      <td>4.0</td>\n",
       "      <td>13.148595</td>\n",
       "      <td>9.193387</td>\n",
       "      <td>0.399777</td>\n",
       "      <td>3.630086</td>\n",
       "    </tr>\n",
       "    <tr>\n",
       "      <th>26374</th>\n",
       "      <td>31.695534</td>\n",
       "      <td>5.099374</td>\n",
       "      <td>175.024948</td>\n",
       "      <td>1353.0</td>\n",
       "      <td>4.0</td>\n",
       "      <td>10.591258</td>\n",
       "      <td>11.203708</td>\n",
       "      <td>0.294010</td>\n",
       "      <td>2.707718</td>\n",
       "    </tr>\n",
       "    <tr>\n",
       "      <th>...</th>\n",
       "      <td>...</td>\n",
       "      <td>...</td>\n",
       "      <td>...</td>\n",
       "      <td>...</td>\n",
       "      <td>...</td>\n",
       "      <td>...</td>\n",
       "      <td>...</td>\n",
       "      <td>...</td>\n",
       "      <td>...</td>\n",
       "    </tr>\n",
       "    <tr>\n",
       "      <th>20757</th>\n",
       "      <td>3.298422</td>\n",
       "      <td>0.231853</td>\n",
       "      <td>44.645828</td>\n",
       "      <td>264.0</td>\n",
       "      <td>70.0</td>\n",
       "      <td>35.763664</td>\n",
       "      <td>36.441921</td>\n",
       "      <td>0.350606</td>\n",
       "      <td>3.866583</td>\n",
       "    </tr>\n",
       "    <tr>\n",
       "      <th>32103</th>\n",
       "      <td>8.814417</td>\n",
       "      <td>2.525034</td>\n",
       "      <td>58.016296</td>\n",
       "      <td>300.0</td>\n",
       "      <td>45.0</td>\n",
       "      <td>49.774136</td>\n",
       "      <td>50.991344</td>\n",
       "      <td>0.225248</td>\n",
       "      <td>6.882358</td>\n",
       "    </tr>\n",
       "    <tr>\n",
       "      <th>30403</th>\n",
       "      <td>1.847075</td>\n",
       "      <td>-0.171205</td>\n",
       "      <td>42.785530</td>\n",
       "      <td>154.0</td>\n",
       "      <td>72.0</td>\n",
       "      <td>51.275642</td>\n",
       "      <td>33.855595</td>\n",
       "      <td>0.248697</td>\n",
       "      <td>6.801694</td>\n",
       "    </tr>\n",
       "    <tr>\n",
       "      <th>21243</th>\n",
       "      <td>3.321295</td>\n",
       "      <td>0.911499</td>\n",
       "      <td>46.502102</td>\n",
       "      <td>210.0</td>\n",
       "      <td>51.0</td>\n",
       "      <td>45.084412</td>\n",
       "      <td>46.780285</td>\n",
       "      <td>0.287324</td>\n",
       "      <td>5.460868</td>\n",
       "    </tr>\n",
       "    <tr>\n",
       "      <th>2732</th>\n",
       "      <td>2.980605</td>\n",
       "      <td>0.021931</td>\n",
       "      <td>41.011147</td>\n",
       "      <td>187.0</td>\n",
       "      <td>72.0</td>\n",
       "      <td>67.977081</td>\n",
       "      <td>32.519012</td>\n",
       "      <td>0.295876</td>\n",
       "      <td>5.380580</td>\n",
       "    </tr>\n",
       "  </tbody>\n",
       "</table>\n",
       "<p>32000 rows × 9 columns</p>\n",
       "</div>"
      ],
      "text/plain": [
       "        Kurtosis  Skewness         Std   Range  Median  Garcia_Gmean  \\\n",
       "21370   2.369422  0.273567   43.271130   203.0    64.0     43.700058   \n",
       "2470    1.896968  0.327995   36.600674   151.0    57.5     51.553642   \n",
       "13767  33.678978  5.042560  164.613281  1474.0    12.5     27.409678   \n",
       "13316  13.748859  3.174319  144.465118   923.0     4.0     13.148595   \n",
       "26374  31.695534  5.099374  175.024948  1353.0     4.0     10.591258   \n",
       "...          ...       ...         ...     ...     ...           ...   \n",
       "20757   3.298422  0.231853   44.645828   264.0    70.0     35.763664   \n",
       "32103   8.814417  2.525034   58.016296   300.0    45.0     49.774136   \n",
       "30403   1.847075 -0.171205   42.785530   154.0    72.0     51.275642   \n",
       "21243   3.321295  0.911499   46.502102   210.0    51.0     45.084412   \n",
       "2732    2.980605  0.021931   41.011147   187.0    72.0     67.977081   \n",
       "\n",
       "       Epsilon_Gmean  Mobility  Complexity  \n",
       "21370      40.081173  0.295669    5.581399  \n",
       "2470       52.966080  0.370922    4.547978  \n",
       "13767      10.070005  0.410245    3.494751  \n",
       "13316       9.193387  0.399777    3.630086  \n",
       "26374      11.203708  0.294010    2.707718  \n",
       "...              ...       ...         ...  \n",
       "20757      36.441921  0.350606    3.866583  \n",
       "32103      50.991344  0.225248    6.882358  \n",
       "30403      33.855595  0.248697    6.801694  \n",
       "21243      46.780285  0.287324    5.460868  \n",
       "2732       32.519012  0.295876    5.380580  \n",
       "\n",
       "[32000 rows x 9 columns]"
      ]
     },
     "execution_count": 9,
     "metadata": {},
     "output_type": "execute_result"
    }
   ],
   "source": [
    "GarciaX_train"
   ]
  },
  {
   "cell_type": "code",
   "execution_count": 10,
   "metadata": {},
   "outputs": [
    {
     "data": {
      "text/html": [
       "<div>\n",
       "<style scoped>\n",
       "    .dataframe tbody tr th:only-of-type {\n",
       "        vertical-align: middle;\n",
       "    }\n",
       "\n",
       "    .dataframe tbody tr th {\n",
       "        vertical-align: top;\n",
       "    }\n",
       "\n",
       "    .dataframe thead th {\n",
       "        text-align: right;\n",
       "    }\n",
       "</style>\n",
       "<table border=\"1\" class=\"dataframe\">\n",
       "  <thead>\n",
       "    <tr style=\"text-align: right;\">\n",
       "      <th></th>\n",
       "      <th>Kurtosis</th>\n",
       "      <th>Skewness</th>\n",
       "      <th>Std</th>\n",
       "      <th>Range</th>\n",
       "      <th>Median</th>\n",
       "      <th>Garcia_Gmean</th>\n",
       "      <th>Epsilon_Gmean</th>\n",
       "      <th>Mobility</th>\n",
       "      <th>Complexity</th>\n",
       "    </tr>\n",
       "  </thead>\n",
       "  <tbody>\n",
       "    <tr>\n",
       "      <th>count</th>\n",
       "      <td>32000.000000</td>\n",
       "      <td>32000.000000</td>\n",
       "      <td>32000.000000</td>\n",
       "      <td>32000.000000</td>\n",
       "      <td>32000.000000</td>\n",
       "      <td>32000.000000</td>\n",
       "      <td>32000.000000</td>\n",
       "      <td>32000.000000</td>\n",
       "      <td>32000.000000</td>\n",
       "    </tr>\n",
       "    <tr>\n",
       "      <th>mean</th>\n",
       "      <td>23.641564</td>\n",
       "      <td>2.909845</td>\n",
       "      <td>108.094557</td>\n",
       "      <td>843.632844</td>\n",
       "      <td>32.509625</td>\n",
       "      <td>53.000911</td>\n",
       "      <td>26.546891</td>\n",
       "      <td>0.323901</td>\n",
       "      <td>5.893594</td>\n",
       "    </tr>\n",
       "    <tr>\n",
       "      <th>std</th>\n",
       "      <td>48.323836</td>\n",
       "      <td>3.224175</td>\n",
       "      <td>96.650518</td>\n",
       "      <td>1519.309772</td>\n",
       "      <td>20.951438</td>\n",
       "      <td>467.269346</td>\n",
       "      <td>14.601687</td>\n",
       "      <td>0.213851</td>\n",
       "      <td>3.021306</td>\n",
       "    </tr>\n",
       "    <tr>\n",
       "      <th>min</th>\n",
       "      <td>1.224067</td>\n",
       "      <td>-1.219257</td>\n",
       "      <td>15.969453</td>\n",
       "      <td>90.000000</td>\n",
       "      <td>0.000000</td>\n",
       "      <td>1.776100</td>\n",
       "      <td>1.038634</td>\n",
       "      <td>0.086105</td>\n",
       "      <td>0.907459</td>\n",
       "    </tr>\n",
       "    <tr>\n",
       "      <th>25%</th>\n",
       "      <td>3.177516</td>\n",
       "      <td>1.027240</td>\n",
       "      <td>58.591243</td>\n",
       "      <td>249.750000</td>\n",
       "      <td>14.000000</td>\n",
       "      <td>27.548245</td>\n",
       "      <td>14.553534</td>\n",
       "      <td>0.186125</td>\n",
       "      <td>3.535960</td>\n",
       "    </tr>\n",
       "    <tr>\n",
       "      <th>50%</th>\n",
       "      <td>6.345994</td>\n",
       "      <td>1.881191</td>\n",
       "      <td>81.179634</td>\n",
       "      <td>392.000000</td>\n",
       "      <td>33.000000</td>\n",
       "      <td>37.333225</td>\n",
       "      <td>25.404307</td>\n",
       "      <td>0.253764</td>\n",
       "      <td>5.599429</td>\n",
       "    </tr>\n",
       "    <tr>\n",
       "      <th>75%</th>\n",
       "      <td>16.633764</td>\n",
       "      <td>3.398783</td>\n",
       "      <td>119.835543</td>\n",
       "      <td>736.000000</td>\n",
       "      <td>49.500000</td>\n",
       "      <td>46.439072</td>\n",
       "      <td>37.573871</td>\n",
       "      <td>0.375864</td>\n",
       "      <td>7.944907</td>\n",
       "    </tr>\n",
       "    <tr>\n",
       "      <th>max</th>\n",
       "      <td>254.003906</td>\n",
       "      <td>15.906097</td>\n",
       "      <td>1021.998047</td>\n",
       "      <td>16384.000000</td>\n",
       "      <td>86.500000</td>\n",
       "      <td>16384.000000</td>\n",
       "      <td>63.271149</td>\n",
       "      <td>1.419760</td>\n",
       "      <td>16.286221</td>\n",
       "    </tr>\n",
       "  </tbody>\n",
       "</table>\n",
       "</div>"
      ],
      "text/plain": [
       "           Kurtosis      Skewness           Std         Range        Median  \\\n",
       "count  32000.000000  32000.000000  32000.000000  32000.000000  32000.000000   \n",
       "mean      23.641564      2.909845    108.094557    843.632844     32.509625   \n",
       "std       48.323836      3.224175     96.650518   1519.309772     20.951438   \n",
       "min        1.224067     -1.219257     15.969453     90.000000      0.000000   \n",
       "25%        3.177516      1.027240     58.591243    249.750000     14.000000   \n",
       "50%        6.345994      1.881191     81.179634    392.000000     33.000000   \n",
       "75%       16.633764      3.398783    119.835543    736.000000     49.500000   \n",
       "max      254.003906     15.906097   1021.998047  16384.000000     86.500000   \n",
       "\n",
       "       Garcia_Gmean  Epsilon_Gmean      Mobility    Complexity  \n",
       "count  32000.000000   32000.000000  32000.000000  32000.000000  \n",
       "mean      53.000911      26.546891      0.323901      5.893594  \n",
       "std      467.269346      14.601687      0.213851      3.021306  \n",
       "min        1.776100       1.038634      0.086105      0.907459  \n",
       "25%       27.548245      14.553534      0.186125      3.535960  \n",
       "50%       37.333225      25.404307      0.253764      5.599429  \n",
       "75%       46.439072      37.573871      0.375864      7.944907  \n",
       "max    16384.000000      63.271149      1.419760     16.286221  "
      ]
     },
     "execution_count": 10,
     "metadata": {},
     "output_type": "execute_result"
    }
   ],
   "source": [
    "GarciaX_train.describe()"
   ]
  },
  {
   "cell_type": "markdown",
   "metadata": {},
   "source": [
    "##### Dataset looks homogeneous"
   ]
  },
  {
   "cell_type": "code",
   "execution_count": 11,
   "metadata": {},
   "outputs": [
    {
     "data": {
      "text/html": [
       "<div>\n",
       "<style scoped>\n",
       "    .dataframe tbody tr th:only-of-type {\n",
       "        vertical-align: middle;\n",
       "    }\n",
       "\n",
       "    .dataframe tbody tr th {\n",
       "        vertical-align: top;\n",
       "    }\n",
       "\n",
       "    .dataframe thead th {\n",
       "        text-align: right;\n",
       "    }\n",
       "</style>\n",
       "<table border=\"1\" class=\"dataframe\">\n",
       "  <thead>\n",
       "    <tr style=\"text-align: right;\">\n",
       "      <th></th>\n",
       "      <th>Kurtosis</th>\n",
       "      <th>Skewness</th>\n",
       "      <th>Std</th>\n",
       "      <th>Range</th>\n",
       "      <th>Median</th>\n",
       "      <th>Geometric_Mean</th>\n",
       "      <th>Mobility</th>\n",
       "      <th>Complexity</th>\n",
       "    </tr>\n",
       "  </thead>\n",
       "  <tbody>\n",
       "    <tr>\n",
       "      <th>0</th>\n",
       "      <td>13.528070</td>\n",
       "      <td>3.428313</td>\n",
       "      <td>346.67215</td>\n",
       "      <td>2474.0</td>\n",
       "      <td>156.0</td>\n",
       "      <td>153.809620</td>\n",
       "      <td>0.313289</td>\n",
       "      <td>4.691166</td>\n",
       "    </tr>\n",
       "    <tr>\n",
       "      <th>1</th>\n",
       "      <td>14.178134</td>\n",
       "      <td>3.462216</td>\n",
       "      <td>348.01108</td>\n",
       "      <td>2676.0</td>\n",
       "      <td>156.5</td>\n",
       "      <td>153.171980</td>\n",
       "      <td>0.352946</td>\n",
       "      <td>4.587785</td>\n",
       "    </tr>\n",
       "    <tr>\n",
       "      <th>2</th>\n",
       "      <td>2.679554</td>\n",
       "      <td>1.893911</td>\n",
       "      <td>299.19614</td>\n",
       "      <td>1384.0</td>\n",
       "      <td>139.5</td>\n",
       "      <td>155.424900</td>\n",
       "      <td>0.114664</td>\n",
       "      <td>10.567497</td>\n",
       "    </tr>\n",
       "    <tr>\n",
       "      <th>3</th>\n",
       "      <td>2.924293</td>\n",
       "      <td>1.936686</td>\n",
       "      <td>301.38376</td>\n",
       "      <td>1475.0</td>\n",
       "      <td>130.5</td>\n",
       "      <td>154.805740</td>\n",
       "      <td>0.227066</td>\n",
       "      <td>7.881114</td>\n",
       "    </tr>\n",
       "    <tr>\n",
       "      <th>4</th>\n",
       "      <td>4.072080</td>\n",
       "      <td>2.250892</td>\n",
       "      <td>461.31750</td>\n",
       "      <td>1938.0</td>\n",
       "      <td>50.0</td>\n",
       "      <td>46.029896</td>\n",
       "      <td>0.072598</td>\n",
       "      <td>13.123314</td>\n",
       "    </tr>\n",
       "    <tr>\n",
       "      <th>...</th>\n",
       "      <td>...</td>\n",
       "      <td>...</td>\n",
       "      <td>...</td>\n",
       "      <td>...</td>\n",
       "      <td>...</td>\n",
       "      <td>...</td>\n",
       "      <td>...</td>\n",
       "      <td>...</td>\n",
       "    </tr>\n",
       "    <tr>\n",
       "      <th>3995</th>\n",
       "      <td>24.946789</td>\n",
       "      <td>4.806365</td>\n",
       "      <td>529.44110</td>\n",
       "      <td>3886.0</td>\n",
       "      <td>127.5</td>\n",
       "      <td>89.651695</td>\n",
       "      <td>0.958232</td>\n",
       "      <td>2.059683</td>\n",
       "    </tr>\n",
       "    <tr>\n",
       "      <th>3996</th>\n",
       "      <td>16.434111</td>\n",
       "      <td>2.890011</td>\n",
       "      <td>216.15149</td>\n",
       "      <td>2006.0</td>\n",
       "      <td>186.5</td>\n",
       "      <td>191.664670</td>\n",
       "      <td>0.218244</td>\n",
       "      <td>4.615892</td>\n",
       "    </tr>\n",
       "    <tr>\n",
       "      <th>3997</th>\n",
       "      <td>11.568215</td>\n",
       "      <td>2.730022</td>\n",
       "      <td>267.74970</td>\n",
       "      <td>2194.0</td>\n",
       "      <td>196.5</td>\n",
       "      <td>164.909880</td>\n",
       "      <td>0.932509</td>\n",
       "      <td>2.087991</td>\n",
       "    </tr>\n",
       "    <tr>\n",
       "      <th>3998</th>\n",
       "      <td>10.807127</td>\n",
       "      <td>2.911698</td>\n",
       "      <td>165.19333</td>\n",
       "      <td>1083.0</td>\n",
       "      <td>237.5</td>\n",
       "      <td>221.035020</td>\n",
       "      <td>0.149275</td>\n",
       "      <td>7.495107</td>\n",
       "    </tr>\n",
       "    <tr>\n",
       "      <th>3999</th>\n",
       "      <td>12.638103</td>\n",
       "      <td>2.895494</td>\n",
       "      <td>231.45259</td>\n",
       "      <td>1631.0</td>\n",
       "      <td>171.5</td>\n",
       "      <td>186.912300</td>\n",
       "      <td>0.948760</td>\n",
       "      <td>2.094588</td>\n",
       "    </tr>\n",
       "  </tbody>\n",
       "</table>\n",
       "<p>4000 rows × 8 columns</p>\n",
       "</div>"
      ],
      "text/plain": [
       "       Kurtosis  Skewness        Std   Range  Median  Geometric_Mean  \\\n",
       "0     13.528070  3.428313  346.67215  2474.0   156.0      153.809620   \n",
       "1     14.178134  3.462216  348.01108  2676.0   156.5      153.171980   \n",
       "2      2.679554  1.893911  299.19614  1384.0   139.5      155.424900   \n",
       "3      2.924293  1.936686  301.38376  1475.0   130.5      154.805740   \n",
       "4      4.072080  2.250892  461.31750  1938.0    50.0       46.029896   \n",
       "...         ...       ...        ...     ...     ...             ...   \n",
       "3995  24.946789  4.806365  529.44110  3886.0   127.5       89.651695   \n",
       "3996  16.434111  2.890011  216.15149  2006.0   186.5      191.664670   \n",
       "3997  11.568215  2.730022  267.74970  2194.0   196.5      164.909880   \n",
       "3998  10.807127  2.911698  165.19333  1083.0   237.5      221.035020   \n",
       "3999  12.638103  2.895494  231.45259  1631.0   171.5      186.912300   \n",
       "\n",
       "      Mobility  Complexity  \n",
       "0     0.313289    4.691166  \n",
       "1     0.352946    4.587785  \n",
       "2     0.114664   10.567497  \n",
       "3     0.227066    7.881114  \n",
       "4     0.072598   13.123314  \n",
       "...        ...         ...  \n",
       "3995  0.958232    2.059683  \n",
       "3996  0.218244    4.615892  \n",
       "3997  0.932509    2.087991  \n",
       "3998  0.149275    7.495107  \n",
       "3999  0.948760    2.094588  \n",
       "\n",
       "[4000 rows x 8 columns]"
      ]
     },
     "execution_count": 11,
     "metadata": {},
     "output_type": "execute_result"
    }
   ],
   "source": [
    "trainDataset.iloc[:,:-2]"
   ]
  },
  {
   "cell_type": "code",
   "execution_count": 12,
   "metadata": {},
   "outputs": [
    {
     "data": {
      "text/html": [
       "<div>\n",
       "<style scoped>\n",
       "    .dataframe tbody tr th:only-of-type {\n",
       "        vertical-align: middle;\n",
       "    }\n",
       "\n",
       "    .dataframe tbody tr th {\n",
       "        vertical-align: top;\n",
       "    }\n",
       "\n",
       "    .dataframe thead th {\n",
       "        text-align: right;\n",
       "    }\n",
       "</style>\n",
       "<table border=\"1\" class=\"dataframe\">\n",
       "  <thead>\n",
       "    <tr style=\"text-align: right;\">\n",
       "      <th></th>\n",
       "      <th>Kurtosis</th>\n",
       "      <th>Skewness</th>\n",
       "      <th>Std</th>\n",
       "      <th>Range</th>\n",
       "      <th>Median</th>\n",
       "      <th>Geometric_Mean</th>\n",
       "      <th>Mobility</th>\n",
       "      <th>Complexity</th>\n",
       "    </tr>\n",
       "  </thead>\n",
       "  <tbody>\n",
       "    <tr>\n",
       "      <th>count</th>\n",
       "      <td>4000.000000</td>\n",
       "      <td>4000.000000</td>\n",
       "      <td>4000.000000</td>\n",
       "      <td>4000.000000</td>\n",
       "      <td>4000.00000</td>\n",
       "      <td>4000.000000</td>\n",
       "      <td>4000.000000</td>\n",
       "      <td>4000.000000</td>\n",
       "    </tr>\n",
       "    <tr>\n",
       "      <th>mean</th>\n",
       "      <td>21.823689</td>\n",
       "      <td>3.123951</td>\n",
       "      <td>380.995970</td>\n",
       "      <td>2977.834250</td>\n",
       "      <td>148.57975</td>\n",
       "      <td>123.201477</td>\n",
       "      <td>0.434912</td>\n",
       "      <td>5.905692</td>\n",
       "    </tr>\n",
       "    <tr>\n",
       "      <th>std</th>\n",
       "      <td>44.873113</td>\n",
       "      <td>3.051797</td>\n",
       "      <td>284.810485</td>\n",
       "      <td>4178.229483</td>\n",
       "      <td>72.19171</td>\n",
       "      <td>58.813579</td>\n",
       "      <td>0.297597</td>\n",
       "      <td>4.607042</td>\n",
       "    </tr>\n",
       "    <tr>\n",
       "      <th>min</th>\n",
       "      <td>-1.643958</td>\n",
       "      <td>-0.924079</td>\n",
       "      <td>72.596810</td>\n",
       "      <td>356.000000</td>\n",
       "      <td>1.00000</td>\n",
       "      <td>1.206894</td>\n",
       "      <td>0.056714</td>\n",
       "      <td>0.909949</td>\n",
       "    </tr>\n",
       "    <tr>\n",
       "      <th>25%</th>\n",
       "      <td>1.143461</td>\n",
       "      <td>1.268119</td>\n",
       "      <td>218.918723</td>\n",
       "      <td>1048.000000</td>\n",
       "      <td>94.50000</td>\n",
       "      <td>76.802810</td>\n",
       "      <td>0.170817</td>\n",
       "      <td>2.576243</td>\n",
       "    </tr>\n",
       "    <tr>\n",
       "      <th>50%</th>\n",
       "      <td>5.159363</td>\n",
       "      <td>2.156878</td>\n",
       "      <td>299.593935</td>\n",
       "      <td>1701.000000</td>\n",
       "      <td>156.50000</td>\n",
       "      <td>126.712212</td>\n",
       "      <td>0.360225</td>\n",
       "      <td>4.435914</td>\n",
       "    </tr>\n",
       "    <tr>\n",
       "      <th>75%</th>\n",
       "      <td>17.597058</td>\n",
       "      <td>3.684183</td>\n",
       "      <td>437.186158</td>\n",
       "      <td>2928.500000</td>\n",
       "      <td>204.00000</td>\n",
       "      <td>170.701695</td>\n",
       "      <td>0.695353</td>\n",
       "      <td>7.900007</td>\n",
       "    </tr>\n",
       "    <tr>\n",
       "      <th>max</th>\n",
       "      <td>250.701118</td>\n",
       "      <td>15.891788</td>\n",
       "      <td>2931.856400</td>\n",
       "      <td>47059.000000</td>\n",
       "      <td>342.50000</td>\n",
       "      <td>246.732220</td>\n",
       "      <td>1.394352</td>\n",
       "      <td>26.708015</td>\n",
       "    </tr>\n",
       "  </tbody>\n",
       "</table>\n",
       "</div>"
      ],
      "text/plain": [
       "          Kurtosis     Skewness          Std         Range      Median  \\\n",
       "count  4000.000000  4000.000000  4000.000000   4000.000000  4000.00000   \n",
       "mean     21.823689     3.123951   380.995970   2977.834250   148.57975   \n",
       "std      44.873113     3.051797   284.810485   4178.229483    72.19171   \n",
       "min      -1.643958    -0.924079    72.596810    356.000000     1.00000   \n",
       "25%       1.143461     1.268119   218.918723   1048.000000    94.50000   \n",
       "50%       5.159363     2.156878   299.593935   1701.000000   156.50000   \n",
       "75%      17.597058     3.684183   437.186158   2928.500000   204.00000   \n",
       "max     250.701118    15.891788  2931.856400  47059.000000   342.50000   \n",
       "\n",
       "       Geometric_Mean     Mobility   Complexity  \n",
       "count     4000.000000  4000.000000  4000.000000  \n",
       "mean       123.201477     0.434912     5.905692  \n",
       "std         58.813579     0.297597     4.607042  \n",
       "min          1.206894     0.056714     0.909949  \n",
       "25%         76.802810     0.170817     2.576243  \n",
       "50%        126.712212     0.360225     4.435914  \n",
       "75%        170.701695     0.695353     7.900007  \n",
       "max        246.732220     1.394352    26.708015  "
      ]
     },
     "execution_count": 12,
     "metadata": {},
     "output_type": "execute_result"
    }
   ],
   "source": [
    "trainDataset.iloc[:,:-2].describe()"
   ]
  },
  {
   "cell_type": "markdown",
   "metadata": {},
   "source": [
    "#### Standard scalling"
   ]
  },
  {
   "cell_type": "code",
   "execution_count": 13,
   "metadata": {},
   "outputs": [],
   "source": [
    "scG=StandardScaler()\n",
    "sc_GarciaX_train=pd.DataFrame(scG.fit_transform(GarciaX_train),columns=GarciaLabels)\n",
    "sc_GarciaX_test=pd.DataFrame(scG.transform(GarciaX_test),columns=GarciaLabels)\n",
    "\n",
    "scM=StandardScaler()\n",
    "sc_MirandaX_train=pd.DataFrame(scM.fit_transform(MirandaX_train),columns=MirandaLabels)\n",
    "sc_MirandaX_test=pd.DataFrame(scM.transform(MirandaX_test),columns=MirandaLabels)"
   ]
  },
  {
   "cell_type": "markdown",
   "metadata": {
    "tags": []
   },
   "source": [
    "#### Recursive Feature Elimination"
   ]
  },
  {
   "cell_type": "code",
   "execution_count": 14,
   "metadata": {},
   "outputs": [
    {
     "name": "stdout",
     "output_type": "stream",
     "text": [
      "[2 4 3 1 9 7 8 6 5]\n",
      "García's Dataset\n",
      "Ordered from most to less desired variables:\n"
     ]
    },
    {
     "data": {
      "text/plain": [
       "['Range',\n",
       " 'Kurtosis',\n",
       " 'Std',\n",
       " 'Skewness',\n",
       " 'Complexity',\n",
       " 'Mobility',\n",
       " 'Garcia_Gmean',\n",
       " 'Epsilon_Gmean',\n",
       " 'Median']"
      ]
     },
     "execution_count": 14,
     "metadata": {},
     "output_type": "execute_result"
    }
   ],
   "source": [
    "from sklearn.feature_selection import RFE\n",
    "from sklearn.linear_model import LogisticRegression\n",
    "logregRFEG = LogisticRegression()\n",
    "rfe = RFE(logregRFEG, n_features_to_select=1)\n",
    "rfe = rfe.fit(sc_GarciaX_train,GarciaY_train)\n",
    "print(rfe.ranking_)\n",
    "print(\"García's Dataset\")\n",
    "print(\"Ordered from most to less desired variables:\")\n",
    "desiredVariables=GarciaLabels\n",
    "sortOrder=rfe.ranking_\n",
    "sorted(desiredVariables,key=lambda pos: sortOrder[desiredVariables.index(pos)])"
   ]
  },
  {
   "cell_type": "code",
   "execution_count": 15,
   "metadata": {},
   "outputs": [
    {
     "name": "stdout",
     "output_type": "stream",
     "text": [
      "[6 2 4 3 8 7 1 5]\n",
      "Miranda's Dataset\n",
      "Ordered from most to less desired variables:\n"
     ]
    },
    {
     "data": {
      "text/plain": [
       "['Mobility',\n",
       " 'Skewness',\n",
       " 'Range',\n",
       " 'Std',\n",
       " 'Complexity',\n",
       " 'Kurtosis',\n",
       " 'Geometric_Mean',\n",
       " 'Median']"
      ]
     },
     "execution_count": 15,
     "metadata": {},
     "output_type": "execute_result"
    }
   ],
   "source": [
    "from sklearn.feature_selection import RFE\n",
    "from sklearn.linear_model import LogisticRegression\n",
    "logregRFEM = LogisticRegression()\n",
    "rfe = RFE(logregRFEM, n_features_to_select=1)\n",
    "rfe = rfe.fit(sc_MirandaX_train,MirandaY_train)\n",
    "print(rfe.ranking_)\n",
    "print(\"Miranda's Dataset\")\n",
    "print(\"Ordered from most to less desired variables:\")\n",
    "desiredVariables=MirandaLabels\n",
    "sortOrder=rfe.ranking_\n",
    "sorted(desiredVariables,key=lambda pos: sortOrder[desiredVariables.index(pos)])"
   ]
  },
  {
   "cell_type": "markdown",
   "metadata": {},
   "source": [
    "RFE Shows prefferences for the variables to be predictors, meaning it to be ordered depending on de predictor-likability of a variable. Proving the anterior analysis, "
   ]
  },
  {
   "cell_type": "markdown",
   "metadata": {
    "tags": []
   },
   "source": [
    "### Modelling"
   ]
  },
  {
   "cell_type": "code",
   "execution_count": 16,
   "metadata": {},
   "outputs": [
    {
     "name": "stdout",
     "output_type": "stream",
     "text": [
      "Optimization terminated successfully.\n",
      "         Current function value: 0.337155\n",
      "         Iterations 8\n",
      "                         Results: Logit\n",
      "================================================================\n",
      "Model:              Logit            Pseudo R-squared: 0.514    \n",
      "Dependent Variable: y                AIC:              2713.2422\n",
      "Date:               2021-09-01 00:32 BIC:              2763.5946\n",
      "No. Observations:   4000             Log-Likelihood:   -1348.6  \n",
      "Df Model:           7                LL-Null:          -2772.6  \n",
      "Df Residuals:       3992             LLR p-value:      0.0000   \n",
      "Converged:          1.0000           Scale:            1.0000   \n",
      "No. Iterations:     8.0000                                      \n",
      "----------------------------------------------------------------\n",
      "                  Coef.  Std.Err.    z    P>|z|   [0.025  0.975]\n",
      "----------------------------------------------------------------\n",
      "Kurtosis          0.7366   0.2630  2.8009 0.0051  0.2211  1.2520\n",
      "Skewness         -2.2568   0.2593 -8.7019 0.0000 -2.7651 -1.7485\n",
      "Std               0.9710   0.3016  3.2198 0.0013  0.3799  1.5620\n",
      "Range            -1.0950   0.3091 -3.5422 0.0004 -1.7009 -0.4891\n",
      "Median           -0.0010   0.0952 -0.0101 0.9920 -0.1875  0.1856\n",
      "Geometric_Mean    0.0620   0.0899  0.6892 0.4907 -0.1142  0.2382\n",
      "Mobility          2.7250   0.1024 26.6124 0.0000  2.5243  2.9256\n",
      "Complexity       -1.0908   0.1293 -8.4368 0.0000 -1.3443 -0.8374\n",
      "================================================================\n",
      "\n"
     ]
    }
   ],
   "source": [
    "import statsmodels.api as sm\n",
    "logit_model=sm.Logit(MirandaY_train,sc_MirandaX_train)\n",
    "result=logit_model.fit()\n",
    "print(result.summary2())"
   ]
  },
  {
   "cell_type": "code",
   "execution_count": 17,
   "metadata": {},
   "outputs": [
    {
     "data": {
      "text/html": [
       "<div>\n",
       "<style scoped>\n",
       "    .dataframe tbody tr th:only-of-type {\n",
       "        vertical-align: middle;\n",
       "    }\n",
       "\n",
       "    .dataframe tbody tr th {\n",
       "        vertical-align: top;\n",
       "    }\n",
       "\n",
       "    .dataframe thead th {\n",
       "        text-align: right;\n",
       "    }\n",
       "</style>\n",
       "<table border=\"1\" class=\"dataframe\">\n",
       "  <thead>\n",
       "    <tr style=\"text-align: right;\">\n",
       "      <th></th>\n",
       "      <th>Kurtosis</th>\n",
       "      <th>Skewness</th>\n",
       "      <th>Std</th>\n",
       "      <th>Range</th>\n",
       "      <th>Median</th>\n",
       "      <th>Garcia_Gmean</th>\n",
       "      <th>Epsilon_Gmean</th>\n",
       "      <th>Mobility</th>\n",
       "      <th>Complexity</th>\n",
       "    </tr>\n",
       "  </thead>\n",
       "  <tbody>\n",
       "    <tr>\n",
       "      <th>0</th>\n",
       "      <td>-0.440207</td>\n",
       "      <td>-0.817673</td>\n",
       "      <td>-0.670710</td>\n",
       "      <td>-0.421667</td>\n",
       "      <td>1.503041</td>\n",
       "      <td>-0.019905</td>\n",
       "      <td>0.926913</td>\n",
       "      <td>-0.132019</td>\n",
       "      <td>-0.103333</td>\n",
       "    </tr>\n",
       "    <tr>\n",
       "      <th>1</th>\n",
       "      <td>-0.449984</td>\n",
       "      <td>-0.800791</td>\n",
       "      <td>-0.739727</td>\n",
       "      <td>-0.455894</td>\n",
       "      <td>1.192795</td>\n",
       "      <td>-0.003097</td>\n",
       "      <td>1.809353</td>\n",
       "      <td>0.219882</td>\n",
       "      <td>-0.445382</td>\n",
       "    </tr>\n",
       "    <tr>\n",
       "      <th>2</th>\n",
       "      <td>0.207715</td>\n",
       "      <td>0.661487</td>\n",
       "      <td>0.584783</td>\n",
       "      <td>0.414910</td>\n",
       "      <td>-0.955063</td>\n",
       "      <td>-0.054768</td>\n",
       "      <td>-1.128441</td>\n",
       "      <td>0.403765</td>\n",
       "      <td>-0.793988</td>\n",
       "    </tr>\n",
       "    <tr>\n",
       "      <th>3</th>\n",
       "      <td>-0.204720</td>\n",
       "      <td>0.082030</td>\n",
       "      <td>0.376316</td>\n",
       "      <td>0.052240</td>\n",
       "      <td>-1.360769</td>\n",
       "      <td>-0.085289</td>\n",
       "      <td>-1.188477</td>\n",
       "      <td>0.354812</td>\n",
       "      <td>-0.749194</td>\n",
       "    </tr>\n",
       "    <tr>\n",
       "      <th>4</th>\n",
       "      <td>0.166669</td>\n",
       "      <td>0.679108</td>\n",
       "      <td>0.692510</td>\n",
       "      <td>0.335267</td>\n",
       "      <td>-1.360769</td>\n",
       "      <td>-0.090762</td>\n",
       "      <td>-1.050798</td>\n",
       "      <td>-0.139775</td>\n",
       "      <td>-1.054486</td>\n",
       "    </tr>\n",
       "    <tr>\n",
       "      <th>...</th>\n",
       "      <td>...</td>\n",
       "      <td>...</td>\n",
       "      <td>...</td>\n",
       "      <td>...</td>\n",
       "      <td>...</td>\n",
       "      <td>...</td>\n",
       "      <td>...</td>\n",
       "      <td>...</td>\n",
       "      <td>...</td>\n",
       "    </tr>\n",
       "    <tr>\n",
       "      <th>31995</th>\n",
       "      <td>-0.420982</td>\n",
       "      <td>-0.830610</td>\n",
       "      <td>-0.656486</td>\n",
       "      <td>-0.381517</td>\n",
       "      <td>1.789422</td>\n",
       "      <td>-0.036890</td>\n",
       "      <td>0.677674</td>\n",
       "      <td>0.124879</td>\n",
       "      <td>-0.670916</td>\n",
       "    </tr>\n",
       "    <tr>\n",
       "      <th>31996</th>\n",
       "      <td>-0.306834</td>\n",
       "      <td>-0.119354</td>\n",
       "      <td>-0.518146</td>\n",
       "      <td>-0.357821</td>\n",
       "      <td>0.596168</td>\n",
       "      <td>-0.006906</td>\n",
       "      <td>1.674110</td>\n",
       "      <td>-0.461325</td>\n",
       "      <td>0.327269</td>\n",
       "    </tr>\n",
       "    <tr>\n",
       "      <th>31997</th>\n",
       "      <td>-0.451016</td>\n",
       "      <td>-0.955624</td>\n",
       "      <td>-0.675734</td>\n",
       "      <td>-0.453919</td>\n",
       "      <td>1.884882</td>\n",
       "      <td>-0.003692</td>\n",
       "      <td>0.500546</td>\n",
       "      <td>-0.351668</td>\n",
       "      <td>0.300570</td>\n",
       "    </tr>\n",
       "    <tr>\n",
       "      <th>31998</th>\n",
       "      <td>-0.420509</td>\n",
       "      <td>-0.619810</td>\n",
       "      <td>-0.637280</td>\n",
       "      <td>-0.417060</td>\n",
       "      <td>0.882549</td>\n",
       "      <td>-0.016942</td>\n",
       "      <td>1.385710</td>\n",
       "      <td>-0.171042</td>\n",
       "      <td>-0.143227</td>\n",
       "    </tr>\n",
       "    <tr>\n",
       "      <th>31999</th>\n",
       "      <td>-0.427559</td>\n",
       "      <td>-0.895720</td>\n",
       "      <td>-0.694093</td>\n",
       "      <td>-0.432198</td>\n",
       "      <td>1.884882</td>\n",
       "      <td>0.032051</td>\n",
       "      <td>0.409009</td>\n",
       "      <td>-0.131051</td>\n",
       "      <td>-0.169801</td>\n",
       "    </tr>\n",
       "  </tbody>\n",
       "</table>\n",
       "<p>32000 rows × 9 columns</p>\n",
       "</div>"
      ],
      "text/plain": [
       "       Kurtosis  Skewness       Std     Range    Median  Garcia_Gmean  \\\n",
       "0     -0.440207 -0.817673 -0.670710 -0.421667  1.503041     -0.019905   \n",
       "1     -0.449984 -0.800791 -0.739727 -0.455894  1.192795     -0.003097   \n",
       "2      0.207715  0.661487  0.584783  0.414910 -0.955063     -0.054768   \n",
       "3     -0.204720  0.082030  0.376316  0.052240 -1.360769     -0.085289   \n",
       "4      0.166669  0.679108  0.692510  0.335267 -1.360769     -0.090762   \n",
       "...         ...       ...       ...       ...       ...           ...   \n",
       "31995 -0.420982 -0.830610 -0.656486 -0.381517  1.789422     -0.036890   \n",
       "31996 -0.306834 -0.119354 -0.518146 -0.357821  0.596168     -0.006906   \n",
       "31997 -0.451016 -0.955624 -0.675734 -0.453919  1.884882     -0.003692   \n",
       "31998 -0.420509 -0.619810 -0.637280 -0.417060  0.882549     -0.016942   \n",
       "31999 -0.427559 -0.895720 -0.694093 -0.432198  1.884882      0.032051   \n",
       "\n",
       "       Epsilon_Gmean  Mobility  Complexity  \n",
       "0           0.926913 -0.132019   -0.103333  \n",
       "1           1.809353  0.219882   -0.445382  \n",
       "2          -1.128441  0.403765   -0.793988  \n",
       "3          -1.188477  0.354812   -0.749194  \n",
       "4          -1.050798 -0.139775   -1.054486  \n",
       "...              ...       ...         ...  \n",
       "31995       0.677674  0.124879   -0.670916  \n",
       "31996       1.674110 -0.461325    0.327269  \n",
       "31997       0.500546 -0.351668    0.300570  \n",
       "31998       1.385710 -0.171042   -0.143227  \n",
       "31999       0.409009 -0.131051   -0.169801  \n",
       "\n",
       "[32000 rows x 9 columns]"
      ]
     },
     "execution_count": 17,
     "metadata": {},
     "output_type": "execute_result"
    }
   ],
   "source": [
    "sc_GarciaX_train"
   ]
  },
  {
   "cell_type": "code",
   "execution_count": 18,
   "metadata": {
    "tags": []
   },
   "outputs": [
    {
     "name": "stdout",
     "output_type": "stream",
     "text": [
      "Optimization terminated successfully.\n",
      "         Current function value: 0.692811\n",
      "         Iterations 4\n",
      "                         Results: Logit\n",
      "=================================================================\n",
      "Model:              Logit            Pseudo R-squared: 0.000     \n",
      "Dependent Variable: y                AIC:              44357.8806\n",
      "Date:               2021-09-01 00:32 BIC:              44433.2420\n",
      "No. Observations:   32000            Log-Likelihood:   -22170.   \n",
      "Df Model:           8                LL-Null:          -22181.   \n",
      "Df Residuals:       31991            LLR p-value:      0.0059673 \n",
      "Converged:          1.0000           Scale:            1.0000    \n",
      "No. Iterations:     4.0000                                       \n",
      "-----------------------------------------------------------------\n",
      "                   Coef.  Std.Err.    z    P>|z|   [0.025  0.975]\n",
      "-----------------------------------------------------------------\n",
      "Kurtosis           0.1246   0.0748  1.6664 0.0956 -0.0219  0.2711\n",
      "Skewness          -0.0878   0.0669 -1.3130 0.1892 -0.2189  0.0433\n",
      "Std                0.1112   0.0909  1.2233 0.2212 -0.0669  0.2892\n",
      "Range             -0.2098   0.0975 -2.1521 0.0314 -0.4009 -0.0187\n",
      "Median            -0.0055   0.0240 -0.2300 0.8181 -0.0526  0.0416\n",
      "Garcia_Gmean       0.0159   0.0123  1.2957 0.1951 -0.0082  0.0400\n",
      "Epsilon_Gmean     -0.0075   0.0235 -0.3207 0.7484 -0.0536  0.0385\n",
      "Mobility           0.0208   0.0289  0.7209 0.4710 -0.0357  0.0773\n",
      "Complexity        -0.0375   0.0217 -1.7321 0.0832 -0.0800  0.0049\n",
      "=================================================================\n",
      "\n"
     ]
    }
   ],
   "source": [
    "import statsmodels.api as sm\n",
    "logit_modelG=sm.Logit(GarciaY_train,sc_GarciaX_train)\n",
    "result=logit_modelG.fit()\n",
    "print(result.summary2())"
   ]
  },
  {
   "cell_type": "code",
   "execution_count": 19,
   "metadata": {
    "tags": []
   },
   "outputs": [
    {
     "name": "stdout",
     "output_type": "stream",
     "text": [
      "Accuracy of logistic regression classifier on test set: 0.86\n"
     ]
    }
   ],
   "source": [
    "from sklearn.linear_model import LogisticRegression\n",
    "from sklearn import metrics\n",
    "#X_train, X_test, y_train, y_test = train_test_split(sc.fit_transform(newX), y, test_size=0.2, random_state=0)\n",
    "logregMiranda = LogisticRegression()\n",
    "logregMiranda.fit(sc_MirandaX_train, MirandaY_train)\n",
    "y_predMiranda = logregMiranda.predict(sc_MirandaX_test)\n",
    "print('Accuracy of logistic regression classifier on test set: {:.2f}'.format(logregMiranda.score(sc_MirandaX_test, MirandaY_test)))"
   ]
  },
  {
   "cell_type": "code",
   "execution_count": 20,
   "metadata": {},
   "outputs": [
    {
     "name": "stdout",
     "output_type": "stream",
     "text": [
      "[ True False False  True False  True  True False False  True  True False\n",
      "  True False  True False  True False  True  True  True False  True False\n",
      "  True False  True False  True False  True False  True False  True False\n",
      "  True False  True False  True False False  True  True False False  True\n",
      " False  True  True False  True False  True False  True False  True False\n",
      "  True False  True False  True  True  True  True  True False  True False\n",
      "  True False  True False  True False  True False  True False  True False\n",
      "  True  True  True False  True False  True False  True  True  True False\n",
      "  True False False False  True False  True False  True False  True  True\n",
      "  True False  True False  True False  True False  True False  True False\n",
      "  True False  True False  True  True False  True  True False  True False\n",
      "  True False  True False  True False  True False  True False  True  True\n",
      "  True False  True False  True False  True False  True False  True False\n",
      "  True False  True False  True False  True False  True False False  True\n",
      "  True False  True  True  True False  True False  True False  True False\n",
      "  True  True False  True  True False  True False  True False  True False\n",
      "  True False  True False  True False  True False  True  True  True False\n",
      "  True  True  True  True  True  True  True  True  True  True  True  True\n",
      " False  True  True  True  True False  True  True  True  True  True  True\n",
      "  True  True  True  True  True  True  True  True  True  True False  True\n",
      " False  True False  True  True  True  True  True False  True  True False\n",
      " False  True  True  True  True  True  True  True  True  True  True  True\n",
      "  True  True  True  True  True  True  True  True  True  True  True  True\n",
      "  True  True  True  True  True  True  True  True False  True  True  True\n",
      "  True  True  True  True  True  True  True  True  True  True  True  True\n",
      "  True  True  True  True  True False  True  True  True  True  True  True\n",
      "  True  True  True  True  True  True False  True  True  True  True False\n",
      "  True  True  True  True  True  True  True  True  True  True  True  True\n",
      "  True  True  True  True  True  True  True  True  True  True False  True\n",
      "  True  True  True False  True  True False  True  True  True  True  True\n",
      "  True  True  True  True  True False False False  True  True  True  True\n",
      "  True  True  True  True  True  True  True False  True  True False  True\n",
      "  True  True  True  True  True  True  True  True  True  True  True  True\n",
      "  True  True False  True  True  True  True  True  True  True  True  True\n",
      "  True  True  True False  True  True  True  True  True  True  True  True\n",
      "  True  True  True  True  True  True  True  True  True  True  True  True\n",
      " False  True  True  True  True  True  True  True  True  True  True  True\n",
      "  True  True  True  True False  True False  True  True  True  True  True\n",
      "  True  True  True  True  True  True  True  True  True  True  True  True\n",
      "  True  True  True  True  True  True  True  True False  True  True  True\n",
      " False  True  True  True  True  True False  True  True  True  True  True\n",
      "  True  True  True  True  True  True  True  True  True  True  True  True\n",
      "  True  True  True  True False  True  True  True  True  True  True  True\n",
      "  True  True  True  True  True  True  True  True  True  True  True  True\n",
      "  True  True  True  True False  True  True  True  True  True  True  True\n",
      "  True  True  True  True  True  True  True  True  True  True  True  True\n",
      "  True  True  True  True False  True  True  True  True  True  True  True\n",
      "  True  True False  True False  True  True  True  True  True  True  True\n",
      " False  True  True  True  True  True  True  True  True  True  True  True\n",
      "  True  True  True  True  True  True  True  True  True  True  True  True\n",
      "  True  True  True  True  True  True  True  True  True  True  True  True\n",
      " False  True  True  True  True  True  True  True  True  True  True  True\n",
      " False  True  True  True  True  True  True  True  True  True  True  True\n",
      "  True  True  True  True False  True  True  True  True  True  True  True\n",
      "  True  True  True  True  True  True  True  True  True  True  True  True\n",
      "  True  True  True  True  True  True  True  True False  True  True  True\n",
      "  True  True  True  True  True  True  True  True  True  True  True  True\n",
      "  True  True  True  True  True  True  True  True  True  True  True  True\n",
      "  True  True  True  True  True  True False  True  True  True  True  True\n",
      "  True  True  True  True  True  True  True  True  True  True  True  True\n",
      "  True  True  True  True  True  True  True  True  True False  True  True\n",
      "  True  True  True  True  True  True  True  True  True  True  True  True\n",
      "  True  True  True  True  True  True  True  True  True  True  True  True\n",
      "  True  True  True  True  True  True  True  True  True  True  True  True\n",
      "  True  True False  True  True  True  True  True  True  True  True  True\n",
      "  True  True  True  True  True  True  True  True  True  True False  True\n",
      "  True  True  True  True  True  True  True  True False  True  True  True\n",
      "  True  True  True  True  True  True  True  True  True  True  True  True\n",
      "  True  True  True  True  True  True  True  True  True  True  True  True\n",
      "  True  True  True  True  True  True  True  True  True  True  True  True\n",
      "  True  True  True  True  True  True  True  True  True  True  True  True\n",
      "  True  True  True  True  True  True  True  True  True  True  True  True\n",
      "  True  True  True  True  True  True  True  True  True  True  True  True\n",
      " False  True  True  True  True  True  True  True  True  True  True  True\n",
      "  True  True  True  True  True  True  True  True  True  True  True  True\n",
      "  True  True  True  True  True  True  True False False  True  True  True\n",
      "  True  True  True  True  True  True  True  True False  True  True  True\n",
      "  True  True  True  True  True  True False  True  True  True  True  True\n",
      "  True  True  True  True  True  True False  True  True  True  True  True\n",
      "  True  True  True  True  True  True  True  True  True  True  True  True\n",
      "  True  True  True  True  True  True  True  True  True  True  True  True\n",
      "  True  True  True  True  True  True  True  True  True  True  True  True\n",
      "  True  True  True  True  True  True  True  True False  True  True  True\n",
      "  True  True  True  True]\n"
     ]
    }
   ],
   "source": [
    "print(cy_predMiranda == MirandaY_test)"
   ]
  },
  {
   "cell_type": "code",
   "execution_count": 23,
   "metadata": {
    "tags": []
   },
   "outputs": [
    {
     "name": "stdout",
     "output_type": "stream",
     "text": [
      "Accuracy of logistic regression classifier on test set: 0.50\n"
     ]
    }
   ],
   "source": [
    "logregGarcia = LogisticRegression()\n",
    "logregGarcia.fit(sc_GarciaX_train, GarciaY_train)\n",
    "y_predGarcia = logregGarcia.predict(sc_GarciaX_test)\n",
    "print('Accuracy of logistic regression classifier on test set: {:.2f}'.format(logregGarcia.score(sc_GarciaX_test, GarciaY_test)))"
   ]
  },
  {
   "cell_type": "code",
   "execution_count": 24,
   "metadata": {},
   "outputs": [
    {
     "name": "stdout",
     "output_type": "stream",
     "text": [
      "[False  True False ... False False  True]\n"
     ]
    }
   ],
   "source": [
    "print(y_predGarcia == GarciaY_test)"
   ]
  },
  {
   "cell_type": "code",
   "execution_count": null,
   "metadata": {},
   "outputs": [
    {
     "data": {
      "text/plain": [
       "1000"
      ]
     },
     "execution_count": 27,
     "metadata": {},
     "output_type": "execute_result"
    }
   ],
   "source": [
    "len(y_predMiranda)"
   ]
  },
  {
   "cell_type": "code",
   "execution_count": 38,
   "metadata": {},
   "outputs": [],
   "source": [
    "from itertools import chain, combinations\n",
    "from sklearn.model_selection import cross_val_score\n",
    "import copy\n",
    "def best_subset_cv(estimator, X, Y, labels,cv=3):\n",
    "    n_features = X.shape[1]\n",
    "    subsets = chain.from_iterable([combinations(labels, k + 1) for k in range(n_features)])\n",
    "    best_score = -np.inf\n",
    "    best_subset = None\n",
    "    for subset in subsets:\n",
    "        estimatorCopy=copy.copy(estimator)\n",
    "        score = cross_val_score(estimatorCopy, X.loc[:, list(subset)], Y, cv=cv).mean()\n",
    "        if score > best_score:\n",
    "            best_score, best_subset = score, subset\n",
    "\n",
    "    return best_subset, best_score"
   ]
  },
  {
   "cell_type": "code",
   "execution_count": 39,
   "metadata": {},
   "outputs": [
    {
     "name": "stdout",
     "output_type": "stream",
     "text": [
      "Miranda\n"
     ]
    }
   ],
   "source": [
    "logregBSM = LogisticRegression()\n",
    "subM, scoM=best_subset_cv(logregBSM,sc_MirandaX_train,MirandaY_train,MirandaLabels)\n",
    "print(\"Miranda\")"
   ]
  },
  {
   "cell_type": "code",
   "execution_count": 40,
   "metadata": {},
   "outputs": [
    {
     "data": {
      "text/plain": [
       "(('Skewness', 'Std', 'Range', 'Mobility'), 0.8358009667334375)"
      ]
     },
     "execution_count": 40,
     "metadata": {},
     "output_type": "execute_result"
    }
   ],
   "source": [
    "subM, scoM"
   ]
  },
  {
   "cell_type": "code",
   "execution_count": 41,
   "metadata": {},
   "outputs": [
    {
     "name": "stdout",
     "output_type": "stream",
     "text": [
      "García\n"
     ]
    }
   ],
   "source": [
    "logregBSG = LogisticRegression()\n",
    "subG, scoG=best_subset_cv(logregBSG,sc_GarciaX_train,GarciaY_train,GarciaLabels)\n",
    "print(\"García\")"
   ]
  },
  {
   "cell_type": "code",
   "execution_count": 42,
   "metadata": {},
   "outputs": [
    {
     "data": {
      "text/plain": [
       "(('Std', 'Range', 'Garcia_Gmean', 'Epsilon_Gmean', 'Mobility'),\n",
       " 0.5076251220890206)"
      ]
     },
     "execution_count": 42,
     "metadata": {},
     "output_type": "execute_result"
    }
   ],
   "source": [
    "subG, scoG"
   ]
  },
  {
   "cell_type": "code",
   "execution_count": 43,
   "metadata": {},
   "outputs": [
    {
     "data": {
      "image/png": "[encoded data removed]",
      "text/plain": [
       "<Figure size 1100x900 with 2 Axes>"
      ]
     },
     "metadata": {},
     "output_type": "display_data"
    }
   ],
   "source": [
    "import seaborn as sns\n",
    "sns.set_theme(style=\"dark\")\n",
    "corr = sc_MirandaX_train.corr()\n",
    "f, ax = plt.subplots(figsize=(11, 9))\n",
    "cmap = sns.diverging_palette(230, 20, as_cmap=True)\n",
    "ax.tick_params(axis='x', rotation=90)\n",
    "# Draw the heatmap with the mask and correct aspect ratio\n",
    "sns.heatmap(corr, cmap=cmap, vmax=.3, center=0,\n",
    "            square=True, linewidths=.5, cbar_kws={\"shrink\": .5}).set_title(\"Miranda's correlation matrix\")\n",
    "plt.show()"
   ]
  },
  {
   "cell_type": "code",
   "execution_count": 44,
   "metadata": {},
   "outputs": [
    {
     "data": {
      "image/png": "[encoded data removed]",
      "text/plain": [
       "<Figure size 1100x900 with 2 Axes>"
      ]
     },
     "metadata": {},
     "output_type": "display_data"
    }
   ],
   "source": [
    "sns.set_theme(style=\"dark\")\n",
    "corr = sc_GarciaX_train.corr()\n",
    "f, ax = plt.subplots(figsize=(11, 9))\n",
    "cmap = sns.diverging_palette(230, 20, as_cmap=True)\n",
    "ax.tick_params(axis='x', rotation=90)\n",
    "# Draw the heatmap with the mask and correct aspect ratio\n",
    "sns.heatmap(corr, cmap=cmap, vmax=.3, center=0,\n",
    "            square=True, linewidths=.5, cbar_kws={\"shrink\": .5}).set_title(\"Garcías's correlation matrix\")\n",
    "plt.show()"
   ]
  },
  {
   "cell_type": "markdown",
   "metadata": {},
   "source": [
    "from sklearn import metrics"
   ]
  },
  {
   "cell_type": "markdown",
   "metadata": {},
   "source": [
    "y_pred = (model.predict(X_Test) > 0.5)\n",
    "#%% Making the Confusion Matrix\n",
    "cm = metrics.confusion_matrix(Y_Test, y_pred)\n",
    "print(\"Confusion matrix\\n\",cm)\n",
    "\n",
    "sensitivity = cm[0,0]/(cm[0,0]+cm[0,1])\n",
    "print('Sensitivity :', sensitivity )\n",
    "\n",
    "specificity = cm[1,1]/(cm[1,0]+cm[1,1])\n",
    "print('Specificity :', specificity)\n",
    "#%% \n",
    "print(\"Precision\",metrics.precision_score(Y_Test, y_pred, average=None))\n",
    "print(\"Accuracy\",metrics.accuracy_score(Y_Test, y_pred))\n",
    "print(\"F1\",metrics.f1_score(Y_Test, y_pred, average=None))"
   ]
  },
  {
   "cell_type": "markdown",
   "metadata": {},
   "source": [
    "import numpy as np\n"
   ]
  },
  {
   "cell_type": "markdown",
   "metadata": {},
   "source": [
    "fallas=np.array(labels,dtype='<U256')\n",
    "y_pred=y_pred.reshape(len(y_pred))\n",
    "print(np.shape(y_pred))\n",
    "print(np.shape(Y_Test))\n",
    "for i in range(len(y_pred)):\n",
    "    if(y_pred[i]!=Y_Test[i]>0.5):\n",
    "        fallas=np.vstack((fallas,testDataset.iloc[i].to_numpy()))\n",
    "\n",
    "y_pred = (model.predict(X_Train) > 0.5).reshape(len(X_Train))\n",
    "for i in range(len(y_pred)):\n",
    "    if(y_pred[i]!=Y_Train[i]>0.5):\n",
    "        fallas=np.vstack((fallas,trainDataset.iloc[i].to_numpy()))\n",
    "\n",
    "asd=\"fallasEval.csv\"\n",
    "print(\"Fallas\",len(fallas))\n",
    "np.savetxt(asd,fallas,delimiter=\",\", fmt=\"%s\")"
   ]
  },
  {
   "cell_type": "markdown",
   "metadata": {},
   "source": [
    "from keras.models import load_model\n",
    "\n",
    "model.save('my_model.h5')  # creates a HDF5 file 'my_model.h5'\n"
   ]
  },
  {
   "cell_type": "code",
   "execution_count": null,
   "metadata": {},
   "outputs": [],
   "source": []
  },
  {
   "cell_type": "code",
   "execution_count": null,
   "metadata": {},
   "outputs": [],
   "source": [
    "logreg.get_params()"
   ]
  },
  {
   "cell_type": "code",
   "execution_count": null,
   "metadata": {},
   "outputs": [],
   "source": [
    "dir(logreg)"
   ]
  },
  {
   "cell_type": "code",
   "execution_count": null,
   "metadata": {},
   "outputs": [],
   "source": []
  }
 ],
 "metadata": {
  "kernelspec": {
   "display_name": "Python 3",
   "language": "python",
   "name": "python3"
  },
  "language_info": {
   "codemirror_mode": {
    "name": "ipython",
    "version": 3
   },
   "file_extension": ".py",
   "mimetype": "text/x-python",
   "name": "python",
   "nbconvert_exporter": "python",
   "pygments_lexer": "ipython3",
   "version": "3.8.11"
  }
 },
 "nbformat": 4,
 "nbformat_minor": 4
}
