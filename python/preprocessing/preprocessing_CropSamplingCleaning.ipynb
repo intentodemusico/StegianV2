{
 "cells": [
  {
   "cell_type": "code",
   "execution_count": 1,
   "id": "3279e321",
   "metadata": {},
   "outputs": [],
   "source": [
    "import cv2,random,os,shutil\n",
    "from matplotlib import pyplot as plt\n",
    "# %%\n",
    "def cropImage(path):\n",
    "    img = cv2.imread(path)\n",
    "    y,x,r=img.shape\n",
    "    if(x<128 or y<128):\n",
    "        os.remove(path)\n",
    "        return False\n",
    "    h=random.randint(0,y-128)\n",
    "    w=random.randint(0,x-128)\n",
    "    crop_img = img[h:h+128, w:w+128]\n",
    "    plt.imsave(path,cv2.cvtColor(crop_img, cv2.COLOR_BGR2RGB))\n",
    "    return True\n",
    "def isSuitableSize(path):\n",
    "    img = cv2.imread(path)\n",
    "    y,x,r=img.shape\n",
    "    if(x<128 or y<128):\n",
    "        return False\n",
    "    return True"
   ]
  },
  {
   "cell_type": "code",
   "execution_count": 2,
   "id": "82512899",
   "metadata": {},
   "outputs": [],
   "source": [
    "dirs= [x[0] for x in os.walk(\"./train\")]"
   ]
  },
  {
   "cell_type": "code",
   "execution_count": 3,
   "id": "5a8eed68",
   "metadata": {},
   "outputs": [
    {
     "name": "stdout",
     "output_type": "stream",
     "text": [
      "Obtaining max image number per category\n"
     ]
    }
   ],
   "source": [
    "print(\"Obtaining max image number per category\")\n",
    "maxImages=0\n",
    "for y in dirs:\n",
    "    deletedInFor=0\n",
    "    if(y!=dirs[0]):\n",
    "        files=os.listdir(y)\n",
    "        if(maxImages==0):\n",
    "             maxImages=len(files)\n",
    "             initialImages=len(files)\n",
    "        for path in files:\n",
    "            if('./'+path not in dirs):\n",
    "                if(not isSuitableSize(os.path.join(y,path)) ):\n",
    "                    deletedInFor+=1 \n",
    "        if (initialImages-deletedInFor<maxImages):\n",
    "            maxImages=initialImages-deletedInFor "
   ]
  },
  {
   "cell_type": "code",
   "execution_count": 4,
   "id": "24b20b5f",
   "metadata": {},
   "outputs": [
    {
     "name": "stdout",
     "output_type": "stream",
     "text": [
      "Max images 930\n"
     ]
    }
   ],
   "source": [
    "print(\"Max images\",maxImages)"
   ]
  },
  {
   "cell_type": "code",
   "execution_count": 5,
   "id": "4369aefc",
   "metadata": {},
   "outputs": [],
   "source": [
    "folderList=[\"S-Uniward_50-50_01\",\"S-Uniward_50-50_02\",\"S-Uniward_50-50_03\",\"S-Uniward_50-50_04\",\"S-Uniward_50-50_05\",\"HUGO_50-50_01\",\"HUGO_50-50_02\",\"HUGO_50-50_03\",\"HUGO_50-50_04\",\"HUGO_50-50_05\",\"MG_50-50_01\",\"MG_50-50_02\",\"MG_50-50_03\",\"MG_50-50_04\",\"MG_50-50_05\",\"MiPOD_50-50_01\",\"MiPOD_50-50_02\",\"MiPOD_50-50_03\",\"MiPOD_50-50_04\",\"MiPOD_50-50_05\",\"MVG_50-50_01\",\"MVG_50-50_02\",\"MVG_50-50_03\",\"MVG_50-50_04\",\"MVG_50-50_05\",\"WOW_50-50_01\",\"WOW_50-50_02\",\"WOW_50-50_03\",\"WOW_50-50_04\",\"WOW_50-50_05\"]"
   ]
  },
  {
   "cell_type": "code",
   "execution_count": 7,
   "id": "cce2df76",
   "metadata": {},
   "outputs": [
    {
     "name": "stdout",
     "output_type": "stream",
     "text": [
      "Sampling\n",
      "Sampling S-Uniward_50-50_01\n",
      "Sampling S-Uniward_50-50_02\n",
      "Sampling S-Uniward_50-50_03\n",
      "Sampling S-Uniward_50-50_04\n",
      "Sampling S-Uniward_50-50_05\n",
      "Sampling HUGO_50-50_01\n",
      "Sampling HUGO_50-50_02\n",
      "Sampling HUGO_50-50_03\n",
      "Sampling HUGO_50-50_04\n",
      "Sampling HUGO_50-50_05\n",
      "Sampling MG_50-50_01\n",
      "Sampling MG_50-50_02\n",
      "Sampling MG_50-50_03\n",
      "Sampling MG_50-50_04\n",
      "Sampling MG_50-50_05\n",
      "Sampling MiPOD_50-50_01\n",
      "Sampling MiPOD_50-50_02\n",
      "Sampling MiPOD_50-50_03\n",
      "Sampling MiPOD_50-50_04\n",
      "Sampling MiPOD_50-50_05\n",
      "Sampling MVG_50-50_01\n",
      "Sampling MVG_50-50_02\n",
      "Sampling MVG_50-50_03\n",
      "Sampling MVG_50-50_04\n",
      "Sampling MVG_50-50_05\n",
      "Sampling WOW_50-50_01\n",
      "Sampling WOW_50-50_02\n",
      "Sampling WOW_50-50_03\n",
      "Sampling WOW_50-50_04\n",
      "Sampling WOW_50-50_05\n"
     ]
    }
   ],
   "source": [
    "print(\"Sampling\")\n",
    "for sampleFolder in folderList:\n",
    "    print(\"Sampling\",sampleFolder)\n",
    "    i=0\n",
    "    for y in dirs:\n",
    "        if(y!=dirs[0]):\n",
    "            files=os.listdir(y)\n",
    "            #print(\"files\",files)\n",
    "            sampleSize=int(maxImages*0.1)# SAMPLE SIZE\n",
    "            for a in range(sampleSize):\n",
    "                while True:\n",
    "                    index=random.randint(0,len(files)-1)\n",
    "                    path=files.pop(index)\n",
    "                    if(path!=\"preprocessing_CropSamplingCleaning.ipynb\" and './'+path not in dirs and isSuitableSize(os.path.join(y,path))):\n",
    "                        break\n",
    "                #print(i,path)\n",
    "                shutil.copy(y+'/'+path,'./sample/'+sampleFolder+'/'+str(i)+'_'+path)\n",
    "                cropImage('./sample/'+sampleFolder+'/'+str(i)+'_'+path)\n",
    "                #print(i,path)\n",
    "            i+=1"
   ]
  },
  {
   "cell_type": "code",
   "execution_count": 8,
   "id": "7a103710",
   "metadata": {},
   "outputs": [
    {
     "name": "stdout",
     "output_type": "stream",
     "text": [
      "Ta-Daa\n"
     ]
    }
   ],
   "source": [
    "print(\"Ta-Daa\")"
   ]
  }
 ],
 "metadata": {
  "kernelspec": {
   "display_name": "Python 3",
   "language": "python",
   "name": "python3"
  },
  "language_info": {
   "codemirror_mode": {
    "name": "ipython",
    "version": 3
   },
   "file_extension": ".py",
   "mimetype": "text/x-python",
   "name": "python",
   "nbconvert_exporter": "python",
   "pygments_lexer": "ipython3",
   "version": "3.7.9"
  }
 },
 "nbformat": 4,
 "nbformat_minor": 5
}
