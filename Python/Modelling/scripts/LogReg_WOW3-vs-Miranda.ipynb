{
 "cells": [
  {
   "cell_type": "markdown",
   "metadata": {},
   "source": [
    "# LogReg WOW 0.3 vs Miranda Attributes"
   ]
  },
  {
   "cell_type": "code",
   "execution_count": 1,
   "metadata": {},
   "outputs": [],
   "source": [
    "from __future__ import absolute_import, division, print_function, unicode_literals\n",
    "import os, random, time, MirandaAttributes, cv2\n",
    "import tensorflow as tf\n",
    "import pandas as pd\n",
    "import numpy as np\n",
    "from sklearn import preprocessing\n",
    "import seaborn as sns\n",
    "import matplotlib.image as mpimg\n",
    "import matplotlib.pyplot as plt\n",
    "from sklearn.linear_model import LogisticRegression\n",
    "from sklearn.model_selection import train_test_split"
   ]
  },
  {
   "cell_type": "code",
   "execution_count": 2,
   "metadata": {},
   "outputs": [
    {
     "name": "stdout",
     "output_type": "stream",
     "text": [
      "TensorFlow version: 2.3.0\n",
      "Eager execution: True\n"
     ]
    }
   ],
   "source": [
    "print(\"TensorFlow version: {}\".format(tf.__version__))\n",
    "print(\"Eager execution: {}\".format(tf.executing_eagerly()))\n",
    "\n",
    "#Miranda dataset\n",
    "train_dataset_url = \"https://raw.githubusercontent.com/intentodemusico/StegianV2/master/DatasetMiranda/features_train_70000.csv\"\n",
    "test_dataset_url = \"https://raw.githubusercontent.com/intentodemusico/StegianV2/master/DatasetMiranda/features_test_70000.csv\""
   ]
  },
  {
   "cell_type": "code",
   "execution_count": 3,
   "metadata": {},
   "outputs": [],
   "source": [
    "#%% Importing the dataset\n",
    "MirandaLabels=['Kurtosis', 'Skewness', 'Std', 'Range', 'Median', 'Geometric_Mean', 'Mobility', 'Complexity']\n",
    "trainDataset = pd.read_csv(train_dataset_url)\n",
    "MirandaX_train = trainDataset.iloc[:, :-1].values\n",
    "MirandaY_train = trainDataset.iloc[:, -1].values\n",
    "\n",
    "testDataset = pd.read_csv(test_dataset_url)\n",
    "MirandaX_test = testDataset.iloc[:, :-1].values\n",
    "MirandaY_test = testDataset.iloc[:, -1].values"
   ]
  },
  {
   "cell_type": "code",
   "execution_count": 4,
   "metadata": {},
   "outputs": [
    {
     "data": {
      "text/plain": [
       "array([[1.502380e+01, 2.910000e+00, 2.747740e+02, ..., 1.604439e+02,\n",
       "        1.477400e-01, 8.579000e-01],\n",
       "       [2.801000e+00, 9.223200e-01, 2.357319e+02, ..., 1.453054e+02,\n",
       "        1.200900e-01, 1.298700e+00],\n",
       "       [3.988500e+00, 8.873200e-01, 1.745089e+02, ..., 1.826219e+02,\n",
       "        2.003400e-01, 1.596500e+00],\n",
       "       ...,\n",
       "       [7.551800e+00, 2.032900e+00, 2.796423e+02, ..., 1.376493e+02,\n",
       "        9.355000e-01, 1.760300e+00],\n",
       "       [3.402200e+01, 4.804000e+00, 4.167042e+02, ..., 1.391423e+02,\n",
       "        9.767900e-01, 1.521500e+00],\n",
       "       [2.003410e+01, 3.686400e+00, 4.570151e+02, ..., 8.242910e+01,\n",
       "        9.437100e-01, 1.696200e+00]])"
      ]
     },
     "execution_count": 4,
     "metadata": {},
     "output_type": "execute_result"
    }
   ],
   "source": [
    "MirandaX_train"
   ]
  },
  {
   "cell_type": "code",
   "execution_count": 5,
   "metadata": {
    "tags": []
   },
   "outputs": [],
   "source": [
    "#%% Feature Scaling\n",
    "from sklearn.preprocessing import StandardScaler"
   ]
  },
  {
   "cell_type": "code",
   "execution_count": 6,
   "metadata": {},
   "outputs": [
    {
     "data": {
      "text/plain": [
       "['Kurtosis',\n",
       " 'Skewness',\n",
       " 'Std',\n",
       " 'Range',\n",
       " 'Median',\n",
       " 'Geometric_Mean',\n",
       " 'Mobility',\n",
       " 'Complexity']"
      ]
     },
     "execution_count": 6,
     "metadata": {},
     "output_type": "execute_result"
    }
   ],
   "source": [
    "MirandaLabels"
   ]
  },
  {
   "cell_type": "markdown",
   "metadata": {},
   "source": [
    "## Getting x and y"
   ]
  },
  {
   "cell_type": "code",
   "execution_count": 7,
   "metadata": {},
   "outputs": [
    {
     "name": "stdout",
     "output_type": "stream",
     "text": [
      "40000\n"
     ]
    }
   ],
   "source": [
    "isStego=lambda x:1 if x[:6]==\"stego_\" else 0\n",
    "getYFromImageList=lambda x: [isStego(element) for element in x]\n",
    "folder=\"../../../Dataset/Mono/MonoSamples/WOW_5\" \n",
    "images=os.listdir(folder)\n",
    "random.shuffle(images)\n",
    "images=images\n",
    "print(len(images))"
   ]
  },
  {
   "cell_type": "code",
   "execution_count": 8,
   "metadata": {},
   "outputs": [
    {
     "name": "stdout",
     "output_type": "stream",
     "text": [
      "52.47157073020935\n"
     ]
    }
   ],
   "source": [
    "Garciay=getYFromImageList(images)\n",
    "windowSize=128\n",
    "GarciaLabels=['Kurtosis', 'Skewness', 'Std', 'Range', 'Median', 'Garcia_Gmean', 'Epsilon_Gmean', 'Mobility', 'Complexity']\n",
    "t = time.time()\n",
    "\n",
    "GarciaX=pd.DataFrame(([ MirandaAttributes.attributes( cv2.imread( os.path.abspath(os.path.join(folder, images[i])) \n",
    "                                        ) ,windowSize,True)  for i in range(len(images))] ),columns=GarciaLabels)\n",
    "elapsed = time.time() - t\n",
    "print(elapsed)\n",
    "GarciaX_train, GarciaX_test, GarciaY_train, GarciaY_test = train_test_split(GarciaX, Garciay, test_size=0.2, \n",
    "                                                                            random_state=0)"
   ]
  },
  {
   "cell_type": "markdown",
   "metadata": {},
   "source": [
    "### EDA"
   ]
  },
  {
   "cell_type": "code",
   "execution_count": 9,
   "metadata": {
    "tags": []
   },
   "outputs": [
    {
     "data": {
      "text/html": [
       "<div>\n",
       "<style scoped>\n",
       "    .dataframe tbody tr th:only-of-type {\n",
       "        vertical-align: middle;\n",
       "    }\n",
       "\n",
       "    .dataframe tbody tr th {\n",
       "        vertical-align: top;\n",
       "    }\n",
       "\n",
       "    .dataframe thead th {\n",
       "        text-align: right;\n",
       "    }\n",
       "</style>\n",
       "<table border=\"1\" class=\"dataframe\">\n",
       "  <thead>\n",
       "    <tr style=\"text-align: right;\">\n",
       "      <th></th>\n",
       "      <th>0</th>\n",
       "    </tr>\n",
       "  </thead>\n",
       "  <tbody>\n",
       "    <tr>\n",
       "      <th>count</th>\n",
       "      <td>32000.000000</td>\n",
       "    </tr>\n",
       "    <tr>\n",
       "      <th>mean</th>\n",
       "      <td>0.501313</td>\n",
       "    </tr>\n",
       "    <tr>\n",
       "      <th>std</th>\n",
       "      <td>0.500006</td>\n",
       "    </tr>\n",
       "    <tr>\n",
       "      <th>min</th>\n",
       "      <td>0.000000</td>\n",
       "    </tr>\n",
       "    <tr>\n",
       "      <th>25%</th>\n",
       "      <td>0.000000</td>\n",
       "    </tr>\n",
       "    <tr>\n",
       "      <th>50%</th>\n",
       "      <td>1.000000</td>\n",
       "    </tr>\n",
       "    <tr>\n",
       "      <th>75%</th>\n",
       "      <td>1.000000</td>\n",
       "    </tr>\n",
       "    <tr>\n",
       "      <th>max</th>\n",
       "      <td>1.000000</td>\n",
       "    </tr>\n",
       "  </tbody>\n",
       "</table>\n",
       "</div>"
      ],
      "text/plain": [
       "                  0\n",
       "count  32000.000000\n",
       "mean       0.501313\n",
       "std        0.500006\n",
       "min        0.000000\n",
       "25%        0.000000\n",
       "50%        1.000000\n",
       "75%        1.000000\n",
       "max        1.000000"
      ]
     },
     "execution_count": 9,
     "metadata": {},
     "output_type": "execute_result"
    }
   ],
   "source": [
    "pd.DataFrame(GarciaY_train).describe()"
   ]
  },
  {
   "cell_type": "code",
   "execution_count": 10,
   "metadata": {},
   "outputs": [
    {
     "data": {
      "text/plain": [
       "1    16042\n",
       "0    15958\n",
       "dtype: int64"
      ]
     },
     "execution_count": 10,
     "metadata": {},
     "output_type": "execute_result"
    }
   ],
   "source": [
    "pd.DataFrame(GarciaY_train).value_counts()"
   ]
  },
  {
   "cell_type": "code",
   "execution_count": 11,
   "metadata": {},
   "outputs": [
    {
     "data": {
      "text/html": [
       "<div>\n",
       "<style scoped>\n",
       "    .dataframe tbody tr th:only-of-type {\n",
       "        vertical-align: middle;\n",
       "    }\n",
       "\n",
       "    .dataframe tbody tr th {\n",
       "        vertical-align: top;\n",
       "    }\n",
       "\n",
       "    .dataframe thead th {\n",
       "        text-align: right;\n",
       "    }\n",
       "</style>\n",
       "<table border=\"1\" class=\"dataframe\">\n",
       "  <thead>\n",
       "    <tr style=\"text-align: right;\">\n",
       "      <th></th>\n",
       "      <th>Kurtosis</th>\n",
       "      <th>Skewness</th>\n",
       "      <th>Std</th>\n",
       "      <th>Range</th>\n",
       "      <th>Median</th>\n",
       "      <th>Garcia_Gmean</th>\n",
       "      <th>Epsilon_Gmean</th>\n",
       "      <th>Mobility</th>\n",
       "      <th>Complexity</th>\n",
       "    </tr>\n",
       "  </thead>\n",
       "  <tbody>\n",
       "    <tr>\n",
       "      <th>21370</th>\n",
       "      <td>3.830911</td>\n",
       "      <td>1.408832</td>\n",
       "      <td>68.488762</td>\n",
       "      <td>281.0</td>\n",
       "      <td>33.5</td>\n",
       "      <td>35.434727</td>\n",
       "      <td>35.585087</td>\n",
       "      <td>0.176915</td>\n",
       "      <td>9.388009</td>\n",
       "    </tr>\n",
       "    <tr>\n",
       "      <th>2470</th>\n",
       "      <td>10.151213</td>\n",
       "      <td>2.071508</td>\n",
       "      <td>54.944717</td>\n",
       "      <td>346.0</td>\n",
       "      <td>64.0</td>\n",
       "      <td>40.155045</td>\n",
       "      <td>39.602837</td>\n",
       "      <td>0.315973</td>\n",
       "      <td>4.571273</td>\n",
       "    </tr>\n",
       "    <tr>\n",
       "      <th>13767</th>\n",
       "      <td>27.151083</td>\n",
       "      <td>4.628657</td>\n",
       "      <td>230.621368</td>\n",
       "      <td>1822.0</td>\n",
       "      <td>0.0</td>\n",
       "      <td>257.652039</td>\n",
       "      <td>2.053964</td>\n",
       "      <td>0.367584</td>\n",
       "      <td>3.083559</td>\n",
       "    </tr>\n",
       "    <tr>\n",
       "      <th>13316</th>\n",
       "      <td>27.705023</td>\n",
       "      <td>4.896080</td>\n",
       "      <td>216.441025</td>\n",
       "      <td>1563.0</td>\n",
       "      <td>4.0</td>\n",
       "      <td>29.761061</td>\n",
       "      <td>6.601575</td>\n",
       "      <td>0.269727</td>\n",
       "      <td>2.853256</td>\n",
       "    </tr>\n",
       "    <tr>\n",
       "      <th>26374</th>\n",
       "      <td>4.327094</td>\n",
       "      <td>1.229652</td>\n",
       "      <td>72.012314</td>\n",
       "      <td>338.0</td>\n",
       "      <td>23.0</td>\n",
       "      <td>25.896294</td>\n",
       "      <td>24.875120</td>\n",
       "      <td>0.185056</td>\n",
       "      <td>7.850662</td>\n",
       "    </tr>\n",
       "    <tr>\n",
       "      <th>...</th>\n",
       "      <td>...</td>\n",
       "      <td>...</td>\n",
       "      <td>...</td>\n",
       "      <td>...</td>\n",
       "      <td>...</td>\n",
       "      <td>...</td>\n",
       "      <td>...</td>\n",
       "      <td>...</td>\n",
       "      <td>...</td>\n",
       "    </tr>\n",
       "    <tr>\n",
       "      <th>20757</th>\n",
       "      <td>9.164132</td>\n",
       "      <td>2.219473</td>\n",
       "      <td>88.755943</td>\n",
       "      <td>558.0</td>\n",
       "      <td>32.0</td>\n",
       "      <td>26.265398</td>\n",
       "      <td>17.062281</td>\n",
       "      <td>0.270368</td>\n",
       "      <td>5.473661</td>\n",
       "    </tr>\n",
       "    <tr>\n",
       "      <th>32103</th>\n",
       "      <td>8.493648</td>\n",
       "      <td>2.404299</td>\n",
       "      <td>85.911430</td>\n",
       "      <td>412.0</td>\n",
       "      <td>33.0</td>\n",
       "      <td>36.503513</td>\n",
       "      <td>28.472107</td>\n",
       "      <td>0.192258</td>\n",
       "      <td>6.121473</td>\n",
       "    </tr>\n",
       "    <tr>\n",
       "      <th>30403</th>\n",
       "      <td>2.125837</td>\n",
       "      <td>0.554284</td>\n",
       "      <td>56.032219</td>\n",
       "      <td>190.0</td>\n",
       "      <td>57.0</td>\n",
       "      <td>39.716633</td>\n",
       "      <td>29.334167</td>\n",
       "      <td>0.221217</td>\n",
       "      <td>7.380482</td>\n",
       "    </tr>\n",
       "    <tr>\n",
       "      <th>21243</th>\n",
       "      <td>2.168991</td>\n",
       "      <td>0.824958</td>\n",
       "      <td>63.525402</td>\n",
       "      <td>222.0</td>\n",
       "      <td>33.0</td>\n",
       "      <td>33.508465</td>\n",
       "      <td>34.143734</td>\n",
       "      <td>0.200723</td>\n",
       "      <td>8.409301</td>\n",
       "    </tr>\n",
       "    <tr>\n",
       "      <th>2732</th>\n",
       "      <td>2.948229</td>\n",
       "      <td>1.000650</td>\n",
       "      <td>53.776230</td>\n",
       "      <td>247.0</td>\n",
       "      <td>43.0</td>\n",
       "      <td>43.449799</td>\n",
       "      <td>44.958996</td>\n",
       "      <td>0.241306</td>\n",
       "      <td>7.012469</td>\n",
       "    </tr>\n",
       "  </tbody>\n",
       "</table>\n",
       "<p>32000 rows × 9 columns</p>\n",
       "</div>"
      ],
      "text/plain": [
       "        Kurtosis  Skewness         Std   Range  Median  Garcia_Gmean  \\\n",
       "21370   3.830911  1.408832   68.488762   281.0    33.5     35.434727   \n",
       "2470   10.151213  2.071508   54.944717   346.0    64.0     40.155045   \n",
       "13767  27.151083  4.628657  230.621368  1822.0     0.0    257.652039   \n",
       "13316  27.705023  4.896080  216.441025  1563.0     4.0     29.761061   \n",
       "26374   4.327094  1.229652   72.012314   338.0    23.0     25.896294   \n",
       "...          ...       ...         ...     ...     ...           ...   \n",
       "20757   9.164132  2.219473   88.755943   558.0    32.0     26.265398   \n",
       "32103   8.493648  2.404299   85.911430   412.0    33.0     36.503513   \n",
       "30403   2.125837  0.554284   56.032219   190.0    57.0     39.716633   \n",
       "21243   2.168991  0.824958   63.525402   222.0    33.0     33.508465   \n",
       "2732    2.948229  1.000650   53.776230   247.0    43.0     43.449799   \n",
       "\n",
       "       Epsilon_Gmean  Mobility  Complexity  \n",
       "21370      35.585087  0.176915    9.388009  \n",
       "2470       39.602837  0.315973    4.571273  \n",
       "13767       2.053964  0.367584    3.083559  \n",
       "13316       6.601575  0.269727    2.853256  \n",
       "26374      24.875120  0.185056    7.850662  \n",
       "...              ...       ...         ...  \n",
       "20757      17.062281  0.270368    5.473661  \n",
       "32103      28.472107  0.192258    6.121473  \n",
       "30403      29.334167  0.221217    7.380482  \n",
       "21243      34.143734  0.200723    8.409301  \n",
       "2732       44.958996  0.241306    7.012469  \n",
       "\n",
       "[32000 rows x 9 columns]"
      ]
     },
     "execution_count": 11,
     "metadata": {},
     "output_type": "execute_result"
    }
   ],
   "source": [
    "GarciaX_train"
   ]
  },
  {
   "cell_type": "code",
   "execution_count": 12,
   "metadata": {},
   "outputs": [
    {
     "data": {
      "text/html": [
       "<div>\n",
       "<style scoped>\n",
       "    .dataframe tbody tr th:only-of-type {\n",
       "        vertical-align: middle;\n",
       "    }\n",
       "\n",
       "    .dataframe tbody tr th {\n",
       "        vertical-align: top;\n",
       "    }\n",
       "\n",
       "    .dataframe thead th {\n",
       "        text-align: right;\n",
       "    }\n",
       "</style>\n",
       "<table border=\"1\" class=\"dataframe\">\n",
       "  <thead>\n",
       "    <tr style=\"text-align: right;\">\n",
       "      <th></th>\n",
       "      <th>Kurtosis</th>\n",
       "      <th>Skewness</th>\n",
       "      <th>Std</th>\n",
       "      <th>Range</th>\n",
       "      <th>Median</th>\n",
       "      <th>Garcia_Gmean</th>\n",
       "      <th>Epsilon_Gmean</th>\n",
       "      <th>Mobility</th>\n",
       "      <th>Complexity</th>\n",
       "    </tr>\n",
       "  </thead>\n",
       "  <tbody>\n",
       "    <tr>\n",
       "      <th>count</th>\n",
       "      <td>32000.000000</td>\n",
       "      <td>32000.000000</td>\n",
       "      <td>32000.000000</td>\n",
       "      <td>32000.000000</td>\n",
       "      <td>32000.000000</td>\n",
       "      <td>32000.000000</td>\n",
       "      <td>32000.000000</td>\n",
       "      <td>32000.000000</td>\n",
       "      <td>32000.000000</td>\n",
       "    </tr>\n",
       "    <tr>\n",
       "      <th>mean</th>\n",
       "      <td>23.678894</td>\n",
       "      <td>2.917517</td>\n",
       "      <td>108.376463</td>\n",
       "      <td>846.661844</td>\n",
       "      <td>32.492828</td>\n",
       "      <td>53.086140</td>\n",
       "      <td>26.491011</td>\n",
       "      <td>0.324136</td>\n",
       "      <td>5.885424</td>\n",
       "    </tr>\n",
       "    <tr>\n",
       "      <th>std</th>\n",
       "      <td>48.200207</td>\n",
       "      <td>3.218554</td>\n",
       "      <td>97.100574</td>\n",
       "      <td>1524.043561</td>\n",
       "      <td>20.928088</td>\n",
       "      <td>467.869457</td>\n",
       "      <td>14.578786</td>\n",
       "      <td>0.214133</td>\n",
       "      <td>3.016840</td>\n",
       "    </tr>\n",
       "    <tr>\n",
       "      <th>min</th>\n",
       "      <td>1.224067</td>\n",
       "      <td>-1.210521</td>\n",
       "      <td>15.969453</td>\n",
       "      <td>90.000000</td>\n",
       "      <td>0.000000</td>\n",
       "      <td>1.776100</td>\n",
       "      <td>1.038634</td>\n",
       "      <td>0.086105</td>\n",
       "      <td>0.907459</td>\n",
       "    </tr>\n",
       "    <tr>\n",
       "      <th>25%</th>\n",
       "      <td>3.192199</td>\n",
       "      <td>1.029375</td>\n",
       "      <td>58.675367</td>\n",
       "      <td>250.000000</td>\n",
       "      <td>14.000000</td>\n",
       "      <td>27.561713</td>\n",
       "      <td>14.517806</td>\n",
       "      <td>0.186152</td>\n",
       "      <td>3.520255</td>\n",
       "    </tr>\n",
       "    <tr>\n",
       "      <th>50%</th>\n",
       "      <td>6.410954</td>\n",
       "      <td>1.888582</td>\n",
       "      <td>81.110531</td>\n",
       "      <td>394.000000</td>\n",
       "      <td>33.000000</td>\n",
       "      <td>37.278913</td>\n",
       "      <td>25.328799</td>\n",
       "      <td>0.253621</td>\n",
       "      <td>5.599776</td>\n",
       "    </tr>\n",
       "    <tr>\n",
       "      <th>75%</th>\n",
       "      <td>16.679362</td>\n",
       "      <td>3.400715</td>\n",
       "      <td>120.021637</td>\n",
       "      <td>742.000000</td>\n",
       "      <td>49.500000</td>\n",
       "      <td>46.376492</td>\n",
       "      <td>37.488627</td>\n",
       "      <td>0.375744</td>\n",
       "      <td>7.944447</td>\n",
       "    </tr>\n",
       "    <tr>\n",
       "      <th>max</th>\n",
       "      <td>254.003906</td>\n",
       "      <td>15.906097</td>\n",
       "      <td>1021.998047</td>\n",
       "      <td>16384.000000</td>\n",
       "      <td>86.500000</td>\n",
       "      <td>16384.000000</td>\n",
       "      <td>63.271149</td>\n",
       "      <td>1.419760</td>\n",
       "      <td>16.286221</td>\n",
       "    </tr>\n",
       "  </tbody>\n",
       "</table>\n",
       "</div>"
      ],
      "text/plain": [
       "           Kurtosis      Skewness           Std         Range        Median  \\\n",
       "count  32000.000000  32000.000000  32000.000000  32000.000000  32000.000000   \n",
       "mean      23.678894      2.917517    108.376463    846.661844     32.492828   \n",
       "std       48.200207      3.218554     97.100574   1524.043561     20.928088   \n",
       "min        1.224067     -1.210521     15.969453     90.000000      0.000000   \n",
       "25%        3.192199      1.029375     58.675367    250.000000     14.000000   \n",
       "50%        6.410954      1.888582     81.110531    394.000000     33.000000   \n",
       "75%       16.679362      3.400715    120.021637    742.000000     49.500000   \n",
       "max      254.003906     15.906097   1021.998047  16384.000000     86.500000   \n",
       "\n",
       "       Garcia_Gmean  Epsilon_Gmean      Mobility    Complexity  \n",
       "count  32000.000000   32000.000000  32000.000000  32000.000000  \n",
       "mean      53.086140      26.491011      0.324136      5.885424  \n",
       "std      467.869457      14.578786      0.214133      3.016840  \n",
       "min        1.776100       1.038634      0.086105      0.907459  \n",
       "25%       27.561713      14.517806      0.186152      3.520255  \n",
       "50%       37.278913      25.328799      0.253621      5.599776  \n",
       "75%       46.376492      37.488627      0.375744      7.944447  \n",
       "max    16384.000000      63.271149      1.419760     16.286221  "
      ]
     },
     "execution_count": 12,
     "metadata": {},
     "output_type": "execute_result"
    }
   ],
   "source": [
    "GarciaX_train.describe()"
   ]
  },
  {
   "cell_type": "markdown",
   "metadata": {},
   "source": [
    "##### Dataset looks homogeneous"
   ]
  },
  {
   "cell_type": "code",
   "execution_count": 13,
   "metadata": {},
   "outputs": [
    {
     "data": {
      "text/html": [
       "<div>\n",
       "<style scoped>\n",
       "    .dataframe tbody tr th:only-of-type {\n",
       "        vertical-align: middle;\n",
       "    }\n",
       "\n",
       "    .dataframe tbody tr th {\n",
       "        vertical-align: top;\n",
       "    }\n",
       "\n",
       "    .dataframe thead th {\n",
       "        text-align: right;\n",
       "    }\n",
       "</style>\n",
       "<table border=\"1\" class=\"dataframe\">\n",
       "  <thead>\n",
       "    <tr style=\"text-align: right;\">\n",
       "      <th></th>\n",
       "      <th>Kurtosis</th>\n",
       "      <th>Skewness</th>\n",
       "      <th>Std</th>\n",
       "      <th>Range</th>\n",
       "      <th>Median</th>\n",
       "      <th>Geometric_Mean</th>\n",
       "      <th>Mobility</th>\n",
       "    </tr>\n",
       "  </thead>\n",
       "  <tbody>\n",
       "    <tr>\n",
       "      <th>0</th>\n",
       "      <td>15.0238</td>\n",
       "      <td>2.91000</td>\n",
       "      <td>274.7740</td>\n",
       "      <td>1789</td>\n",
       "      <td>228.0</td>\n",
       "      <td>160.4439</td>\n",
       "      <td>0.147740</td>\n",
       "    </tr>\n",
       "    <tr>\n",
       "      <th>1</th>\n",
       "      <td>2.8010</td>\n",
       "      <td>0.92232</td>\n",
       "      <td>235.7319</td>\n",
       "      <td>917</td>\n",
       "      <td>179.0</td>\n",
       "      <td>145.3054</td>\n",
       "      <td>0.120090</td>\n",
       "    </tr>\n",
       "    <tr>\n",
       "      <th>2</th>\n",
       "      <td>3.9885</td>\n",
       "      <td>0.88732</td>\n",
       "      <td>174.5089</td>\n",
       "      <td>817</td>\n",
       "      <td>260.0</td>\n",
       "      <td>182.6219</td>\n",
       "      <td>0.200340</td>\n",
       "    </tr>\n",
       "    <tr>\n",
       "      <th>3</th>\n",
       "      <td>5.4531</td>\n",
       "      <td>1.83640</td>\n",
       "      <td>343.9752</td>\n",
       "      <td>1336</td>\n",
       "      <td>69.5</td>\n",
       "      <td>120.5608</td>\n",
       "      <td>0.083738</td>\n",
       "    </tr>\n",
       "    <tr>\n",
       "      <th>4</th>\n",
       "      <td>15.8010</td>\n",
       "      <td>3.38050</td>\n",
       "      <td>443.4495</td>\n",
       "      <td>2785</td>\n",
       "      <td>118.0</td>\n",
       "      <td>113.9388</td>\n",
       "      <td>0.231590</td>\n",
       "    </tr>\n",
       "    <tr>\n",
       "      <th>...</th>\n",
       "      <td>...</td>\n",
       "      <td>...</td>\n",
       "      <td>...</td>\n",
       "      <td>...</td>\n",
       "      <td>...</td>\n",
       "      <td>...</td>\n",
       "      <td>...</td>\n",
       "    </tr>\n",
       "    <tr>\n",
       "      <th>55994</th>\n",
       "      <td>5.0543</td>\n",
       "      <td>1.22740</td>\n",
       "      <td>172.0252</td>\n",
       "      <td>981</td>\n",
       "      <td>238.0</td>\n",
       "      <td>205.0903</td>\n",
       "      <td>0.945960</td>\n",
       "    </tr>\n",
       "    <tr>\n",
       "      <th>55995</th>\n",
       "      <td>89.9023</td>\n",
       "      <td>8.30370</td>\n",
       "      <td>614.5032</td>\n",
       "      <td>7673</td>\n",
       "      <td>122.5</td>\n",
       "      <td>100.0387</td>\n",
       "      <td>0.988840</td>\n",
       "    </tr>\n",
       "    <tr>\n",
       "      <th>55996</th>\n",
       "      <td>7.5518</td>\n",
       "      <td>2.03290</td>\n",
       "      <td>279.6423</td>\n",
       "      <td>1520</td>\n",
       "      <td>156.0</td>\n",
       "      <td>137.6493</td>\n",
       "      <td>0.935500</td>\n",
       "    </tr>\n",
       "    <tr>\n",
       "      <th>55997</th>\n",
       "      <td>34.0220</td>\n",
       "      <td>4.80400</td>\n",
       "      <td>416.7042</td>\n",
       "      <td>3971</td>\n",
       "      <td>116.5</td>\n",
       "      <td>139.1423</td>\n",
       "      <td>0.976790</td>\n",
       "    </tr>\n",
       "    <tr>\n",
       "      <th>55998</th>\n",
       "      <td>20.0341</td>\n",
       "      <td>3.68640</td>\n",
       "      <td>457.0151</td>\n",
       "      <td>3333</td>\n",
       "      <td>86.5</td>\n",
       "      <td>82.4291</td>\n",
       "      <td>0.943710</td>\n",
       "    </tr>\n",
       "  </tbody>\n",
       "</table>\n",
       "<p>55999 rows × 7 columns</p>\n",
       "</div>"
      ],
      "text/plain": [
       "       Kurtosis   Skewness       Std   Range   Median   Geometric_Mean  \\\n",
       "0       15.0238    2.91000  274.7740    1789    228.0         160.4439   \n",
       "1        2.8010    0.92232  235.7319     917    179.0         145.3054   \n",
       "2        3.9885    0.88732  174.5089     817    260.0         182.6219   \n",
       "3        5.4531    1.83640  343.9752    1336     69.5         120.5608   \n",
       "4       15.8010    3.38050  443.4495    2785    118.0         113.9388   \n",
       "...         ...        ...       ...     ...      ...              ...   \n",
       "55994    5.0543    1.22740  172.0252     981    238.0         205.0903   \n",
       "55995   89.9023    8.30370  614.5032    7673    122.5         100.0387   \n",
       "55996    7.5518    2.03290  279.6423    1520    156.0         137.6493   \n",
       "55997   34.0220    4.80400  416.7042    3971    116.5         139.1423   \n",
       "55998   20.0341    3.68640  457.0151    3333     86.5          82.4291   \n",
       "\n",
       "        Mobility  \n",
       "0       0.147740  \n",
       "1       0.120090  \n",
       "2       0.200340  \n",
       "3       0.083738  \n",
       "4       0.231590  \n",
       "...          ...  \n",
       "55994   0.945960  \n",
       "55995   0.988840  \n",
       "55996   0.935500  \n",
       "55997   0.976790  \n",
       "55998   0.943710  \n",
       "\n",
       "[55999 rows x 7 columns]"
      ]
     },
     "execution_count": 13,
     "metadata": {},
     "output_type": "execute_result"
    }
   ],
   "source": [
    "trainDataset.iloc[:,:-2]"
   ]
  },
  {
   "cell_type": "code",
   "execution_count": 14,
   "metadata": {},
   "outputs": [
    {
     "data": {
      "text/html": [
       "<div>\n",
       "<style scoped>\n",
       "    .dataframe tbody tr th:only-of-type {\n",
       "        vertical-align: middle;\n",
       "    }\n",
       "\n",
       "    .dataframe tbody tr th {\n",
       "        vertical-align: top;\n",
       "    }\n",
       "\n",
       "    .dataframe thead th {\n",
       "        text-align: right;\n",
       "    }\n",
       "</style>\n",
       "<table border=\"1\" class=\"dataframe\">\n",
       "  <thead>\n",
       "    <tr style=\"text-align: right;\">\n",
       "      <th></th>\n",
       "      <th>Kurtosis</th>\n",
       "      <th>Skewness</th>\n",
       "      <th>Std</th>\n",
       "      <th>Range</th>\n",
       "      <th>Median</th>\n",
       "      <th>Geometric_Mean</th>\n",
       "      <th>Mobility</th>\n",
       "    </tr>\n",
       "  </thead>\n",
       "  <tbody>\n",
       "    <tr>\n",
       "      <th>count</th>\n",
       "      <td>55999.000000</td>\n",
       "      <td>55999.000000</td>\n",
       "      <td>55999.000000</td>\n",
       "      <td>55999.000000</td>\n",
       "      <td>55999.000000</td>\n",
       "      <td>55999.000000</td>\n",
       "      <td>55999.000000</td>\n",
       "    </tr>\n",
       "    <tr>\n",
       "      <th>mean</th>\n",
       "      <td>23.861412</td>\n",
       "      <td>3.041558</td>\n",
       "      <td>367.443301</td>\n",
       "      <td>2756.949963</td>\n",
       "      <td>148.467740</td>\n",
       "      <td>137.751112</td>\n",
       "      <td>0.448144</td>\n",
       "    </tr>\n",
       "    <tr>\n",
       "      <th>std</th>\n",
       "      <td>43.134687</td>\n",
       "      <td>2.957414</td>\n",
       "      <td>249.044479</td>\n",
       "      <td>3567.278219</td>\n",
       "      <td>72.227963</td>\n",
       "      <td>69.236967</td>\n",
       "      <td>0.301130</td>\n",
       "    </tr>\n",
       "    <tr>\n",
       "      <th>min</th>\n",
       "      <td>1.137900</td>\n",
       "      <td>-1.540400</td>\n",
       "      <td>59.884100</td>\n",
       "      <td>338.000000</td>\n",
       "      <td>0.000000</td>\n",
       "      <td>4.826700</td>\n",
       "      <td>0.048408</td>\n",
       "    </tr>\n",
       "    <tr>\n",
       "      <th>25%</th>\n",
       "      <td>4.010750</td>\n",
       "      <td>1.235150</td>\n",
       "      <td>221.245700</td>\n",
       "      <td>1055.000000</td>\n",
       "      <td>96.000000</td>\n",
       "      <td>99.458600</td>\n",
       "      <td>0.183990</td>\n",
       "    </tr>\n",
       "    <tr>\n",
       "      <th>50%</th>\n",
       "      <td>7.952900</td>\n",
       "      <td>2.123400</td>\n",
       "      <td>299.071500</td>\n",
       "      <td>1646.000000</td>\n",
       "      <td>156.000000</td>\n",
       "      <td>138.097000</td>\n",
       "      <td>0.384070</td>\n",
       "    </tr>\n",
       "    <tr>\n",
       "      <th>75%</th>\n",
       "      <td>19.820800</td>\n",
       "      <td>3.644250</td>\n",
       "      <td>427.831850</td>\n",
       "      <td>2924.000000</td>\n",
       "      <td>203.000000</td>\n",
       "      <td>174.089600</td>\n",
       "      <td>0.723175</td>\n",
       "    </tr>\n",
       "    <tr>\n",
       "      <th>max</th>\n",
       "      <td>253.942400</td>\n",
       "      <td>15.903200</td>\n",
       "      <td>3624.730400</td>\n",
       "      <td>58017.000000</td>\n",
       "      <td>358.000000</td>\n",
       "      <td>3488.397300</td>\n",
       "      <td>1.408100</td>\n",
       "    </tr>\n",
       "  </tbody>\n",
       "</table>\n",
       "</div>"
      ],
      "text/plain": [
       "           Kurtosis      Skewness           Std         Range        Median  \\\n",
       "count  55999.000000  55999.000000  55999.000000  55999.000000  55999.000000   \n",
       "mean      23.861412      3.041558    367.443301   2756.949963    148.467740   \n",
       "std       43.134687      2.957414    249.044479   3567.278219     72.227963   \n",
       "min        1.137900     -1.540400     59.884100    338.000000      0.000000   \n",
       "25%        4.010750      1.235150    221.245700   1055.000000     96.000000   \n",
       "50%        7.952900      2.123400    299.071500   1646.000000    156.000000   \n",
       "75%       19.820800      3.644250    427.831850   2924.000000    203.000000   \n",
       "max      253.942400     15.903200   3624.730400  58017.000000    358.000000   \n",
       "\n",
       "        Geometric_Mean      Mobility  \n",
       "count     55999.000000  55999.000000  \n",
       "mean        137.751112      0.448144  \n",
       "std          69.236967      0.301130  \n",
       "min           4.826700      0.048408  \n",
       "25%          99.458600      0.183990  \n",
       "50%         138.097000      0.384070  \n",
       "75%         174.089600      0.723175  \n",
       "max        3488.397300      1.408100  "
      ]
     },
     "execution_count": 14,
     "metadata": {},
     "output_type": "execute_result"
    }
   ],
   "source": [
    "trainDataset.iloc[:,:-2].describe()"
   ]
  },
  {
   "cell_type": "markdown",
   "metadata": {},
   "source": [
    "#### Standard scalling"
   ]
  },
  {
   "cell_type": "code",
   "execution_count": 15,
   "metadata": {},
   "outputs": [],
   "source": [
    "scG=StandardScaler()\n",
    "sc_GarciaX_train=pd.DataFrame(scG.fit_transform(GarciaX_train),columns=GarciaLabels)\n",
    "sc_GarciaX_test=pd.DataFrame(scG.transform(GarciaX_test),columns=GarciaLabels)\n",
    "\n",
    "scM=StandardScaler()\n",
    "sc_MirandaX_train=pd.DataFrame(scM.fit_transform(MirandaX_train),columns=MirandaLabels)\n",
    "sc_MirandaX_test=pd.DataFrame(scM.transform(MirandaX_test),columns=MirandaLabels)"
   ]
  },
  {
   "cell_type": "markdown",
   "metadata": {
    "tags": []
   },
   "source": [
    "#### Recursive Feature Elimination"
   ]
  },
  {
   "cell_type": "code",
   "execution_count": 16,
   "metadata": {},
   "outputs": [
    {
     "name": "stdout",
     "output_type": "stream",
     "text": [
      "[4 5 2 1 9 8 7 3 6]\n",
      "García's Dataset\n",
      "Ordered from most to less desired variables:\n"
     ]
    },
    {
     "data": {
      "text/plain": [
       "['Range',\n",
       " 'Std',\n",
       " 'Mobility',\n",
       " 'Kurtosis',\n",
       " 'Skewness',\n",
       " 'Complexity',\n",
       " 'Epsilon_Gmean',\n",
       " 'Garcia_Gmean',\n",
       " 'Median']"
      ]
     },
     "execution_count": 16,
     "metadata": {},
     "output_type": "execute_result"
    }
   ],
   "source": [
    "from sklearn.feature_selection import RFE\n",
    "from sklearn.linear_model import LogisticRegression\n",
    "logregRFEG = LogisticRegression()\n",
    "rfe = RFE(logregRFEG, n_features_to_select=1)\n",
    "rfe = rfe.fit(sc_GarciaX_train,GarciaY_train)\n",
    "print(rfe.ranking_)\n",
    "print(\"García's Dataset\")\n",
    "print(\"Ordered from most to less desired variables:\")\n",
    "desiredVariables=GarciaLabels\n",
    "sortOrder=rfe.ranking_\n",
    "sorted(desiredVariables,key=lambda pos: sortOrder[desiredVariables.index(pos)])"
   ]
  },
  {
   "cell_type": "code",
   "execution_count": 17,
   "metadata": {},
   "outputs": [
    {
     "name": "stdout",
     "output_type": "stream",
     "text": [
      "[4 3 5 6 7 8 2 1]\n",
      "Miranda's Dataset\n",
      "Ordered from most to less desired variables:\n"
     ]
    },
    {
     "data": {
      "text/plain": [
       "['Complexity',\n",
       " 'Mobility',\n",
       " 'Skewness',\n",
       " 'Kurtosis',\n",
       " 'Std',\n",
       " 'Range',\n",
       " 'Median',\n",
       " 'Geometric_Mean']"
      ]
     },
     "execution_count": 17,
     "metadata": {},
     "output_type": "execute_result"
    }
   ],
   "source": [
    "from sklearn.feature_selection import RFE\n",
    "from sklearn.linear_model import LogisticRegression\n",
    "logregRFEM = LogisticRegression()\n",
    "rfe = RFE(logregRFEM, n_features_to_select=1)\n",
    "rfe = rfe.fit(sc_MirandaX_train,MirandaY_train)\n",
    "print(rfe.ranking_)\n",
    "print(\"Miranda's Dataset\")\n",
    "print(\"Ordered from most to less desired variables:\")\n",
    "desiredVariables=MirandaLabels\n",
    "sortOrder=rfe.ranking_\n",
    "sorted(desiredVariables,key=lambda pos: sortOrder[desiredVariables.index(pos)])"
   ]
  },
  {
   "cell_type": "markdown",
   "metadata": {},
   "source": [
    "RFE Shows prefferences for the variables to be predictors, meaning it to be ordered depending on de predictor-likability of a variable. Proving the anterior analysis, "
   ]
  },
  {
   "cell_type": "markdown",
   "metadata": {
    "tags": []
   },
   "source": [
    "### Modelling"
   ]
  },
  {
   "cell_type": "code",
   "execution_count": 18,
   "metadata": {},
   "outputs": [
    {
     "name": "stdout",
     "output_type": "stream",
     "text": [
      "Optimization terminated successfully.\n",
      "         Current function value: 0.264509\n",
      "         Iterations 8\n",
      "                         Results: Logit\n",
      "=================================================================\n",
      "Model:              Logit            Pseudo R-squared: 0.618     \n",
      "Dependent Variable: y                AIC:              29640.4288\n",
      "Date:               2021-09-02 05:06 BIC:              29711.8935\n",
      "No. Observations:   55999            Log-Likelihood:   -14812.   \n",
      "Df Model:           7                LL-Null:          -38816.   \n",
      "Df Residuals:       55991            LLR p-value:      0.0000    \n",
      "Converged:          1.0000           Scale:            1.0000    \n",
      "No. Iterations:     8.0000                                       \n",
      "-----------------------------------------------------------------\n",
      "                  Coef.  Std.Err.    z     P>|z|   [0.025  0.975]\n",
      "-----------------------------------------------------------------\n",
      "Kurtosis         -0.7686   0.0737 -10.4343 0.0000 -0.9129 -0.6242\n",
      "Skewness          1.0767   0.0673  15.9897 0.0000  0.9447  1.2087\n",
      "Std               0.8639   0.0776  11.1363 0.0000  0.7119  1.0159\n",
      "Range            -0.8228   0.0818 -10.0534 0.0000 -0.9832 -0.6624\n",
      "Median            0.0659   0.0273   2.4118 0.0159  0.0123  0.1194\n",
      "Geometric_Mean   -0.0247   0.0146  -1.6901 0.0910 -0.0534  0.0039\n",
      "Mobility          1.7661   0.0294  60.0734 0.0000  1.7085  1.8237\n",
      "Complexity        2.5121   0.0291  86.4431 0.0000  2.4551  2.5690\n",
      "=================================================================\n",
      "\n"
     ]
    }
   ],
   "source": [
    "import statsmodels.api as sm\n",
    "logit_model=sm.Logit(MirandaY_train,sc_MirandaX_train)\n",
    "result=logit_model.fit()\n",
    "print(result.summary2())"
   ]
  },
  {
   "cell_type": "code",
   "execution_count": 19,
   "metadata": {},
   "outputs": [
    {
     "data": {
      "text/html": [
       "<div>\n",
       "<style scoped>\n",
       "    .dataframe tbody tr th:only-of-type {\n",
       "        vertical-align: middle;\n",
       "    }\n",
       "\n",
       "    .dataframe tbody tr th {\n",
       "        vertical-align: top;\n",
       "    }\n",
       "\n",
       "    .dataframe thead th {\n",
       "        text-align: right;\n",
       "    }\n",
       "</style>\n",
       "<table border=\"1\" class=\"dataframe\">\n",
       "  <thead>\n",
       "    <tr style=\"text-align: right;\">\n",
       "      <th></th>\n",
       "      <th>Kurtosis</th>\n",
       "      <th>Skewness</th>\n",
       "      <th>Std</th>\n",
       "      <th>Range</th>\n",
       "      <th>Median</th>\n",
       "      <th>Garcia_Gmean</th>\n",
       "      <th>Epsilon_Gmean</th>\n",
       "      <th>Mobility</th>\n",
       "      <th>Complexity</th>\n",
       "    </tr>\n",
       "  </thead>\n",
       "  <tbody>\n",
       "    <tr>\n",
       "      <th>0</th>\n",
       "      <td>-0.411789</td>\n",
       "      <td>-0.468754</td>\n",
       "      <td>-0.410794</td>\n",
       "      <td>-0.371164</td>\n",
       "      <td>0.048126</td>\n",
       "      <td>-0.037728</td>\n",
       "      <td>0.623798</td>\n",
       "      <td>-0.687534</td>\n",
       "      <td>1.161029</td>\n",
       "    </tr>\n",
       "    <tr>\n",
       "      <th>1</th>\n",
       "      <td>-0.280660</td>\n",
       "      <td>-0.262858</td>\n",
       "      <td>-0.550281</td>\n",
       "      <td>-0.328514</td>\n",
       "      <td>1.505520</td>\n",
       "      <td>-0.027639</td>\n",
       "      <td>0.899391</td>\n",
       "      <td>-0.038125</td>\n",
       "      <td>-0.435612</td>\n",
       "    </tr>\n",
       "    <tr>\n",
       "      <th>2</th>\n",
       "      <td>0.072038</td>\n",
       "      <td>0.531657</td>\n",
       "      <td>1.258971</td>\n",
       "      <td>0.639977</td>\n",
       "      <td>-1.552618</td>\n",
       "      <td>0.437235</td>\n",
       "      <td>-1.676232</td>\n",
       "      <td>0.202901</td>\n",
       "      <td>-0.928757</td>\n",
       "    </tr>\n",
       "    <tr>\n",
       "      <th>3</th>\n",
       "      <td>0.083531</td>\n",
       "      <td>0.614746</td>\n",
       "      <td>1.112931</td>\n",
       "      <td>0.470032</td>\n",
       "      <td>-1.361485</td>\n",
       "      <td>-0.049855</td>\n",
       "      <td>-1.364294</td>\n",
       "      <td>-0.254096</td>\n",
       "      <td>-1.005097</td>\n",
       "    </tr>\n",
       "    <tr>\n",
       "      <th>4</th>\n",
       "      <td>-0.401494</td>\n",
       "      <td>-0.524425</td>\n",
       "      <td>-0.374506</td>\n",
       "      <td>-0.333763</td>\n",
       "      <td>-0.453600</td>\n",
       "      <td>-0.058115</td>\n",
       "      <td>-0.110840</td>\n",
       "      <td>-0.649514</td>\n",
       "      <td>0.651433</td>\n",
       "    </tr>\n",
       "    <tr>\n",
       "      <th>...</th>\n",
       "      <td>...</td>\n",
       "      <td>...</td>\n",
       "      <td>...</td>\n",
       "      <td>...</td>\n",
       "      <td>...</td>\n",
       "      <td>...</td>\n",
       "      <td>...</td>\n",
       "      <td>...</td>\n",
       "      <td>...</td>\n",
       "    </tr>\n",
       "    <tr>\n",
       "      <th>31995</th>\n",
       "      <td>-0.301140</td>\n",
       "      <td>-0.216885</td>\n",
       "      <td>-0.202067</td>\n",
       "      <td>-0.189408</td>\n",
       "      <td>-0.023549</td>\n",
       "      <td>-0.057326</td>\n",
       "      <td>-0.646753</td>\n",
       "      <td>-0.251100</td>\n",
       "      <td>-0.136490</td>\n",
       "    </tr>\n",
       "    <tr>\n",
       "      <th>31996</th>\n",
       "      <td>-0.315050</td>\n",
       "      <td>-0.159459</td>\n",
       "      <td>-0.231362</td>\n",
       "      <td>-0.285207</td>\n",
       "      <td>0.024234</td>\n",
       "      <td>-0.035443</td>\n",
       "      <td>0.135891</td>\n",
       "      <td>-0.615881</td>\n",
       "      <td>0.078245</td>\n",
       "    </tr>\n",
       "    <tr>\n",
       "      <th>31997</th>\n",
       "      <td>-0.447164</td>\n",
       "      <td>-0.734264</td>\n",
       "      <td>-0.539081</td>\n",
       "      <td>-0.430875</td>\n",
       "      <td>1.171037</td>\n",
       "      <td>-0.028576</td>\n",
       "      <td>0.195023</td>\n",
       "      <td>-0.480643</td>\n",
       "      <td>0.495579</td>\n",
       "    </tr>\n",
       "    <tr>\n",
       "      <th>31998</th>\n",
       "      <td>-0.446269</td>\n",
       "      <td>-0.650165</td>\n",
       "      <td>-0.461910</td>\n",
       "      <td>-0.409878</td>\n",
       "      <td>0.024234</td>\n",
       "      <td>-0.041845</td>\n",
       "      <td>0.524930</td>\n",
       "      <td>-0.576350</td>\n",
       "      <td>0.836609</td>\n",
       "    </tr>\n",
       "    <tr>\n",
       "      <th>31999</th>\n",
       "      <td>-0.430102</td>\n",
       "      <td>-0.595577</td>\n",
       "      <td>-0.562315</td>\n",
       "      <td>-0.393474</td>\n",
       "      <td>0.502069</td>\n",
       "      <td>-0.020597</td>\n",
       "      <td>1.266791</td>\n",
       "      <td>-0.386823</td>\n",
       "      <td>0.373590</td>\n",
       "    </tr>\n",
       "  </tbody>\n",
       "</table>\n",
       "<p>32000 rows × 9 columns</p>\n",
       "</div>"
      ],
      "text/plain": [
       "       Kurtosis  Skewness       Std     Range    Median  Garcia_Gmean  \\\n",
       "0     -0.411789 -0.468754 -0.410794 -0.371164  0.048126     -0.037728   \n",
       "1     -0.280660 -0.262858 -0.550281 -0.328514  1.505520     -0.027639   \n",
       "2      0.072038  0.531657  1.258971  0.639977 -1.552618      0.437235   \n",
       "3      0.083531  0.614746  1.112931  0.470032 -1.361485     -0.049855   \n",
       "4     -0.401494 -0.524425 -0.374506 -0.333763 -0.453600     -0.058115   \n",
       "...         ...       ...       ...       ...       ...           ...   \n",
       "31995 -0.301140 -0.216885 -0.202067 -0.189408 -0.023549     -0.057326   \n",
       "31996 -0.315050 -0.159459 -0.231362 -0.285207  0.024234     -0.035443   \n",
       "31997 -0.447164 -0.734264 -0.539081 -0.430875  1.171037     -0.028576   \n",
       "31998 -0.446269 -0.650165 -0.461910 -0.409878  0.024234     -0.041845   \n",
       "31999 -0.430102 -0.595577 -0.562315 -0.393474  0.502069     -0.020597   \n",
       "\n",
       "       Epsilon_Gmean  Mobility  Complexity  \n",
       "0           0.623798 -0.687534    1.161029  \n",
       "1           0.899391 -0.038125   -0.435612  \n",
       "2          -1.676232  0.202901   -0.928757  \n",
       "3          -1.364294 -0.254096   -1.005097  \n",
       "4          -0.110840 -0.649514    0.651433  \n",
       "...              ...       ...         ...  \n",
       "31995      -0.646753 -0.251100   -0.136490  \n",
       "31996       0.135891 -0.615881    0.078245  \n",
       "31997       0.195023 -0.480643    0.495579  \n",
       "31998       0.524930 -0.576350    0.836609  \n",
       "31999       1.266791 -0.386823    0.373590  \n",
       "\n",
       "[32000 rows x 9 columns]"
      ]
     },
     "execution_count": 19,
     "metadata": {},
     "output_type": "execute_result"
    }
   ],
   "source": [
    "sc_GarciaX_train"
   ]
  },
  {
   "cell_type": "code",
   "execution_count": 20,
   "metadata": {
    "tags": []
   },
   "outputs": [
    {
     "name": "stdout",
     "output_type": "stream",
     "text": [
      "Optimization terminated successfully.\n",
      "         Current function value: 0.692859\n",
      "         Iterations 4\n",
      "                         Results: Logit\n",
      "=================================================================\n",
      "Model:              Logit            Pseudo R-squared: 0.000     \n",
      "Dependent Variable: y                AIC:              44360.9561\n",
      "Date:               2021-09-02 05:06 BIC:              44436.3176\n",
      "No. Observations:   32000            Log-Likelihood:   -22171.   \n",
      "Df Model:           8                LL-Null:          -22181.   \n",
      "Df Residuals:       31991            LLR p-value:      0.019477  \n",
      "Converged:          1.0000           Scale:            1.0000    \n",
      "No. Iterations:     4.0000                                       \n",
      "------------------------------------------------------------------\n",
      "                Coef.   Std.Err.     z     P>|z|    [0.025  0.975]\n",
      "------------------------------------------------------------------\n",
      "Kurtosis        0.0939    0.0745   1.2599  0.2077  -0.0522  0.2400\n",
      "Skewness       -0.0728    0.0670  -1.0869  0.2771  -0.2040  0.0585\n",
      "Std             0.1009    0.0905   1.1143  0.2652  -0.0765  0.2783\n",
      "Range          -0.1838    0.0969  -1.8976  0.0578  -0.3737  0.0060\n",
      "Median         -0.0059    0.0240  -0.2476  0.8044  -0.0530  0.0411\n",
      "Garcia_Gmean    0.0075    0.0123   0.6077  0.5434  -0.0167  0.0317\n",
      "Epsilon_Gmean  -0.0145    0.0234  -0.6206  0.5349  -0.0604  0.0314\n",
      "Mobility        0.0326    0.0287   1.1360  0.2559  -0.0237  0.0890\n",
      "Complexity     -0.0346    0.0216  -1.6031  0.1089  -0.0769  0.0077\n",
      "=================================================================\n",
      "\n"
     ]
    }
   ],
   "source": [
    "import statsmodels.api as sm\n",
    "logit_modelG=sm.Logit(GarciaY_train,sc_GarciaX_train)\n",
    "result=logit_modelG.fit()\n",
    "print(result.summary2())"
   ]
  },
  {
   "cell_type": "code",
   "execution_count": 21,
   "metadata": {
    "tags": []
   },
   "outputs": [
    {
     "name": "stdout",
     "output_type": "stream",
     "text": [
      "Accuracy of logistic regression classifier on test set: 0.90\n"
     ]
    }
   ],
   "source": [
    "from sklearn.linear_model import LogisticRegression\n",
    "from sklearn import metrics\n",
    "#X_train, X_test, y_train, y_test = train_test_split(sc.fit_transform(newX), y, test_size=0.2, random_state=0)\n",
    "logregMiranda = LogisticRegression()\n",
    "logregMiranda.fit(sc_MirandaX_train, MirandaY_train)\n",
    "y_predMiranda = logregMiranda.predict(sc_MirandaX_test)\n",
    "print('Accuracy of logistic regression classifier on test set: {:.2f}'.format(logregMiranda.score(sc_MirandaX_test, MirandaY_test)))"
   ]
  },
  {
   "cell_type": "code",
   "execution_count": 22,
   "metadata": {
    "tags": []
   },
   "outputs": [
    {
     "name": "stdout",
     "output_type": "stream",
     "text": [
      "Accuracy of logistic regression classifier on test set: 0.49\n"
     ]
    }
   ],
   "source": [
    "logregGarcia = LogisticRegression()\n",
    "logregGarcia.fit(sc_GarciaX_train, GarciaY_train)\n",
    "y_predGarcia = logregGarcia.predict(sc_GarciaX_test)\n",
    "print('Accuracy of logistic regression classifier on test set: {:.2f}'.format(logregGarcia.score(sc_GarciaX_test, GarciaY_test)))"
   ]
  },
  {
   "cell_type": "code",
   "execution_count": 23,
   "metadata": {},
   "outputs": [],
   "source": [
    "from itertools import chain, combinations\n",
    "from sklearn.model_selection import cross_val_score\n",
    "import copy\n",
    "def best_subset_cv(estimator, X, Y, labels,cv=3):\n",
    "    n_features = X.shape[1]\n",
    "    subsets = chain.from_iterable([combinations(labels, k + 1) for k in range(n_features)])\n",
    "    best_score = -np.inf\n",
    "    best_subset = None\n",
    "    for subset in subsets:\n",
    "        estimatorCopy=copy.copy(estimator)\n",
    "        score = cross_val_score(estimatorCopy, X.loc[:, list(subset)], Y, cv=cv).mean()\n",
    "        if score > best_score:\n",
    "            best_score, best_subset = score, subset\n",
    "\n",
    "    return best_subset, best_score"
   ]
  },
  {
   "cell_type": "code",
   "execution_count": 24,
   "metadata": {},
   "outputs": [
    {
     "name": "stdout",
     "output_type": "stream",
     "text": [
      "Miranda\n"
     ]
    }
   ],
   "source": [
    "logregBSM = LogisticRegression()\n",
    "subM, scoM=best_subset_cv(logregBSM,sc_MirandaX_train,MirandaY_train,MirandaLabels)\n",
    "print(\"Miranda\")"
   ]
  },
  {
   "cell_type": "code",
   "execution_count": 25,
   "metadata": {},
   "outputs": [
    {
     "data": {
      "text/plain": [
       "(('Skewness', 'Geometric_Mean', 'Complexity'), 0.8934098557840381)"
      ]
     },
     "execution_count": 25,
     "metadata": {},
     "output_type": "execute_result"
    }
   ],
   "source": [
    "subM, scoM"
   ]
  },
  {
   "cell_type": "code",
   "execution_count": 26,
   "metadata": {},
   "outputs": [
    {
     "name": "stdout",
     "output_type": "stream",
     "text": [
      "García\n"
     ]
    }
   ],
   "source": [
    "logregBSG = LogisticRegression()\n",
    "subG, scoG=best_subset_cv(logregBSG,sc_GarciaX_train,GarciaY_train,GarciaLabels)\n",
    "print(\"García\")"
   ]
  },
  {
   "cell_type": "code",
   "execution_count": 27,
   "metadata": {},
   "outputs": [
    {
     "data": {
      "text/plain": [
       "(('Std', 'Range', 'Garcia_Gmean', 'Mobility'), 0.5090000322451483)"
      ]
     },
     "execution_count": 27,
     "metadata": {},
     "output_type": "execute_result"
    }
   ],
   "source": [
    "subG, scoG"
   ]
  },
  {
   "cell_type": "code",
   "execution_count": 28,
   "metadata": {},
   "outputs": [
    {
     "data": {
      "image/png": "[encoded data removed]",
      "text/plain": [
       "<Figure size 1100x900 with 2 Axes>"
      ]
     },
     "metadata": {},
     "output_type": "display_data"
    }
   ],
   "source": [
    "import seaborn as sns\n",
    "sns.set_theme(style=\"dark\")\n",
    "corr = sc_MirandaX_train.corr()\n",
    "f, ax = plt.subplots(figsize=(11, 9))\n",
    "cmap = sns.diverging_palette(230, 20, as_cmap=True)\n",
    "ax.tick_params(axis='x', rotation=90)\n",
    "# Draw the heatmap with the mask and correct aspect ratio\n",
    "sns.heatmap(corr, cmap=cmap, vmax=.3, center=0,\n",
    "            square=True, linewidths=.5, cbar_kws={\"shrink\": .5}).set_title(\"Miranda's correlation matrix\")\n",
    "plt.show()"
   ]
  },
  {
   "cell_type": "code",
   "execution_count": 29,
   "metadata": {},
   "outputs": [
    {
     "data": {
      "image/png": "[encoded data removed]",
      "text/plain": [
       "<Figure size 1100x900 with 2 Axes>"
      ]
     },
     "metadata": {},
     "output_type": "display_data"
    }
   ],
   "source": [
    "sns.set_theme(style=\"dark\")\n",
    "corr = sc_GarciaX_train.corr()\n",
    "f, ax = plt.subplots(figsize=(11, 9))\n",
    "cmap = sns.diverging_palette(230, 20, as_cmap=True)\n",
    "ax.tick_params(axis='x', rotation=90)\n",
    "# Draw the heatmap with the mask and correct aspect ratio\n",
    "sns.heatmap(corr, cmap=cmap, vmax=.3, center=0,\n",
    "            square=True, linewidths=.5, cbar_kws={\"shrink\": .5}).set_title(\"Garcías's correlation matrix\")\n",
    "plt.show()"
   ]
  }
 ],
 "metadata": {
  "kernelspec": {
   "display_name": "Python 3",
   "language": "python",
   "name": "python3"
  },
  "language_info": {
   "codemirror_mode": {
    "name": "ipython",
    "version": 3
   },
   "file_extension": ".py",
   "mimetype": "text/x-python",
   "name": "python",
   "nbconvert_exporter": "python",
   "pygments_lexer": "ipython3",
   "version": "3.8.11"
  }
 },
 "nbformat": 4,
 "nbformat_minor": 4
}
