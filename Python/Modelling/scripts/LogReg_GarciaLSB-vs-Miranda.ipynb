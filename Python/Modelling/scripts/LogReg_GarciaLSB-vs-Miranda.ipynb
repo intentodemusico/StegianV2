{
 "cells": [
  {
   "cell_type": "markdown",
   "metadata": {},
   "source": [
    "# LogReg S-Uniward 0.3 vs Miranda Attributes"
   ]
  },
  {
   "cell_type": "code",
   "execution_count": 1,
   "metadata": {},
   "outputs": [],
   "source": [
    "from __future__ import absolute_import, division, print_function, unicode_literals\n",
    "import os, random, time, MirandaAttributes, cv2\n",
    "import tensorflow as tf\n",
    "import pandas as pd\n",
    "import numpy as np\n",
    "from sklearn import preprocessing\n",
    "import seaborn as sns\n",
    "import matplotlib.image as mpimg\n",
    "import matplotlib.pyplot as plt\n",
    "from sklearn.linear_model import LogisticRegression\n",
    "from sklearn.model_selection import train_test_split"
   ]
  },
  {
   "cell_type": "code",
   "execution_count": 2,
   "metadata": {},
   "outputs": [
    {
     "name": "stdout",
     "output_type": "stream",
     "text": [
      "TensorFlow version: 2.3.0\n",
      "Eager execution: True\n"
     ]
    }
   ],
   "source": [
    "print(\"TensorFlow version: {}\".format(tf.__version__))\n",
    "print(\"Eager execution: {}\".format(tf.executing_eagerly()))\n",
    "\n",
    "#Miranda dataset\n",
    "train_dataset_url = \"https://raw.githubusercontent.com/intentodemusico/StegianV2/master/DatasetMiranda/features_train_70000.csv\"\n",
    "test_dataset_url = \"https://raw.githubusercontent.com/intentodemusico/StegianV2/master/DatasetMiranda/features_test_70000.csv\""
   ]
  },
  {
   "cell_type": "code",
   "execution_count": 3,
   "metadata": {},
   "outputs": [],
   "source": [
    "#%% Importing the dataset\n",
    "MirandaLabels=['Kurtosis', 'Skewness', 'Std', 'Range', 'Median', 'Geometric_Mean', 'Mobility', 'Complexity']\n",
    "trainDataset = pd.read_csv(train_dataset_url)\n",
    "MirandaX_train = trainDataset.iloc[:, :-1].values\n",
    "MirandaY_train = trainDataset.iloc[:, -1].values\n",
    "\n",
    "testDataset = pd.read_csv(test_dataset_url)\n",
    "MirandaX_test = testDataset.iloc[:, :-1].values\n",
    "MirandaY_test = testDataset.iloc[:, -1].values"
   ]
  },
  {
   "cell_type": "code",
   "execution_count": 4,
   "metadata": {},
   "outputs": [
    {
     "data": {
      "text/plain": [
       "array([[1.502380e+01, 2.910000e+00, 2.747740e+02, ..., 1.604439e+02,\n",
       "        1.477400e-01, 8.579000e-01],\n",
       "       [2.801000e+00, 9.223200e-01, 2.357319e+02, ..., 1.453054e+02,\n",
       "        1.200900e-01, 1.298700e+00],\n",
       "       [3.988500e+00, 8.873200e-01, 1.745089e+02, ..., 1.826219e+02,\n",
       "        2.003400e-01, 1.596500e+00],\n",
       "       ...,\n",
       "       [7.551800e+00, 2.032900e+00, 2.796423e+02, ..., 1.376493e+02,\n",
       "        9.355000e-01, 1.760300e+00],\n",
       "       [3.402200e+01, 4.804000e+00, 4.167042e+02, ..., 1.391423e+02,\n",
       "        9.767900e-01, 1.521500e+00],\n",
       "       [2.003410e+01, 3.686400e+00, 4.570151e+02, ..., 8.242910e+01,\n",
       "        9.437100e-01, 1.696200e+00]])"
      ]
     },
     "execution_count": 4,
     "metadata": {},
     "output_type": "execute_result"
    }
   ],
   "source": [
    "MirandaX_train"
   ]
  },
  {
   "cell_type": "code",
   "execution_count": 5,
   "metadata": {
    "tags": []
   },
   "outputs": [],
   "source": [
    "#%% Feature Scaling\n",
    "from sklearn.preprocessing import StandardScaler"
   ]
  },
  {
   "cell_type": "code",
   "execution_count": 6,
   "metadata": {},
   "outputs": [
    {
     "data": {
      "text/plain": [
       "['Kurtosis',\n",
       " 'Skewness',\n",
       " 'Std',\n",
       " 'Range',\n",
       " 'Median',\n",
       " 'Geometric_Mean',\n",
       " 'Mobility',\n",
       " 'Complexity']"
      ]
     },
     "execution_count": 6,
     "metadata": {},
     "output_type": "execute_result"
    }
   ],
   "source": [
    "MirandaLabels"
   ]
  },
  {
   "cell_type": "markdown",
   "metadata": {},
   "source": [
    "## Getting x and y"
   ]
  },
  {
   "cell_type": "code",
   "execution_count": 7,
   "metadata": {},
   "outputs": [
    {
     "name": "stdout",
     "output_type": "stream",
     "text": [
      "40000\n"
     ]
    }
   ],
   "source": [
    "isStego=lambda x:1 if x[:6]==\"stego_\" else 0\n",
    "getYFromImageList=lambda x: [isStego(element) for element in x]\n",
    "folder=\"../../../Dataset/Mono/MonoSamples/S-Uniward_5\" \n",
    "images=os.listdir(folder)\n",
    "random.shuffle(images)\n",
    "images=images\n",
    "print(len(images))"
   ]
  },
  {
   "cell_type": "code",
   "execution_count": 8,
   "metadata": {},
   "outputs": [
    {
     "name": "stdout",
     "output_type": "stream",
     "text": [
      "54.0598361492157\n"
     ]
    }
   ],
   "source": [
    "Garciay=getYFromImageList(images)\n",
    "windowSize=128\n",
    "GarciaLabels=['Kurtosis', 'Skewness', 'Std', 'Range', 'Median', 'Garcia_Gmean', 'Epsilon_Gmean', 'Mobility', 'Complexity']\n",
    "t = time.time()\n",
    "\n",
    "GarciaX=pd.DataFrame(([ MirandaAttributes.attributes( cv2.imread( os.path.abspath(os.path.join(folder, images[i])) \n",
    "                                        ) ,windowSize,True)  for i in range(len(images))] ),columns=GarciaLabels)\n",
    "elapsed = time.time() - t\n",
    "print(elapsed)\n",
    "GarciaX_train, GarciaX_test, GarciaY_train, GarciaY_test = train_test_split(GarciaX, Garciay, test_size=0.2, \n",
    "                                                                            random_state=0)"
   ]
  },
  {
   "cell_type": "markdown",
   "metadata": {},
   "source": [
    "### EDA"
   ]
  },
  {
   "cell_type": "code",
   "execution_count": 9,
   "metadata": {
    "tags": []
   },
   "outputs": [
    {
     "data": {
      "text/html": [
       "<div>\n",
       "<style scoped>\n",
       "    .dataframe tbody tr th:only-of-type {\n",
       "        vertical-align: middle;\n",
       "    }\n",
       "\n",
       "    .dataframe tbody tr th {\n",
       "        vertical-align: top;\n",
       "    }\n",
       "\n",
       "    .dataframe thead th {\n",
       "        text-align: right;\n",
       "    }\n",
       "</style>\n",
       "<table border=\"1\" class=\"dataframe\">\n",
       "  <thead>\n",
       "    <tr style=\"text-align: right;\">\n",
       "      <th></th>\n",
       "      <th>0</th>\n",
       "    </tr>\n",
       "  </thead>\n",
       "  <tbody>\n",
       "    <tr>\n",
       "      <th>count</th>\n",
       "      <td>32000.000000</td>\n",
       "    </tr>\n",
       "    <tr>\n",
       "      <th>mean</th>\n",
       "      <td>0.499250</td>\n",
       "    </tr>\n",
       "    <tr>\n",
       "      <th>std</th>\n",
       "      <td>0.500007</td>\n",
       "    </tr>\n",
       "    <tr>\n",
       "      <th>min</th>\n",
       "      <td>0.000000</td>\n",
       "    </tr>\n",
       "    <tr>\n",
       "      <th>25%</th>\n",
       "      <td>0.000000</td>\n",
       "    </tr>\n",
       "    <tr>\n",
       "      <th>50%</th>\n",
       "      <td>0.000000</td>\n",
       "    </tr>\n",
       "    <tr>\n",
       "      <th>75%</th>\n",
       "      <td>1.000000</td>\n",
       "    </tr>\n",
       "    <tr>\n",
       "      <th>max</th>\n",
       "      <td>1.000000</td>\n",
       "    </tr>\n",
       "  </tbody>\n",
       "</table>\n",
       "</div>"
      ],
      "text/plain": [
       "                  0\n",
       "count  32000.000000\n",
       "mean       0.499250\n",
       "std        0.500007\n",
       "min        0.000000\n",
       "25%        0.000000\n",
       "50%        0.000000\n",
       "75%        1.000000\n",
       "max        1.000000"
      ]
     },
     "execution_count": 9,
     "metadata": {},
     "output_type": "execute_result"
    }
   ],
   "source": [
    "pd.DataFrame(GarciaY_train).describe()"
   ]
  },
  {
   "cell_type": "code",
   "execution_count": 10,
   "metadata": {},
   "outputs": [
    {
     "data": {
      "text/plain": [
       "0    16024\n",
       "1    15976\n",
       "dtype: int64"
      ]
     },
     "execution_count": 10,
     "metadata": {},
     "output_type": "execute_result"
    }
   ],
   "source": [
    "pd.DataFrame(GarciaY_train).value_counts()"
   ]
  },
  {
   "cell_type": "code",
   "execution_count": 11,
   "metadata": {},
   "outputs": [
    {
     "data": {
      "text/html": [
       "<div>\n",
       "<style scoped>\n",
       "    .dataframe tbody tr th:only-of-type {\n",
       "        vertical-align: middle;\n",
       "    }\n",
       "\n",
       "    .dataframe tbody tr th {\n",
       "        vertical-align: top;\n",
       "    }\n",
       "\n",
       "    .dataframe thead th {\n",
       "        text-align: right;\n",
       "    }\n",
       "</style>\n",
       "<table border=\"1\" class=\"dataframe\">\n",
       "  <thead>\n",
       "    <tr style=\"text-align: right;\">\n",
       "      <th></th>\n",
       "      <th>Kurtosis</th>\n",
       "      <th>Skewness</th>\n",
       "      <th>Std</th>\n",
       "      <th>Range</th>\n",
       "      <th>Median</th>\n",
       "      <th>Garcia_Gmean</th>\n",
       "      <th>Epsilon_Gmean</th>\n",
       "      <th>Mobility</th>\n",
       "      <th>Complexity</th>\n",
       "    </tr>\n",
       "  </thead>\n",
       "  <tbody>\n",
       "    <tr>\n",
       "      <th>21370</th>\n",
       "      <td>9.918339</td>\n",
       "      <td>2.475863</td>\n",
       "      <td>94.773537</td>\n",
       "      <td>552.0</td>\n",
       "      <td>21.5</td>\n",
       "      <td>23.686811</td>\n",
       "      <td>23.313099</td>\n",
       "      <td>0.385217</td>\n",
       "      <td>3.932108</td>\n",
       "    </tr>\n",
       "    <tr>\n",
       "      <th>2470</th>\n",
       "      <td>157.627136</td>\n",
       "      <td>12.254713</td>\n",
       "      <td>746.447571</td>\n",
       "      <td>10368.0</td>\n",
       "      <td>0.0</td>\n",
       "      <td>7897.716797</td>\n",
       "      <td>1.072629</td>\n",
       "      <td>0.620535</td>\n",
       "      <td>1.361291</td>\n",
       "    </tr>\n",
       "    <tr>\n",
       "      <th>13767</th>\n",
       "      <td>2.318970</td>\n",
       "      <td>0.664062</td>\n",
       "      <td>61.532257</td>\n",
       "      <td>253.0</td>\n",
       "      <td>41.5</td>\n",
       "      <td>41.377689</td>\n",
       "      <td>24.089155</td>\n",
       "      <td>0.194131</td>\n",
       "      <td>7.505395</td>\n",
       "    </tr>\n",
       "    <tr>\n",
       "      <th>13316</th>\n",
       "      <td>8.520466</td>\n",
       "      <td>2.541874</td>\n",
       "      <td>138.284500</td>\n",
       "      <td>624.0</td>\n",
       "      <td>0.0</td>\n",
       "      <td>38.654285</td>\n",
       "      <td>6.361059</td>\n",
       "      <td>0.124828</td>\n",
       "      <td>7.314887</td>\n",
       "    </tr>\n",
       "    <tr>\n",
       "      <th>26374</th>\n",
       "      <td>4.252779</td>\n",
       "      <td>1.586557</td>\n",
       "      <td>82.987152</td>\n",
       "      <td>322.0</td>\n",
       "      <td>27.0</td>\n",
       "      <td>27.579201</td>\n",
       "      <td>26.795839</td>\n",
       "      <td>0.157977</td>\n",
       "      <td>10.511610</td>\n",
       "    </tr>\n",
       "    <tr>\n",
       "      <th>...</th>\n",
       "      <td>...</td>\n",
       "      <td>...</td>\n",
       "      <td>...</td>\n",
       "      <td>...</td>\n",
       "      <td>...</td>\n",
       "      <td>...</td>\n",
       "      <td>...</td>\n",
       "      <td>...</td>\n",
       "      <td>...</td>\n",
       "    </tr>\n",
       "    <tr>\n",
       "      <th>20757</th>\n",
       "      <td>14.414732</td>\n",
       "      <td>3.050016</td>\n",
       "      <td>73.623940</td>\n",
       "      <td>474.0</td>\n",
       "      <td>43.0</td>\n",
       "      <td>39.348896</td>\n",
       "      <td>40.906059</td>\n",
       "      <td>0.314503</td>\n",
       "      <td>4.317505</td>\n",
       "    </tr>\n",
       "    <tr>\n",
       "      <th>32103</th>\n",
       "      <td>11.390884</td>\n",
       "      <td>2.462768</td>\n",
       "      <td>42.217537</td>\n",
       "      <td>293.0</td>\n",
       "      <td>53.5</td>\n",
       "      <td>53.960377</td>\n",
       "      <td>55.165504</td>\n",
       "      <td>0.333814</td>\n",
       "      <td>4.506675</td>\n",
       "    </tr>\n",
       "    <tr>\n",
       "      <th>30403</th>\n",
       "      <td>4.657472</td>\n",
       "      <td>1.692874</td>\n",
       "      <td>98.766571</td>\n",
       "      <td>408.0</td>\n",
       "      <td>22.0</td>\n",
       "      <td>32.457882</td>\n",
       "      <td>13.391571</td>\n",
       "      <td>0.135347</td>\n",
       "      <td>10.561842</td>\n",
       "    </tr>\n",
       "    <tr>\n",
       "      <th>21243</th>\n",
       "      <td>1.656853</td>\n",
       "      <td>0.240610</td>\n",
       "      <td>42.476280</td>\n",
       "      <td>145.0</td>\n",
       "      <td>57.5</td>\n",
       "      <td>46.545132</td>\n",
       "      <td>48.067604</td>\n",
       "      <td>0.294924</td>\n",
       "      <td>5.545305</td>\n",
       "    </tr>\n",
       "    <tr>\n",
       "      <th>2732</th>\n",
       "      <td>1.888980</td>\n",
       "      <td>-0.005785</td>\n",
       "      <td>38.277664</td>\n",
       "      <td>143.0</td>\n",
       "      <td>66.0</td>\n",
       "      <td>45.677296</td>\n",
       "      <td>47.688366</td>\n",
       "      <td>0.323125</td>\n",
       "      <td>5.285519</td>\n",
       "    </tr>\n",
       "  </tbody>\n",
       "</table>\n",
       "<p>32000 rows × 9 columns</p>\n",
       "</div>"
      ],
      "text/plain": [
       "         Kurtosis   Skewness         Std    Range  Median  Garcia_Gmean  \\\n",
       "21370    9.918339   2.475863   94.773537    552.0    21.5     23.686811   \n",
       "2470   157.627136  12.254713  746.447571  10368.0     0.0   7897.716797   \n",
       "13767    2.318970   0.664062   61.532257    253.0    41.5     41.377689   \n",
       "13316    8.520466   2.541874  138.284500    624.0     0.0     38.654285   \n",
       "26374    4.252779   1.586557   82.987152    322.0    27.0     27.579201   \n",
       "...           ...        ...         ...      ...     ...           ...   \n",
       "20757   14.414732   3.050016   73.623940    474.0    43.0     39.348896   \n",
       "32103   11.390884   2.462768   42.217537    293.0    53.5     53.960377   \n",
       "30403    4.657472   1.692874   98.766571    408.0    22.0     32.457882   \n",
       "21243    1.656853   0.240610   42.476280    145.0    57.5     46.545132   \n",
       "2732     1.888980  -0.005785   38.277664    143.0    66.0     45.677296   \n",
       "\n",
       "       Epsilon_Gmean  Mobility  Complexity  \n",
       "21370      23.313099  0.385217    3.932108  \n",
       "2470        1.072629  0.620535    1.361291  \n",
       "13767      24.089155  0.194131    7.505395  \n",
       "13316       6.361059  0.124828    7.314887  \n",
       "26374      26.795839  0.157977   10.511610  \n",
       "...              ...       ...         ...  \n",
       "20757      40.906059  0.314503    4.317505  \n",
       "32103      55.165504  0.333814    4.506675  \n",
       "30403      13.391571  0.135347   10.561842  \n",
       "21243      48.067604  0.294924    5.545305  \n",
       "2732       47.688366  0.323125    5.285519  \n",
       "\n",
       "[32000 rows x 9 columns]"
      ]
     },
     "execution_count": 11,
     "metadata": {},
     "output_type": "execute_result"
    }
   ],
   "source": [
    "GarciaX_train"
   ]
  },
  {
   "cell_type": "code",
   "execution_count": 12,
   "metadata": {},
   "outputs": [
    {
     "data": {
      "text/html": [
       "<div>\n",
       "<style scoped>\n",
       "    .dataframe tbody tr th:only-of-type {\n",
       "        vertical-align: middle;\n",
       "    }\n",
       "\n",
       "    .dataframe tbody tr th {\n",
       "        vertical-align: top;\n",
       "    }\n",
       "\n",
       "    .dataframe thead th {\n",
       "        text-align: right;\n",
       "    }\n",
       "</style>\n",
       "<table border=\"1\" class=\"dataframe\">\n",
       "  <thead>\n",
       "    <tr style=\"text-align: right;\">\n",
       "      <th></th>\n",
       "      <th>Kurtosis</th>\n",
       "      <th>Skewness</th>\n",
       "      <th>Std</th>\n",
       "      <th>Range</th>\n",
       "      <th>Median</th>\n",
       "      <th>Garcia_Gmean</th>\n",
       "      <th>Epsilon_Gmean</th>\n",
       "      <th>Mobility</th>\n",
       "      <th>Complexity</th>\n",
       "    </tr>\n",
       "  </thead>\n",
       "  <tbody>\n",
       "    <tr>\n",
       "      <th>count</th>\n",
       "      <td>32000.000000</td>\n",
       "      <td>32000.000000</td>\n",
       "      <td>32000.000000</td>\n",
       "      <td>32000.000000</td>\n",
       "      <td>32000.000000</td>\n",
       "      <td>32000.000000</td>\n",
       "      <td>32000.000000</td>\n",
       "      <td>32000.000000</td>\n",
       "      <td>32000.000000</td>\n",
       "    </tr>\n",
       "    <tr>\n",
       "      <th>mean</th>\n",
       "      <td>23.836270</td>\n",
       "      <td>2.928652</td>\n",
       "      <td>109.083356</td>\n",
       "      <td>854.870844</td>\n",
       "      <td>32.320969</td>\n",
       "      <td>53.743277</td>\n",
       "      <td>26.369346</td>\n",
       "      <td>0.324072</td>\n",
       "      <td>5.906731</td>\n",
       "    </tr>\n",
       "    <tr>\n",
       "      <th>std</th>\n",
       "      <td>48.588159</td>\n",
       "      <td>3.239049</td>\n",
       "      <td>98.451393</td>\n",
       "      <td>1549.300167</td>\n",
       "      <td>20.857243</td>\n",
       "      <td>434.146877</td>\n",
       "      <td>14.556997</td>\n",
       "      <td>0.217388</td>\n",
       "      <td>3.030103</td>\n",
       "    </tr>\n",
       "    <tr>\n",
       "      <th>min</th>\n",
       "      <td>1.238583</td>\n",
       "      <td>-1.234521</td>\n",
       "      <td>14.475194</td>\n",
       "      <td>84.000000</td>\n",
       "      <td>0.000000</td>\n",
       "      <td>1.721951</td>\n",
       "      <td>1.038634</td>\n",
       "      <td>0.085735</td>\n",
       "      <td>0.894159</td>\n",
       "    </tr>\n",
       "    <tr>\n",
       "      <th>25%</th>\n",
       "      <td>3.145729</td>\n",
       "      <td>1.014087</td>\n",
       "      <td>58.845119</td>\n",
       "      <td>250.000000</td>\n",
       "      <td>14.000000</td>\n",
       "      <td>27.549348</td>\n",
       "      <td>14.508669</td>\n",
       "      <td>0.184827</td>\n",
       "      <td>3.533327</td>\n",
       "    </tr>\n",
       "    <tr>\n",
       "      <th>50%</th>\n",
       "      <td>6.377465</td>\n",
       "      <td>1.883810</td>\n",
       "      <td>81.365807</td>\n",
       "      <td>392.000000</td>\n",
       "      <td>32.500000</td>\n",
       "      <td>37.222080</td>\n",
       "      <td>25.149413</td>\n",
       "      <td>0.252571</td>\n",
       "      <td>5.630459</td>\n",
       "    </tr>\n",
       "    <tr>\n",
       "      <th>75%</th>\n",
       "      <td>16.672537</td>\n",
       "      <td>3.422494</td>\n",
       "      <td>120.594248</td>\n",
       "      <td>748.000000</td>\n",
       "      <td>49.000000</td>\n",
       "      <td>46.209579</td>\n",
       "      <td>37.322383</td>\n",
       "      <td>0.374950</td>\n",
       "      <td>7.998111</td>\n",
       "    </tr>\n",
       "    <tr>\n",
       "      <th>max</th>\n",
       "      <td>254.003906</td>\n",
       "      <td>15.906097</td>\n",
       "      <td>1021.998047</td>\n",
       "      <td>16384.000000</td>\n",
       "      <td>90.000000</td>\n",
       "      <td>16384.000000</td>\n",
       "      <td>63.118073</td>\n",
       "      <td>1.419760</td>\n",
       "      <td>16.138912</td>\n",
       "    </tr>\n",
       "  </tbody>\n",
       "</table>\n",
       "</div>"
      ],
      "text/plain": [
       "           Kurtosis      Skewness           Std         Range        Median  \\\n",
       "count  32000.000000  32000.000000  32000.000000  32000.000000  32000.000000   \n",
       "mean      23.836270      2.928652    109.083356    854.870844     32.320969   \n",
       "std       48.588159      3.239049     98.451393   1549.300167     20.857243   \n",
       "min        1.238583     -1.234521     14.475194     84.000000      0.000000   \n",
       "25%        3.145729      1.014087     58.845119    250.000000     14.000000   \n",
       "50%        6.377465      1.883810     81.365807    392.000000     32.500000   \n",
       "75%       16.672537      3.422494    120.594248    748.000000     49.000000   \n",
       "max      254.003906     15.906097   1021.998047  16384.000000     90.000000   \n",
       "\n",
       "       Garcia_Gmean  Epsilon_Gmean      Mobility    Complexity  \n",
       "count  32000.000000   32000.000000  32000.000000  32000.000000  \n",
       "mean      53.743277      26.369346      0.324072      5.906731  \n",
       "std      434.146877      14.556997      0.217388      3.030103  \n",
       "min        1.721951       1.038634      0.085735      0.894159  \n",
       "25%       27.549348      14.508669      0.184827      3.533327  \n",
       "50%       37.222080      25.149413      0.252571      5.630459  \n",
       "75%       46.209579      37.322383      0.374950      7.998111  \n",
       "max    16384.000000      63.118073      1.419760     16.138912  "
      ]
     },
     "execution_count": 12,
     "metadata": {},
     "output_type": "execute_result"
    }
   ],
   "source": [
    "GarciaX_train.describe()"
   ]
  },
  {
   "cell_type": "markdown",
   "metadata": {},
   "source": [
    "##### Dataset looks homogeneous"
   ]
  },
  {
   "cell_type": "code",
   "execution_count": 13,
   "metadata": {},
   "outputs": [
    {
     "data": {
      "text/html": [
       "<div>\n",
       "<style scoped>\n",
       "    .dataframe tbody tr th:only-of-type {\n",
       "        vertical-align: middle;\n",
       "    }\n",
       "\n",
       "    .dataframe tbody tr th {\n",
       "        vertical-align: top;\n",
       "    }\n",
       "\n",
       "    .dataframe thead th {\n",
       "        text-align: right;\n",
       "    }\n",
       "</style>\n",
       "<table border=\"1\" class=\"dataframe\">\n",
       "  <thead>\n",
       "    <tr style=\"text-align: right;\">\n",
       "      <th></th>\n",
       "      <th>Kurtosis</th>\n",
       "      <th>Skewness</th>\n",
       "      <th>Std</th>\n",
       "      <th>Range</th>\n",
       "      <th>Median</th>\n",
       "      <th>Geometric_Mean</th>\n",
       "      <th>Mobility</th>\n",
       "      <th>Complexity</th>\n",
       "      <th>Tag</th>\n",
       "    </tr>\n",
       "  </thead>\n",
       "  <tbody>\n",
       "    <tr>\n",
       "      <th>0</th>\n",
       "      <td>15.0238</td>\n",
       "      <td>2.91000</td>\n",
       "      <td>274.7740</td>\n",
       "      <td>1789</td>\n",
       "      <td>228.0</td>\n",
       "      <td>160.4439</td>\n",
       "      <td>0.147740</td>\n",
       "      <td>0.8579</td>\n",
       "      <td>0</td>\n",
       "    </tr>\n",
       "    <tr>\n",
       "      <th>1</th>\n",
       "      <td>2.8010</td>\n",
       "      <td>0.92232</td>\n",
       "      <td>235.7319</td>\n",
       "      <td>917</td>\n",
       "      <td>179.0</td>\n",
       "      <td>145.3054</td>\n",
       "      <td>0.120090</td>\n",
       "      <td>1.2987</td>\n",
       "      <td>0</td>\n",
       "    </tr>\n",
       "    <tr>\n",
       "      <th>2</th>\n",
       "      <td>3.9885</td>\n",
       "      <td>0.88732</td>\n",
       "      <td>174.5089</td>\n",
       "      <td>817</td>\n",
       "      <td>260.0</td>\n",
       "      <td>182.6219</td>\n",
       "      <td>0.200340</td>\n",
       "      <td>1.5965</td>\n",
       "      <td>0</td>\n",
       "    </tr>\n",
       "    <tr>\n",
       "      <th>3</th>\n",
       "      <td>5.4531</td>\n",
       "      <td>1.83640</td>\n",
       "      <td>343.9752</td>\n",
       "      <td>1336</td>\n",
       "      <td>69.5</td>\n",
       "      <td>120.5608</td>\n",
       "      <td>0.083738</td>\n",
       "      <td>1.2973</td>\n",
       "      <td>0</td>\n",
       "    </tr>\n",
       "    <tr>\n",
       "      <th>4</th>\n",
       "      <td>15.8010</td>\n",
       "      <td>3.38050</td>\n",
       "      <td>443.4495</td>\n",
       "      <td>2785</td>\n",
       "      <td>118.0</td>\n",
       "      <td>113.9388</td>\n",
       "      <td>0.231590</td>\n",
       "      <td>1.2115</td>\n",
       "      <td>0</td>\n",
       "    </tr>\n",
       "    <tr>\n",
       "      <th>...</th>\n",
       "      <td>...</td>\n",
       "      <td>...</td>\n",
       "      <td>...</td>\n",
       "      <td>...</td>\n",
       "      <td>...</td>\n",
       "      <td>...</td>\n",
       "      <td>...</td>\n",
       "      <td>...</td>\n",
       "      <td>...</td>\n",
       "    </tr>\n",
       "    <tr>\n",
       "      <th>55994</th>\n",
       "      <td>5.0543</td>\n",
       "      <td>1.22740</td>\n",
       "      <td>172.0252</td>\n",
       "      <td>981</td>\n",
       "      <td>238.0</td>\n",
       "      <td>205.0903</td>\n",
       "      <td>0.945960</td>\n",
       "      <td>1.7109</td>\n",
       "      <td>1</td>\n",
       "    </tr>\n",
       "    <tr>\n",
       "      <th>55995</th>\n",
       "      <td>89.9023</td>\n",
       "      <td>8.30370</td>\n",
       "      <td>614.5032</td>\n",
       "      <td>7673</td>\n",
       "      <td>122.5</td>\n",
       "      <td>100.0387</td>\n",
       "      <td>0.988840</td>\n",
       "      <td>1.5964</td>\n",
       "      <td>1</td>\n",
       "    </tr>\n",
       "    <tr>\n",
       "      <th>55996</th>\n",
       "      <td>7.5518</td>\n",
       "      <td>2.03290</td>\n",
       "      <td>279.6423</td>\n",
       "      <td>1520</td>\n",
       "      <td>156.0</td>\n",
       "      <td>137.6493</td>\n",
       "      <td>0.935500</td>\n",
       "      <td>1.7603</td>\n",
       "      <td>1</td>\n",
       "    </tr>\n",
       "    <tr>\n",
       "      <th>55997</th>\n",
       "      <td>34.0220</td>\n",
       "      <td>4.80400</td>\n",
       "      <td>416.7042</td>\n",
       "      <td>3971</td>\n",
       "      <td>116.5</td>\n",
       "      <td>139.1423</td>\n",
       "      <td>0.976790</td>\n",
       "      <td>1.5215</td>\n",
       "      <td>1</td>\n",
       "    </tr>\n",
       "    <tr>\n",
       "      <th>55998</th>\n",
       "      <td>20.0341</td>\n",
       "      <td>3.68640</td>\n",
       "      <td>457.0151</td>\n",
       "      <td>3333</td>\n",
       "      <td>86.5</td>\n",
       "      <td>82.4291</td>\n",
       "      <td>0.943710</td>\n",
       "      <td>1.6962</td>\n",
       "      <td>1</td>\n",
       "    </tr>\n",
       "  </tbody>\n",
       "</table>\n",
       "<p>55999 rows × 9 columns</p>\n",
       "</div>"
      ],
      "text/plain": [
       "       Kurtosis   Skewness       Std   Range   Median   Geometric_Mean  \\\n",
       "0       15.0238    2.91000  274.7740    1789    228.0         160.4439   \n",
       "1        2.8010    0.92232  235.7319     917    179.0         145.3054   \n",
       "2        3.9885    0.88732  174.5089     817    260.0         182.6219   \n",
       "3        5.4531    1.83640  343.9752    1336     69.5         120.5608   \n",
       "4       15.8010    3.38050  443.4495    2785    118.0         113.9388   \n",
       "...         ...        ...       ...     ...      ...              ...   \n",
       "55994    5.0543    1.22740  172.0252     981    238.0         205.0903   \n",
       "55995   89.9023    8.30370  614.5032    7673    122.5         100.0387   \n",
       "55996    7.5518    2.03290  279.6423    1520    156.0         137.6493   \n",
       "55997   34.0220    4.80400  416.7042    3971    116.5         139.1423   \n",
       "55998   20.0341    3.68640  457.0151    3333     86.5          82.4291   \n",
       "\n",
       "        Mobility   Complexity   Tag  \n",
       "0       0.147740       0.8579     0  \n",
       "1       0.120090       1.2987     0  \n",
       "2       0.200340       1.5965     0  \n",
       "3       0.083738       1.2973     0  \n",
       "4       0.231590       1.2115     0  \n",
       "...          ...          ...   ...  \n",
       "55994   0.945960       1.7109     1  \n",
       "55995   0.988840       1.5964     1  \n",
       "55996   0.935500       1.7603     1  \n",
       "55997   0.976790       1.5215     1  \n",
       "55998   0.943710       1.6962     1  \n",
       "\n",
       "[55999 rows x 9 columns]"
      ]
     },
     "execution_count": 13,
     "metadata": {},
     "output_type": "execute_result"
    }
   ],
   "source": [
    "trainDataset"
   ]
  },
  {
   "cell_type": "code",
   "execution_count": 14,
   "metadata": {},
   "outputs": [
    {
     "data": {
      "text/html": [
       "<div>\n",
       "<style scoped>\n",
       "    .dataframe tbody tr th:only-of-type {\n",
       "        vertical-align: middle;\n",
       "    }\n",
       "\n",
       "    .dataframe tbody tr th {\n",
       "        vertical-align: top;\n",
       "    }\n",
       "\n",
       "    .dataframe thead th {\n",
       "        text-align: right;\n",
       "    }\n",
       "</style>\n",
       "<table border=\"1\" class=\"dataframe\">\n",
       "  <thead>\n",
       "    <tr style=\"text-align: right;\">\n",
       "      <th></th>\n",
       "      <th>Kurtosis</th>\n",
       "      <th>Skewness</th>\n",
       "      <th>Std</th>\n",
       "      <th>Range</th>\n",
       "      <th>Median</th>\n",
       "      <th>Geometric_Mean</th>\n",
       "      <th>Mobility</th>\n",
       "      <th>Complexity</th>\n",
       "    </tr>\n",
       "  </thead>\n",
       "  <tbody>\n",
       "    <tr>\n",
       "      <th>count</th>\n",
       "      <td>55999.000000</td>\n",
       "      <td>55999.000000</td>\n",
       "      <td>55999.000000</td>\n",
       "      <td>55999.000000</td>\n",
       "      <td>55999.000000</td>\n",
       "      <td>55999.000000</td>\n",
       "      <td>55999.000000</td>\n",
       "      <td>55999.000000</td>\n",
       "    </tr>\n",
       "    <tr>\n",
       "      <th>mean</th>\n",
       "      <td>23.861412</td>\n",
       "      <td>3.041558</td>\n",
       "      <td>367.443301</td>\n",
       "      <td>2756.949963</td>\n",
       "      <td>148.467740</td>\n",
       "      <td>137.751112</td>\n",
       "      <td>0.448144</td>\n",
       "      <td>1.510563</td>\n",
       "    </tr>\n",
       "    <tr>\n",
       "      <th>std</th>\n",
       "      <td>43.134687</td>\n",
       "      <td>2.957414</td>\n",
       "      <td>249.044479</td>\n",
       "      <td>3567.278219</td>\n",
       "      <td>72.227963</td>\n",
       "      <td>69.236967</td>\n",
       "      <td>0.301130</td>\n",
       "      <td>0.333588</td>\n",
       "    </tr>\n",
       "    <tr>\n",
       "      <th>min</th>\n",
       "      <td>1.137900</td>\n",
       "      <td>-1.540400</td>\n",
       "      <td>59.884100</td>\n",
       "      <td>338.000000</td>\n",
       "      <td>0.000000</td>\n",
       "      <td>4.826700</td>\n",
       "      <td>0.048408</td>\n",
       "      <td>0.086309</td>\n",
       "    </tr>\n",
       "    <tr>\n",
       "      <th>25%</th>\n",
       "      <td>4.010750</td>\n",
       "      <td>1.235150</td>\n",
       "      <td>221.245700</td>\n",
       "      <td>1055.000000</td>\n",
       "      <td>96.000000</td>\n",
       "      <td>99.458600</td>\n",
       "      <td>0.183990</td>\n",
       "      <td>1.303000</td>\n",
       "    </tr>\n",
       "    <tr>\n",
       "      <th>50%</th>\n",
       "      <td>7.952900</td>\n",
       "      <td>2.123400</td>\n",
       "      <td>299.071500</td>\n",
       "      <td>1646.000000</td>\n",
       "      <td>156.000000</td>\n",
       "      <td>138.097000</td>\n",
       "      <td>0.384070</td>\n",
       "      <td>1.577700</td>\n",
       "    </tr>\n",
       "    <tr>\n",
       "      <th>75%</th>\n",
       "      <td>19.820800</td>\n",
       "      <td>3.644250</td>\n",
       "      <td>427.831850</td>\n",
       "      <td>2924.000000</td>\n",
       "      <td>203.000000</td>\n",
       "      <td>174.089600</td>\n",
       "      <td>0.723175</td>\n",
       "      <td>1.780250</td>\n",
       "    </tr>\n",
       "    <tr>\n",
       "      <th>max</th>\n",
       "      <td>253.942400</td>\n",
       "      <td>15.903200</td>\n",
       "      <td>3624.730400</td>\n",
       "      <td>58017.000000</td>\n",
       "      <td>358.000000</td>\n",
       "      <td>3488.397300</td>\n",
       "      <td>1.408100</td>\n",
       "      <td>1.960100</td>\n",
       "    </tr>\n",
       "  </tbody>\n",
       "</table>\n",
       "</div>"
      ],
      "text/plain": [
       "           Kurtosis      Skewness           Std         Range        Median  \\\n",
       "count  55999.000000  55999.000000  55999.000000  55999.000000  55999.000000   \n",
       "mean      23.861412      3.041558    367.443301   2756.949963    148.467740   \n",
       "std       43.134687      2.957414    249.044479   3567.278219     72.227963   \n",
       "min        1.137900     -1.540400     59.884100    338.000000      0.000000   \n",
       "25%        4.010750      1.235150    221.245700   1055.000000     96.000000   \n",
       "50%        7.952900      2.123400    299.071500   1646.000000    156.000000   \n",
       "75%       19.820800      3.644250    427.831850   2924.000000    203.000000   \n",
       "max      253.942400     15.903200   3624.730400  58017.000000    358.000000   \n",
       "\n",
       "        Geometric_Mean      Mobility    Complexity  \n",
       "count     55999.000000  55999.000000  55999.000000  \n",
       "mean        137.751112      0.448144      1.510563  \n",
       "std          69.236967      0.301130      0.333588  \n",
       "min           4.826700      0.048408      0.086309  \n",
       "25%          99.458600      0.183990      1.303000  \n",
       "50%         138.097000      0.384070      1.577700  \n",
       "75%         174.089600      0.723175      1.780250  \n",
       "max        3488.397300      1.408100      1.960100  "
      ]
     },
     "execution_count": 14,
     "metadata": {},
     "output_type": "execute_result"
    }
   ],
   "source": [
    "trainDataset.iloc[:,:-1].describe()"
   ]
  },
  {
   "cell_type": "code",
   "execution_count": 15,
   "metadata": {},
   "outputs": [
    {
     "data": {
      "text/html": [
       "<div>\n",
       "<style scoped>\n",
       "    .dataframe tbody tr th:only-of-type {\n",
       "        vertical-align: middle;\n",
       "    }\n",
       "\n",
       "    .dataframe tbody tr th {\n",
       "        vertical-align: top;\n",
       "    }\n",
       "\n",
       "    .dataframe thead th {\n",
       "        text-align: right;\n",
       "    }\n",
       "</style>\n",
       "<table border=\"1\" class=\"dataframe\">\n",
       "  <thead>\n",
       "    <tr style=\"text-align: right;\">\n",
       "      <th></th>\n",
       "      <th>Kurtosis</th>\n",
       "      <th>Skewness</th>\n",
       "      <th>Std</th>\n",
       "      <th>Range</th>\n",
       "      <th>Median</th>\n",
       "      <th>Geometric_Mean</th>\n",
       "      <th>Mobility</th>\n",
       "      <th>Complexity</th>\n",
       "      <th>Tag</th>\n",
       "    </tr>\n",
       "  </thead>\n",
       "  <tbody>\n",
       "    <tr>\n",
       "      <th>count</th>\n",
       "      <td>55999.000000</td>\n",
       "      <td>55999.000000</td>\n",
       "      <td>55999.000000</td>\n",
       "      <td>55999.000000</td>\n",
       "      <td>55999.000000</td>\n",
       "      <td>55999.000000</td>\n",
       "      <td>55999.000000</td>\n",
       "      <td>55999.000000</td>\n",
       "      <td>55999.000000</td>\n",
       "    </tr>\n",
       "    <tr>\n",
       "      <th>mean</th>\n",
       "      <td>23.861412</td>\n",
       "      <td>3.041558</td>\n",
       "      <td>367.443301</td>\n",
       "      <td>2756.949963</td>\n",
       "      <td>148.467740</td>\n",
       "      <td>137.751112</td>\n",
       "      <td>0.448144</td>\n",
       "      <td>1.510563</td>\n",
       "      <td>0.500009</td>\n",
       "    </tr>\n",
       "    <tr>\n",
       "      <th>std</th>\n",
       "      <td>43.134687</td>\n",
       "      <td>2.957414</td>\n",
       "      <td>249.044479</td>\n",
       "      <td>3567.278219</td>\n",
       "      <td>72.227963</td>\n",
       "      <td>69.236967</td>\n",
       "      <td>0.301130</td>\n",
       "      <td>0.333588</td>\n",
       "      <td>0.500004</td>\n",
       "    </tr>\n",
       "    <tr>\n",
       "      <th>min</th>\n",
       "      <td>1.137900</td>\n",
       "      <td>-1.540400</td>\n",
       "      <td>59.884100</td>\n",
       "      <td>338.000000</td>\n",
       "      <td>0.000000</td>\n",
       "      <td>4.826700</td>\n",
       "      <td>0.048408</td>\n",
       "      <td>0.086309</td>\n",
       "      <td>0.000000</td>\n",
       "    </tr>\n",
       "    <tr>\n",
       "      <th>25%</th>\n",
       "      <td>4.010750</td>\n",
       "      <td>1.235150</td>\n",
       "      <td>221.245700</td>\n",
       "      <td>1055.000000</td>\n",
       "      <td>96.000000</td>\n",
       "      <td>99.458600</td>\n",
       "      <td>0.183990</td>\n",
       "      <td>1.303000</td>\n",
       "      <td>0.000000</td>\n",
       "    </tr>\n",
       "    <tr>\n",
       "      <th>50%</th>\n",
       "      <td>7.952900</td>\n",
       "      <td>2.123400</td>\n",
       "      <td>299.071500</td>\n",
       "      <td>1646.000000</td>\n",
       "      <td>156.000000</td>\n",
       "      <td>138.097000</td>\n",
       "      <td>0.384070</td>\n",
       "      <td>1.577700</td>\n",
       "      <td>1.000000</td>\n",
       "    </tr>\n",
       "    <tr>\n",
       "      <th>75%</th>\n",
       "      <td>19.820800</td>\n",
       "      <td>3.644250</td>\n",
       "      <td>427.831850</td>\n",
       "      <td>2924.000000</td>\n",
       "      <td>203.000000</td>\n",
       "      <td>174.089600</td>\n",
       "      <td>0.723175</td>\n",
       "      <td>1.780250</td>\n",
       "      <td>1.000000</td>\n",
       "    </tr>\n",
       "    <tr>\n",
       "      <th>max</th>\n",
       "      <td>253.942400</td>\n",
       "      <td>15.903200</td>\n",
       "      <td>3624.730400</td>\n",
       "      <td>58017.000000</td>\n",
       "      <td>358.000000</td>\n",
       "      <td>3488.397300</td>\n",
       "      <td>1.408100</td>\n",
       "      <td>1.960100</td>\n",
       "      <td>1.000000</td>\n",
       "    </tr>\n",
       "  </tbody>\n",
       "</table>\n",
       "</div>"
      ],
      "text/plain": [
       "           Kurtosis      Skewness           Std         Range        Median  \\\n",
       "count  55999.000000  55999.000000  55999.000000  55999.000000  55999.000000   \n",
       "mean      23.861412      3.041558    367.443301   2756.949963    148.467740   \n",
       "std       43.134687      2.957414    249.044479   3567.278219     72.227963   \n",
       "min        1.137900     -1.540400     59.884100    338.000000      0.000000   \n",
       "25%        4.010750      1.235150    221.245700   1055.000000     96.000000   \n",
       "50%        7.952900      2.123400    299.071500   1646.000000    156.000000   \n",
       "75%       19.820800      3.644250    427.831850   2924.000000    203.000000   \n",
       "max      253.942400     15.903200   3624.730400  58017.000000    358.000000   \n",
       "\n",
       "        Geometric_Mean      Mobility    Complexity           Tag  \n",
       "count     55999.000000  55999.000000  55999.000000  55999.000000  \n",
       "mean        137.751112      0.448144      1.510563      0.500009  \n",
       "std          69.236967      0.301130      0.333588      0.500004  \n",
       "min           4.826700      0.048408      0.086309      0.000000  \n",
       "25%          99.458600      0.183990      1.303000      0.000000  \n",
       "50%         138.097000      0.384070      1.577700      1.000000  \n",
       "75%         174.089600      0.723175      1.780250      1.000000  \n",
       "max        3488.397300      1.408100      1.960100      1.000000  "
      ]
     },
     "execution_count": 15,
     "metadata": {},
     "output_type": "execute_result"
    }
   ],
   "source": [
    "trainDataset.describe()"
   ]
  },
  {
   "cell_type": "code",
   "execution_count": 16,
   "metadata": {},
   "outputs": [
    {
     "data": {
      "text/plain": [
       "array([[1.502380e+01, 2.910000e+00, 2.747740e+02, ..., 1.604439e+02,\n",
       "        1.477400e-01, 8.579000e-01],\n",
       "       [2.801000e+00, 9.223200e-01, 2.357319e+02, ..., 1.453054e+02,\n",
       "        1.200900e-01, 1.298700e+00],\n",
       "       [3.988500e+00, 8.873200e-01, 1.745089e+02, ..., 1.826219e+02,\n",
       "        2.003400e-01, 1.596500e+00],\n",
       "       ...,\n",
       "       [7.551800e+00, 2.032900e+00, 2.796423e+02, ..., 1.376493e+02,\n",
       "        9.355000e-01, 1.760300e+00],\n",
       "       [3.402200e+01, 4.804000e+00, 4.167042e+02, ..., 1.391423e+02,\n",
       "        9.767900e-01, 1.521500e+00],\n",
       "       [2.003410e+01, 3.686400e+00, 4.570151e+02, ..., 8.242910e+01,\n",
       "        9.437100e-01, 1.696200e+00]])"
      ]
     },
     "execution_count": 16,
     "metadata": {},
     "output_type": "execute_result"
    }
   ],
   "source": [
    "MirandaX_train"
   ]
  },
  {
   "cell_type": "markdown",
   "metadata": {},
   "source": [
    "#### Standard scalling"
   ]
  },
  {
   "cell_type": "code",
   "execution_count": 17,
   "metadata": {},
   "outputs": [],
   "source": [
    "scG=StandardScaler()\n",
    "sc_GarciaX_train=pd.DataFrame(scG.fit_transform(GarciaX_train),columns=GarciaLabels)\n",
    "sc_GarciaX_test=pd.DataFrame(scG.transform(GarciaX_test),columns=GarciaLabels)\n",
    "\n",
    "scM=StandardScaler()\n",
    "sc_MirandaX_train=pd.DataFrame(scM.fit_transform(MirandaX_train),columns=MirandaLabels)\n",
    "sc_MirandaX_test=pd.DataFrame(scM.transform(MirandaX_test),columns=MirandaLabels)"
   ]
  },
  {
   "cell_type": "markdown",
   "metadata": {
    "tags": []
   },
   "source": [
    "#### Recursive Feature Elimination"
   ]
  },
  {
   "cell_type": "code",
   "execution_count": 18,
   "metadata": {},
   "outputs": [
    {
     "name": "stdout",
     "output_type": "stream",
     "text": [
      "[5 4 3 2 6 7 9 1 8]\n",
      "García's Dataset\n",
      "Ordered from most to less desired variables:\n"
     ]
    },
    {
     "data": {
      "text/plain": [
       "['Mobility',\n",
       " 'Range',\n",
       " 'Std',\n",
       " 'Skewness',\n",
       " 'Kurtosis',\n",
       " 'Median',\n",
       " 'Garcia_Gmean',\n",
       " 'Complexity',\n",
       " 'Epsilon_Gmean']"
      ]
     },
     "execution_count": 18,
     "metadata": {},
     "output_type": "execute_result"
    }
   ],
   "source": [
    "from sklearn.feature_selection import RFE\n",
    "from sklearn.linear_model import LogisticRegression\n",
    "logregRFEG = LogisticRegression()\n",
    "rfe = RFE(logregRFEG, n_features_to_select=1)\n",
    "rfe = rfe.fit(sc_GarciaX_train,GarciaY_train)\n",
    "print(rfe.ranking_)\n",
    "print(\"García's Dataset\")\n",
    "print(\"Ordered from most to less desired variables:\")\n",
    "desiredVariables=GarciaLabels\n",
    "sortOrder=rfe.ranking_\n",
    "sorted(desiredVariables,key=lambda pos: sortOrder[desiredVariables.index(pos)])"
   ]
  },
  {
   "cell_type": "code",
   "execution_count": 19,
   "metadata": {},
   "outputs": [
    {
     "name": "stdout",
     "output_type": "stream",
     "text": [
      "[4 3 5 6 7 8 2 1]\n",
      "Miranda's Dataset\n",
      "Ordered from most to less desired variables:\n"
     ]
    },
    {
     "data": {
      "text/plain": [
       "['Complexity',\n",
       " 'Mobility',\n",
       " 'Skewness',\n",
       " 'Kurtosis',\n",
       " 'Std',\n",
       " 'Range',\n",
       " 'Median',\n",
       " 'Geometric_Mean']"
      ]
     },
     "execution_count": 19,
     "metadata": {},
     "output_type": "execute_result"
    }
   ],
   "source": [
    "from sklearn.feature_selection import RFE\n",
    "from sklearn.linear_model import LogisticRegression\n",
    "logregRFEM = LogisticRegression()\n",
    "rfe = RFE(logregRFEM, n_features_to_select=1)\n",
    "rfe = rfe.fit(sc_MirandaX_train,MirandaY_train)\n",
    "print(rfe.ranking_)\n",
    "print(\"Miranda's Dataset\")\n",
    "print(\"Ordered from most to less desired variables:\")\n",
    "desiredVariables=MirandaLabels\n",
    "sortOrder=rfe.ranking_\n",
    "sorted(desiredVariables,key=lambda pos: sortOrder[desiredVariables.index(pos)])"
   ]
  },
  {
   "cell_type": "markdown",
   "metadata": {},
   "source": [
    "RFE Shows prefferences for the variables to be predictors, meaning it to be ordered depending on de predictor-likability of a variable. Proving the anterior analysis, "
   ]
  },
  {
   "cell_type": "markdown",
   "metadata": {
    "tags": []
   },
   "source": [
    "### Modelling"
   ]
  },
  {
   "cell_type": "code",
   "execution_count": 20,
   "metadata": {},
   "outputs": [
    {
     "name": "stdout",
     "output_type": "stream",
     "text": [
      "Optimization terminated successfully.\n",
      "         Current function value: 0.264509\n",
      "         Iterations 8\n",
      "                         Results: Logit\n",
      "=================================================================\n",
      "Model:              Logit            Pseudo R-squared: 0.618     \n",
      "Dependent Variable: y                AIC:              29640.4288\n",
      "Date:               2021-09-02 05:18 BIC:              29711.8935\n",
      "No. Observations:   55999            Log-Likelihood:   -14812.   \n",
      "Df Model:           7                LL-Null:          -38816.   \n",
      "Df Residuals:       55991            LLR p-value:      0.0000    \n",
      "Converged:          1.0000           Scale:            1.0000    \n",
      "No. Iterations:     8.0000                                       \n",
      "-----------------------------------------------------------------\n",
      "                  Coef.  Std.Err.    z     P>|z|   [0.025  0.975]\n",
      "-----------------------------------------------------------------\n",
      "Kurtosis         -0.7686   0.0737 -10.4343 0.0000 -0.9129 -0.6242\n",
      "Skewness          1.0767   0.0673  15.9897 0.0000  0.9447  1.2087\n",
      "Std               0.8639   0.0776  11.1363 0.0000  0.7119  1.0159\n",
      "Range            -0.8228   0.0818 -10.0534 0.0000 -0.9832 -0.6624\n",
      "Median            0.0659   0.0273   2.4118 0.0159  0.0123  0.1194\n",
      "Geometric_Mean   -0.0247   0.0146  -1.6901 0.0910 -0.0534  0.0039\n",
      "Mobility          1.7661   0.0294  60.0734 0.0000  1.7085  1.8237\n",
      "Complexity        2.5121   0.0291  86.4431 0.0000  2.4551  2.5690\n",
      "=================================================================\n",
      "\n"
     ]
    }
   ],
   "source": [
    "import statsmodels.api as sm\n",
    "logit_model=sm.Logit(MirandaY_train,sc_MirandaX_train)\n",
    "result=logit_model.fit()\n",
    "print(result.summary2())"
   ]
  },
  {
   "cell_type": "code",
   "execution_count": 21,
   "metadata": {},
   "outputs": [
    {
     "data": {
      "text/html": [
       "<div>\n",
       "<style scoped>\n",
       "    .dataframe tbody tr th:only-of-type {\n",
       "        vertical-align: middle;\n",
       "    }\n",
       "\n",
       "    .dataframe tbody tr th {\n",
       "        vertical-align: top;\n",
       "    }\n",
       "\n",
       "    .dataframe thead th {\n",
       "        text-align: right;\n",
       "    }\n",
       "</style>\n",
       "<table border=\"1\" class=\"dataframe\">\n",
       "  <thead>\n",
       "    <tr style=\"text-align: right;\">\n",
       "      <th></th>\n",
       "      <th>Kurtosis</th>\n",
       "      <th>Skewness</th>\n",
       "      <th>Std</th>\n",
       "      <th>Range</th>\n",
       "      <th>Median</th>\n",
       "      <th>Garcia_Gmean</th>\n",
       "      <th>Epsilon_Gmean</th>\n",
       "      <th>Mobility</th>\n",
       "      <th>Complexity</th>\n",
       "    </tr>\n",
       "  </thead>\n",
       "  <tbody>\n",
       "    <tr>\n",
       "      <th>0</th>\n",
       "      <td>-0.286451</td>\n",
       "      <td>-0.139793</td>\n",
       "      <td>-0.145351</td>\n",
       "      <td>-0.195492</td>\n",
       "      <td>-0.518819</td>\n",
       "      <td>-0.069232</td>\n",
       "      <td>-0.209954</td>\n",
       "      <td>0.281274</td>\n",
       "      <td>-0.651679</td>\n",
       "    </tr>\n",
       "    <tr>\n",
       "      <th>1</th>\n",
       "      <td>2.753612</td>\n",
       "      <td>2.879304</td>\n",
       "      <td>6.473998</td>\n",
       "      <td>6.140371</td>\n",
       "      <td>-1.549652</td>\n",
       "      <td>18.067839</td>\n",
       "      <td>-1.737797</td>\n",
       "      <td>1.363772</td>\n",
       "      <td>-1.500118</td>\n",
       "    </tr>\n",
       "    <tr>\n",
       "      <th>2</th>\n",
       "      <td>-0.442858</td>\n",
       "      <td>-0.699164</td>\n",
       "      <td>-0.482998</td>\n",
       "      <td>-0.388485</td>\n",
       "      <td>0.440095</td>\n",
       "      <td>-0.028483</td>\n",
       "      <td>-0.156641</td>\n",
       "      <td>-0.597747</td>\n",
       "      <td>0.527602</td>\n",
       "    </tr>\n",
       "    <tr>\n",
       "      <th>3</th>\n",
       "      <td>-0.315222</td>\n",
       "      <td>-0.119413</td>\n",
       "      <td>0.296609</td>\n",
       "      <td>-0.149019</td>\n",
       "      <td>-1.549652</td>\n",
       "      <td>-0.034756</td>\n",
       "      <td>-1.374500</td>\n",
       "      <td>-0.916549</td>\n",
       "      <td>0.464729</td>\n",
       "    </tr>\n",
       "    <tr>\n",
       "      <th>4</th>\n",
       "      <td>-0.403057</td>\n",
       "      <td>-0.414355</td>\n",
       "      <td>-0.265071</td>\n",
       "      <td>-0.343948</td>\n",
       "      <td>-0.255118</td>\n",
       "      <td>-0.060266</td>\n",
       "      <td>0.029299</td>\n",
       "      <td>-0.764057</td>\n",
       "      <td>1.519734</td>\n",
       "    </tr>\n",
       "    <tr>\n",
       "      <th>...</th>\n",
       "      <td>...</td>\n",
       "      <td>...</td>\n",
       "      <td>...</td>\n",
       "      <td>...</td>\n",
       "      <td>...</td>\n",
       "      <td>...</td>\n",
       "      <td>...</td>\n",
       "      <td>...</td>\n",
       "      <td>...</td>\n",
       "    </tr>\n",
       "    <tr>\n",
       "      <th>31995</th>\n",
       "      <td>-0.193909</td>\n",
       "      <td>0.037470</td>\n",
       "      <td>-0.360177</td>\n",
       "      <td>-0.245838</td>\n",
       "      <td>0.512014</td>\n",
       "      <td>-0.033156</td>\n",
       "      <td>0.998622</td>\n",
       "      <td>-0.044017</td>\n",
       "      <td>-0.524488</td>\n",
       "    </tr>\n",
       "    <tr>\n",
       "      <th>31996</th>\n",
       "      <td>-0.256144</td>\n",
       "      <td>-0.143836</td>\n",
       "      <td>-0.679187</td>\n",
       "      <td>-0.362667</td>\n",
       "      <td>1.015444</td>\n",
       "      <td>0.000500</td>\n",
       "      <td>1.978197</td>\n",
       "      <td>0.044815</td>\n",
       "      <td>-0.462056</td>\n",
       "    </tr>\n",
       "    <tr>\n",
       "      <th>31997</th>\n",
       "      <td>-0.394728</td>\n",
       "      <td>-0.381531</td>\n",
       "      <td>-0.104792</td>\n",
       "      <td>-0.288439</td>\n",
       "      <td>-0.494846</td>\n",
       "      <td>-0.049029</td>\n",
       "      <td>-0.891528</td>\n",
       "      <td>-0.868158</td>\n",
       "      <td>1.536312</td>\n",
       "    </tr>\n",
       "    <tr>\n",
       "      <th>31998</th>\n",
       "      <td>-0.456485</td>\n",
       "      <td>-0.829899</td>\n",
       "      <td>-0.676558</td>\n",
       "      <td>-0.458195</td>\n",
       "      <td>1.207227</td>\n",
       "      <td>-0.016580</td>\n",
       "      <td>1.490596</td>\n",
       "      <td>-0.134082</td>\n",
       "      <td>-0.119280</td>\n",
       "    </tr>\n",
       "    <tr>\n",
       "      <th>31999</th>\n",
       "      <td>-0.451707</td>\n",
       "      <td>-0.905971</td>\n",
       "      <td>-0.719206</td>\n",
       "      <td>-0.459486</td>\n",
       "      <td>1.614766</td>\n",
       "      <td>-0.018579</td>\n",
       "      <td>1.464543</td>\n",
       "      <td>-0.004354</td>\n",
       "      <td>-0.205017</td>\n",
       "    </tr>\n",
       "  </tbody>\n",
       "</table>\n",
       "<p>32000 rows × 9 columns</p>\n",
       "</div>"
      ],
      "text/plain": [
       "       Kurtosis  Skewness       Std     Range    Median  Garcia_Gmean  \\\n",
       "0     -0.286451 -0.139793 -0.145351 -0.195492 -0.518819     -0.069232   \n",
       "1      2.753612  2.879304  6.473998  6.140371 -1.549652     18.067839   \n",
       "2     -0.442858 -0.699164 -0.482998 -0.388485  0.440095     -0.028483   \n",
       "3     -0.315222 -0.119413  0.296609 -0.149019 -1.549652     -0.034756   \n",
       "4     -0.403057 -0.414355 -0.265071 -0.343948 -0.255118     -0.060266   \n",
       "...         ...       ...       ...       ...       ...           ...   \n",
       "31995 -0.193909  0.037470 -0.360177 -0.245838  0.512014     -0.033156   \n",
       "31996 -0.256144 -0.143836 -0.679187 -0.362667  1.015444      0.000500   \n",
       "31997 -0.394728 -0.381531 -0.104792 -0.288439 -0.494846     -0.049029   \n",
       "31998 -0.456485 -0.829899 -0.676558 -0.458195  1.207227     -0.016580   \n",
       "31999 -0.451707 -0.905971 -0.719206 -0.459486  1.614766     -0.018579   \n",
       "\n",
       "       Epsilon_Gmean  Mobility  Complexity  \n",
       "0          -0.209954  0.281274   -0.651679  \n",
       "1          -1.737797  1.363772   -1.500118  \n",
       "2          -0.156641 -0.597747    0.527602  \n",
       "3          -1.374500 -0.916549    0.464729  \n",
       "4           0.029299 -0.764057    1.519734  \n",
       "...              ...       ...         ...  \n",
       "31995       0.998622 -0.044017   -0.524488  \n",
       "31996       1.978197  0.044815   -0.462056  \n",
       "31997      -0.891528 -0.868158    1.536312  \n",
       "31998       1.490596 -0.134082   -0.119280  \n",
       "31999       1.464543 -0.004354   -0.205017  \n",
       "\n",
       "[32000 rows x 9 columns]"
      ]
     },
     "execution_count": 21,
     "metadata": {},
     "output_type": "execute_result"
    }
   ],
   "source": [
    "sc_GarciaX_train"
   ]
  },
  {
   "cell_type": "code",
   "execution_count": 22,
   "metadata": {
    "tags": []
   },
   "outputs": [
    {
     "name": "stdout",
     "output_type": "stream",
     "text": [
      "Optimization terminated successfully.\n",
      "         Current function value: 0.692784\n",
      "         Iterations 4\n",
      "                         Results: Logit\n",
      "=================================================================\n",
      "Model:              Logit            Pseudo R-squared: 0.001     \n",
      "Dependent Variable: y                AIC:              44356.2005\n",
      "Date:               2021-09-02 05:18 BIC:              44431.5619\n",
      "No. Observations:   32000            Log-Likelihood:   -22169.   \n",
      "Df Model:           8                LL-Null:          -22181.   \n",
      "Df Residuals:       31991            LLR p-value:      0.0031804 \n",
      "Converged:          1.0000           Scale:            1.0000    \n",
      "No. Iterations:     4.0000                                       \n",
      "------------------------------------------------------------------\n",
      "                Coef.   Std.Err.     z     P>|z|    [0.025  0.975]\n",
      "------------------------------------------------------------------\n",
      "Kurtosis        0.0298    0.0748   0.3985  0.6902  -0.1169  0.1765\n",
      "Skewness       -0.0860    0.0677  -1.2717  0.2035  -0.2187  0.0466\n",
      "Std             0.0918    0.0924   0.9936  0.3204  -0.0893  0.2728\n",
      "Range          -0.1133    0.0986  -1.1492  0.2505  -0.3066  0.0800\n",
      "Median         -0.0082    0.0240  -0.3401  0.7338  -0.0552  0.0388\n",
      "Garcia_Gmean   -0.0092    0.0122  -0.7503  0.4531  -0.0332  0.0148\n",
      "Epsilon_Gmean  -0.0023    0.0234  -0.0963  0.9233  -0.0482  0.0437\n",
      "Mobility        0.1117    0.0290   3.8510  0.0001   0.0549  0.1686\n",
      "Complexity      0.0048    0.0215   0.2237  0.8230  -0.0373  0.0469\n",
      "=================================================================\n",
      "\n"
     ]
    }
   ],
   "source": [
    "import statsmodels.api as sm\n",
    "logit_modelG=sm.Logit(GarciaY_train,sc_GarciaX_train)\n",
    "result=logit_modelG.fit()\n",
    "print(result.summary2())"
   ]
  },
  {
   "cell_type": "code",
   "execution_count": 23,
   "metadata": {
    "tags": []
   },
   "outputs": [
    {
     "name": "stdout",
     "output_type": "stream",
     "text": [
      "Accuracy of logistic regression classifier on test set: 0.90\n"
     ]
    }
   ],
   "source": [
    "from sklearn.linear_model import LogisticRegression\n",
    "from sklearn import metrics\n",
    "#X_train, X_test, y_train, y_test = train_test_split(sc.fit_transform(newX), y, test_size=0.2, random_state=0)\n",
    "logregMiranda = LogisticRegression()\n",
    "logregMiranda.fit(sc_MirandaX_train, MirandaY_train)\n",
    "y_predMiranda = logregMiranda.predict(sc_MirandaX_test)\n",
    "print('Accuracy of logistic regression classifier on test set: {:.2f}'.format(logregMiranda.score(sc_MirandaX_test, MirandaY_test)))"
   ]
  },
  {
   "cell_type": "code",
   "execution_count": 24,
   "metadata": {
    "tags": []
   },
   "outputs": [
    {
     "name": "stdout",
     "output_type": "stream",
     "text": [
      "Accuracy of logistic regression classifier on test set: 0.50\n"
     ]
    }
   ],
   "source": [
    "logregGarcia = LogisticRegression()\n",
    "logregGarcia.fit(sc_GarciaX_train, GarciaY_train)\n",
    "y_predGarcia = logregGarcia.predict(sc_GarciaX_test)\n",
    "print('Accuracy of logistic regression classifier on test set: {:.2f}'.format(logregGarcia.score(sc_GarciaX_test, GarciaY_test)))"
   ]
  },
  {
   "cell_type": "code",
   "execution_count": 25,
   "metadata": {},
   "outputs": [],
   "source": [
    "from itertools import chain, combinations\n",
    "from sklearn.model_selection import cross_val_score\n",
    "import copy\n",
    "def best_subset_cv(estimator, X, Y, labels,cv=3):\n",
    "    n_features = X.shape[1]\n",
    "    subsets = chain.from_iterable([combinations(labels, k + 1) for k in range(n_features)])\n",
    "    best_score = -np.inf\n",
    "    best_subset = None\n",
    "    for subset in subsets:\n",
    "        estimatorCopy=copy.copy(estimator)\n",
    "        score = cross_val_score(estimatorCopy, X.loc[:, list(subset)], Y, cv=cv).mean()\n",
    "        if score > best_score:\n",
    "            best_score, best_subset = score, subset\n",
    "\n",
    "    return best_subset, best_score"
   ]
  },
  {
   "cell_type": "code",
   "execution_count": 26,
   "metadata": {},
   "outputs": [
    {
     "name": "stdout",
     "output_type": "stream",
     "text": [
      "Miranda\n"
     ]
    }
   ],
   "source": [
    "logregBSM = LogisticRegression()\n",
    "subM, scoM=best_subset_cv(logregBSM,sc_MirandaX_train,MirandaY_train,MirandaLabels)\n",
    "print(\"Miranda\")"
   ]
  },
  {
   "cell_type": "code",
   "execution_count": 27,
   "metadata": {},
   "outputs": [
    {
     "data": {
      "text/plain": [
       "(('Skewness', 'Geometric_Mean', 'Complexity'), 0.8934098557840381)"
      ]
     },
     "execution_count": 27,
     "metadata": {},
     "output_type": "execute_result"
    }
   ],
   "source": [
    "subM, scoM"
   ]
  },
  {
   "cell_type": "code",
   "execution_count": 28,
   "metadata": {},
   "outputs": [
    {
     "name": "stdout",
     "output_type": "stream",
     "text": [
      "García\n"
     ]
    }
   ],
   "source": [
    "logregBSG = LogisticRegression()\n",
    "subG, scoG=best_subset_cv(logregBSG,sc_GarciaX_train,GarciaY_train,GarciaLabels)\n",
    "print(\"García\")"
   ]
  },
  {
   "cell_type": "code",
   "execution_count": 29,
   "metadata": {},
   "outputs": [
    {
     "data": {
      "text/plain": [
       "(('Skewness', 'Garcia_Gmean', 'Mobility', 'Complexity'), 0.5093436162250063)"
      ]
     },
     "execution_count": 29,
     "metadata": {},
     "output_type": "execute_result"
    }
   ],
   "source": [
    "subG, scoG"
   ]
  },
  {
   "cell_type": "code",
   "execution_count": 30,
   "metadata": {},
   "outputs": [
    {
     "data": {
      "image/png": "[encoded data removed]",
      "text/plain": [
       "<Figure size 1100x900 with 2 Axes>"
      ]
     },
     "metadata": {},
     "output_type": "display_data"
    }
   ],
   "source": [
    "import seaborn as sns\n",
    "sns.set_theme(style=\"dark\")\n",
    "corr = sc_MirandaX_train.corr()\n",
    "f, ax = plt.subplots(figsize=(11, 9))\n",
    "cmap = sns.diverging_palette(230, 20, as_cmap=True)\n",
    "ax.tick_params(axis='x', rotation=90)\n",
    "# Draw the heatmap with the mask and correct aspect ratio\n",
    "sns.heatmap(corr, cmap=cmap, vmax=.3, center=0,\n",
    "            square=True, linewidths=.5, cbar_kws={\"shrink\": .5}).set_title(\"Miranda's correlation matrix\")\n",
    "plt.show()"
   ]
  },
  {
   "cell_type": "code",
   "execution_count": 31,
   "metadata": {},
   "outputs": [
    {
     "data": {
      "image/png": "[encoded data removed]",
      "text/plain": [
       "<Figure size 1100x900 with 2 Axes>"
      ]
     },
     "metadata": {},
     "output_type": "display_data"
    }
   ],
   "source": [
    "sns.set_theme(style=\"dark\")\n",
    "corr = sc_GarciaX_train.corr()\n",
    "f, ax = plt.subplots(figsize=(11, 9))\n",
    "cmap = sns.diverging_palette(230, 20, as_cmap=True)\n",
    "ax.tick_params(axis='x', rotation=90)\n",
    "# Draw the heatmap with the mask and correct aspect ratio\n",
    "sns.heatmap(corr, cmap=cmap, vmax=.3, center=0,\n",
    "            square=True, linewidths=.5, cbar_kws={\"shrink\": .5}).set_title(\"Garcías's correlation matrix\")\n",
    "plt.show()"
   ]
  }
 ],
 "metadata": {
  "kernelspec": {
   "display_name": "Python 3",
   "language": "python",
   "name": "python3"
  },
  "language_info": {
   "codemirror_mode": {
    "name": "ipython",
    "version": 3
   },
   "file_extension": ".py",
   "mimetype": "text/x-python",
   "name": "python",
   "nbconvert_exporter": "python",
   "pygments_lexer": "ipython3",
   "version": "3.8.11"
  }
 },
 "nbformat": 4,
 "nbformat_minor": 4
}
